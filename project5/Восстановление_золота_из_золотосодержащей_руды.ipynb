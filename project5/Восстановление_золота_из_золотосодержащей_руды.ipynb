{
  "cells": [
    {
      "cell_type": "markdown",
      "metadata": {
        "id": "cmE4eQibBGh8"
      },
      "source": [
        "# Восстановление золота из руды"
      ]
    },
    {
      "cell_type": "markdown",
      "metadata": {
        "id": "XXuLn3gKBGh9"
      },
      "source": [
        "Подготовьте прототип модели машинного обучения для «Цифры». Компания разрабатывает решения для эффективной работы промышленных предприятий.\n",
        "\n",
        "Модель должна предсказать коэффициент восстановления золота из золотосодержащей руды. Используйте данные с параметрами добычи и очистки.\n",
        "\n",
        "Модель поможет оптимизировать производство, чтобы не запускать предприятие с убыточными характеристиками.\n",
        "\n",
        "Вам нужно:\n",
        "\n",
        "1. Подготовить данные;\n",
        "2. Провести исследовательский анализ данных;\n",
        "3. Построить и обучить модель.\n",
        "\n",
        "Чтобы выполнить проект, обращайтесь к библиотекам *pandas*, *matplotlib* и *sklearn.* Вам поможет их документация."
      ]
    },
    {
      "cell_type": "markdown",
      "metadata": {
        "id": "sQAIPIaoBGh9"
      },
      "source": [
        "# Описание данных"
      ]
    },
    {
      "cell_type": "markdown",
      "metadata": {
        "id": "hr3sV7oUBGh-"
      },
      "source": [
        "<b>Технологический процесс</b>"
      ]
    },
    {
      "cell_type": "markdown",
      "metadata": {
        "id": "NGGbhp9ABGh-"
      },
      "source": [
        "<ul>\n",
        "<li>Rougher feed — исходное сырье</li>\n",
        "<li>Rougher additions (или reagent additions) — флотационные реагенты: Xanthate, Sulphate, Depressant:\n",
        "<ul><li>Xanthate **— ксантогенат (промотер, или активатор флотации);</li>\n",
        "<li>Sulphate — сульфат (на данном производстве сульфид натрия);</li>\n",
        "<li>Depressant — депрессант (силикат натрия).</li></ul>\n",
        "    </ul>\n",
        "<ul>\n",
        "<li>Rougher process (англ. «грубый процесс») — флотация</li>\n",
        "<li>Rougher tails — отвальные хвосты</li>\n",
        "<li>Float banks — флотационная установка</li>\n",
        "<li>Cleaner process — очистка</li>\n",
        "<li>Rougher Au — черновой концентрат золота</li>\n",
        "<li>Final Au — финальный концентрат золота</li>\n",
        "</ul>"
      ]
    },
    {
      "cell_type": "markdown",
      "metadata": {
        "id": "NxOFKl3jBGh_"
      },
      "source": [
        "<b>Параметры этапов</b>"
      ]
    },
    {
      "cell_type": "markdown",
      "metadata": {
        "id": "f_3GHiiEBGh_"
      },
      "source": [
        "<ul>\n",
        "<li>air amount — объём воздуха</li>\n",
        "<li>fluid levels — уровень жидкости</li>\n",
        "<li>feed size — размер гранул сырья</li>\n",
        "<li>feed rate — скорость подачи</li></ul>\n"
      ]
    },
    {
      "cell_type": "markdown",
      "metadata": {
        "id": "C-zyfYZqBGiA"
      },
      "source": [
        "<b>Наименование признаков</b>"
      ]
    },
    {
      "cell_type": "markdown",
      "metadata": {
        "id": "8exYINTbBGiA"
      },
      "source": [
        "<p>Наименование признаков должно быть такое:</p>\n",
        "<p>[этап].[тип_параметра].[название_параметра]</p>\n",
        "<p>Пример: rougher.input.feed_ag</p>\n",
        "<p>Возможные значения для блока [этап]:</p>\n",
        "<ul>\n",
        "<li>rougher — флотация</li>\n",
        "<li>primary_cleaner — первичная очистка</li>\n",
        "<li>secondary_cleaner — вторичная очистка</li>\n",
        "<li>final — финальные характеристики</li></ul>\n",
        "Возможные значения для блока [тип_параметра]:\n",
        "    <ul>\n",
        "<li>input — параметры сырья</li>\n",
        "<li>output — параметры продукта</li>\n",
        "<li>state — параметры, характеризующие текущее состояние этапа</li>\n",
        "<li>calculation — расчётные характеристики</li>\n",
        "</ul>"
      ]
    },
    {
      "cell_type": "markdown",
      "metadata": {
        "id": "jbeNlDl6BGiA"
      },
      "source": [
        "## Подготовка данных"
      ]
    },
    {
      "cell_type": "code",
      "execution_count": null,
      "metadata": {
        "id": "tC56f6AdBGiB"
      },
      "outputs": [],
      "source": [
        "import pandas as pd\n",
        "import matplotlib.pyplot as plt\n",
        "import seaborn as sns\n",
        "import numpy as np\n",
        "from sklearn.metrics import mean_absolute_error\n",
        "from sklearn.metrics import make_scorer\n",
        "from sklearn.model_selection import train_test_split\n",
        "from sklearn.linear_model import LogisticRegression\n",
        "from sklearn.tree import DecisionTreeRegressor\n",
        "from sklearn.preprocessing import StandardScaler\n",
        "from sklearn.model_selection import GridSearchCV\n",
        "from sklearn.model_selection import cross_val_score\n",
        "from sklearn.ensemble  import RandomForestRegressor\n",
        "from sklearn.linear_model import LinearRegression\n",
        "from sklearn.dummy import DummyRegressor"
      ]
    },
    {
      "cell_type": "markdown",
      "metadata": {
        "id": "nMDieDiJBGiC"
      },
      "source": [
        "### Анализ данных"
      ]
    },
    {
      "cell_type": "code",
      "execution_count": null,
      "metadata": {
        "id": "ZQFtJalVBGiC"
      },
      "outputs": [],
      "source": [
        "df_train=pd.read_csv('/datasets/gold_recovery_train_new.csv',parse_dates=['date']) #обучающая выборка\n",
        "df_test=pd.read_csv('/datasets/gold_recovery_test_new.csv',parse_dates=['date']) #тестовая выборка\n",
        "df_full=pd.read_csv('/datasets/gold_recovery_full_new.csv',parse_dates=['date']) #исходные данные"
      ]
    },
    {
      "cell_type": "markdown",
      "metadata": {
        "id": "62HSq0NjBGiD"
      },
      "source": [
        "<b>Исходные данные</b>"
      ]
    },
    {
      "cell_type": "markdown",
      "metadata": {
        "id": "OerFbHqABGiD"
      },
      "source": [
        "<i>Общая информация о признаках (количество строк, пропусков и типов данных)</i>"
      ]
    },
    {
      "cell_type": "code",
      "execution_count": null,
      "metadata": {
        "id": "XQrl4vSABGiD",
        "outputId": "8668f8b2-ceea-49c4-e418-83880029d3e5"
      },
      "outputs": [
        {
          "name": "stdout",
          "output_type": "stream",
          "text": [
            "<class 'pandas.core.frame.DataFrame'>\n",
            "RangeIndex: 19439 entries, 0 to 19438\n",
            "Data columns (total 87 columns):\n",
            " #   Column                                              Non-Null Count  Dtype         \n",
            "---  ------                                              --------------  -----         \n",
            " 0   date                                                19439 non-null  datetime64[ns]\n",
            " 1   final.output.concentrate_ag                         19438 non-null  float64       \n",
            " 2   final.output.concentrate_pb                         19438 non-null  float64       \n",
            " 3   final.output.concentrate_sol                        19228 non-null  float64       \n",
            " 4   final.output.concentrate_au                         19439 non-null  float64       \n",
            " 5   final.output.recovery                               19439 non-null  float64       \n",
            " 6   final.output.tail_ag                                19438 non-null  float64       \n",
            " 7   final.output.tail_pb                                19338 non-null  float64       \n",
            " 8   final.output.tail_sol                               19433 non-null  float64       \n",
            " 9   final.output.tail_au                                19439 non-null  float64       \n",
            " 10  primary_cleaner.input.sulfate                       19415 non-null  float64       \n",
            " 11  primary_cleaner.input.depressant                    19402 non-null  float64       \n",
            " 12  primary_cleaner.input.feed_size                     19439 non-null  float64       \n",
            " 13  primary_cleaner.input.xanthate                      19335 non-null  float64       \n",
            " 14  primary_cleaner.output.concentrate_ag               19439 non-null  float64       \n",
            " 15  primary_cleaner.output.concentrate_pb               19323 non-null  float64       \n",
            " 16  primary_cleaner.output.concentrate_sol              19069 non-null  float64       \n",
            " 17  primary_cleaner.output.concentrate_au               19439 non-null  float64       \n",
            " 18  primary_cleaner.output.tail_ag                      19435 non-null  float64       \n",
            " 19  primary_cleaner.output.tail_pb                      19418 non-null  float64       \n",
            " 20  primary_cleaner.output.tail_sol                     19377 non-null  float64       \n",
            " 21  primary_cleaner.output.tail_au                      19439 non-null  float64       \n",
            " 22  primary_cleaner.state.floatbank8_a_air              19435 non-null  float64       \n",
            " 23  primary_cleaner.state.floatbank8_a_level            19438 non-null  float64       \n",
            " 24  primary_cleaner.state.floatbank8_b_air              19435 non-null  float64       \n",
            " 25  primary_cleaner.state.floatbank8_b_level            19438 non-null  float64       \n",
            " 26  primary_cleaner.state.floatbank8_c_air              19437 non-null  float64       \n",
            " 27  primary_cleaner.state.floatbank8_c_level            19438 non-null  float64       \n",
            " 28  primary_cleaner.state.floatbank8_d_air              19436 non-null  float64       \n",
            " 29  primary_cleaner.state.floatbank8_d_level            19438 non-null  float64       \n",
            " 30  rougher.calculation.sulfate_to_au_concentrate       19437 non-null  float64       \n",
            " 31  rougher.calculation.floatbank10_sulfate_to_au_feed  19437 non-null  float64       \n",
            " 32  rougher.calculation.floatbank11_sulfate_to_au_feed  19437 non-null  float64       \n",
            " 33  rougher.calculation.au_pb_ratio                     19439 non-null  float64       \n",
            " 34  rougher.input.feed_ag                               19439 non-null  float64       \n",
            " 35  rougher.input.feed_pb                               19339 non-null  float64       \n",
            " 36  rougher.input.feed_rate                             19428 non-null  float64       \n",
            " 37  rougher.input.feed_size                             19294 non-null  float64       \n",
            " 38  rougher.input.feed_sol                              19340 non-null  float64       \n",
            " 39  rougher.input.feed_au                               19439 non-null  float64       \n",
            " 40  rougher.input.floatbank10_sulfate                   19405 non-null  float64       \n",
            " 41  rougher.input.floatbank10_xanthate                  19431 non-null  float64       \n",
            " 42  rougher.input.floatbank11_sulfate                   19395 non-null  float64       \n",
            " 43  rougher.input.floatbank11_xanthate                  18986 non-null  float64       \n",
            " 44  rougher.output.concentrate_ag                       19439 non-null  float64       \n",
            " 45  rougher.output.concentrate_pb                       19439 non-null  float64       \n",
            " 46  rougher.output.concentrate_sol                      19416 non-null  float64       \n",
            " 47  rougher.output.concentrate_au                       19439 non-null  float64       \n",
            " 48  rougher.output.recovery                             19439 non-null  float64       \n",
            " 49  rougher.output.tail_ag                              19438 non-null  float64       \n",
            " 50  rougher.output.tail_pb                              19439 non-null  float64       \n",
            " 51  rougher.output.tail_sol                             19439 non-null  float64       \n",
            " 52  rougher.output.tail_au                              19439 non-null  float64       \n",
            " 53  rougher.state.floatbank10_a_air                     19438 non-null  float64       \n",
            " 54  rougher.state.floatbank10_a_level                   19438 non-null  float64       \n",
            " 55  rougher.state.floatbank10_b_air                     19438 non-null  float64       \n",
            " 56  rougher.state.floatbank10_b_level                   19438 non-null  float64       \n",
            " 57  rougher.state.floatbank10_c_air                     19438 non-null  float64       \n",
            " 58  rougher.state.floatbank10_c_level                   19438 non-null  float64       \n",
            " 59  rougher.state.floatbank10_d_air                     19439 non-null  float64       \n",
            " 60  rougher.state.floatbank10_d_level                   19439 non-null  float64       \n",
            " 61  rougher.state.floatbank10_e_air                     19003 non-null  float64       \n",
            " 62  rougher.state.floatbank10_e_level                   19439 non-null  float64       \n",
            " 63  rougher.state.floatbank10_f_air                     19439 non-null  float64       \n",
            " 64  rougher.state.floatbank10_f_level                   19439 non-null  float64       \n",
            " 65  secondary_cleaner.output.tail_ag                    19437 non-null  float64       \n",
            " 66  secondary_cleaner.output.tail_pb                    19427 non-null  float64       \n",
            " 67  secondary_cleaner.output.tail_sol                   17691 non-null  float64       \n",
            " 68  secondary_cleaner.output.tail_au                    19439 non-null  float64       \n",
            " 69  secondary_cleaner.state.floatbank2_a_air            19219 non-null  float64       \n",
            " 70  secondary_cleaner.state.floatbank2_a_level          19438 non-null  float64       \n",
            " 71  secondary_cleaner.state.floatbank2_b_air            19416 non-null  float64       \n",
            " 72  secondary_cleaner.state.floatbank2_b_level          19438 non-null  float64       \n",
            " 73  secondary_cleaner.state.floatbank3_a_air            19426 non-null  float64       \n",
            " 74  secondary_cleaner.state.floatbank3_a_level          19438 non-null  float64       \n",
            " 75  secondary_cleaner.state.floatbank3_b_air            19438 non-null  float64       \n",
            " 76  secondary_cleaner.state.floatbank3_b_level          19438 non-null  float64       \n",
            " 77  secondary_cleaner.state.floatbank4_a_air            19433 non-null  float64       \n",
            " 78  secondary_cleaner.state.floatbank4_a_level          19438 non-null  float64       \n",
            " 79  secondary_cleaner.state.floatbank4_b_air            19438 non-null  float64       \n",
            " 80  secondary_cleaner.state.floatbank4_b_level          19438 non-null  float64       \n",
            " 81  secondary_cleaner.state.floatbank5_a_air            19438 non-null  float64       \n",
            " 82  secondary_cleaner.state.floatbank5_a_level          19438 non-null  float64       \n",
            " 83  secondary_cleaner.state.floatbank5_b_air            19438 non-null  float64       \n",
            " 84  secondary_cleaner.state.floatbank5_b_level          19438 non-null  float64       \n",
            " 85  secondary_cleaner.state.floatbank6_a_air            19437 non-null  float64       \n",
            " 86  secondary_cleaner.state.floatbank6_a_level          19438 non-null  float64       \n",
            "dtypes: datetime64[ns](1), float64(86)\n",
            "memory usage: 12.9 MB\n",
            "None\n"
          ]
        }
      ],
      "source": [
        "print(df_full.info())"
      ]
    },
    {
      "cell_type": "markdown",
      "metadata": {
        "id": "C3o9S4naBGiE"
      },
      "source": [
        "<b>В первом столбце для удобства пользования данные сразу привели к типу datetime</b>"
      ]
    },
    {
      "cell_type": "markdown",
      "metadata": {
        "id": "U4dWyLLSBGiF"
      },
      "source": [
        "<i>Фрагмент таблицы исходных данных</i>"
      ]
    },
    {
      "cell_type": "code",
      "execution_count": null,
      "metadata": {
        "id": "YB0C8EPKBGiF",
        "outputId": "c1ab83f4-0de6-4358-92b6-1932262c15ba"
      },
      "outputs": [
        {
          "name": "stdout",
          "output_type": "stream",
          "text": [
            "                 date  final.output.concentrate_ag  \\\n",
            "0 2016-01-15 00:00:00                     6.055403   \n",
            "1 2016-01-15 01:00:00                     6.029369   \n",
            "2 2016-01-15 02:00:00                     6.055926   \n",
            "3 2016-01-15 03:00:00                     6.047977   \n",
            "4 2016-01-15 04:00:00                     6.148599   \n",
            "\n",
            "   final.output.concentrate_pb  final.output.concentrate_sol  \\\n",
            "0                     9.889648                      5.507324   \n",
            "1                     9.968944                      5.257781   \n",
            "2                    10.213995                      5.383759   \n",
            "3                     9.977019                      4.858634   \n",
            "4                    10.142511                      4.939416   \n",
            "\n",
            "   final.output.concentrate_au  final.output.recovery  final.output.tail_ag  \\\n",
            "0                    42.192020              70.541216             10.411962   \n",
            "1                    42.701629              69.266198             10.462676   \n",
            "2                    42.657501              68.116445             10.507046   \n",
            "3                    42.689819              68.347543             10.422762   \n",
            "4                    42.774141              66.927016             10.360302   \n",
            "\n",
            "   final.output.tail_pb  final.output.tail_sol  final.output.tail_au  ...  \\\n",
            "0              0.895447              16.904297              2.143149  ...   \n",
            "1              0.927452              16.634514              2.224930  ...   \n",
            "2              0.953716              16.208849              2.257889  ...   \n",
            "3              0.883763              16.532835              2.146849  ...   \n",
            "4              0.792826              16.525686              2.055292  ...   \n",
            "\n",
            "   secondary_cleaner.state.floatbank4_a_air  \\\n",
            "0                                 14.016835   \n",
            "1                                 13.992281   \n",
            "2                                 14.015015   \n",
            "3                                 14.036510   \n",
            "4                                 14.027298   \n",
            "\n",
            "   secondary_cleaner.state.floatbank4_a_level  \\\n",
            "0                                 -502.488007   \n",
            "1                                 -505.503262   \n",
            "2                                 -502.520901   \n",
            "3                                 -500.857308   \n",
            "4                                 -499.838632   \n",
            "\n",
            "   secondary_cleaner.state.floatbank4_b_air  \\\n",
            "0                                 12.099931   \n",
            "1                                 11.950531   \n",
            "2                                 11.912783   \n",
            "3                                 11.999550   \n",
            "4                                 11.953070   \n",
            "\n",
            "   secondary_cleaner.state.floatbank4_b_level  \\\n",
            "0                                 -504.715942   \n",
            "1                                 -501.331529   \n",
            "2                                 -501.133383   \n",
            "3                                 -501.193686   \n",
            "4                                 -501.053894   \n",
            "\n",
            "   secondary_cleaner.state.floatbank5_a_air  \\\n",
            "0                                  9.925633   \n",
            "1                                 10.039245   \n",
            "2                                 10.070913   \n",
            "3                                  9.970366   \n",
            "4                                  9.925709   \n",
            "\n",
            "   secondary_cleaner.state.floatbank5_a_level  \\\n",
            "0                                 -498.310211   \n",
            "1                                 -500.169983   \n",
            "2                                 -500.129135   \n",
            "3                                 -499.201640   \n",
            "4                                 -501.686727   \n",
            "\n",
            "   secondary_cleaner.state.floatbank5_b_air  \\\n",
            "0                                  8.079666   \n",
            "1                                  7.984757   \n",
            "2                                  8.013877   \n",
            "3                                  7.977324   \n",
            "4                                  7.894242   \n",
            "\n",
            "   secondary_cleaner.state.floatbank5_b_level  \\\n",
            "0                                 -500.470978   \n",
            "1                                 -500.582168   \n",
            "2                                 -500.517572   \n",
            "3                                 -500.255908   \n",
            "4                                 -500.356035   \n",
            "\n",
            "   secondary_cleaner.state.floatbank6_a_air  \\\n",
            "0                                 14.151341   \n",
            "1                                 13.998353   \n",
            "2                                 14.028663   \n",
            "3                                 14.005551   \n",
            "4                                 13.996647   \n",
            "\n",
            "   secondary_cleaner.state.floatbank6_a_level  \n",
            "0                                 -605.841980  \n",
            "1                                 -599.787184  \n",
            "2                                 -601.427363  \n",
            "3                                 -599.996129  \n",
            "4                                 -601.496691  \n",
            "\n",
            "[5 rows x 87 columns]\n",
            "(19439, 87)\n"
          ]
        }
      ],
      "source": [
        "print(df_full.head(5))\n",
        "print(df_full.shape)"
      ]
    },
    {
      "cell_type": "markdown",
      "metadata": {
        "id": "4X8Sfh1RBGiF"
      },
      "source": [
        "<b>Посмотрим пропуски в исходных данных в процентном соотношении</b>"
      ]
    },
    {
      "cell_type": "code",
      "execution_count": null,
      "metadata": {
        "scrolled": false,
        "id": "pDHDKCgeBGiG",
        "outputId": "cb6456a3-5c2c-42de-f85e-014306d97e42"
      },
      "outputs": [
        {
          "data": {
            "text/html": [
              "<style  type=\"text/css\" >\n",
              "#T_ec05e_row0_col0{\n",
              "            background-color:  #b40426;\n",
              "            color:  #f1f1f1;\n",
              "        }#T_ec05e_row1_col0{\n",
              "            background-color:  #90b2fe;\n",
              "            color:  #000000;\n",
              "        }#T_ec05e_row2_col0{\n",
              "            background-color:  #8caffe;\n",
              "            color:  #000000;\n",
              "        }#T_ec05e_row3_col0{\n",
              "            background-color:  #80a3fa;\n",
              "            color:  #000000;\n",
              "        }#T_ec05e_row4_col0{\n",
              "            background-color:  #6282ea;\n",
              "            color:  #000000;\n",
              "        }#T_ec05e_row5_col0{\n",
              "            background-color:  #5f7fe8;\n",
              "            color:  #000000;\n",
              "        }#T_ec05e_row6_col0{\n",
              "            background-color:  #5470de;\n",
              "            color:  #000000;\n",
              "        }#T_ec05e_row7_col0{\n",
              "            background-color:  #4e68d8;\n",
              "            color:  #000000;\n",
              "        }#T_ec05e_row8_col0{\n",
              "            background-color:  #4c66d6;\n",
              "            color:  #000000;\n",
              "        }#T_ec05e_row9_col0,#T_ec05e_row10_col0,#T_ec05e_row11_col0{\n",
              "            background-color:  #4b64d5;\n",
              "            color:  #f1f1f1;\n",
              "        }#T_ec05e_row12_col0{\n",
              "            background-color:  #455cce;\n",
              "            color:  #f1f1f1;\n",
              "        }#T_ec05e_row13_col0{\n",
              "            background-color:  #4257c9;\n",
              "            color:  #f1f1f1;\n",
              "        }#T_ec05e_row14_col0{\n",
              "            background-color:  #4055c8;\n",
              "            color:  #f1f1f1;\n",
              "        }#T_ec05e_row15_col0{\n",
              "            background-color:  #3f53c6;\n",
              "            color:  #f1f1f1;\n",
              "        }#T_ec05e_row16_col0,#T_ec05e_row17_col0,#T_ec05e_row18_col0,#T_ec05e_row19_col0{\n",
              "            background-color:  #3e51c5;\n",
              "            color:  #f1f1f1;\n",
              "        }#T_ec05e_row20_col0,#T_ec05e_row21_col0,#T_ec05e_row22_col0,#T_ec05e_row23_col0{\n",
              "            background-color:  #3c4ec2;\n",
              "            color:  #f1f1f1;\n",
              "        }#T_ec05e_row24_col0,#T_ec05e_row25_col0,#T_ec05e_row26_col0,#T_ec05e_row27_col0,#T_ec05e_row28_col0,#T_ec05e_row29_col0,#T_ec05e_row30_col0,#T_ec05e_row31_col0,#T_ec05e_row32_col0,#T_ec05e_row33_col0,#T_ec05e_row34_col0,#T_ec05e_row35_col0,#T_ec05e_row36_col0,#T_ec05e_row37_col0,#T_ec05e_row38_col0,#T_ec05e_row39_col0,#T_ec05e_row40_col0,#T_ec05e_row41_col0,#T_ec05e_row42_col0,#T_ec05e_row43_col0,#T_ec05e_row44_col0,#T_ec05e_row45_col0,#T_ec05e_row46_col0,#T_ec05e_row47_col0,#T_ec05e_row48_col0,#T_ec05e_row49_col0,#T_ec05e_row50_col0,#T_ec05e_row51_col0,#T_ec05e_row52_col0,#T_ec05e_row53_col0,#T_ec05e_row54_col0,#T_ec05e_row55_col0,#T_ec05e_row56_col0,#T_ec05e_row57_col0,#T_ec05e_row58_col0,#T_ec05e_row59_col0,#T_ec05e_row60_col0,#T_ec05e_row61_col0,#T_ec05e_row62_col0,#T_ec05e_row63_col0,#T_ec05e_row64_col0,#T_ec05e_row65_col0,#T_ec05e_row66_col0,#T_ec05e_row67_col0,#T_ec05e_row68_col0,#T_ec05e_row69_col0,#T_ec05e_row70_col0,#T_ec05e_row71_col0,#T_ec05e_row72_col0,#T_ec05e_row73_col0,#T_ec05e_row74_col0,#T_ec05e_row75_col0,#T_ec05e_row76_col0,#T_ec05e_row77_col0,#T_ec05e_row78_col0,#T_ec05e_row79_col0,#T_ec05e_row80_col0,#T_ec05e_row81_col0,#T_ec05e_row82_col0,#T_ec05e_row83_col0,#T_ec05e_row84_col0,#T_ec05e_row85_col0,#T_ec05e_row86_col0{\n",
              "            background-color:  #3b4cc0;\n",
              "            color:  #f1f1f1;\n",
              "        }</style><table id=\"T_ec05e_\" ><thead>    <tr>        <th class=\"blank level0\" ></th>        <th class=\"col_heading level0 col0\" >0</th>    </tr></thead><tbody>\n",
              "                <tr>\n",
              "                        <th id=\"T_ec05e_level0_row0\" class=\"row_heading level0 row0\" >secondary_cleaner.output.tail_sol</th>\n",
              "                        <td id=\"T_ec05e_row0_col0\" class=\"data row0 col0\" >8.992232</td>\n",
              "            </tr>\n",
              "            <tr>\n",
              "                        <th id=\"T_ec05e_level0_row1\" class=\"row_heading level0 row1\" >rougher.input.floatbank11_xanthate</th>\n",
              "                        <td id=\"T_ec05e_row1_col0\" class=\"data row1 col0\" >2.330367</td>\n",
              "            </tr>\n",
              "            <tr>\n",
              "                        <th id=\"T_ec05e_level0_row2\" class=\"row_heading level0 row2\" >rougher.state.floatbank10_e_air</th>\n",
              "                        <td id=\"T_ec05e_row2_col0\" class=\"data row2 col0\" >2.242914</td>\n",
              "            </tr>\n",
              "            <tr>\n",
              "                        <th id=\"T_ec05e_level0_row3\" class=\"row_heading level0 row3\" >primary_cleaner.output.concentrate_sol</th>\n",
              "                        <td id=\"T_ec05e_row3_col0\" class=\"data row3 col0\" >1.903390</td>\n",
              "            </tr>\n",
              "            <tr>\n",
              "                        <th id=\"T_ec05e_level0_row4\" class=\"row_heading level0 row4\" >secondary_cleaner.state.floatbank2_a_air</th>\n",
              "                        <td id=\"T_ec05e_row4_col0\" class=\"data row4 col0\" >1.131745</td>\n",
              "            </tr>\n",
              "            <tr>\n",
              "                        <th id=\"T_ec05e_level0_row5\" class=\"row_heading level0 row5\" >final.output.concentrate_sol</th>\n",
              "                        <td id=\"T_ec05e_row5_col0\" class=\"data row5 col0\" >1.085447</td>\n",
              "            </tr>\n",
              "            <tr>\n",
              "                        <th id=\"T_ec05e_level0_row6\" class=\"row_heading level0 row6\" >rougher.input.feed_size</th>\n",
              "                        <td id=\"T_ec05e_row6_col0\" class=\"data row6 col0\" >0.745923</td>\n",
              "            </tr>\n",
              "            <tr>\n",
              "                        <th id=\"T_ec05e_level0_row7\" class=\"row_heading level0 row7\" >primary_cleaner.output.concentrate_pb</th>\n",
              "                        <td id=\"T_ec05e_row7_col0\" class=\"data row7 col0\" >0.596739</td>\n",
              "            </tr>\n",
              "            <tr>\n",
              "                        <th id=\"T_ec05e_level0_row8\" class=\"row_heading level0 row8\" >primary_cleaner.input.xanthate</th>\n",
              "                        <td id=\"T_ec05e_row8_col0\" class=\"data row8 col0\" >0.535007</td>\n",
              "            </tr>\n",
              "            <tr>\n",
              "                        <th id=\"T_ec05e_level0_row9\" class=\"row_heading level0 row9\" >final.output.tail_pb</th>\n",
              "                        <td id=\"T_ec05e_row9_col0\" class=\"data row9 col0\" >0.519574</td>\n",
              "            </tr>\n",
              "            <tr>\n",
              "                        <th id=\"T_ec05e_level0_row10\" class=\"row_heading level0 row10\" >rougher.input.feed_pb</th>\n",
              "                        <td id=\"T_ec05e_row10_col0\" class=\"data row10 col0\" >0.514430</td>\n",
              "            </tr>\n",
              "            <tr>\n",
              "                        <th id=\"T_ec05e_level0_row11\" class=\"row_heading level0 row11\" >rougher.input.feed_sol</th>\n",
              "                        <td id=\"T_ec05e_row11_col0\" class=\"data row11 col0\" >0.509285</td>\n",
              "            </tr>\n",
              "            <tr>\n",
              "                        <th id=\"T_ec05e_level0_row12\" class=\"row_heading level0 row12\" >primary_cleaner.output.tail_sol</th>\n",
              "                        <td id=\"T_ec05e_row12_col0\" class=\"data row12 col0\" >0.318946</td>\n",
              "            </tr>\n",
              "            <tr>\n",
              "                        <th id=\"T_ec05e_level0_row13\" class=\"row_heading level0 row13\" >rougher.input.floatbank11_sulfate</th>\n",
              "                        <td id=\"T_ec05e_row13_col0\" class=\"data row13 col0\" >0.226349</td>\n",
              "            </tr>\n",
              "            <tr>\n",
              "                        <th id=\"T_ec05e_level0_row14\" class=\"row_heading level0 row14\" >primary_cleaner.input.depressant</th>\n",
              "                        <td id=\"T_ec05e_row14_col0\" class=\"data row14 col0\" >0.190339</td>\n",
              "            </tr>\n",
              "            <tr>\n",
              "                        <th id=\"T_ec05e_level0_row15\" class=\"row_heading level0 row15\" >rougher.input.floatbank10_sulfate</th>\n",
              "                        <td id=\"T_ec05e_row15_col0\" class=\"data row15 col0\" >0.174906</td>\n",
              "            </tr>\n",
              "            <tr>\n",
              "                        <th id=\"T_ec05e_level0_row16\" class=\"row_heading level0 row16\" >primary_cleaner.input.sulfate</th>\n",
              "                        <td id=\"T_ec05e_row16_col0\" class=\"data row16 col0\" >0.123463</td>\n",
              "            </tr>\n",
              "            <tr>\n",
              "                        <th id=\"T_ec05e_level0_row17\" class=\"row_heading level0 row17\" >secondary_cleaner.state.floatbank2_b_air</th>\n",
              "                        <td id=\"T_ec05e_row17_col0\" class=\"data row17 col0\" >0.118319</td>\n",
              "            </tr>\n",
              "            <tr>\n",
              "                        <th id=\"T_ec05e_level0_row18\" class=\"row_heading level0 row18\" >rougher.output.concentrate_sol</th>\n",
              "                        <td id=\"T_ec05e_row18_col0\" class=\"data row18 col0\" >0.118319</td>\n",
              "            </tr>\n",
              "            <tr>\n",
              "                        <th id=\"T_ec05e_level0_row19\" class=\"row_heading level0 row19\" >primary_cleaner.output.tail_pb</th>\n",
              "                        <td id=\"T_ec05e_row19_col0\" class=\"data row19 col0\" >0.108030</td>\n",
              "            </tr>\n",
              "            <tr>\n",
              "                        <th id=\"T_ec05e_level0_row20\" class=\"row_heading level0 row20\" >secondary_cleaner.state.floatbank3_a_air</th>\n",
              "                        <td id=\"T_ec05e_row20_col0\" class=\"data row20 col0\" >0.066876</td>\n",
              "            </tr>\n",
              "            <tr>\n",
              "                        <th id=\"T_ec05e_level0_row21\" class=\"row_heading level0 row21\" >secondary_cleaner.output.tail_pb</th>\n",
              "                        <td id=\"T_ec05e_row21_col0\" class=\"data row21 col0\" >0.061732</td>\n",
              "            </tr>\n",
              "            <tr>\n",
              "                        <th id=\"T_ec05e_level0_row22\" class=\"row_heading level0 row22\" >rougher.input.feed_rate</th>\n",
              "                        <td id=\"T_ec05e_row22_col0\" class=\"data row22 col0\" >0.056587</td>\n",
              "            </tr>\n",
              "            <tr>\n",
              "                        <th id=\"T_ec05e_level0_row23\" class=\"row_heading level0 row23\" >rougher.input.floatbank10_xanthate</th>\n",
              "                        <td id=\"T_ec05e_row23_col0\" class=\"data row23 col0\" >0.041154</td>\n",
              "            </tr>\n",
              "            <tr>\n",
              "                        <th id=\"T_ec05e_level0_row24\" class=\"row_heading level0 row24\" >secondary_cleaner.state.floatbank4_a_air</th>\n",
              "                        <td id=\"T_ec05e_row24_col0\" class=\"data row24 col0\" >0.030866</td>\n",
              "            </tr>\n",
              "            <tr>\n",
              "                        <th id=\"T_ec05e_level0_row25\" class=\"row_heading level0 row25\" >final.output.tail_sol</th>\n",
              "                        <td id=\"T_ec05e_row25_col0\" class=\"data row25 col0\" >0.030866</td>\n",
              "            </tr>\n",
              "            <tr>\n",
              "                        <th id=\"T_ec05e_level0_row26\" class=\"row_heading level0 row26\" >primary_cleaner.state.floatbank8_a_air</th>\n",
              "                        <td id=\"T_ec05e_row26_col0\" class=\"data row26 col0\" >0.020577</td>\n",
              "            </tr>\n",
              "            <tr>\n",
              "                        <th id=\"T_ec05e_level0_row27\" class=\"row_heading level0 row27\" >primary_cleaner.state.floatbank8_b_air</th>\n",
              "                        <td id=\"T_ec05e_row27_col0\" class=\"data row27 col0\" >0.020577</td>\n",
              "            </tr>\n",
              "            <tr>\n",
              "                        <th id=\"T_ec05e_level0_row28\" class=\"row_heading level0 row28\" >primary_cleaner.output.tail_ag</th>\n",
              "                        <td id=\"T_ec05e_row28_col0\" class=\"data row28 col0\" >0.020577</td>\n",
              "            </tr>\n",
              "            <tr>\n",
              "                        <th id=\"T_ec05e_level0_row29\" class=\"row_heading level0 row29\" >primary_cleaner.state.floatbank8_d_air</th>\n",
              "                        <td id=\"T_ec05e_row29_col0\" class=\"data row29 col0\" >0.015433</td>\n",
              "            </tr>\n",
              "            <tr>\n",
              "                        <th id=\"T_ec05e_level0_row30\" class=\"row_heading level0 row30\" >rougher.calculation.floatbank10_sulfate_to_au_feed</th>\n",
              "                        <td id=\"T_ec05e_row30_col0\" class=\"data row30 col0\" >0.010289</td>\n",
              "            </tr>\n",
              "            <tr>\n",
              "                        <th id=\"T_ec05e_level0_row31\" class=\"row_heading level0 row31\" >rougher.calculation.floatbank11_sulfate_to_au_feed</th>\n",
              "                        <td id=\"T_ec05e_row31_col0\" class=\"data row31 col0\" >0.010289</td>\n",
              "            </tr>\n",
              "            <tr>\n",
              "                        <th id=\"T_ec05e_level0_row32\" class=\"row_heading level0 row32\" >primary_cleaner.state.floatbank8_c_air</th>\n",
              "                        <td id=\"T_ec05e_row32_col0\" class=\"data row32 col0\" >0.010289</td>\n",
              "            </tr>\n",
              "            <tr>\n",
              "                        <th id=\"T_ec05e_level0_row33\" class=\"row_heading level0 row33\" >rougher.calculation.sulfate_to_au_concentrate</th>\n",
              "                        <td id=\"T_ec05e_row33_col0\" class=\"data row33 col0\" >0.010289</td>\n",
              "            </tr>\n",
              "            <tr>\n",
              "                        <th id=\"T_ec05e_level0_row34\" class=\"row_heading level0 row34\" >secondary_cleaner.state.floatbank6_a_air</th>\n",
              "                        <td id=\"T_ec05e_row34_col0\" class=\"data row34 col0\" >0.010289</td>\n",
              "            </tr>\n",
              "            <tr>\n",
              "                        <th id=\"T_ec05e_level0_row35\" class=\"row_heading level0 row35\" >secondary_cleaner.output.tail_ag</th>\n",
              "                        <td id=\"T_ec05e_row35_col0\" class=\"data row35 col0\" >0.010289</td>\n",
              "            </tr>\n",
              "            <tr>\n",
              "                        <th id=\"T_ec05e_level0_row36\" class=\"row_heading level0 row36\" >primary_cleaner.state.floatbank8_d_level</th>\n",
              "                        <td id=\"T_ec05e_row36_col0\" class=\"data row36 col0\" >0.005144</td>\n",
              "            </tr>\n",
              "            <tr>\n",
              "                        <th id=\"T_ec05e_level0_row37\" class=\"row_heading level0 row37\" >final.output.tail_ag</th>\n",
              "                        <td id=\"T_ec05e_row37_col0\" class=\"data row37 col0\" >0.005144</td>\n",
              "            </tr>\n",
              "            <tr>\n",
              "                        <th id=\"T_ec05e_level0_row38\" class=\"row_heading level0 row38\" >primary_cleaner.state.floatbank8_c_level</th>\n",
              "                        <td id=\"T_ec05e_row38_col0\" class=\"data row38 col0\" >0.005144</td>\n",
              "            </tr>\n",
              "            <tr>\n",
              "                        <th id=\"T_ec05e_level0_row39\" class=\"row_heading level0 row39\" >final.output.concentrate_pb</th>\n",
              "                        <td id=\"T_ec05e_row39_col0\" class=\"data row39 col0\" >0.005144</td>\n",
              "            </tr>\n",
              "            <tr>\n",
              "                        <th id=\"T_ec05e_level0_row40\" class=\"row_heading level0 row40\" >final.output.concentrate_ag</th>\n",
              "                        <td id=\"T_ec05e_row40_col0\" class=\"data row40 col0\" >0.005144</td>\n",
              "            </tr>\n",
              "            <tr>\n",
              "                        <th id=\"T_ec05e_level0_row41\" class=\"row_heading level0 row41\" >primary_cleaner.state.floatbank8_b_level</th>\n",
              "                        <td id=\"T_ec05e_row41_col0\" class=\"data row41 col0\" >0.005144</td>\n",
              "            </tr>\n",
              "            <tr>\n",
              "                        <th id=\"T_ec05e_level0_row42\" class=\"row_heading level0 row42\" >primary_cleaner.state.floatbank8_a_level</th>\n",
              "                        <td id=\"T_ec05e_row42_col0\" class=\"data row42 col0\" >0.005144</td>\n",
              "            </tr>\n",
              "            <tr>\n",
              "                        <th id=\"T_ec05e_level0_row43\" class=\"row_heading level0 row43\" >secondary_cleaner.state.floatbank6_a_level</th>\n",
              "                        <td id=\"T_ec05e_row43_col0\" class=\"data row43 col0\" >0.005144</td>\n",
              "            </tr>\n",
              "            <tr>\n",
              "                        <th id=\"T_ec05e_level0_row44\" class=\"row_heading level0 row44\" >rougher.state.floatbank10_a_level</th>\n",
              "                        <td id=\"T_ec05e_row44_col0\" class=\"data row44 col0\" >0.005144</td>\n",
              "            </tr>\n",
              "            <tr>\n",
              "                        <th id=\"T_ec05e_level0_row45\" class=\"row_heading level0 row45\" >rougher.state.floatbank10_a_air</th>\n",
              "                        <td id=\"T_ec05e_row45_col0\" class=\"data row45 col0\" >0.005144</td>\n",
              "            </tr>\n",
              "            <tr>\n",
              "                        <th id=\"T_ec05e_level0_row46\" class=\"row_heading level0 row46\" >secondary_cleaner.state.floatbank3_a_level</th>\n",
              "                        <td id=\"T_ec05e_row46_col0\" class=\"data row46 col0\" >0.005144</td>\n",
              "            </tr>\n",
              "            <tr>\n",
              "                        <th id=\"T_ec05e_level0_row47\" class=\"row_heading level0 row47\" >secondary_cleaner.state.floatbank3_b_air</th>\n",
              "                        <td id=\"T_ec05e_row47_col0\" class=\"data row47 col0\" >0.005144</td>\n",
              "            </tr>\n",
              "            <tr>\n",
              "                        <th id=\"T_ec05e_level0_row48\" class=\"row_heading level0 row48\" >secondary_cleaner.state.floatbank3_b_level</th>\n",
              "                        <td id=\"T_ec05e_row48_col0\" class=\"data row48 col0\" >0.005144</td>\n",
              "            </tr>\n",
              "            <tr>\n",
              "                        <th id=\"T_ec05e_level0_row49\" class=\"row_heading level0 row49\" >secondary_cleaner.state.floatbank4_a_level</th>\n",
              "                        <td id=\"T_ec05e_row49_col0\" class=\"data row49 col0\" >0.005144</td>\n",
              "            </tr>\n",
              "            <tr>\n",
              "                        <th id=\"T_ec05e_level0_row50\" class=\"row_heading level0 row50\" >rougher.state.floatbank10_c_level</th>\n",
              "                        <td id=\"T_ec05e_row50_col0\" class=\"data row50 col0\" >0.005144</td>\n",
              "            </tr>\n",
              "            <tr>\n",
              "                        <th id=\"T_ec05e_level0_row51\" class=\"row_heading level0 row51\" >rougher.state.floatbank10_c_air</th>\n",
              "                        <td id=\"T_ec05e_row51_col0\" class=\"data row51 col0\" >0.005144</td>\n",
              "            </tr>\n",
              "            <tr>\n",
              "                        <th id=\"T_ec05e_level0_row52\" class=\"row_heading level0 row52\" >rougher.state.floatbank10_b_level</th>\n",
              "                        <td id=\"T_ec05e_row52_col0\" class=\"data row52 col0\" >0.005144</td>\n",
              "            </tr>\n",
              "            <tr>\n",
              "                        <th id=\"T_ec05e_level0_row53\" class=\"row_heading level0 row53\" >rougher.state.floatbank10_b_air</th>\n",
              "                        <td id=\"T_ec05e_row53_col0\" class=\"data row53 col0\" >0.005144</td>\n",
              "            </tr>\n",
              "            <tr>\n",
              "                        <th id=\"T_ec05e_level0_row54\" class=\"row_heading level0 row54\" >secondary_cleaner.state.floatbank2_b_level</th>\n",
              "                        <td id=\"T_ec05e_row54_col0\" class=\"data row54 col0\" >0.005144</td>\n",
              "            </tr>\n",
              "            <tr>\n",
              "                        <th id=\"T_ec05e_level0_row55\" class=\"row_heading level0 row55\" >secondary_cleaner.state.floatbank2_a_level</th>\n",
              "                        <td id=\"T_ec05e_row55_col0\" class=\"data row55 col0\" >0.005144</td>\n",
              "            </tr>\n",
              "            <tr>\n",
              "                        <th id=\"T_ec05e_level0_row56\" class=\"row_heading level0 row56\" >secondary_cleaner.state.floatbank4_b_air</th>\n",
              "                        <td id=\"T_ec05e_row56_col0\" class=\"data row56 col0\" >0.005144</td>\n",
              "            </tr>\n",
              "            <tr>\n",
              "                        <th id=\"T_ec05e_level0_row57\" class=\"row_heading level0 row57\" >secondary_cleaner.state.floatbank4_b_level</th>\n",
              "                        <td id=\"T_ec05e_row57_col0\" class=\"data row57 col0\" >0.005144</td>\n",
              "            </tr>\n",
              "            <tr>\n",
              "                        <th id=\"T_ec05e_level0_row58\" class=\"row_heading level0 row58\" >secondary_cleaner.state.floatbank5_a_air</th>\n",
              "                        <td id=\"T_ec05e_row58_col0\" class=\"data row58 col0\" >0.005144</td>\n",
              "            </tr>\n",
              "            <tr>\n",
              "                        <th id=\"T_ec05e_level0_row59\" class=\"row_heading level0 row59\" >rougher.output.tail_ag</th>\n",
              "                        <td id=\"T_ec05e_row59_col0\" class=\"data row59 col0\" >0.005144</td>\n",
              "            </tr>\n",
              "            <tr>\n",
              "                        <th id=\"T_ec05e_level0_row60\" class=\"row_heading level0 row60\" >secondary_cleaner.state.floatbank5_a_level</th>\n",
              "                        <td id=\"T_ec05e_row60_col0\" class=\"data row60 col0\" >0.005144</td>\n",
              "            </tr>\n",
              "            <tr>\n",
              "                        <th id=\"T_ec05e_level0_row61\" class=\"row_heading level0 row61\" >secondary_cleaner.state.floatbank5_b_air</th>\n",
              "                        <td id=\"T_ec05e_row61_col0\" class=\"data row61 col0\" >0.005144</td>\n",
              "            </tr>\n",
              "            <tr>\n",
              "                        <th id=\"T_ec05e_level0_row62\" class=\"row_heading level0 row62\" >secondary_cleaner.state.floatbank5_b_level</th>\n",
              "                        <td id=\"T_ec05e_row62_col0\" class=\"data row62 col0\" >0.005144</td>\n",
              "            </tr>\n",
              "            <tr>\n",
              "                        <th id=\"T_ec05e_level0_row63\" class=\"row_heading level0 row63\" >final.output.recovery</th>\n",
              "                        <td id=\"T_ec05e_row63_col0\" class=\"data row63 col0\" >0.000000</td>\n",
              "            </tr>\n",
              "            <tr>\n",
              "                        <th id=\"T_ec05e_level0_row64\" class=\"row_heading level0 row64\" >final.output.concentrate_au</th>\n",
              "                        <td id=\"T_ec05e_row64_col0\" class=\"data row64 col0\" >0.000000</td>\n",
              "            </tr>\n",
              "            <tr>\n",
              "                        <th id=\"T_ec05e_level0_row65\" class=\"row_heading level0 row65\" >final.output.tail_au</th>\n",
              "                        <td id=\"T_ec05e_row65_col0\" class=\"data row65 col0\" >0.000000</td>\n",
              "            </tr>\n",
              "            <tr>\n",
              "                        <th id=\"T_ec05e_level0_row66\" class=\"row_heading level0 row66\" >primary_cleaner.input.feed_size</th>\n",
              "                        <td id=\"T_ec05e_row66_col0\" class=\"data row66 col0\" >0.000000</td>\n",
              "            </tr>\n",
              "            <tr>\n",
              "                        <th id=\"T_ec05e_level0_row67\" class=\"row_heading level0 row67\" >primary_cleaner.output.concentrate_ag</th>\n",
              "                        <td id=\"T_ec05e_row67_col0\" class=\"data row67 col0\" >0.000000</td>\n",
              "            </tr>\n",
              "            <tr>\n",
              "                        <th id=\"T_ec05e_level0_row68\" class=\"row_heading level0 row68\" >rougher.output.concentrate_ag</th>\n",
              "                        <td id=\"T_ec05e_row68_col0\" class=\"data row68 col0\" >0.000000</td>\n",
              "            </tr>\n",
              "            <tr>\n",
              "                        <th id=\"T_ec05e_level0_row69\" class=\"row_heading level0 row69\" >primary_cleaner.output.tail_au</th>\n",
              "                        <td id=\"T_ec05e_row69_col0\" class=\"data row69 col0\" >0.000000</td>\n",
              "            </tr>\n",
              "            <tr>\n",
              "                        <th id=\"T_ec05e_level0_row70\" class=\"row_heading level0 row70\" >primary_cleaner.output.concentrate_au</th>\n",
              "                        <td id=\"T_ec05e_row70_col0\" class=\"data row70 col0\" >0.000000</td>\n",
              "            </tr>\n",
              "            <tr>\n",
              "                        <th id=\"T_ec05e_level0_row71\" class=\"row_heading level0 row71\" >rougher.calculation.au_pb_ratio</th>\n",
              "                        <td id=\"T_ec05e_row71_col0\" class=\"data row71 col0\" >0.000000</td>\n",
              "            </tr>\n",
              "            <tr>\n",
              "                        <th id=\"T_ec05e_level0_row72\" class=\"row_heading level0 row72\" >rougher.output.concentrate_au</th>\n",
              "                        <td id=\"T_ec05e_row72_col0\" class=\"data row72 col0\" >0.000000</td>\n",
              "            </tr>\n",
              "            <tr>\n",
              "                        <th id=\"T_ec05e_level0_row73\" class=\"row_heading level0 row73\" >rougher.input.feed_au</th>\n",
              "                        <td id=\"T_ec05e_row73_col0\" class=\"data row73 col0\" >0.000000</td>\n",
              "            </tr>\n",
              "            <tr>\n",
              "                        <th id=\"T_ec05e_level0_row74\" class=\"row_heading level0 row74\" >rougher.output.recovery</th>\n",
              "                        <td id=\"T_ec05e_row74_col0\" class=\"data row74 col0\" >0.000000</td>\n",
              "            </tr>\n",
              "            <tr>\n",
              "                        <th id=\"T_ec05e_level0_row75\" class=\"row_heading level0 row75\" >rougher.output.tail_pb</th>\n",
              "                        <td id=\"T_ec05e_row75_col0\" class=\"data row75 col0\" >0.000000</td>\n",
              "            </tr>\n",
              "            <tr>\n",
              "                        <th id=\"T_ec05e_level0_row76\" class=\"row_heading level0 row76\" >rougher.output.tail_sol</th>\n",
              "                        <td id=\"T_ec05e_row76_col0\" class=\"data row76 col0\" >0.000000</td>\n",
              "            </tr>\n",
              "            <tr>\n",
              "                        <th id=\"T_ec05e_level0_row77\" class=\"row_heading level0 row77\" >rougher.input.feed_ag</th>\n",
              "                        <td id=\"T_ec05e_row77_col0\" class=\"data row77 col0\" >0.000000</td>\n",
              "            </tr>\n",
              "            <tr>\n",
              "                        <th id=\"T_ec05e_level0_row78\" class=\"row_heading level0 row78\" >rougher.output.tail_au</th>\n",
              "                        <td id=\"T_ec05e_row78_col0\" class=\"data row78 col0\" >0.000000</td>\n",
              "            </tr>\n",
              "            <tr>\n",
              "                        <th id=\"T_ec05e_level0_row79\" class=\"row_heading level0 row79\" >secondary_cleaner.output.tail_au</th>\n",
              "                        <td id=\"T_ec05e_row79_col0\" class=\"data row79 col0\" >0.000000</td>\n",
              "            </tr>\n",
              "            <tr>\n",
              "                        <th id=\"T_ec05e_level0_row80\" class=\"row_heading level0 row80\" >rougher.state.floatbank10_d_air</th>\n",
              "                        <td id=\"T_ec05e_row80_col0\" class=\"data row80 col0\" >0.000000</td>\n",
              "            </tr>\n",
              "            <tr>\n",
              "                        <th id=\"T_ec05e_level0_row81\" class=\"row_heading level0 row81\" >rougher.state.floatbank10_d_level</th>\n",
              "                        <td id=\"T_ec05e_row81_col0\" class=\"data row81 col0\" >0.000000</td>\n",
              "            </tr>\n",
              "            <tr>\n",
              "                        <th id=\"T_ec05e_level0_row82\" class=\"row_heading level0 row82\" >rougher.state.floatbank10_e_level</th>\n",
              "                        <td id=\"T_ec05e_row82_col0\" class=\"data row82 col0\" >0.000000</td>\n",
              "            </tr>\n",
              "            <tr>\n",
              "                        <th id=\"T_ec05e_level0_row83\" class=\"row_heading level0 row83\" >rougher.state.floatbank10_f_air</th>\n",
              "                        <td id=\"T_ec05e_row83_col0\" class=\"data row83 col0\" >0.000000</td>\n",
              "            </tr>\n",
              "            <tr>\n",
              "                        <th id=\"T_ec05e_level0_row84\" class=\"row_heading level0 row84\" >rougher.output.concentrate_pb</th>\n",
              "                        <td id=\"T_ec05e_row84_col0\" class=\"data row84 col0\" >0.000000</td>\n",
              "            </tr>\n",
              "            <tr>\n",
              "                        <th id=\"T_ec05e_level0_row85\" class=\"row_heading level0 row85\" >rougher.state.floatbank10_f_level</th>\n",
              "                        <td id=\"T_ec05e_row85_col0\" class=\"data row85 col0\" >0.000000</td>\n",
              "            </tr>\n",
              "            <tr>\n",
              "                        <th id=\"T_ec05e_level0_row86\" class=\"row_heading level0 row86\" >date</th>\n",
              "                        <td id=\"T_ec05e_row86_col0\" class=\"data row86 col0\" >0.000000</td>\n",
              "            </tr>\n",
              "    </tbody></table>"
            ],
            "text/plain": [
              "<pandas.io.formats.style.Styler at 0x7efde87d7340>"
            ]
          },
          "execution_count": 5,
          "metadata": {},
          "output_type": "execute_result"
        }
      ],
      "source": [
        "pd.DataFrame(df_full.isna().mean()*100).sort_values(by=0)[::-1].style.background_gradient('coolwarm')"
      ]
    },
    {
      "cell_type": "code",
      "execution_count": null,
      "metadata": {
        "scrolled": true,
        "id": "b4WTGKoIBGiG",
        "outputId": "567827c0-4fa6-4729-a22a-e84ea0118ea1"
      },
      "outputs": [
        {
          "data": {
            "text/plain": [
              "date                                            0\n",
              "final.output.concentrate_ag                     1\n",
              "final.output.concentrate_pb                     1\n",
              "final.output.concentrate_sol                  211\n",
              "final.output.concentrate_au                     0\n",
              "                                             ... \n",
              "secondary_cleaner.state.floatbank5_a_level      1\n",
              "secondary_cleaner.state.floatbank5_b_air        1\n",
              "secondary_cleaner.state.floatbank5_b_level      1\n",
              "secondary_cleaner.state.floatbank6_a_air        2\n",
              "secondary_cleaner.state.floatbank6_a_level      1\n",
              "Length: 87, dtype: int64"
            ]
          },
          "execution_count": 6,
          "metadata": {},
          "output_type": "execute_result"
        }
      ],
      "source": [
        "df_full.isnull().sum()"
      ]
    },
    {
      "cell_type": "code",
      "execution_count": null,
      "metadata": {
        "id": "3GANlTY8BGiG",
        "outputId": "9052c49f-c35c-4441-b96b-547c4db5831a"
      },
      "outputs": [
        {
          "name": "stdout",
          "output_type": "stream",
          "text": [
            "Дубликаты в исходных данных 0\n"
          ]
        }
      ],
      "source": [
        "print('Дубликаты в исходных данных',df_full.duplicated().sum())"
      ]
    },
    {
      "cell_type": "markdown",
      "metadata": {
        "id": "xz6h-w62BGiG"
      },
      "source": [
        "<b>Обучающая выборка</b>"
      ]
    },
    {
      "cell_type": "markdown",
      "metadata": {
        "id": "z6WqqR7PBGiH"
      },
      "source": [
        "<i>Общая информация о признаках в обучающей выборке(количество строк, пропусков и типов данных)</i>"
      ]
    },
    {
      "cell_type": "code",
      "execution_count": null,
      "metadata": {
        "id": "Cctuj4CmBGiH",
        "outputId": "208b1854-0abe-4776-a458-563eb7d099d9"
      },
      "outputs": [
        {
          "name": "stdout",
          "output_type": "stream",
          "text": [
            "<class 'pandas.core.frame.DataFrame'>\n",
            "RangeIndex: 14149 entries, 0 to 14148\n",
            "Data columns (total 87 columns):\n",
            " #   Column                                              Non-Null Count  Dtype         \n",
            "---  ------                                              --------------  -----         \n",
            " 0   date                                                14149 non-null  datetime64[ns]\n",
            " 1   final.output.concentrate_ag                         14148 non-null  float64       \n",
            " 2   final.output.concentrate_pb                         14148 non-null  float64       \n",
            " 3   final.output.concentrate_sol                        13938 non-null  float64       \n",
            " 4   final.output.concentrate_au                         14149 non-null  float64       \n",
            " 5   final.output.recovery                               14149 non-null  float64       \n",
            " 6   final.output.tail_ag                                14149 non-null  float64       \n",
            " 7   final.output.tail_pb                                14049 non-null  float64       \n",
            " 8   final.output.tail_sol                               14144 non-null  float64       \n",
            " 9   final.output.tail_au                                14149 non-null  float64       \n",
            " 10  primary_cleaner.input.sulfate                       14129 non-null  float64       \n",
            " 11  primary_cleaner.input.depressant                    14117 non-null  float64       \n",
            " 12  primary_cleaner.input.feed_size                     14149 non-null  float64       \n",
            " 13  primary_cleaner.input.xanthate                      14049 non-null  float64       \n",
            " 14  primary_cleaner.output.concentrate_ag               14149 non-null  float64       \n",
            " 15  primary_cleaner.output.concentrate_pb               14063 non-null  float64       \n",
            " 16  primary_cleaner.output.concentrate_sol              13863 non-null  float64       \n",
            " 17  primary_cleaner.output.concentrate_au               14149 non-null  float64       \n",
            " 18  primary_cleaner.output.tail_ag                      14148 non-null  float64       \n",
            " 19  primary_cleaner.output.tail_pb                      14134 non-null  float64       \n",
            " 20  primary_cleaner.output.tail_sol                     14103 non-null  float64       \n",
            " 21  primary_cleaner.output.tail_au                      14149 non-null  float64       \n",
            " 22  primary_cleaner.state.floatbank8_a_air              14145 non-null  float64       \n",
            " 23  primary_cleaner.state.floatbank8_a_level            14148 non-null  float64       \n",
            " 24  primary_cleaner.state.floatbank8_b_air              14145 non-null  float64       \n",
            " 25  primary_cleaner.state.floatbank8_b_level            14148 non-null  float64       \n",
            " 26  primary_cleaner.state.floatbank8_c_air              14147 non-null  float64       \n",
            " 27  primary_cleaner.state.floatbank8_c_level            14148 non-null  float64       \n",
            " 28  primary_cleaner.state.floatbank8_d_air              14146 non-null  float64       \n",
            " 29  primary_cleaner.state.floatbank8_d_level            14148 non-null  float64       \n",
            " 30  rougher.calculation.sulfate_to_au_concentrate       14148 non-null  float64       \n",
            " 31  rougher.calculation.floatbank10_sulfate_to_au_feed  14148 non-null  float64       \n",
            " 32  rougher.calculation.floatbank11_sulfate_to_au_feed  14148 non-null  float64       \n",
            " 33  rougher.calculation.au_pb_ratio                     14149 non-null  float64       \n",
            " 34  rougher.input.feed_ag                               14149 non-null  float64       \n",
            " 35  rougher.input.feed_pb                               14049 non-null  float64       \n",
            " 36  rougher.input.feed_rate                             14141 non-null  float64       \n",
            " 37  rougher.input.feed_size                             14005 non-null  float64       \n",
            " 38  rougher.input.feed_sol                              14071 non-null  float64       \n",
            " 39  rougher.input.feed_au                               14149 non-null  float64       \n",
            " 40  rougher.input.floatbank10_sulfate                   14120 non-null  float64       \n",
            " 41  rougher.input.floatbank10_xanthate                  14141 non-null  float64       \n",
            " 42  rougher.input.floatbank11_sulfate                   14113 non-null  float64       \n",
            " 43  rougher.input.floatbank11_xanthate                  13721 non-null  float64       \n",
            " 44  rougher.output.concentrate_ag                       14149 non-null  float64       \n",
            " 45  rougher.output.concentrate_pb                       14149 non-null  float64       \n",
            " 46  rougher.output.concentrate_sol                      14127 non-null  float64       \n",
            " 47  rougher.output.concentrate_au                       14149 non-null  float64       \n",
            " 48  rougher.output.recovery                             14149 non-null  float64       \n",
            " 49  rougher.output.tail_ag                              14148 non-null  float64       \n",
            " 50  rougher.output.tail_pb                              14149 non-null  float64       \n",
            " 51  rougher.output.tail_sol                             14149 non-null  float64       \n",
            " 52  rougher.output.tail_au                              14149 non-null  float64       \n",
            " 53  rougher.state.floatbank10_a_air                     14148 non-null  float64       \n",
            " 54  rougher.state.floatbank10_a_level                   14148 non-null  float64       \n",
            " 55  rougher.state.floatbank10_b_air                     14148 non-null  float64       \n",
            " 56  rougher.state.floatbank10_b_level                   14148 non-null  float64       \n",
            " 57  rougher.state.floatbank10_c_air                     14148 non-null  float64       \n",
            " 58  rougher.state.floatbank10_c_level                   14148 non-null  float64       \n",
            " 59  rougher.state.floatbank10_d_air                     14149 non-null  float64       \n",
            " 60  rougher.state.floatbank10_d_level                   14149 non-null  float64       \n",
            " 61  rougher.state.floatbank10_e_air                     13713 non-null  float64       \n",
            " 62  rougher.state.floatbank10_e_level                   14149 non-null  float64       \n",
            " 63  rougher.state.floatbank10_f_air                     14149 non-null  float64       \n",
            " 64  rougher.state.floatbank10_f_level                   14149 non-null  float64       \n",
            " 65  secondary_cleaner.output.tail_ag                    14147 non-null  float64       \n",
            " 66  secondary_cleaner.output.tail_pb                    14139 non-null  float64       \n",
            " 67  secondary_cleaner.output.tail_sol                   12544 non-null  float64       \n",
            " 68  secondary_cleaner.output.tail_au                    14149 non-null  float64       \n",
            " 69  secondary_cleaner.state.floatbank2_a_air            13932 non-null  float64       \n",
            " 70  secondary_cleaner.state.floatbank2_a_level          14148 non-null  float64       \n",
            " 71  secondary_cleaner.state.floatbank2_b_air            14128 non-null  float64       \n",
            " 72  secondary_cleaner.state.floatbank2_b_level          14148 non-null  float64       \n",
            " 73  secondary_cleaner.state.floatbank3_a_air            14145 non-null  float64       \n",
            " 74  secondary_cleaner.state.floatbank3_a_level          14148 non-null  float64       \n",
            " 75  secondary_cleaner.state.floatbank3_b_air            14148 non-null  float64       \n",
            " 76  secondary_cleaner.state.floatbank3_b_level          14148 non-null  float64       \n",
            " 77  secondary_cleaner.state.floatbank4_a_air            14143 non-null  float64       \n",
            " 78  secondary_cleaner.state.floatbank4_a_level          14148 non-null  float64       \n",
            " 79  secondary_cleaner.state.floatbank4_b_air            14148 non-null  float64       \n",
            " 80  secondary_cleaner.state.floatbank4_b_level          14148 non-null  float64       \n",
            " 81  secondary_cleaner.state.floatbank5_a_air            14148 non-null  float64       \n",
            " 82  secondary_cleaner.state.floatbank5_a_level          14148 non-null  float64       \n",
            " 83  secondary_cleaner.state.floatbank5_b_air            14148 non-null  float64       \n",
            " 84  secondary_cleaner.state.floatbank5_b_level          14148 non-null  float64       \n",
            " 85  secondary_cleaner.state.floatbank6_a_air            14147 non-null  float64       \n",
            " 86  secondary_cleaner.state.floatbank6_a_level          14148 non-null  float64       \n",
            "dtypes: datetime64[ns](1), float64(86)\n",
            "memory usage: 9.4 MB\n",
            "None\n"
          ]
        }
      ],
      "source": [
        "print(df_train.info())"
      ]
    },
    {
      "cell_type": "markdown",
      "metadata": {
        "id": "xo7NP1RTBGiH"
      },
      "source": [
        "<i>Фрагмент таблицы обучающей выборки</i>"
      ]
    },
    {
      "cell_type": "code",
      "execution_count": null,
      "metadata": {
        "id": "S_xrixHaBGiH",
        "outputId": "e48a2c86-b2e8-496f-aeb1-b7288472bd22"
      },
      "outputs": [
        {
          "name": "stdout",
          "output_type": "stream",
          "text": [
            "                 date  final.output.concentrate_ag  \\\n",
            "0 2016-01-15 00:00:00                     6.055403   \n",
            "1 2016-01-15 01:00:00                     6.029369   \n",
            "2 2016-01-15 02:00:00                     6.055926   \n",
            "3 2016-01-15 03:00:00                     6.047977   \n",
            "4 2016-01-15 04:00:00                     6.148599   \n",
            "\n",
            "   final.output.concentrate_pb  final.output.concentrate_sol  \\\n",
            "0                     9.889648                      5.507324   \n",
            "1                     9.968944                      5.257781   \n",
            "2                    10.213995                      5.383759   \n",
            "3                     9.977019                      4.858634   \n",
            "4                    10.142511                      4.939416   \n",
            "\n",
            "   final.output.concentrate_au  final.output.recovery  final.output.tail_ag  \\\n",
            "0                    42.192020              70.541216             10.411962   \n",
            "1                    42.701629              69.266198             10.462676   \n",
            "2                    42.657501              68.116445             10.507046   \n",
            "3                    42.689819              68.347543             10.422762   \n",
            "4                    42.774141              66.927016             10.360302   \n",
            "\n",
            "   final.output.tail_pb  final.output.tail_sol  final.output.tail_au  ...  \\\n",
            "0              0.895447              16.904297              2.143149  ...   \n",
            "1              0.927452              16.634514              2.224930  ...   \n",
            "2              0.953716              16.208849              2.257889  ...   \n",
            "3              0.883763              16.532835              2.146849  ...   \n",
            "4              0.792826              16.525686              2.055292  ...   \n",
            "\n",
            "   secondary_cleaner.state.floatbank4_a_air  \\\n",
            "0                                 14.016835   \n",
            "1                                 13.992281   \n",
            "2                                 14.015015   \n",
            "3                                 14.036510   \n",
            "4                                 14.027298   \n",
            "\n",
            "   secondary_cleaner.state.floatbank4_a_level  \\\n",
            "0                                 -502.488007   \n",
            "1                                 -505.503262   \n",
            "2                                 -502.520901   \n",
            "3                                 -500.857308   \n",
            "4                                 -499.838632   \n",
            "\n",
            "   secondary_cleaner.state.floatbank4_b_air  \\\n",
            "0                                 12.099931   \n",
            "1                                 11.950531   \n",
            "2                                 11.912783   \n",
            "3                                 11.999550   \n",
            "4                                 11.953070   \n",
            "\n",
            "   secondary_cleaner.state.floatbank4_b_level  \\\n",
            "0                                 -504.715942   \n",
            "1                                 -501.331529   \n",
            "2                                 -501.133383   \n",
            "3                                 -501.193686   \n",
            "4                                 -501.053894   \n",
            "\n",
            "   secondary_cleaner.state.floatbank5_a_air  \\\n",
            "0                                  9.925633   \n",
            "1                                 10.039245   \n",
            "2                                 10.070913   \n",
            "3                                  9.970366   \n",
            "4                                  9.925709   \n",
            "\n",
            "   secondary_cleaner.state.floatbank5_a_level  \\\n",
            "0                                 -498.310211   \n",
            "1                                 -500.169983   \n",
            "2                                 -500.129135   \n",
            "3                                 -499.201640   \n",
            "4                                 -501.686727   \n",
            "\n",
            "   secondary_cleaner.state.floatbank5_b_air  \\\n",
            "0                                  8.079666   \n",
            "1                                  7.984757   \n",
            "2                                  8.013877   \n",
            "3                                  7.977324   \n",
            "4                                  7.894242   \n",
            "\n",
            "   secondary_cleaner.state.floatbank5_b_level  \\\n",
            "0                                 -500.470978   \n",
            "1                                 -500.582168   \n",
            "2                                 -500.517572   \n",
            "3                                 -500.255908   \n",
            "4                                 -500.356035   \n",
            "\n",
            "   secondary_cleaner.state.floatbank6_a_air  \\\n",
            "0                                 14.151341   \n",
            "1                                 13.998353   \n",
            "2                                 14.028663   \n",
            "3                                 14.005551   \n",
            "4                                 13.996647   \n",
            "\n",
            "   secondary_cleaner.state.floatbank6_a_level  \n",
            "0                                 -605.841980  \n",
            "1                                 -599.787184  \n",
            "2                                 -601.427363  \n",
            "3                                 -599.996129  \n",
            "4                                 -601.496691  \n",
            "\n",
            "[5 rows x 87 columns]\n",
            "(14149, 87)\n"
          ]
        }
      ],
      "source": [
        "print(df_train.head(5))\n",
        "print(df_train.shape)"
      ]
    },
    {
      "cell_type": "markdown",
      "metadata": {
        "id": "6XEUGw7JBGiH"
      },
      "source": [
        "<i>Пропуски в обучающей выборке в процентном соотношении</i>"
      ]
    },
    {
      "cell_type": "code",
      "execution_count": null,
      "metadata": {
        "id": "zNwqOth7BGiI",
        "outputId": "e9115d61-1e84-43df-fd5b-8a03e3520159"
      },
      "outputs": [
        {
          "data": {
            "text/html": [
              "<style  type=\"text/css\" >\n",
              "#T_84a8e_row0_col0{\n",
              "            background-color:  #b40426;\n",
              "            color:  #f1f1f1;\n",
              "        }#T_84a8e_row1_col0{\n",
              "            background-color:  #94b6ff;\n",
              "            color:  #000000;\n",
              "        }#T_84a8e_row2_col0{\n",
              "            background-color:  #93b5fe;\n",
              "            color:  #000000;\n",
              "        }#T_84a8e_row3_col0{\n",
              "            background-color:  #7396f5;\n",
              "            color:  #000000;\n",
              "        }#T_84a8e_row4_col0{\n",
              "            background-color:  #6485ec;\n",
              "            color:  #000000;\n",
              "        }#T_84a8e_row5_col0{\n",
              "            background-color:  #6384eb;\n",
              "            color:  #000000;\n",
              "        }#T_84a8e_row6_col0{\n",
              "            background-color:  #5572df;\n",
              "            color:  #000000;\n",
              "        }#T_84a8e_row7_col0,#T_84a8e_row8_col0,#T_84a8e_row9_col0{\n",
              "            background-color:  #4c66d6;\n",
              "            color:  #000000;\n",
              "        }#T_84a8e_row10_col0{\n",
              "            background-color:  #4a63d3;\n",
              "            color:  #f1f1f1;\n",
              "        }#T_84a8e_row11_col0{\n",
              "            background-color:  #4961d2;\n",
              "            color:  #f1f1f1;\n",
              "        }#T_84a8e_row12_col0{\n",
              "            background-color:  #4358cb;\n",
              "            color:  #f1f1f1;\n",
              "        }#T_84a8e_row13_col0,#T_84a8e_row14_col0{\n",
              "            background-color:  #4055c8;\n",
              "            color:  #f1f1f1;\n",
              "        }#T_84a8e_row15_col0{\n",
              "            background-color:  #3f53c6;\n",
              "            color:  #f1f1f1;\n",
              "        }#T_84a8e_row16_col0,#T_84a8e_row17_col0,#T_84a8e_row18_col0{\n",
              "            background-color:  #3e51c5;\n",
              "            color:  #f1f1f1;\n",
              "        }#T_84a8e_row19_col0{\n",
              "            background-color:  #3d50c3;\n",
              "            color:  #f1f1f1;\n",
              "        }#T_84a8e_row20_col0,#T_84a8e_row21_col0,#T_84a8e_row22_col0{\n",
              "            background-color:  #3c4ec2;\n",
              "            color:  #f1f1f1;\n",
              "        }#T_84a8e_row23_col0,#T_84a8e_row24_col0,#T_84a8e_row25_col0,#T_84a8e_row26_col0,#T_84a8e_row27_col0,#T_84a8e_row28_col0,#T_84a8e_row29_col0,#T_84a8e_row30_col0,#T_84a8e_row31_col0,#T_84a8e_row32_col0,#T_84a8e_row33_col0,#T_84a8e_row34_col0,#T_84a8e_row35_col0,#T_84a8e_row36_col0,#T_84a8e_row37_col0,#T_84a8e_row38_col0,#T_84a8e_row39_col0,#T_84a8e_row40_col0,#T_84a8e_row41_col0,#T_84a8e_row42_col0,#T_84a8e_row43_col0,#T_84a8e_row44_col0,#T_84a8e_row45_col0,#T_84a8e_row46_col0,#T_84a8e_row47_col0,#T_84a8e_row48_col0,#T_84a8e_row49_col0,#T_84a8e_row50_col0,#T_84a8e_row51_col0,#T_84a8e_row52_col0,#T_84a8e_row53_col0,#T_84a8e_row54_col0,#T_84a8e_row55_col0,#T_84a8e_row56_col0,#T_84a8e_row57_col0,#T_84a8e_row58_col0,#T_84a8e_row59_col0,#T_84a8e_row60_col0,#T_84a8e_row61_col0,#T_84a8e_row62_col0,#T_84a8e_row63_col0,#T_84a8e_row64_col0,#T_84a8e_row65_col0,#T_84a8e_row66_col0,#T_84a8e_row67_col0,#T_84a8e_row68_col0,#T_84a8e_row69_col0,#T_84a8e_row70_col0,#T_84a8e_row71_col0,#T_84a8e_row72_col0,#T_84a8e_row73_col0,#T_84a8e_row74_col0,#T_84a8e_row75_col0,#T_84a8e_row76_col0,#T_84a8e_row77_col0,#T_84a8e_row78_col0,#T_84a8e_row79_col0,#T_84a8e_row80_col0,#T_84a8e_row81_col0,#T_84a8e_row82_col0,#T_84a8e_row83_col0,#T_84a8e_row84_col0,#T_84a8e_row85_col0,#T_84a8e_row86_col0{\n",
              "            background-color:  #3b4cc0;\n",
              "            color:  #f1f1f1;\n",
              "        }</style><table id=\"T_84a8e_\" ><thead>    <tr>        <th class=\"blank level0\" ></th>        <th class=\"col_heading level0 col0\" >0</th>    </tr></thead><tbody>\n",
              "                <tr>\n",
              "                        <th id=\"T_84a8e_level0_row0\" class=\"row_heading level0 row0\" >secondary_cleaner.output.tail_sol</th>\n",
              "                        <td id=\"T_84a8e_row0_col0\" class=\"data row0 col0\" >11.343558</td>\n",
              "            </tr>\n",
              "            <tr>\n",
              "                        <th id=\"T_84a8e_level0_row1\" class=\"row_heading level0 row1\" >rougher.state.floatbank10_e_air</th>\n",
              "                        <td id=\"T_84a8e_row1_col0\" class=\"data row1 col0\" >3.081490</td>\n",
              "            </tr>\n",
              "            <tr>\n",
              "                        <th id=\"T_84a8e_level0_row2\" class=\"row_heading level0 row2\" >rougher.input.floatbank11_xanthate</th>\n",
              "                        <td id=\"T_84a8e_row2_col0\" class=\"data row2 col0\" >3.024949</td>\n",
              "            </tr>\n",
              "            <tr>\n",
              "                        <th id=\"T_84a8e_level0_row3\" class=\"row_heading level0 row3\" >primary_cleaner.output.concentrate_sol</th>\n",
              "                        <td id=\"T_84a8e_row3_col0\" class=\"data row3 col0\" >2.021344</td>\n",
              "            </tr>\n",
              "            <tr>\n",
              "                        <th id=\"T_84a8e_level0_row4\" class=\"row_heading level0 row4\" >secondary_cleaner.state.floatbank2_a_air</th>\n",
              "                        <td id=\"T_84a8e_row4_col0\" class=\"data row4 col0\" >1.533677</td>\n",
              "            </tr>\n",
              "            <tr>\n",
              "                        <th id=\"T_84a8e_level0_row5\" class=\"row_heading level0 row5\" >final.output.concentrate_sol</th>\n",
              "                        <td id=\"T_84a8e_row5_col0\" class=\"data row5 col0\" >1.491271</td>\n",
              "            </tr>\n",
              "            <tr>\n",
              "                        <th id=\"T_84a8e_level0_row6\" class=\"row_heading level0 row6\" >rougher.input.feed_size</th>\n",
              "                        <td id=\"T_84a8e_row6_col0\" class=\"data row6 col0\" >1.017740</td>\n",
              "            </tr>\n",
              "            <tr>\n",
              "                        <th id=\"T_84a8e_level0_row7\" class=\"row_heading level0 row7\" >final.output.tail_pb</th>\n",
              "                        <td id=\"T_84a8e_row7_col0\" class=\"data row7 col0\" >0.706764</td>\n",
              "            </tr>\n",
              "            <tr>\n",
              "                        <th id=\"T_84a8e_level0_row8\" class=\"row_heading level0 row8\" >rougher.input.feed_pb</th>\n",
              "                        <td id=\"T_84a8e_row8_col0\" class=\"data row8 col0\" >0.706764</td>\n",
              "            </tr>\n",
              "            <tr>\n",
              "                        <th id=\"T_84a8e_level0_row9\" class=\"row_heading level0 row9\" >primary_cleaner.input.xanthate</th>\n",
              "                        <td id=\"T_84a8e_row9_col0\" class=\"data row9 col0\" >0.706764</td>\n",
              "            </tr>\n",
              "            <tr>\n",
              "                        <th id=\"T_84a8e_level0_row10\" class=\"row_heading level0 row10\" >primary_cleaner.output.concentrate_pb</th>\n",
              "                        <td id=\"T_84a8e_row10_col0\" class=\"data row10 col0\" >0.607817</td>\n",
              "            </tr>\n",
              "            <tr>\n",
              "                        <th id=\"T_84a8e_level0_row11\" class=\"row_heading level0 row11\" >rougher.input.feed_sol</th>\n",
              "                        <td id=\"T_84a8e_row11_col0\" class=\"data row11 col0\" >0.551276</td>\n",
              "            </tr>\n",
              "            <tr>\n",
              "                        <th id=\"T_84a8e_level0_row12\" class=\"row_heading level0 row12\" >primary_cleaner.output.tail_sol</th>\n",
              "                        <td id=\"T_84a8e_row12_col0\" class=\"data row12 col0\" >0.325111</td>\n",
              "            </tr>\n",
              "            <tr>\n",
              "                        <th id=\"T_84a8e_level0_row13\" class=\"row_heading level0 row13\" >rougher.input.floatbank11_sulfate</th>\n",
              "                        <td id=\"T_84a8e_row13_col0\" class=\"data row13 col0\" >0.254435</td>\n",
              "            </tr>\n",
              "            <tr>\n",
              "                        <th id=\"T_84a8e_level0_row14\" class=\"row_heading level0 row14\" >primary_cleaner.input.depressant</th>\n",
              "                        <td id=\"T_84a8e_row14_col0\" class=\"data row14 col0\" >0.226164</td>\n",
              "            </tr>\n",
              "            <tr>\n",
              "                        <th id=\"T_84a8e_level0_row15\" class=\"row_heading level0 row15\" >rougher.input.floatbank10_sulfate</th>\n",
              "                        <td id=\"T_84a8e_row15_col0\" class=\"data row15 col0\" >0.204961</td>\n",
              "            </tr>\n",
              "            <tr>\n",
              "                        <th id=\"T_84a8e_level0_row16\" class=\"row_heading level0 row16\" >rougher.output.concentrate_sol</th>\n",
              "                        <td id=\"T_84a8e_row16_col0\" class=\"data row16 col0\" >0.155488</td>\n",
              "            </tr>\n",
              "            <tr>\n",
              "                        <th id=\"T_84a8e_level0_row17\" class=\"row_heading level0 row17\" >secondary_cleaner.state.floatbank2_b_air</th>\n",
              "                        <td id=\"T_84a8e_row17_col0\" class=\"data row17 col0\" >0.148420</td>\n",
              "            </tr>\n",
              "            <tr>\n",
              "                        <th id=\"T_84a8e_level0_row18\" class=\"row_heading level0 row18\" >primary_cleaner.input.sulfate</th>\n",
              "                        <td id=\"T_84a8e_row18_col0\" class=\"data row18 col0\" >0.141353</td>\n",
              "            </tr>\n",
              "            <tr>\n",
              "                        <th id=\"T_84a8e_level0_row19\" class=\"row_heading level0 row19\" >primary_cleaner.output.tail_pb</th>\n",
              "                        <td id=\"T_84a8e_row19_col0\" class=\"data row19 col0\" >0.106015</td>\n",
              "            </tr>\n",
              "            <tr>\n",
              "                        <th id=\"T_84a8e_level0_row20\" class=\"row_heading level0 row20\" >secondary_cleaner.output.tail_pb</th>\n",
              "                        <td id=\"T_84a8e_row20_col0\" class=\"data row20 col0\" >0.070676</td>\n",
              "            </tr>\n",
              "            <tr>\n",
              "                        <th id=\"T_84a8e_level0_row21\" class=\"row_heading level0 row21\" >rougher.input.feed_rate</th>\n",
              "                        <td id=\"T_84a8e_row21_col0\" class=\"data row21 col0\" >0.056541</td>\n",
              "            </tr>\n",
              "            <tr>\n",
              "                        <th id=\"T_84a8e_level0_row22\" class=\"row_heading level0 row22\" >rougher.input.floatbank10_xanthate</th>\n",
              "                        <td id=\"T_84a8e_row22_col0\" class=\"data row22 col0\" >0.056541</td>\n",
              "            </tr>\n",
              "            <tr>\n",
              "                        <th id=\"T_84a8e_level0_row23\" class=\"row_heading level0 row23\" >secondary_cleaner.state.floatbank4_a_air</th>\n",
              "                        <td id=\"T_84a8e_row23_col0\" class=\"data row23 col0\" >0.042406</td>\n",
              "            </tr>\n",
              "            <tr>\n",
              "                        <th id=\"T_84a8e_level0_row24\" class=\"row_heading level0 row24\" >final.output.tail_sol</th>\n",
              "                        <td id=\"T_84a8e_row24_col0\" class=\"data row24 col0\" >0.035338</td>\n",
              "            </tr>\n",
              "            <tr>\n",
              "                        <th id=\"T_84a8e_level0_row25\" class=\"row_heading level0 row25\" >primary_cleaner.state.floatbank8_b_air</th>\n",
              "                        <td id=\"T_84a8e_row25_col0\" class=\"data row25 col0\" >0.028271</td>\n",
              "            </tr>\n",
              "            <tr>\n",
              "                        <th id=\"T_84a8e_level0_row26\" class=\"row_heading level0 row26\" >primary_cleaner.state.floatbank8_a_air</th>\n",
              "                        <td id=\"T_84a8e_row26_col0\" class=\"data row26 col0\" >0.028271</td>\n",
              "            </tr>\n",
              "            <tr>\n",
              "                        <th id=\"T_84a8e_level0_row27\" class=\"row_heading level0 row27\" >secondary_cleaner.state.floatbank3_a_air</th>\n",
              "                        <td id=\"T_84a8e_row27_col0\" class=\"data row27 col0\" >0.028271</td>\n",
              "            </tr>\n",
              "            <tr>\n",
              "                        <th id=\"T_84a8e_level0_row28\" class=\"row_heading level0 row28\" >primary_cleaner.state.floatbank8_d_air</th>\n",
              "                        <td id=\"T_84a8e_row28_col0\" class=\"data row28 col0\" >0.021203</td>\n",
              "            </tr>\n",
              "            <tr>\n",
              "                        <th id=\"T_84a8e_level0_row29\" class=\"row_heading level0 row29\" >primary_cleaner.state.floatbank8_c_air</th>\n",
              "                        <td id=\"T_84a8e_row29_col0\" class=\"data row29 col0\" >0.014135</td>\n",
              "            </tr>\n",
              "            <tr>\n",
              "                        <th id=\"T_84a8e_level0_row30\" class=\"row_heading level0 row30\" >secondary_cleaner.state.floatbank6_a_air</th>\n",
              "                        <td id=\"T_84a8e_row30_col0\" class=\"data row30 col0\" >0.014135</td>\n",
              "            </tr>\n",
              "            <tr>\n",
              "                        <th id=\"T_84a8e_level0_row31\" class=\"row_heading level0 row31\" >secondary_cleaner.output.tail_ag</th>\n",
              "                        <td id=\"T_84a8e_row31_col0\" class=\"data row31 col0\" >0.014135</td>\n",
              "            </tr>\n",
              "            <tr>\n",
              "                        <th id=\"T_84a8e_level0_row32\" class=\"row_heading level0 row32\" >final.output.concentrate_ag</th>\n",
              "                        <td id=\"T_84a8e_row32_col0\" class=\"data row32 col0\" >0.007068</td>\n",
              "            </tr>\n",
              "            <tr>\n",
              "                        <th id=\"T_84a8e_level0_row33\" class=\"row_heading level0 row33\" >final.output.concentrate_pb</th>\n",
              "                        <td id=\"T_84a8e_row33_col0\" class=\"data row33 col0\" >0.007068</td>\n",
              "            </tr>\n",
              "            <tr>\n",
              "                        <th id=\"T_84a8e_level0_row34\" class=\"row_heading level0 row34\" >primary_cleaner.output.tail_ag</th>\n",
              "                        <td id=\"T_84a8e_row34_col0\" class=\"data row34 col0\" >0.007068</td>\n",
              "            </tr>\n",
              "            <tr>\n",
              "                        <th id=\"T_84a8e_level0_row35\" class=\"row_heading level0 row35\" >rougher.calculation.floatbank11_sulfate_to_au_feed</th>\n",
              "                        <td id=\"T_84a8e_row35_col0\" class=\"data row35 col0\" >0.007068</td>\n",
              "            </tr>\n",
              "            <tr>\n",
              "                        <th id=\"T_84a8e_level0_row36\" class=\"row_heading level0 row36\" >rougher.calculation.floatbank10_sulfate_to_au_feed</th>\n",
              "                        <td id=\"T_84a8e_row36_col0\" class=\"data row36 col0\" >0.007068</td>\n",
              "            </tr>\n",
              "            <tr>\n",
              "                        <th id=\"T_84a8e_level0_row37\" class=\"row_heading level0 row37\" >rougher.calculation.sulfate_to_au_concentrate</th>\n",
              "                        <td id=\"T_84a8e_row37_col0\" class=\"data row37 col0\" >0.007068</td>\n",
              "            </tr>\n",
              "            <tr>\n",
              "                        <th id=\"T_84a8e_level0_row38\" class=\"row_heading level0 row38\" >primary_cleaner.state.floatbank8_d_level</th>\n",
              "                        <td id=\"T_84a8e_row38_col0\" class=\"data row38 col0\" >0.007068</td>\n",
              "            </tr>\n",
              "            <tr>\n",
              "                        <th id=\"T_84a8e_level0_row39\" class=\"row_heading level0 row39\" >primary_cleaner.state.floatbank8_b_level</th>\n",
              "                        <td id=\"T_84a8e_row39_col0\" class=\"data row39 col0\" >0.007068</td>\n",
              "            </tr>\n",
              "            <tr>\n",
              "                        <th id=\"T_84a8e_level0_row40\" class=\"row_heading level0 row40\" >primary_cleaner.state.floatbank8_a_level</th>\n",
              "                        <td id=\"T_84a8e_row40_col0\" class=\"data row40 col0\" >0.007068</td>\n",
              "            </tr>\n",
              "            <tr>\n",
              "                        <th id=\"T_84a8e_level0_row41\" class=\"row_heading level0 row41\" >primary_cleaner.state.floatbank8_c_level</th>\n",
              "                        <td id=\"T_84a8e_row41_col0\" class=\"data row41 col0\" >0.007068</td>\n",
              "            </tr>\n",
              "            <tr>\n",
              "                        <th id=\"T_84a8e_level0_row42\" class=\"row_heading level0 row42\" >secondary_cleaner.state.floatbank6_a_level</th>\n",
              "                        <td id=\"T_84a8e_row42_col0\" class=\"data row42 col0\" >0.007068</td>\n",
              "            </tr>\n",
              "            <tr>\n",
              "                        <th id=\"T_84a8e_level0_row43\" class=\"row_heading level0 row43\" >rougher.state.floatbank10_b_air</th>\n",
              "                        <td id=\"T_84a8e_row43_col0\" class=\"data row43 col0\" >0.007068</td>\n",
              "            </tr>\n",
              "            <tr>\n",
              "                        <th id=\"T_84a8e_level0_row44\" class=\"row_heading level0 row44\" >rougher.state.floatbank10_a_level</th>\n",
              "                        <td id=\"T_84a8e_row44_col0\" class=\"data row44 col0\" >0.007068</td>\n",
              "            </tr>\n",
              "            <tr>\n",
              "                        <th id=\"T_84a8e_level0_row45\" class=\"row_heading level0 row45\" >secondary_cleaner.state.floatbank2_a_level</th>\n",
              "                        <td id=\"T_84a8e_row45_col0\" class=\"data row45 col0\" >0.007068</td>\n",
              "            </tr>\n",
              "            <tr>\n",
              "                        <th id=\"T_84a8e_level0_row46\" class=\"row_heading level0 row46\" >secondary_cleaner.state.floatbank3_b_air</th>\n",
              "                        <td id=\"T_84a8e_row46_col0\" class=\"data row46 col0\" >0.007068</td>\n",
              "            </tr>\n",
              "            <tr>\n",
              "                        <th id=\"T_84a8e_level0_row47\" class=\"row_heading level0 row47\" >secondary_cleaner.state.floatbank3_b_level</th>\n",
              "                        <td id=\"T_84a8e_row47_col0\" class=\"data row47 col0\" >0.007068</td>\n",
              "            </tr>\n",
              "            <tr>\n",
              "                        <th id=\"T_84a8e_level0_row48\" class=\"row_heading level0 row48\" >secondary_cleaner.state.floatbank4_a_level</th>\n",
              "                        <td id=\"T_84a8e_row48_col0\" class=\"data row48 col0\" >0.007068</td>\n",
              "            </tr>\n",
              "            <tr>\n",
              "                        <th id=\"T_84a8e_level0_row49\" class=\"row_heading level0 row49\" >secondary_cleaner.state.floatbank4_b_air</th>\n",
              "                        <td id=\"T_84a8e_row49_col0\" class=\"data row49 col0\" >0.007068</td>\n",
              "            </tr>\n",
              "            <tr>\n",
              "                        <th id=\"T_84a8e_level0_row50\" class=\"row_heading level0 row50\" >rougher.state.floatbank10_c_level</th>\n",
              "                        <td id=\"T_84a8e_row50_col0\" class=\"data row50 col0\" >0.007068</td>\n",
              "            </tr>\n",
              "            <tr>\n",
              "                        <th id=\"T_84a8e_level0_row51\" class=\"row_heading level0 row51\" >rougher.state.floatbank10_c_air</th>\n",
              "                        <td id=\"T_84a8e_row51_col0\" class=\"data row51 col0\" >0.007068</td>\n",
              "            </tr>\n",
              "            <tr>\n",
              "                        <th id=\"T_84a8e_level0_row52\" class=\"row_heading level0 row52\" >rougher.state.floatbank10_b_level</th>\n",
              "                        <td id=\"T_84a8e_row52_col0\" class=\"data row52 col0\" >0.007068</td>\n",
              "            </tr>\n",
              "            <tr>\n",
              "                        <th id=\"T_84a8e_level0_row53\" class=\"row_heading level0 row53\" >secondary_cleaner.state.floatbank3_a_level</th>\n",
              "                        <td id=\"T_84a8e_row53_col0\" class=\"data row53 col0\" >0.007068</td>\n",
              "            </tr>\n",
              "            <tr>\n",
              "                        <th id=\"T_84a8e_level0_row54\" class=\"row_heading level0 row54\" >secondary_cleaner.state.floatbank2_b_level</th>\n",
              "                        <td id=\"T_84a8e_row54_col0\" class=\"data row54 col0\" >0.007068</td>\n",
              "            </tr>\n",
              "            <tr>\n",
              "                        <th id=\"T_84a8e_level0_row55\" class=\"row_heading level0 row55\" >rougher.state.floatbank10_a_air</th>\n",
              "                        <td id=\"T_84a8e_row55_col0\" class=\"data row55 col0\" >0.007068</td>\n",
              "            </tr>\n",
              "            <tr>\n",
              "                        <th id=\"T_84a8e_level0_row56\" class=\"row_heading level0 row56\" >secondary_cleaner.state.floatbank4_b_level</th>\n",
              "                        <td id=\"T_84a8e_row56_col0\" class=\"data row56 col0\" >0.007068</td>\n",
              "            </tr>\n",
              "            <tr>\n",
              "                        <th id=\"T_84a8e_level0_row57\" class=\"row_heading level0 row57\" >secondary_cleaner.state.floatbank5_a_air</th>\n",
              "                        <td id=\"T_84a8e_row57_col0\" class=\"data row57 col0\" >0.007068</td>\n",
              "            </tr>\n",
              "            <tr>\n",
              "                        <th id=\"T_84a8e_level0_row58\" class=\"row_heading level0 row58\" >rougher.output.tail_ag</th>\n",
              "                        <td id=\"T_84a8e_row58_col0\" class=\"data row58 col0\" >0.007068</td>\n",
              "            </tr>\n",
              "            <tr>\n",
              "                        <th id=\"T_84a8e_level0_row59\" class=\"row_heading level0 row59\" >secondary_cleaner.state.floatbank5_a_level</th>\n",
              "                        <td id=\"T_84a8e_row59_col0\" class=\"data row59 col0\" >0.007068</td>\n",
              "            </tr>\n",
              "            <tr>\n",
              "                        <th id=\"T_84a8e_level0_row60\" class=\"row_heading level0 row60\" >secondary_cleaner.state.floatbank5_b_air</th>\n",
              "                        <td id=\"T_84a8e_row60_col0\" class=\"data row60 col0\" >0.007068</td>\n",
              "            </tr>\n",
              "            <tr>\n",
              "                        <th id=\"T_84a8e_level0_row61\" class=\"row_heading level0 row61\" >secondary_cleaner.state.floatbank5_b_level</th>\n",
              "                        <td id=\"T_84a8e_row61_col0\" class=\"data row61 col0\" >0.007068</td>\n",
              "            </tr>\n",
              "            <tr>\n",
              "                        <th id=\"T_84a8e_level0_row62\" class=\"row_heading level0 row62\" >final.output.tail_ag</th>\n",
              "                        <td id=\"T_84a8e_row62_col0\" class=\"data row62 col0\" >0.000000</td>\n",
              "            </tr>\n",
              "            <tr>\n",
              "                        <th id=\"T_84a8e_level0_row63\" class=\"row_heading level0 row63\" >final.output.recovery</th>\n",
              "                        <td id=\"T_84a8e_row63_col0\" class=\"data row63 col0\" >0.000000</td>\n",
              "            </tr>\n",
              "            <tr>\n",
              "                        <th id=\"T_84a8e_level0_row64\" class=\"row_heading level0 row64\" >final.output.tail_au</th>\n",
              "                        <td id=\"T_84a8e_row64_col0\" class=\"data row64 col0\" >0.000000</td>\n",
              "            </tr>\n",
              "            <tr>\n",
              "                        <th id=\"T_84a8e_level0_row65\" class=\"row_heading level0 row65\" >final.output.concentrate_au</th>\n",
              "                        <td id=\"T_84a8e_row65_col0\" class=\"data row65 col0\" >0.000000</td>\n",
              "            </tr>\n",
              "            <tr>\n",
              "                        <th id=\"T_84a8e_level0_row66\" class=\"row_heading level0 row66\" >primary_cleaner.input.feed_size</th>\n",
              "                        <td id=\"T_84a8e_row66_col0\" class=\"data row66 col0\" >0.000000</td>\n",
              "            </tr>\n",
              "            <tr>\n",
              "                        <th id=\"T_84a8e_level0_row67\" class=\"row_heading level0 row67\" >primary_cleaner.output.concentrate_ag</th>\n",
              "                        <td id=\"T_84a8e_row67_col0\" class=\"data row67 col0\" >0.000000</td>\n",
              "            </tr>\n",
              "            <tr>\n",
              "                        <th id=\"T_84a8e_level0_row68\" class=\"row_heading level0 row68\" >rougher.output.concentrate_ag</th>\n",
              "                        <td id=\"T_84a8e_row68_col0\" class=\"data row68 col0\" >0.000000</td>\n",
              "            </tr>\n",
              "            <tr>\n",
              "                        <th id=\"T_84a8e_level0_row69\" class=\"row_heading level0 row69\" >primary_cleaner.output.tail_au</th>\n",
              "                        <td id=\"T_84a8e_row69_col0\" class=\"data row69 col0\" >0.000000</td>\n",
              "            </tr>\n",
              "            <tr>\n",
              "                        <th id=\"T_84a8e_level0_row70\" class=\"row_heading level0 row70\" >primary_cleaner.output.concentrate_au</th>\n",
              "                        <td id=\"T_84a8e_row70_col0\" class=\"data row70 col0\" >0.000000</td>\n",
              "            </tr>\n",
              "            <tr>\n",
              "                        <th id=\"T_84a8e_level0_row71\" class=\"row_heading level0 row71\" >rougher.input.feed_ag</th>\n",
              "                        <td id=\"T_84a8e_row71_col0\" class=\"data row71 col0\" >0.000000</td>\n",
              "            </tr>\n",
              "            <tr>\n",
              "                        <th id=\"T_84a8e_level0_row72\" class=\"row_heading level0 row72\" >rougher.output.concentrate_au</th>\n",
              "                        <td id=\"T_84a8e_row72_col0\" class=\"data row72 col0\" >0.000000</td>\n",
              "            </tr>\n",
              "            <tr>\n",
              "                        <th id=\"T_84a8e_level0_row73\" class=\"row_heading level0 row73\" >rougher.output.recovery</th>\n",
              "                        <td id=\"T_84a8e_row73_col0\" class=\"data row73 col0\" >0.000000</td>\n",
              "            </tr>\n",
              "            <tr>\n",
              "                        <th id=\"T_84a8e_level0_row74\" class=\"row_heading level0 row74\" >rougher.input.feed_au</th>\n",
              "                        <td id=\"T_84a8e_row74_col0\" class=\"data row74 col0\" >0.000000</td>\n",
              "            </tr>\n",
              "            <tr>\n",
              "                        <th id=\"T_84a8e_level0_row75\" class=\"row_heading level0 row75\" >rougher.output.tail_pb</th>\n",
              "                        <td id=\"T_84a8e_row75_col0\" class=\"data row75 col0\" >0.000000</td>\n",
              "            </tr>\n",
              "            <tr>\n",
              "                        <th id=\"T_84a8e_level0_row76\" class=\"row_heading level0 row76\" >rougher.output.tail_sol</th>\n",
              "                        <td id=\"T_84a8e_row76_col0\" class=\"data row76 col0\" >0.000000</td>\n",
              "            </tr>\n",
              "            <tr>\n",
              "                        <th id=\"T_84a8e_level0_row77\" class=\"row_heading level0 row77\" >rougher.output.tail_au</th>\n",
              "                        <td id=\"T_84a8e_row77_col0\" class=\"data row77 col0\" >0.000000</td>\n",
              "            </tr>\n",
              "            <tr>\n",
              "                        <th id=\"T_84a8e_level0_row78\" class=\"row_heading level0 row78\" >rougher.calculation.au_pb_ratio</th>\n",
              "                        <td id=\"T_84a8e_row78_col0\" class=\"data row78 col0\" >0.000000</td>\n",
              "            </tr>\n",
              "            <tr>\n",
              "                        <th id=\"T_84a8e_level0_row79\" class=\"row_heading level0 row79\" >secondary_cleaner.output.tail_au</th>\n",
              "                        <td id=\"T_84a8e_row79_col0\" class=\"data row79 col0\" >0.000000</td>\n",
              "            </tr>\n",
              "            <tr>\n",
              "                        <th id=\"T_84a8e_level0_row80\" class=\"row_heading level0 row80\" >rougher.state.floatbank10_d_air</th>\n",
              "                        <td id=\"T_84a8e_row80_col0\" class=\"data row80 col0\" >0.000000</td>\n",
              "            </tr>\n",
              "            <tr>\n",
              "                        <th id=\"T_84a8e_level0_row81\" class=\"row_heading level0 row81\" >rougher.state.floatbank10_d_level</th>\n",
              "                        <td id=\"T_84a8e_row81_col0\" class=\"data row81 col0\" >0.000000</td>\n",
              "            </tr>\n",
              "            <tr>\n",
              "                        <th id=\"T_84a8e_level0_row82\" class=\"row_heading level0 row82\" >rougher.state.floatbank10_e_level</th>\n",
              "                        <td id=\"T_84a8e_row82_col0\" class=\"data row82 col0\" >0.000000</td>\n",
              "            </tr>\n",
              "            <tr>\n",
              "                        <th id=\"T_84a8e_level0_row83\" class=\"row_heading level0 row83\" >rougher.state.floatbank10_f_air</th>\n",
              "                        <td id=\"T_84a8e_row83_col0\" class=\"data row83 col0\" >0.000000</td>\n",
              "            </tr>\n",
              "            <tr>\n",
              "                        <th id=\"T_84a8e_level0_row84\" class=\"row_heading level0 row84\" >rougher.state.floatbank10_f_level</th>\n",
              "                        <td id=\"T_84a8e_row84_col0\" class=\"data row84 col0\" >0.000000</td>\n",
              "            </tr>\n",
              "            <tr>\n",
              "                        <th id=\"T_84a8e_level0_row85\" class=\"row_heading level0 row85\" >rougher.output.concentrate_pb</th>\n",
              "                        <td id=\"T_84a8e_row85_col0\" class=\"data row85 col0\" >0.000000</td>\n",
              "            </tr>\n",
              "            <tr>\n",
              "                        <th id=\"T_84a8e_level0_row86\" class=\"row_heading level0 row86\" >date</th>\n",
              "                        <td id=\"T_84a8e_row86_col0\" class=\"data row86 col0\" >0.000000</td>\n",
              "            </tr>\n",
              "    </tbody></table>"
            ],
            "text/plain": [
              "<pandas.io.formats.style.Styler at 0x7efd652e5a60>"
            ]
          },
          "execution_count": 10,
          "metadata": {},
          "output_type": "execute_result"
        }
      ],
      "source": [
        "pd.DataFrame(df_train.isna().mean()*100).sort_values(by=0)[::-1].style.background_gradient('coolwarm')"
      ]
    },
    {
      "cell_type": "code",
      "execution_count": null,
      "metadata": {
        "scrolled": false,
        "id": "9-BB7G42BGiI",
        "outputId": "de02c5e8-ebb1-4869-cdf5-29b2c0ba432c"
      },
      "outputs": [
        {
          "data": {
            "text/plain": [
              "date                                            0\n",
              "final.output.concentrate_ag                     1\n",
              "final.output.concentrate_pb                     1\n",
              "final.output.concentrate_sol                  211\n",
              "final.output.concentrate_au                     0\n",
              "                                             ... \n",
              "secondary_cleaner.state.floatbank5_a_level      1\n",
              "secondary_cleaner.state.floatbank5_b_air        1\n",
              "secondary_cleaner.state.floatbank5_b_level      1\n",
              "secondary_cleaner.state.floatbank6_a_air        2\n",
              "secondary_cleaner.state.floatbank6_a_level      1\n",
              "Length: 87, dtype: int64"
            ]
          },
          "execution_count": 11,
          "metadata": {},
          "output_type": "execute_result"
        }
      ],
      "source": [
        "df_train.isnull().sum()"
      ]
    },
    {
      "cell_type": "markdown",
      "metadata": {
        "id": "tMVPx4qKBGiI"
      },
      "source": [
        "<i>Наличие дубликатов в выборке</i>"
      ]
    },
    {
      "cell_type": "code",
      "execution_count": null,
      "metadata": {
        "id": "xt6YvB3MBGiI",
        "outputId": "01ed21b1-476b-40af-bc06-5ecbef8da9bf"
      },
      "outputs": [
        {
          "name": "stdout",
          "output_type": "stream",
          "text": [
            "Дубликаты в обучающей выборке 0\n"
          ]
        }
      ],
      "source": [
        "print('Дубликаты в обучающей выборке',df_train.duplicated().sum())"
      ]
    },
    {
      "cell_type": "markdown",
      "metadata": {
        "id": "MTgt6sntBGiJ"
      },
      "source": [
        "<b>Тестовая выборка</b>"
      ]
    },
    {
      "cell_type": "markdown",
      "metadata": {
        "id": "3YzZE2toBGiJ"
      },
      "source": [
        "<i>Общая информация о признаках в тестовой выборке(количество строк, пропусков и типов данных)</i>"
      ]
    },
    {
      "cell_type": "code",
      "execution_count": null,
      "metadata": {
        "id": "ug8vg7yFBGiJ",
        "outputId": "a484e211-08e0-4cd4-f4e2-d060972d3ecf"
      },
      "outputs": [
        {
          "name": "stdout",
          "output_type": "stream",
          "text": [
            "<class 'pandas.core.frame.DataFrame'>\n",
            "RangeIndex: 5290 entries, 0 to 5289\n",
            "Data columns (total 53 columns):\n",
            " #   Column                                      Non-Null Count  Dtype         \n",
            "---  ------                                      --------------  -----         \n",
            " 0   date                                        5290 non-null   datetime64[ns]\n",
            " 1   primary_cleaner.input.sulfate               5286 non-null   float64       \n",
            " 2   primary_cleaner.input.depressant            5285 non-null   float64       \n",
            " 3   primary_cleaner.input.feed_size             5290 non-null   float64       \n",
            " 4   primary_cleaner.input.xanthate              5286 non-null   float64       \n",
            " 5   primary_cleaner.state.floatbank8_a_air      5290 non-null   float64       \n",
            " 6   primary_cleaner.state.floatbank8_a_level    5290 non-null   float64       \n",
            " 7   primary_cleaner.state.floatbank8_b_air      5290 non-null   float64       \n",
            " 8   primary_cleaner.state.floatbank8_b_level    5290 non-null   float64       \n",
            " 9   primary_cleaner.state.floatbank8_c_air      5290 non-null   float64       \n",
            " 10  primary_cleaner.state.floatbank8_c_level    5290 non-null   float64       \n",
            " 11  primary_cleaner.state.floatbank8_d_air      5290 non-null   float64       \n",
            " 12  primary_cleaner.state.floatbank8_d_level    5290 non-null   float64       \n",
            " 13  rougher.input.feed_ag                       5290 non-null   float64       \n",
            " 14  rougher.input.feed_pb                       5290 non-null   float64       \n",
            " 15  rougher.input.feed_rate                     5287 non-null   float64       \n",
            " 16  rougher.input.feed_size                     5289 non-null   float64       \n",
            " 17  rougher.input.feed_sol                      5269 non-null   float64       \n",
            " 18  rougher.input.feed_au                       5290 non-null   float64       \n",
            " 19  rougher.input.floatbank10_sulfate           5285 non-null   float64       \n",
            " 20  rougher.input.floatbank10_xanthate          5290 non-null   float64       \n",
            " 21  rougher.input.floatbank11_sulfate           5282 non-null   float64       \n",
            " 22  rougher.input.floatbank11_xanthate          5265 non-null   float64       \n",
            " 23  rougher.state.floatbank10_a_air             5290 non-null   float64       \n",
            " 24  rougher.state.floatbank10_a_level           5290 non-null   float64       \n",
            " 25  rougher.state.floatbank10_b_air             5290 non-null   float64       \n",
            " 26  rougher.state.floatbank10_b_level           5290 non-null   float64       \n",
            " 27  rougher.state.floatbank10_c_air             5290 non-null   float64       \n",
            " 28  rougher.state.floatbank10_c_level           5290 non-null   float64       \n",
            " 29  rougher.state.floatbank10_d_air             5290 non-null   float64       \n",
            " 30  rougher.state.floatbank10_d_level           5290 non-null   float64       \n",
            " 31  rougher.state.floatbank10_e_air             5290 non-null   float64       \n",
            " 32  rougher.state.floatbank10_e_level           5290 non-null   float64       \n",
            " 33  rougher.state.floatbank10_f_air             5290 non-null   float64       \n",
            " 34  rougher.state.floatbank10_f_level           5290 non-null   float64       \n",
            " 35  secondary_cleaner.state.floatbank2_a_air    5287 non-null   float64       \n",
            " 36  secondary_cleaner.state.floatbank2_a_level  5290 non-null   float64       \n",
            " 37  secondary_cleaner.state.floatbank2_b_air    5288 non-null   float64       \n",
            " 38  secondary_cleaner.state.floatbank2_b_level  5290 non-null   float64       \n",
            " 39  secondary_cleaner.state.floatbank3_a_air    5281 non-null   float64       \n",
            " 40  secondary_cleaner.state.floatbank3_a_level  5290 non-null   float64       \n",
            " 41  secondary_cleaner.state.floatbank3_b_air    5290 non-null   float64       \n",
            " 42  secondary_cleaner.state.floatbank3_b_level  5290 non-null   float64       \n",
            " 43  secondary_cleaner.state.floatbank4_a_air    5290 non-null   float64       \n",
            " 44  secondary_cleaner.state.floatbank4_a_level  5290 non-null   float64       \n",
            " 45  secondary_cleaner.state.floatbank4_b_air    5290 non-null   float64       \n",
            " 46  secondary_cleaner.state.floatbank4_b_level  5290 non-null   float64       \n",
            " 47  secondary_cleaner.state.floatbank5_a_air    5290 non-null   float64       \n",
            " 48  secondary_cleaner.state.floatbank5_a_level  5290 non-null   float64       \n",
            " 49  secondary_cleaner.state.floatbank5_b_air    5290 non-null   float64       \n",
            " 50  secondary_cleaner.state.floatbank5_b_level  5290 non-null   float64       \n",
            " 51  secondary_cleaner.state.floatbank6_a_air    5290 non-null   float64       \n",
            " 52  secondary_cleaner.state.floatbank6_a_level  5290 non-null   float64       \n",
            "dtypes: datetime64[ns](1), float64(52)\n",
            "memory usage: 2.1 MB\n",
            "None\n"
          ]
        }
      ],
      "source": [
        "print(df_test.info())"
      ]
    },
    {
      "cell_type": "markdown",
      "metadata": {
        "id": "0N79fkZgBGiJ"
      },
      "source": [
        "<i>Фрагмент таблицы тестовой выборки</i>"
      ]
    },
    {
      "cell_type": "code",
      "execution_count": null,
      "metadata": {
        "id": "h2mFjUlFBGiK",
        "outputId": "68e9790e-da9f-45dc-b059-4b7053f38087"
      },
      "outputs": [
        {
          "name": "stdout",
          "output_type": "stream",
          "text": [
            "                 date  primary_cleaner.input.sulfate  \\\n",
            "0 2016-09-01 00:59:59                     210.800909   \n",
            "1 2016-09-01 01:59:59                     215.392455   \n",
            "2 2016-09-01 02:59:59                     215.259946   \n",
            "3 2016-09-01 03:59:59                     215.336236   \n",
            "4 2016-09-01 04:59:59                     199.099327   \n",
            "\n",
            "   primary_cleaner.input.depressant  primary_cleaner.input.feed_size  \\\n",
            "0                         14.993118                         8.080000   \n",
            "1                         14.987471                         8.080000   \n",
            "2                         12.884934                         7.786667   \n",
            "3                         12.006805                         7.640000   \n",
            "4                         10.682530                         7.530000   \n",
            "\n",
            "   primary_cleaner.input.xanthate  primary_cleaner.state.floatbank8_a_air  \\\n",
            "0                        1.005021                             1398.981301   \n",
            "1                        0.990469                             1398.777912   \n",
            "2                        0.996043                             1398.493666   \n",
            "3                        0.863514                             1399.618111   \n",
            "4                        0.805575                             1401.268123   \n",
            "\n",
            "   primary_cleaner.state.floatbank8_a_level  \\\n",
            "0                               -500.225577   \n",
            "1                               -500.057435   \n",
            "2                               -500.868360   \n",
            "3                               -498.863574   \n",
            "4                               -500.808305   \n",
            "\n",
            "   primary_cleaner.state.floatbank8_b_air  \\\n",
            "0                             1399.144926   \n",
            "1                             1398.055362   \n",
            "2                             1398.860436   \n",
            "3                             1397.440120   \n",
            "4                             1398.128818   \n",
            "\n",
            "   primary_cleaner.state.floatbank8_b_level  \\\n",
            "0                               -499.919735   \n",
            "1                               -499.778182   \n",
            "2                               -499.764529   \n",
            "3                               -499.211024   \n",
            "4                               -499.504543   \n",
            "\n",
            "   primary_cleaner.state.floatbank8_c_air  ...  \\\n",
            "0                             1400.102998  ...   \n",
            "1                             1396.151033  ...   \n",
            "2                             1398.075709  ...   \n",
            "3                             1400.129303  ...   \n",
            "4                             1402.172226  ...   \n",
            "\n",
            "   secondary_cleaner.state.floatbank4_a_air  \\\n",
            "0                                 12.023554   \n",
            "1                                 12.058140   \n",
            "2                                 11.962366   \n",
            "3                                 12.033091   \n",
            "4                                 12.025367   \n",
            "\n",
            "   secondary_cleaner.state.floatbank4_a_level  \\\n",
            "0                                 -497.795834   \n",
            "1                                 -498.695773   \n",
            "2                                 -498.767484   \n",
            "3                                 -498.350935   \n",
            "4                                 -500.786497   \n",
            "\n",
            "   secondary_cleaner.state.floatbank4_b_air  \\\n",
            "0                                  8.016656   \n",
            "1                                  8.130979   \n",
            "2                                  8.096893   \n",
            "3                                  8.074946   \n",
            "4                                  8.054678   \n",
            "\n",
            "   secondary_cleaner.state.floatbank4_b_level  \\\n",
            "0                                 -501.289139   \n",
            "1                                 -499.634209   \n",
            "2                                 -500.827423   \n",
            "3                                 -499.474407   \n",
            "4                                 -500.397500   \n",
            "\n",
            "   secondary_cleaner.state.floatbank5_a_air  \\\n",
            "0                                  7.946562   \n",
            "1                                  7.958270   \n",
            "2                                  8.071056   \n",
            "3                                  7.897085   \n",
            "4                                  8.107890   \n",
            "\n",
            "   secondary_cleaner.state.floatbank5_a_level  \\\n",
            "0                                 -432.317850   \n",
            "1                                 -525.839648   \n",
            "2                                 -500.801673   \n",
            "3                                 -500.868509   \n",
            "4                                 -509.526725   \n",
            "\n",
            "   secondary_cleaner.state.floatbank5_b_air  \\\n",
            "0                                  4.872511   \n",
            "1                                  4.878850   \n",
            "2                                  4.905125   \n",
            "3                                  4.931400   \n",
            "4                                  4.957674   \n",
            "\n",
            "   secondary_cleaner.state.floatbank5_b_level  \\\n",
            "0                                 -500.037437   \n",
            "1                                 -500.162375   \n",
            "2                                 -499.828510   \n",
            "3                                 -499.963623   \n",
            "4                                 -500.360026   \n",
            "\n",
            "   secondary_cleaner.state.floatbank6_a_air  \\\n",
            "0                                 26.705889   \n",
            "1                                 25.019940   \n",
            "2                                 24.994862   \n",
            "3                                 24.948919   \n",
            "4                                 25.003331   \n",
            "\n",
            "   secondary_cleaner.state.floatbank6_a_level  \n",
            "0                                 -499.709414  \n",
            "1                                 -499.819438  \n",
            "2                                 -500.622559  \n",
            "3                                 -498.709987  \n",
            "4                                 -500.856333  \n",
            "\n",
            "[5 rows x 53 columns]\n",
            "(5290, 53)\n"
          ]
        }
      ],
      "source": [
        "print(df_test.head(5))\n",
        "print(df_test.shape)"
      ]
    },
    {
      "cell_type": "markdown",
      "metadata": {
        "id": "1gAIk9-UBGiK"
      },
      "source": [
        "<i>Пропуски в тестовой выборке в процентном соотношении</i>"
      ]
    },
    {
      "cell_type": "code",
      "execution_count": null,
      "metadata": {
        "scrolled": true,
        "id": "qiWTKLRMBGiL",
        "outputId": "2a25fdf9-ebf3-462e-d643-20267b741288"
      },
      "outputs": [
        {
          "data": {
            "text/html": [
              "<style  type=\"text/css\" >\n",
              "#T_889d9_row0_col0{\n",
              "            background-color:  #b40426;\n",
              "            color:  #f1f1f1;\n",
              "        }#T_889d9_row1_col0{\n",
              "            background-color:  #e57058;\n",
              "            color:  #000000;\n",
              "        }#T_889d9_row2_col0{\n",
              "            background-color:  #b3cdfb;\n",
              "            color:  #000000;\n",
              "        }#T_889d9_row3_col0{\n",
              "            background-color:  #a5c3fe;\n",
              "            color:  #000000;\n",
              "        }#T_889d9_row4_col0,#T_889d9_row5_col0{\n",
              "            background-color:  #7b9ff9;\n",
              "            color:  #000000;\n",
              "        }#T_889d9_row6_col0,#T_889d9_row7_col0{\n",
              "            background-color:  #6c8ff1;\n",
              "            color:  #000000;\n",
              "        }#T_889d9_row8_col0,#T_889d9_row9_col0{\n",
              "            background-color:  #5f7fe8;\n",
              "            color:  #000000;\n",
              "        }#T_889d9_row10_col0{\n",
              "            background-color:  #536edd;\n",
              "            color:  #000000;\n",
              "        }#T_889d9_row11_col0{\n",
              "            background-color:  #465ecf;\n",
              "            color:  #f1f1f1;\n",
              "        }#T_889d9_row12_col0,#T_889d9_row13_col0,#T_889d9_row14_col0,#T_889d9_row15_col0,#T_889d9_row16_col0,#T_889d9_row17_col0,#T_889d9_row18_col0,#T_889d9_row19_col0,#T_889d9_row20_col0,#T_889d9_row21_col0,#T_889d9_row22_col0,#T_889d9_row23_col0,#T_889d9_row24_col0,#T_889d9_row25_col0,#T_889d9_row26_col0,#T_889d9_row27_col0,#T_889d9_row28_col0,#T_889d9_row29_col0,#T_889d9_row30_col0,#T_889d9_row31_col0,#T_889d9_row32_col0,#T_889d9_row33_col0,#T_889d9_row34_col0,#T_889d9_row35_col0,#T_889d9_row36_col0,#T_889d9_row37_col0,#T_889d9_row38_col0,#T_889d9_row39_col0,#T_889d9_row40_col0,#T_889d9_row41_col0,#T_889d9_row42_col0,#T_889d9_row43_col0,#T_889d9_row44_col0,#T_889d9_row45_col0,#T_889d9_row46_col0,#T_889d9_row47_col0,#T_889d9_row48_col0,#T_889d9_row49_col0,#T_889d9_row50_col0,#T_889d9_row51_col0,#T_889d9_row52_col0{\n",
              "            background-color:  #3b4cc0;\n",
              "            color:  #f1f1f1;\n",
              "        }</style><table id=\"T_889d9_\" ><thead>    <tr>        <th class=\"blank level0\" ></th>        <th class=\"col_heading level0 col0\" >0</th>    </tr></thead><tbody>\n",
              "                <tr>\n",
              "                        <th id=\"T_889d9_level0_row0\" class=\"row_heading level0 row0\" >rougher.input.floatbank11_xanthate</th>\n",
              "                        <td id=\"T_889d9_row0_col0\" class=\"data row0 col0\" >0.472590</td>\n",
              "            </tr>\n",
              "            <tr>\n",
              "                        <th id=\"T_889d9_level0_row1\" class=\"row_heading level0 row1\" >rougher.input.feed_sol</th>\n",
              "                        <td id=\"T_889d9_row1_col0\" class=\"data row1 col0\" >0.396975</td>\n",
              "            </tr>\n",
              "            <tr>\n",
              "                        <th id=\"T_889d9_level0_row2\" class=\"row_heading level0 row2\" >secondary_cleaner.state.floatbank3_a_air</th>\n",
              "                        <td id=\"T_889d9_row2_col0\" class=\"data row2 col0\" >0.170132</td>\n",
              "            </tr>\n",
              "            <tr>\n",
              "                        <th id=\"T_889d9_level0_row3\" class=\"row_heading level0 row3\" >rougher.input.floatbank11_sulfate</th>\n",
              "                        <td id=\"T_889d9_row3_col0\" class=\"data row3 col0\" >0.151229</td>\n",
              "            </tr>\n",
              "            <tr>\n",
              "                        <th id=\"T_889d9_level0_row4\" class=\"row_heading level0 row4\" >primary_cleaner.input.depressant</th>\n",
              "                        <td id=\"T_889d9_row4_col0\" class=\"data row4 col0\" >0.094518</td>\n",
              "            </tr>\n",
              "            <tr>\n",
              "                        <th id=\"T_889d9_level0_row5\" class=\"row_heading level0 row5\" >rougher.input.floatbank10_sulfate</th>\n",
              "                        <td id=\"T_889d9_row5_col0\" class=\"data row5 col0\" >0.094518</td>\n",
              "            </tr>\n",
              "            <tr>\n",
              "                        <th id=\"T_889d9_level0_row6\" class=\"row_heading level0 row6\" >primary_cleaner.input.sulfate</th>\n",
              "                        <td id=\"T_889d9_row6_col0\" class=\"data row6 col0\" >0.075614</td>\n",
              "            </tr>\n",
              "            <tr>\n",
              "                        <th id=\"T_889d9_level0_row7\" class=\"row_heading level0 row7\" >primary_cleaner.input.xanthate</th>\n",
              "                        <td id=\"T_889d9_row7_col0\" class=\"data row7 col0\" >0.075614</td>\n",
              "            </tr>\n",
              "            <tr>\n",
              "                        <th id=\"T_889d9_level0_row8\" class=\"row_heading level0 row8\" >secondary_cleaner.state.floatbank2_a_air</th>\n",
              "                        <td id=\"T_889d9_row8_col0\" class=\"data row8 col0\" >0.056711</td>\n",
              "            </tr>\n",
              "            <tr>\n",
              "                        <th id=\"T_889d9_level0_row9\" class=\"row_heading level0 row9\" >rougher.input.feed_rate</th>\n",
              "                        <td id=\"T_889d9_row9_col0\" class=\"data row9 col0\" >0.056711</td>\n",
              "            </tr>\n",
              "            <tr>\n",
              "                        <th id=\"T_889d9_level0_row10\" class=\"row_heading level0 row10\" >secondary_cleaner.state.floatbank2_b_air</th>\n",
              "                        <td id=\"T_889d9_row10_col0\" class=\"data row10 col0\" >0.037807</td>\n",
              "            </tr>\n",
              "            <tr>\n",
              "                        <th id=\"T_889d9_level0_row11\" class=\"row_heading level0 row11\" >rougher.input.feed_size</th>\n",
              "                        <td id=\"T_889d9_row11_col0\" class=\"data row11 col0\" >0.018904</td>\n",
              "            </tr>\n",
              "            <tr>\n",
              "                        <th id=\"T_889d9_level0_row12\" class=\"row_heading level0 row12\" >secondary_cleaner.state.floatbank6_a_level</th>\n",
              "                        <td id=\"T_889d9_row12_col0\" class=\"data row12 col0\" >0.000000</td>\n",
              "            </tr>\n",
              "            <tr>\n",
              "                        <th id=\"T_889d9_level0_row13\" class=\"row_heading level0 row13\" >rougher.input.floatbank10_xanthate</th>\n",
              "                        <td id=\"T_889d9_row13_col0\" class=\"data row13 col0\" >0.000000</td>\n",
              "            </tr>\n",
              "            <tr>\n",
              "                        <th id=\"T_889d9_level0_row14\" class=\"row_heading level0 row14\" >rougher.input.feed_au</th>\n",
              "                        <td id=\"T_889d9_row14_col0\" class=\"data row14 col0\" >0.000000</td>\n",
              "            </tr>\n",
              "            <tr>\n",
              "                        <th id=\"T_889d9_level0_row15\" class=\"row_heading level0 row15\" >rougher.input.feed_pb</th>\n",
              "                        <td id=\"T_889d9_row15_col0\" class=\"data row15 col0\" >0.000000</td>\n",
              "            </tr>\n",
              "            <tr>\n",
              "                        <th id=\"T_889d9_level0_row16\" class=\"row_heading level0 row16\" >primary_cleaner.state.floatbank8_d_level</th>\n",
              "                        <td id=\"T_889d9_row16_col0\" class=\"data row16 col0\" >0.000000</td>\n",
              "            </tr>\n",
              "            <tr>\n",
              "                        <th id=\"T_889d9_level0_row17\" class=\"row_heading level0 row17\" >rougher.input.feed_ag</th>\n",
              "                        <td id=\"T_889d9_row17_col0\" class=\"data row17 col0\" >0.000000</td>\n",
              "            </tr>\n",
              "            <tr>\n",
              "                        <th id=\"T_889d9_level0_row18\" class=\"row_heading level0 row18\" >rougher.state.floatbank10_a_level</th>\n",
              "                        <td id=\"T_889d9_row18_col0\" class=\"data row18 col0\" >0.000000</td>\n",
              "            </tr>\n",
              "            <tr>\n",
              "                        <th id=\"T_889d9_level0_row19\" class=\"row_heading level0 row19\" >primary_cleaner.state.floatbank8_d_air</th>\n",
              "                        <td id=\"T_889d9_row19_col0\" class=\"data row19 col0\" >0.000000</td>\n",
              "            </tr>\n",
              "            <tr>\n",
              "                        <th id=\"T_889d9_level0_row20\" class=\"row_heading level0 row20\" >primary_cleaner.state.floatbank8_c_level</th>\n",
              "                        <td id=\"T_889d9_row20_col0\" class=\"data row20 col0\" >0.000000</td>\n",
              "            </tr>\n",
              "            <tr>\n",
              "                        <th id=\"T_889d9_level0_row21\" class=\"row_heading level0 row21\" >primary_cleaner.state.floatbank8_c_air</th>\n",
              "                        <td id=\"T_889d9_row21_col0\" class=\"data row21 col0\" >0.000000</td>\n",
              "            </tr>\n",
              "            <tr>\n",
              "                        <th id=\"T_889d9_level0_row22\" class=\"row_heading level0 row22\" >primary_cleaner.state.floatbank8_b_level</th>\n",
              "                        <td id=\"T_889d9_row22_col0\" class=\"data row22 col0\" >0.000000</td>\n",
              "            </tr>\n",
              "            <tr>\n",
              "                        <th id=\"T_889d9_level0_row23\" class=\"row_heading level0 row23\" >primary_cleaner.state.floatbank8_b_air</th>\n",
              "                        <td id=\"T_889d9_row23_col0\" class=\"data row23 col0\" >0.000000</td>\n",
              "            </tr>\n",
              "            <tr>\n",
              "                        <th id=\"T_889d9_level0_row24\" class=\"row_heading level0 row24\" >primary_cleaner.state.floatbank8_a_level</th>\n",
              "                        <td id=\"T_889d9_row24_col0\" class=\"data row24 col0\" >0.000000</td>\n",
              "            </tr>\n",
              "            <tr>\n",
              "                        <th id=\"T_889d9_level0_row25\" class=\"row_heading level0 row25\" >primary_cleaner.state.floatbank8_a_air</th>\n",
              "                        <td id=\"T_889d9_row25_col0\" class=\"data row25 col0\" >0.000000</td>\n",
              "            </tr>\n",
              "            <tr>\n",
              "                        <th id=\"T_889d9_level0_row26\" class=\"row_heading level0 row26\" >primary_cleaner.input.feed_size</th>\n",
              "                        <td id=\"T_889d9_row26_col0\" class=\"data row26 col0\" >0.000000</td>\n",
              "            </tr>\n",
              "            <tr>\n",
              "                        <th id=\"T_889d9_level0_row27\" class=\"row_heading level0 row27\" >rougher.state.floatbank10_a_air</th>\n",
              "                        <td id=\"T_889d9_row27_col0\" class=\"data row27 col0\" >0.000000</td>\n",
              "            </tr>\n",
              "            <tr>\n",
              "                        <th id=\"T_889d9_level0_row28\" class=\"row_heading level0 row28\" >rougher.state.floatbank10_b_level</th>\n",
              "                        <td id=\"T_889d9_row28_col0\" class=\"data row28 col0\" >0.000000</td>\n",
              "            </tr>\n",
              "            <tr>\n",
              "                        <th id=\"T_889d9_level0_row29\" class=\"row_heading level0 row29\" >rougher.state.floatbank10_b_air</th>\n",
              "                        <td id=\"T_889d9_row29_col0\" class=\"data row29 col0\" >0.000000</td>\n",
              "            </tr>\n",
              "            <tr>\n",
              "                        <th id=\"T_889d9_level0_row30\" class=\"row_heading level0 row30\" >secondary_cleaner.state.floatbank6_a_air</th>\n",
              "                        <td id=\"T_889d9_row30_col0\" class=\"data row30 col0\" >0.000000</td>\n",
              "            </tr>\n",
              "            <tr>\n",
              "                        <th id=\"T_889d9_level0_row31\" class=\"row_heading level0 row31\" >secondary_cleaner.state.floatbank5_b_level</th>\n",
              "                        <td id=\"T_889d9_row31_col0\" class=\"data row31 col0\" >0.000000</td>\n",
              "            </tr>\n",
              "            <tr>\n",
              "                        <th id=\"T_889d9_level0_row32\" class=\"row_heading level0 row32\" >secondary_cleaner.state.floatbank5_b_air</th>\n",
              "                        <td id=\"T_889d9_row32_col0\" class=\"data row32 col0\" >0.000000</td>\n",
              "            </tr>\n",
              "            <tr>\n",
              "                        <th id=\"T_889d9_level0_row33\" class=\"row_heading level0 row33\" >secondary_cleaner.state.floatbank5_a_level</th>\n",
              "                        <td id=\"T_889d9_row33_col0\" class=\"data row33 col0\" >0.000000</td>\n",
              "            </tr>\n",
              "            <tr>\n",
              "                        <th id=\"T_889d9_level0_row34\" class=\"row_heading level0 row34\" >secondary_cleaner.state.floatbank5_a_air</th>\n",
              "                        <td id=\"T_889d9_row34_col0\" class=\"data row34 col0\" >0.000000</td>\n",
              "            </tr>\n",
              "            <tr>\n",
              "                        <th id=\"T_889d9_level0_row35\" class=\"row_heading level0 row35\" >secondary_cleaner.state.floatbank4_b_level</th>\n",
              "                        <td id=\"T_889d9_row35_col0\" class=\"data row35 col0\" >0.000000</td>\n",
              "            </tr>\n",
              "            <tr>\n",
              "                        <th id=\"T_889d9_level0_row36\" class=\"row_heading level0 row36\" >secondary_cleaner.state.floatbank4_b_air</th>\n",
              "                        <td id=\"T_889d9_row36_col0\" class=\"data row36 col0\" >0.000000</td>\n",
              "            </tr>\n",
              "            <tr>\n",
              "                        <th id=\"T_889d9_level0_row37\" class=\"row_heading level0 row37\" >secondary_cleaner.state.floatbank4_a_level</th>\n",
              "                        <td id=\"T_889d9_row37_col0\" class=\"data row37 col0\" >0.000000</td>\n",
              "            </tr>\n",
              "            <tr>\n",
              "                        <th id=\"T_889d9_level0_row38\" class=\"row_heading level0 row38\" >secondary_cleaner.state.floatbank4_a_air</th>\n",
              "                        <td id=\"T_889d9_row38_col0\" class=\"data row38 col0\" >0.000000</td>\n",
              "            </tr>\n",
              "            <tr>\n",
              "                        <th id=\"T_889d9_level0_row39\" class=\"row_heading level0 row39\" >secondary_cleaner.state.floatbank3_b_level</th>\n",
              "                        <td id=\"T_889d9_row39_col0\" class=\"data row39 col0\" >0.000000</td>\n",
              "            </tr>\n",
              "            <tr>\n",
              "                        <th id=\"T_889d9_level0_row40\" class=\"row_heading level0 row40\" >secondary_cleaner.state.floatbank3_b_air</th>\n",
              "                        <td id=\"T_889d9_row40_col0\" class=\"data row40 col0\" >0.000000</td>\n",
              "            </tr>\n",
              "            <tr>\n",
              "                        <th id=\"T_889d9_level0_row41\" class=\"row_heading level0 row41\" >secondary_cleaner.state.floatbank3_a_level</th>\n",
              "                        <td id=\"T_889d9_row41_col0\" class=\"data row41 col0\" >0.000000</td>\n",
              "            </tr>\n",
              "            <tr>\n",
              "                        <th id=\"T_889d9_level0_row42\" class=\"row_heading level0 row42\" >secondary_cleaner.state.floatbank2_b_level</th>\n",
              "                        <td id=\"T_889d9_row42_col0\" class=\"data row42 col0\" >0.000000</td>\n",
              "            </tr>\n",
              "            <tr>\n",
              "                        <th id=\"T_889d9_level0_row43\" class=\"row_heading level0 row43\" >secondary_cleaner.state.floatbank2_a_level</th>\n",
              "                        <td id=\"T_889d9_row43_col0\" class=\"data row43 col0\" >0.000000</td>\n",
              "            </tr>\n",
              "            <tr>\n",
              "                        <th id=\"T_889d9_level0_row44\" class=\"row_heading level0 row44\" >rougher.state.floatbank10_f_level</th>\n",
              "                        <td id=\"T_889d9_row44_col0\" class=\"data row44 col0\" >0.000000</td>\n",
              "            </tr>\n",
              "            <tr>\n",
              "                        <th id=\"T_889d9_level0_row45\" class=\"row_heading level0 row45\" >rougher.state.floatbank10_f_air</th>\n",
              "                        <td id=\"T_889d9_row45_col0\" class=\"data row45 col0\" >0.000000</td>\n",
              "            </tr>\n",
              "            <tr>\n",
              "                        <th id=\"T_889d9_level0_row46\" class=\"row_heading level0 row46\" >rougher.state.floatbank10_e_level</th>\n",
              "                        <td id=\"T_889d9_row46_col0\" class=\"data row46 col0\" >0.000000</td>\n",
              "            </tr>\n",
              "            <tr>\n",
              "                        <th id=\"T_889d9_level0_row47\" class=\"row_heading level0 row47\" >rougher.state.floatbank10_e_air</th>\n",
              "                        <td id=\"T_889d9_row47_col0\" class=\"data row47 col0\" >0.000000</td>\n",
              "            </tr>\n",
              "            <tr>\n",
              "                        <th id=\"T_889d9_level0_row48\" class=\"row_heading level0 row48\" >rougher.state.floatbank10_d_level</th>\n",
              "                        <td id=\"T_889d9_row48_col0\" class=\"data row48 col0\" >0.000000</td>\n",
              "            </tr>\n",
              "            <tr>\n",
              "                        <th id=\"T_889d9_level0_row49\" class=\"row_heading level0 row49\" >rougher.state.floatbank10_d_air</th>\n",
              "                        <td id=\"T_889d9_row49_col0\" class=\"data row49 col0\" >0.000000</td>\n",
              "            </tr>\n",
              "            <tr>\n",
              "                        <th id=\"T_889d9_level0_row50\" class=\"row_heading level0 row50\" >rougher.state.floatbank10_c_level</th>\n",
              "                        <td id=\"T_889d9_row50_col0\" class=\"data row50 col0\" >0.000000</td>\n",
              "            </tr>\n",
              "            <tr>\n",
              "                        <th id=\"T_889d9_level0_row51\" class=\"row_heading level0 row51\" >rougher.state.floatbank10_c_air</th>\n",
              "                        <td id=\"T_889d9_row51_col0\" class=\"data row51 col0\" >0.000000</td>\n",
              "            </tr>\n",
              "            <tr>\n",
              "                        <th id=\"T_889d9_level0_row52\" class=\"row_heading level0 row52\" >date</th>\n",
              "                        <td id=\"T_889d9_row52_col0\" class=\"data row52 col0\" >0.000000</td>\n",
              "            </tr>\n",
              "    </tbody></table>"
            ],
            "text/plain": [
              "<pandas.io.formats.style.Styler at 0x7efd6530e3a0>"
            ]
          },
          "execution_count": 15,
          "metadata": {},
          "output_type": "execute_result"
        }
      ],
      "source": [
        "pd.DataFrame(df_test.isna().mean()*100).sort_values(by=0)[::-1].style.background_gradient('coolwarm')"
      ]
    },
    {
      "cell_type": "markdown",
      "metadata": {
        "id": "hnWkRGELBGiL"
      },
      "source": [
        "<div class=\"alert alert-success\"> ✅\n",
        "<h3> Комментарий ревьюера v1</h3>\n",
        "\n",
        "Данные загружены, первичный осмотр и выводы корректные\n"
      ]
    },
    {
      "cell_type": "markdown",
      "metadata": {
        "id": "SHIX2exsBGiL"
      },
      "source": [
        "### Проверим правильность подсчета эффективности обогащения"
      ]
    },
    {
      "cell_type": "markdown",
      "metadata": {
        "id": "oKEPr4kpBGiM"
      },
      "source": [
        "Для подсчета эффективности необходимы следующие входные параметры:\n",
        "<ul>\n",
        "    <li>C — доля золота в концентрате после флотации/очистки (<b>rougher.output.concentrate_au</b>)</li>\n",
        "    <li>F — доля золота в сырье/концентрате до флотации/очистки (<b>rougher.input.feed_au)</b></li>\n",
        "    <li>T — доля золота в отвальных хвостах после флотации/очистки <b>(rougher.output.tail_au</b>)</li></ul>"
      ]
    },
    {
      "cell_type": "code",
      "execution_count": null,
      "metadata": {
        "id": "JWzZqwZ4BGiM",
        "outputId": "421e5855-443c-42df-9dda-0253c7ee4096"
      },
      "outputs": [
        {
          "name": "stdout",
          "output_type": "stream",
          "text": [
            "0        87.107763\n",
            "1        86.843261\n",
            "2        86.842308\n",
            "3        87.226430\n",
            "4        86.688794\n",
            "           ...    \n",
            "14144    89.574376\n",
            "14145    87.724007\n",
            "14146    88.890579\n",
            "14147    89.858126\n",
            "14148    89.514960\n",
            "Length: 14149, dtype: float64\n",
            "Среднее абсолютное отклонение 9.73512347450521e-15\n"
          ]
        }
      ],
      "source": [
        "recovery=df_train['rougher.output.concentrate_au']\\\n",
        "*(df_train['rougher.input.feed_au']-df_train['rougher.output.tail_au'])/\\\n",
        "(df_train['rougher.input.feed_au']*(df_train['rougher.output.concentrate_au']-df_train['rougher.output.tail_au']))*100\n",
        "print(recovery)\n",
        "print('Среднее абсолютное отклонение',mean_absolute_error(recovery, df_train['rougher.output.recovery']))"
      ]
    },
    {
      "cell_type": "markdown",
      "metadata": {
        "id": "jK1_0zncBGiM"
      },
      "source": [
        "Полученное низкое значение МАЕ, говорит о том, что вычисления произведены верно"
      ]
    },
    {
      "cell_type": "markdown",
      "metadata": {
        "id": "LPAahkJkBGiN"
      },
      "source": [
        "### Проанализируем признаки, недоступные в тестовой выборке"
      ]
    },
    {
      "cell_type": "code",
      "execution_count": null,
      "metadata": {
        "id": "MM-kEYs5BGiN"
      },
      "outputs": [],
      "source": [
        "col_train=df_train.columns\n",
        "col_test=df_test.columns\n",
        "col_full=df_full.columns\n",
        "failing=[]"
      ]
    },
    {
      "cell_type": "code",
      "execution_count": null,
      "metadata": {
        "id": "OlJilMkoBGiN",
        "outputId": "0f1844aa-7e22-4cdd-9144-0051976f76c8"
      },
      "outputs": [
        {
          "name": "stdout",
          "output_type": "stream",
          "text": [
            "Количество отсутствующих признаков 34\n"
          ]
        }
      ],
      "source": [
        "for i in range(len(col_full)):\n",
        "    if col_full[i] not in col_test:\n",
        "        failing.append(col_full[i])\n",
        "print('Количество отсутствующих признаков', len(col_full)-len(col_test))"
      ]
    },
    {
      "cell_type": "code",
      "execution_count": null,
      "metadata": {
        "scrolled": true,
        "id": "miLFILdnBGiO"
      },
      "outputs": [],
      "source": [
        "def fl(failing,s):\n",
        "    r=[]\n",
        "    for i in range(len(failing)):\n",
        "        if s in failing[i] and failing[i] not in r:\n",
        "            r.append(failing[i])\n",
        "            if 'recovery' in failing[i]:\n",
        "                print(\"*****\",failing[i],\"*****\")\n",
        "            print(failing[i])"
      ]
    },
    {
      "cell_type": "code",
      "execution_count": null,
      "metadata": {
        "id": "NcYUc00VBGiO",
        "outputId": "47733dab-52b9-4b47-f14b-aee4b3bf3720"
      },
      "outputs": [
        {
          "name": "stdout",
          "output_type": "stream",
          "text": [
            "Параметры продукта на этапе флотации:\n",
            "rougher.output.concentrate_ag\n",
            "rougher.output.concentrate_pb\n",
            "rougher.output.concentrate_sol\n",
            "rougher.output.concentrate_au\n",
            "***** rougher.output.recovery *****\n",
            "rougher.output.recovery\n",
            "rougher.output.tail_ag\n",
            "rougher.output.tail_pb\n",
            "rougher.output.tail_sol\n",
            "rougher.output.tail_au\n",
            "Параметры продукта на этапе первичной очистки:\n",
            "primary_cleaner.output.concentrate_ag\n",
            "primary_cleaner.output.concentrate_pb\n",
            "primary_cleaner.output.concentrate_sol\n",
            "primary_cleaner.output.concentrate_au\n",
            "primary_cleaner.output.tail_ag\n",
            "primary_cleaner.output.tail_pb\n",
            "primary_cleaner.output.tail_sol\n",
            "primary_cleaner.output.tail_au\n",
            "Параметры продукта на этапе вторичной очистки:\n",
            "secondary_cleaner.output.tail_ag\n",
            "secondary_cleaner.output.tail_pb\n",
            "secondary_cleaner.output.tail_sol\n",
            "secondary_cleaner.output.tail_au\n",
            "Финальные параметры продукта:\n",
            "final.output.concentrate_ag\n",
            "final.output.concentrate_pb\n",
            "final.output.concentrate_sol\n",
            "final.output.concentrate_au\n",
            "***** final.output.recovery *****\n",
            "final.output.recovery\n",
            "final.output.tail_ag\n",
            "final.output.tail_pb\n",
            "final.output.tail_sol\n",
            "final.output.tail_au\n"
          ]
        }
      ],
      "source": [
        "print('Параметры продукта на этапе флотации:')\n",
        "fl(failing,'rougher.output')\n",
        "print('Параметры продукта на этапе первичной очистки:')\n",
        "fl(failing,'primary_cleaner.output')\n",
        "print('Параметры продукта на этапе вторичной очистки:')\n",
        "fl(failing,'secondary_cleaner.output')\n",
        "print('Финальные параметры продукта:')\n",
        "fl(failing, 'final.output')"
      ]
    },
    {
      "cell_type": "markdown",
      "metadata": {
        "id": "JZlF7D9nBGiO"
      },
      "source": [
        "<b>Предварительный вывод #1: </b>\n",
        "<ul>\n",
        "    <li>В данных отсутствуют данные по многим признакам</li>\n",
        "    <li>В некоторых признаках есть пропуски (final.output.concentrate_sol)</li>\n",
        "    <li>Дубликаты отсутствуют</li>\n",
        "    <li>Тип данных не менялся, за исключением первого столбца (изменен на datetime)</li>\n",
        "    <li>В тестовой выборке отсутствуют 34 признака, а именно параметры продукта на всех этапах (флотация, первичная очистка, вторичная очистка, финал), а также расчетные характеристики на этапе флотации. </li>\n",
        "     <li>Стоит также обратить внимание на отсутствие признаков <b>rougher.output.recovery</b> и <b>final.output.recovery</b>, вероятно это целевые признаки.</p> </li>\n",
        "     <li>Расчет эффективности обогащения произведен верно.</li>"
      ]
    },
    {
      "cell_type": "markdown",
      "metadata": {
        "id": "tu70XtHuBGiP"
      },
      "source": [
        "### Проведем предобработку данных"
      ]
    },
    {
      "cell_type": "markdown",
      "metadata": {
        "id": "3P_wwnUUBGiP"
      },
      "source": [
        "Избавимся от пропусков"
      ]
    },
    {
      "cell_type": "code",
      "execution_count": null,
      "metadata": {
        "id": "E6k5jeKsBGiQ"
      },
      "outputs": [],
      "source": [
        "df_train = df_train.ffill(axis=0)\n",
        "df_test = df_test.ffill(axis=0)\n",
        "df_full = df_full.ffill(axis=0)"
      ]
    },
    {
      "cell_type": "code",
      "execution_count": null,
      "metadata": {
        "id": "g4TG77pxBGiQ",
        "outputId": "0ff45523-24f0-4f51-ba81-07090abe0272"
      },
      "outputs": [
        {
          "data": {
            "text/plain": [
              "date                                          0\n",
              "final.output.concentrate_ag                   0\n",
              "final.output.concentrate_pb                   0\n",
              "final.output.concentrate_sol                  0\n",
              "final.output.concentrate_au                   0\n",
              "                                             ..\n",
              "secondary_cleaner.state.floatbank5_a_level    0\n",
              "secondary_cleaner.state.floatbank5_b_air      0\n",
              "secondary_cleaner.state.floatbank5_b_level    0\n",
              "secondary_cleaner.state.floatbank6_a_air      0\n",
              "secondary_cleaner.state.floatbank6_a_level    0\n",
              "Length: 87, dtype: int64"
            ]
          },
          "execution_count": 22,
          "metadata": {},
          "output_type": "execute_result"
        }
      ],
      "source": [
        "df_full.isnull().sum()"
      ]
    },
    {
      "cell_type": "code",
      "execution_count": null,
      "metadata": {
        "id": "3qvF5RN0BGiQ",
        "outputId": "ee81ddee-3d76-496a-e2b3-a7404fc1eebb"
      },
      "outputs": [
        {
          "data": {
            "text/plain": [
              "date                                          0\n",
              "final.output.concentrate_ag                   0\n",
              "final.output.concentrate_pb                   0\n",
              "final.output.concentrate_sol                  0\n",
              "final.output.concentrate_au                   0\n",
              "                                             ..\n",
              "secondary_cleaner.state.floatbank5_a_level    0\n",
              "secondary_cleaner.state.floatbank5_b_air      0\n",
              "secondary_cleaner.state.floatbank5_b_level    0\n",
              "secondary_cleaner.state.floatbank6_a_air      0\n",
              "secondary_cleaner.state.floatbank6_a_level    0\n",
              "Length: 87, dtype: int64"
            ]
          },
          "execution_count": 23,
          "metadata": {},
          "output_type": "execute_result"
        }
      ],
      "source": [
        "df_train.isnull().sum()"
      ]
    },
    {
      "cell_type": "code",
      "execution_count": null,
      "metadata": {
        "id": "IjkAQdUhBGiR",
        "outputId": "85dfd957-d735-4256-d689-05b9c22a5467"
      },
      "outputs": [
        {
          "data": {
            "text/plain": [
              "date                                          0\n",
              "primary_cleaner.input.sulfate                 0\n",
              "primary_cleaner.input.depressant              0\n",
              "primary_cleaner.input.feed_size               0\n",
              "primary_cleaner.input.xanthate                0\n",
              "primary_cleaner.state.floatbank8_a_air        0\n",
              "primary_cleaner.state.floatbank8_a_level      0\n",
              "primary_cleaner.state.floatbank8_b_air        0\n",
              "primary_cleaner.state.floatbank8_b_level      0\n",
              "primary_cleaner.state.floatbank8_c_air        0\n",
              "primary_cleaner.state.floatbank8_c_level      0\n",
              "primary_cleaner.state.floatbank8_d_air        0\n",
              "primary_cleaner.state.floatbank8_d_level      0\n",
              "rougher.input.feed_ag                         0\n",
              "rougher.input.feed_pb                         0\n",
              "rougher.input.feed_rate                       0\n",
              "rougher.input.feed_size                       0\n",
              "rougher.input.feed_sol                        0\n",
              "rougher.input.feed_au                         0\n",
              "rougher.input.floatbank10_sulfate             0\n",
              "rougher.input.floatbank10_xanthate            0\n",
              "rougher.input.floatbank11_sulfate             0\n",
              "rougher.input.floatbank11_xanthate            0\n",
              "rougher.state.floatbank10_a_air               0\n",
              "rougher.state.floatbank10_a_level             0\n",
              "rougher.state.floatbank10_b_air               0\n",
              "rougher.state.floatbank10_b_level             0\n",
              "rougher.state.floatbank10_c_air               0\n",
              "rougher.state.floatbank10_c_level             0\n",
              "rougher.state.floatbank10_d_air               0\n",
              "rougher.state.floatbank10_d_level             0\n",
              "rougher.state.floatbank10_e_air               0\n",
              "rougher.state.floatbank10_e_level             0\n",
              "rougher.state.floatbank10_f_air               0\n",
              "rougher.state.floatbank10_f_level             0\n",
              "secondary_cleaner.state.floatbank2_a_air      0\n",
              "secondary_cleaner.state.floatbank2_a_level    0\n",
              "secondary_cleaner.state.floatbank2_b_air      0\n",
              "secondary_cleaner.state.floatbank2_b_level    0\n",
              "secondary_cleaner.state.floatbank3_a_air      0\n",
              "secondary_cleaner.state.floatbank3_a_level    0\n",
              "secondary_cleaner.state.floatbank3_b_air      0\n",
              "secondary_cleaner.state.floatbank3_b_level    0\n",
              "secondary_cleaner.state.floatbank4_a_air      0\n",
              "secondary_cleaner.state.floatbank4_a_level    0\n",
              "secondary_cleaner.state.floatbank4_b_air      0\n",
              "secondary_cleaner.state.floatbank4_b_level    0\n",
              "secondary_cleaner.state.floatbank5_a_air      0\n",
              "secondary_cleaner.state.floatbank5_a_level    0\n",
              "secondary_cleaner.state.floatbank5_b_air      0\n",
              "secondary_cleaner.state.floatbank5_b_level    0\n",
              "secondary_cleaner.state.floatbank6_a_air      0\n",
              "secondary_cleaner.state.floatbank6_a_level    0\n",
              "dtype: int64"
            ]
          },
          "execution_count": 24,
          "metadata": {},
          "output_type": "execute_result"
        }
      ],
      "source": [
        "df_test.isnull().sum()"
      ]
    },
    {
      "cell_type": "code",
      "execution_count": null,
      "metadata": {
        "id": "t5awh80bBGiR",
        "outputId": "04449ef9-1dfb-4368-cfe4-b0e15de098de"
      },
      "outputs": [
        {
          "name": "stdout",
          "output_type": "stream",
          "text": [
            "Дубликаты в тестовой выборке 0\n"
          ]
        }
      ],
      "source": [
        "print('Дубликаты в тестовой выборке',df_test.duplicated().sum())"
      ]
    },
    {
      "cell_type": "code",
      "execution_count": null,
      "metadata": {
        "id": "RuMM5EfXBGid"
      },
      "outputs": [],
      "source": [
        "drop=df_full[(df_full['rougher.output.concentrate_au']==0)\\\n",
        "            |(df_full['primary_cleaner.output.concentrate_au']==0)\\\n",
        "            |(df_full['final.output.concentrate_au']==0)]['date']"
      ]
    },
    {
      "cell_type": "markdown",
      "metadata": {
        "id": "rkrbtdnxBGid"
      },
      "source": [
        "<b>Добавим целевые признаки из полного датасета в тестовую выборку:</b>"
      ]
    },
    {
      "cell_type": "code",
      "execution_count": null,
      "metadata": {
        "id": "aI3OScR5BGid"
      },
      "outputs": [],
      "source": [
        "df_test = df_test.merge(df_full.loc[:, ['date','rougher.output.recovery','final.output.recovery']], on='date')"
      ]
    },
    {
      "cell_type": "markdown",
      "metadata": {
        "id": "aUqz1_WWBGie"
      },
      "source": [
        "## Анализ данных"
      ]
    },
    {
      "cell_type": "markdown",
      "metadata": {
        "id": "8rKQgvBvBGie"
      },
      "source": [
        "### Посмотрим, как меняется концентрация металлов (Au, Ag, Pb) на различных этапах очистки"
      ]
    },
    {
      "cell_type": "code",
      "execution_count": null,
      "metadata": {
        "id": "CjTt0eiZBGie"
      },
      "outputs": [],
      "source": [
        "def plot_concentrate(a,b,c,d,s):\n",
        "    fig = plt.figure(figsize=(20, 7))\n",
        "    plt.hist(a, bins=200, alpha = 0.45, label='исходное сырье')\n",
        "    plt.hist(b, bins=200, alpha = 0.45, label='после флотации')\n",
        "    plt.hist(c, bins=200, alpha = 0.45, label='после первичной обработки')\n",
        "    plt.hist(d, bins=200, alpha = 0.45, label='финальная обработка')\n",
        "    plt.legend(loc='upper left')\n",
        "    plt.title(s)\n",
        "    plt.xlabel('концентрация металла')\n",
        "    plt.ylabel('Количество наблюдений')\n",
        "    plt.show()"
      ]
    },
    {
      "cell_type": "code",
      "execution_count": null,
      "metadata": {
        "id": "4BBo9DwMBGif"
      },
      "outputs": [],
      "source": [
        "def plot_feed(a,b,c,d,s):\n",
        "    rougher.input.feed_au\n",
        "    fig = plt.figure(figsize=(20, 7))\n",
        "    plt.hist(a, bins=200, alpha = 0.45, label='на этапе флотации')\n",
        "    plt.hist(d, bins=200, alpha = 0.45, label='на финальном этапе')\n",
        "    plt.hist(c, bins=200, alpha = 0.45, label='после первичной обработки')\n",
        "    plt.hist(b, bins=200, alpha = 0.45, label='после вторичной обработки')\n",
        "    plt.legend(loc='upper left')\n",
        "    plt.title(s)\n",
        "    plt.xlabel('концентрация металла')\n",
        "    plt.ylabel('Количество наблюдений')\n",
        "    plt.show()"
      ]
    },
    {
      "cell_type": "code",
      "execution_count": null,
      "metadata": {
        "id": "2Jc-KyhEBGif",
        "outputId": "9da42f75-844a-45b4-bbaa-8b54d10b81ac"
      },
      "outputs": [
        {
          "data": {
            "image/png": "[encoded data removed]",
            "text/plain": [
              "<Figure size 1440x504 with 1 Axes>"
            ]
          },
          "metadata": {
            "needs_background": "light"
          },
          "output_type": "display_data"
        }
      ],
      "source": [
        "a= df_train['rougher.input.feed_au']\n",
        "b = df_train['rougher.output.concentrate_au']\n",
        "c = df_train['primary_cleaner.output.concentrate_au']\n",
        "d = df_train['final.output.concentrate_au']\n",
        "s='Концентрация золота на различных этапах очистки'\n",
        "plot_concentrate(a,b,c,d,s)"
      ]
    },
    {
      "cell_type": "markdown",
      "metadata": {
        "id": "Wf2kIApaBGif"
      },
      "source": [
        "<div class=\"alert alert-info\">Добавлен коментарий</div>"
      ]
    },
    {
      "cell_type": "markdown",
      "metadata": {
        "id": "IV4R92BGBGig"
      },
      "source": [
        "Концентрация золота после каждого этапа обработки увеличивается. Наибольшие значения наблюдаются после вторичной обработки"
      ]
    },
    {
      "cell_type": "code",
      "execution_count": null,
      "metadata": {
        "scrolled": true,
        "id": "kkIKYGsABGig",
        "outputId": "83445523-4f8d-424b-8571-870f43e8bc50"
      },
      "outputs": [
        {
          "data": {
            "image/png": "[encoded data removed]",
            "text/plain": [
              "<Figure size 1440x504 with 1 Axes>"
            ]
          },
          "metadata": {
            "needs_background": "light"
          },
          "output_type": "display_data"
        }
      ],
      "source": [
        "a = df_train['rougher.input.feed_ag']\n",
        "b= df_train['rougher.output.concentrate_ag']\n",
        "c = df_train['primary_cleaner.output.concentrate_ag']\n",
        "d = df_train['final.output.concentrate_ag']\n",
        "s='Концентрация серебра на различных этапах очистки'\n",
        "plot_concentrate(a,b,c,d,s)"
      ]
    },
    {
      "cell_type": "markdown",
      "metadata": {
        "id": "eDLBBkhtBGig"
      },
      "source": [
        "<div class=\"alert alert-info\">Добавлен коментарий</div>"
      ]
    },
    {
      "cell_type": "markdown",
      "metadata": {
        "id": "PIEkZMgyBGig"
      },
      "source": [
        "Концентрация серебра на этапе флотации и первичной обработки мало отличаются. Однако значения на финальном этапе обработки значительно снижаются."
      ]
    },
    {
      "cell_type": "code",
      "execution_count": null,
      "metadata": {
        "id": "zxXdgzYfBGii",
        "outputId": "36286f77-6913-4654-84de-8b681724c447"
      },
      "outputs": [
        {
          "data": {
            "image/png": "[encoded data removed]",
            "text/plain": [
              "<Figure size 1440x504 with 1 Axes>"
            ]
          },
          "metadata": {
            "needs_background": "light"
          },
          "output_type": "display_data"
        }
      ],
      "source": [
        "a = df_train['rougher.input.feed_pb']\n",
        "b= df_train['rougher.output.concentrate_pb']\n",
        "c = df_train['primary_cleaner.output.concentrate_pb']\n",
        "d = df_train['final.output.concentrate_pb']\n",
        "s='Концентрация свинца на различных этапах очистки'\n",
        "plot_concentrate(a,b,c,d,s)"
      ]
    },
    {
      "cell_type": "markdown",
      "metadata": {
        "id": "Qp5hPREQBGij"
      },
      "source": [
        "<div class=\"alert alert-info\">Добавлен коментарий</div>"
      ]
    },
    {
      "cell_type": "markdown",
      "metadata": {
        "id": "EF8GaS3eBGij"
      },
      "source": [
        "Концентрация свинца растет, однако финальный уровень не превышает уровня первичной обработки."
      ]
    },
    {
      "cell_type": "markdown",
      "metadata": {
        "id": "TwZ_ZDNdBGij"
      },
      "source": [
        "<div class=\"alert alert-danger\"> ❌\n",
        "<h3> Комментарий ревьюера v1</h3>\n",
        "\n",
        "Что из этого следует? Я вижу, что есть выводы в конце раздела. Но нужны мини-выводы/мысли после каждого этапа, иначе сложно понять, что к чему относится"
      ]
    },
    {
      "cell_type": "markdown",
      "metadata": {
        "id": "f3bOvO9SBGik"
      },
      "source": [
        " ### Сравним распределение размеров гранул сырья на обучающей и тестовой выборках"
      ]
    },
    {
      "cell_type": "code",
      "execution_count": null,
      "metadata": {
        "scrolled": false,
        "id": "s8M66XUKBGik",
        "outputId": "2e276871-c297-4cd1-e9b3-73d87baba439"
      },
      "outputs": [
        {
          "data": {
            "image/png": "[encoded data removed]",
            "text/plain": [
              "<Figure size 720x504 with 1 Axes>"
            ]
          },
          "metadata": {
            "needs_background": "light"
          },
          "output_type": "display_data"
        }
      ],
      "source": [
        "a = df_train['rougher.input.feed_size']\n",
        "b = df_test['rougher.input.feed_size']\n",
        "\n",
        "fig = plt.figure(figsize=(10, 7))\n",
        "plt.hist(a, bins=200, alpha = 0.45, label='обучающая выборка',density=True)\n",
        "plt.hist(b, bins=200, alpha = 0.45, label='тестовая выборка',density=True)\n",
        "plt.legend(loc='upper left')\n",
        "plt.title(\"Распределение размеров гранул сырья на обучающей и тестовой выборках на этапе флотации\")\n",
        "plt.xlabel('размер гранул')\n",
        "plt.ylabel('Количество наблюдений')\n",
        "plt.show()"
      ]
    },
    {
      "cell_type": "markdown",
      "metadata": {
        "id": "WELlnZi1BGim"
      },
      "source": [
        "<div class=\"alert alert-info\">Добавлен коментарий</div>"
      ]
    },
    {
      "cell_type": "markdown",
      "metadata": {
        "id": "iv8uogadBGin"
      },
      "source": [
        "Размеры гранул сырья находятся в диапазоне (0,100), причем характер распределения почти одинаковый"
      ]
    },
    {
      "cell_type": "code",
      "execution_count": null,
      "metadata": {
        "scrolled": false,
        "id": "RGNg2oZqBGio",
        "outputId": "4d5ea7a8-9a2a-4243-fd52-142de52f9c9b"
      },
      "outputs": [
        {
          "data": {
            "image/png": "[encoded data removed]",
            "text/plain": [
              "<Figure size 720x504 with 1 Axes>"
            ]
          },
          "metadata": {
            "needs_background": "light"
          },
          "output_type": "display_data"
        }
      ],
      "source": [
        "a = df_train['primary_cleaner.input.feed_size']\n",
        "b = df_test['primary_cleaner.input.feed_size']\n",
        "x = np.arange(0, 100, 0.1)\n",
        "\n",
        "fig = plt.figure(figsize=(10, 7))\n",
        "plt.hist(a, bins=200, alpha = 0.45, label='обучающая выборка',density=True)\n",
        "plt.hist(b, bins=200, alpha = 0.45, label='тестовая выборка',density=True)\n",
        "plt.legend(loc='upper left')\n",
        "plt.title(\"Распределение размеров гранул сырья на обучающей и тестовой выборках на этапе первичной обработки\")\n",
        "plt.xlabel('размер гранул')\n",
        "plt.ylabel('Количество наблюдений')\n",
        "plt.show()"
      ]
    },
    {
      "cell_type": "markdown",
      "metadata": {
        "id": "BOS2fcpmBGio"
      },
      "source": [
        "<div class=\"alert alert-info\">Добавлен коментарий</div>"
      ]
    },
    {
      "cell_type": "markdown",
      "metadata": {
        "id": "9Q8HNjLMBGip"
      },
      "source": [
        "Размер гранул на этапе первичной обработки находится в основном диапазоне (5,10). Характер распределения в выборках практически совпадает"
      ]
    },
    {
      "cell_type": "markdown",
      "metadata": {
        "id": "CswobzKzBGip"
      },
      "source": [
        "### Исследуем суммарную концентрацию всех веществ на разных стадиях: в сырье, в черновом и финальном концентратах."
      ]
    },
    {
      "cell_type": "code",
      "execution_count": null,
      "metadata": {
        "id": "u23Xy7bOBGip"
      },
      "outputs": [],
      "source": [
        "def sum_concentrate(a,b,c,d):\n",
        "    sum=0\n",
        "    sum = a+b+c+d\n",
        "    return sum"
      ]
    },
    {
      "cell_type": "code",
      "execution_count": null,
      "metadata": {
        "id": "DRYrIl8OBGip"
      },
      "outputs": [],
      "source": [
        "a=df_train['rougher.input.feed_au']\n",
        "b=df_train['rougher.input.feed_ag']\n",
        "c=df_train['rougher.input.feed_pb']\n",
        "d=df_train['rougher.input.feed_sol']\n",
        "df_train['sum_rougher_input']=sum_concentrate(a,b,c,d)"
      ]
    },
    {
      "cell_type": "code",
      "execution_count": null,
      "metadata": {
        "id": "ORz8H8DfBGiq"
      },
      "outputs": [],
      "source": [
        "a=df_train['rougher.output.concentrate_ag']\n",
        "b=df_train['rougher.output.concentrate_pb']\n",
        "c=df_train['rougher.output.concentrate_au']\n",
        "d=df_train['rougher.output.concentrate_sol']\n",
        "df_train['sum_rougher_output']=sum_concentrate(a,b,c,d)"
      ]
    },
    {
      "cell_type": "code",
      "execution_count": null,
      "metadata": {
        "id": "cAsAWhYOBGiq"
      },
      "outputs": [],
      "source": [
        "a=df_train['final.output.concentrate_ag']\n",
        "b=df_train['final.output.concentrate_pb']\n",
        "c=df_train['final.output.concentrate_au']\n",
        "d=df_train['final.output.concentrate_sol']\n",
        "df_train['sum_final_output']=sum_concentrate(a,b,c,d)"
      ]
    },
    {
      "cell_type": "markdown",
      "metadata": {
        "id": "6yonN0CFBGiq"
      },
      "source": [
        "Удалим выбросы в районе нуля, которые мы наблюдали на отдельных графиках концентрации веществ"
      ]
    },
    {
      "cell_type": "code",
      "execution_count": null,
      "metadata": {
        "id": "Jj_rj5QABGiq"
      },
      "outputs": [],
      "source": [
        "df_train=df_train[(df_train['rougher.output.concentrate_au']>0) \\\n",
        "    & (df_train['rougher.output.concentrate_ag']>0)\\\n",
        "    & (df_train['rougher.output.concentrate_pb']>0)\\\n",
        "    &(df_train['rougher.output.concentrate_sol']>0)]\n",
        "df_train=df_train[(df_train['final.output.concentrate_au']>0)\\\n",
        "    & (df_train['final.output.concentrate_ag']>0)\\\n",
        "    & (df_train['final.output.concentrate_pb']>0)\\\n",
        "    & (df_train['final.output.concentrate_sol']>0)]"
      ]
    },
    {
      "cell_type": "code",
      "execution_count": null,
      "metadata": {
        "id": "rRxb0rdXBGir"
      },
      "outputs": [],
      "source": [
        "df_full=df_full[(df_full['rougher.output.concentrate_au']>0) \\\n",
        "    & (df_full['rougher.output.concentrate_ag']>0)\\\n",
        "    & (df_full['rougher.output.concentrate_pb']>0)\\\n",
        "    &(df_full['rougher.output.concentrate_sol']>0)]\n",
        "df_full=df_full[(df_full['final.output.concentrate_au']>0)\\\n",
        "    & (df_full['final.output.concentrate_ag']>0)\\\n",
        "    & (df_full['final.output.concentrate_pb']>0)\\\n",
        "    & (df_full['final.output.concentrate_sol']>0)]"
      ]
    },
    {
      "cell_type": "markdown",
      "metadata": {
        "id": "H-luGQUwBGir"
      },
      "source": [
        "Построим график суммарной концентрации веществ на различных стадиях"
      ]
    },
    {
      "cell_type": "code",
      "execution_count": null,
      "metadata": {
        "id": "pIsLlpLlBGir",
        "outputId": "8831f403-fe54-4e09-d47c-c989ffa85010"
      },
      "outputs": [
        {
          "data": {
            "image/png": "[encoded data removed]",
            "text/plain": [
              "<Figure size 720x504 with 1 Axes>"
            ]
          },
          "metadata": {
            "needs_background": "light"
          },
          "output_type": "display_data"
        }
      ],
      "source": [
        "fig = plt.figure(figsize=(10, 7))\n",
        "plt.hist(df_train['sum_rougher_input'], bins=200, alpha = 0.45, label='на этапе флотации')\n",
        "plt.hist(df_train['sum_rougher_output'], bins=200, alpha = 0.45, label='после первичной обработки')\n",
        "plt.hist(df_train['sum_final_output'], bins=200, alpha = 0.45, label='на финальном этапе')\n",
        "\n",
        "plt.legend(loc='upper left')\n",
        "plt.title('Cуммарная концентрация всех веществ на разных стадиях: в сырье, в черновом и финальном концентратах')\n",
        "plt.xlabel('суммарная концентрация')\n",
        "plt.ylabel('Количество наблюдений')\n",
        "plt.show()"
      ]
    },
    {
      "cell_type": "markdown",
      "metadata": {
        "id": "lV6LLJrjBGis"
      },
      "source": [
        "<div class=\"alert alert-info\">Добавлен коментарий</div>"
      ]
    },
    {
      "cell_type": "markdown",
      "metadata": {
        "id": "q9A0csCOBGis"
      },
      "source": [
        "На этапе первичной обработки и финальном этапе суммарная концентрация веществ увеличивается и находится в диапазоне (55,80), однако длина диапазона в финале заметно сокращается"
      ]
    },
    {
      "cell_type": "code",
      "execution_count": null,
      "metadata": {
        "id": "cdgprEgqBGis"
      },
      "outputs": [],
      "source": [
        "failing.remove('rougher.output.recovery')\n",
        "failing.remove('final.output.recovery')\n",
        "df_train.drop(failing, axis=1, inplace=True)\n",
        "df_train.drop(['sum_rougher_input','sum_rougher_output','sum_final_output','date'], axis=1, inplace=True)"
      ]
    },
    {
      "cell_type": "code",
      "execution_count": null,
      "metadata": {
        "id": "v7V9Zm9vBGis"
      },
      "outputs": [],
      "source": [
        "df_test.drop(['date'], axis=1, inplace=True)"
      ]
    },
    {
      "cell_type": "markdown",
      "metadata": {
        "id": "c5-S89XpBGit"
      },
      "source": [
        "<b>Предварительный вывод #2: </b>\n",
        "<ul>\n",
        "    <li>Пропуски были удалены</li>\n",
        "    <li>Были добавлены целевые признаки из полного датасета в тестовую выборку</li>\n",
        "    <li>Был удален столбец с датой из всех выборок</li>\n",
        "    <li>В результате оценки процентного содержания металлов после этапов обработки, можно заключить,\n",
        "    что процентное содержание золота от этапа к этапу увеличивается; содержание серебра - постепенно уменьшается, а процент свинца растет, но не превышает уровня после флотации;</li>\n",
        "    <li>Характер распределения гранул сырья в обучающей и тренировочной выборках остается неизменным, отличие в диапазонах значений;</li>\n",
        "    <li>Диапазон распеределения суммарной концентрации веществ к финальному этапу уменьшается;</li>\n",
        "    <li>На графиках видны выбросы в районе 0 (считаем целесообразным их удалить для корректности дальнейших исследований)</li>"
      ]
    },
    {
      "cell_type": "markdown",
      "metadata": {
        "id": "5rAw2bvoBGiu"
      },
      "source": [
        "## Построим модель прогнозирования"
      ]
    },
    {
      "cell_type": "markdown",
      "metadata": {
        "id": "ILukepQPBGiv"
      },
      "source": [
        "### Рассчитаем симметричную среднюю абсолютную процентную ошибку (SMAPE)"
      ]
    },
    {
      "cell_type": "code",
      "execution_count": null,
      "metadata": {
        "id": "ae6PobtABGiv"
      },
      "outputs": [],
      "source": [
        "def smape(target, predict):\n",
        "    return (1/len(target))*np.sum((np.abs(target - predict))/( (np.abs(target)+np.abs(predict))/2))*100"
      ]
    },
    {
      "cell_type": "markdown",
      "metadata": {
        "id": "6nJhRA1ABGiw"
      },
      "source": [
        "Напишем функцию нахождения итогового sMAPE"
      ]
    },
    {
      "cell_type": "code",
      "execution_count": null,
      "metadata": {
        "id": "UnOupuOFBGiw"
      },
      "outputs": [],
      "source": [
        "def fin_smape(rougher,final):\n",
        "     return 0.25*rougher+0.75*final"
      ]
    },
    {
      "cell_type": "markdown",
      "metadata": {
        "id": "36x0iQjkBGiw"
      },
      "source": [
        "### Обучим разные модели и оценим их качество кросс-валидацией"
      ]
    },
    {
      "cell_type": "code",
      "execution_count": null,
      "metadata": {
        "id": "IgHc7cSFBGiw"
      },
      "outputs": [],
      "source": [
        "features_train = df_train.drop(['rougher.output.recovery','final.output.recovery'], axis=1)\n",
        "target_train_rougher = df_train['rougher.output.recovery'] # выделим целевые признаки\n",
        "target_train_final = df_train['final.output.recovery']"
      ]
    },
    {
      "cell_type": "code",
      "execution_count": null,
      "metadata": {
        "id": "3QUp9VcOBGix"
      },
      "outputs": [],
      "source": [
        "custom_score = make_scorer(smape,greater_is_better=False)"
      ]
    },
    {
      "cell_type": "code",
      "execution_count": null,
      "metadata": {
        "id": "X6EZVnFPBGix"
      },
      "outputs": [],
      "source": [
        "X_train = features_train\n",
        "y_train1 = target_train_rougher\n",
        "y_train2 = target_train_final"
      ]
    },
    {
      "cell_type": "markdown",
      "metadata": {
        "id": "6AY2bLfNBGix"
      },
      "source": [
        "<b>Модель DecisionTreeRegressor</b>"
      ]
    },
    {
      "cell_type": "markdown",
      "metadata": {
        "id": "cKrR4_MBBGiy"
      },
      "source": [
        "<i>Подберем опртимальные параметры для модели DecisionTreeRegressor:</i>"
      ]
    },
    {
      "cell_type": "code",
      "execution_count": null,
      "metadata": {
        "id": "2jAkSSz_BGiy",
        "outputId": "3d87e31c-fe43-42dd-c581-040440efbc6f"
      },
      "outputs": [
        {
          "name": "stdout",
          "output_type": "stream",
          "text": [
            "CPU times: user 10.7 s, sys: 7.04 ms, total: 10.7 s\n",
            "Wall time: 10.7 s\n"
          ]
        },
        {
          "data": {
            "text/plain": [
              "{'max_depth': 4}"
            ]
          },
          "execution_count": 49,
          "metadata": {},
          "output_type": "execute_result"
        }
      ],
      "source": [
        "%%time\n",
        "clf = DecisionTreeRegressor()\n",
        "parametrs = {\n",
        "           'max_depth': range (2,13, 2)}\n",
        "grid = GridSearchCV(clf, parametrs, scoring=custom_score, cv=5)\n",
        "grid.fit(X_train, y_train1)\n",
        "grid.best_params_"
      ]
    },
    {
      "cell_type": "code",
      "execution_count": null,
      "metadata": {
        "id": "RvgbU2BkBGiz",
        "outputId": "ee23f979-55df-474b-c8b9-9d4fe731a365"
      },
      "outputs": [
        {
          "name": "stdout",
          "output_type": "stream",
          "text": [
            "CPU times: user 10.5 s, sys: 3.67 ms, total: 10.5 s\n",
            "Wall time: 10.6 s\n"
          ]
        },
        {
          "data": {
            "text/plain": [
              "{'max_depth': 2}"
            ]
          },
          "execution_count": 50,
          "metadata": {},
          "output_type": "execute_result"
        }
      ],
      "source": [
        "%%time\n",
        "clf = DecisionTreeRegressor()\n",
        "parametrs = {\n",
        "           'max_depth': range (2,13, 2)}\n",
        "grid = GridSearchCV(clf, parametrs, scoring=custom_score, cv=5)\n",
        "grid.fit(X_train, y_train2)\n",
        "grid.best_params_"
      ]
    },
    {
      "cell_type": "code",
      "execution_count": null,
      "metadata": {
        "id": "oFx0vwGwBGiz",
        "outputId": "6e6614bb-fb00-4636-ec6b-ce62be568644"
      },
      "outputs": [
        {
          "name": "stdout",
          "output_type": "stream",
          "text": [
            "8.943087933998507\n"
          ]
        }
      ],
      "source": [
        "model=DecisionTreeRegressor(random_state=12345,max_depth=4)\n",
        "scores=cross_val_score(model,X_train, y_train1, scoring=custom_score,cv=5)\n",
        "final_smape_rougher = scores.mean()\n",
        "model=DecisionTreeRegressor(random_state=12345,max_depth=2)\n",
        "scores=cross_val_score(model,X_train, y_train2, scoring=custom_score,cv=5)\n",
        "final_smape_final = scores.mean()\n",
        "result_smape_DTR=abs(fin_smape(final_smape_rougher,final_smape_final))\n",
        "print(result_smape_DTR)"
      ]
    },
    {
      "cell_type": "markdown",
      "metadata": {
        "id": "P11a0-zKBGiz"
      },
      "source": [
        "<b>Модель RandomForestRegressor</b>"
      ]
    },
    {
      "cell_type": "markdown",
      "metadata": {
        "id": "VVlcVl8-BGi0"
      },
      "source": [
        "<i>Подберем оптимальные параметры для модели RandomForestRegressor:</i>"
      ]
    },
    {
      "cell_type": "code",
      "execution_count": null,
      "metadata": {
        "id": "Bf_iJJ9XBGi0",
        "outputId": "add299e8-7277-4c80-843e-18f507bcd412"
      },
      "outputs": [
        {
          "name": "stdout",
          "output_type": "stream",
          "text": [
            "CPU times: user 11min 18s, sys: 1.15 s, total: 11min 19s\n",
            "Wall time: 11min 29s\n"
          ]
        },
        {
          "data": {
            "text/plain": [
              "{'max_depth': 4, 'n_estimators': 13}"
            ]
          },
          "execution_count": 52,
          "metadata": {},
          "output_type": "execute_result"
        }
      ],
      "source": [
        "%%time\n",
        "rfr = RandomForestRegressor()\n",
        "parametrs = {'n_estimators': range(5,15),\n",
        "             'max_depth': range (2,13, 2)}\n",
        "grid = GridSearchCV(rfr, parametrs, scoring=custom_score)\n",
        "grid.fit(X_train, y_train1)\n",
        "grid.best_params_"
      ]
    },
    {
      "cell_type": "code",
      "execution_count": null,
      "metadata": {
        "id": "tzypG0a5BGi0",
        "outputId": "771eeb46-505a-4da0-b4cf-7fa55e1f4d1c"
      },
      "outputs": [
        {
          "name": "stdout",
          "output_type": "stream",
          "text": [
            "CPU times: user 5min 26s, sys: 541 ms, total: 5min 27s\n",
            "Wall time: 5min 27s\n"
          ]
        },
        {
          "data": {
            "text/plain": [
              "{'max_depth': 4, 'n_estimators': 6}"
            ]
          },
          "execution_count": 53,
          "metadata": {},
          "output_type": "execute_result"
        }
      ],
      "source": [
        "%%time\n",
        "rfr = RandomForestRegressor()\n",
        "parametrs = {'n_estimators': range(4,15,2),\n",
        "             'max_depth': range (2,13, 2)}\n",
        "grid = GridSearchCV(rfr, parametrs, scoring=custom_score)\n",
        "grid.fit(X_train, y_train2)\n",
        "grid.best_params_"
      ]
    },
    {
      "cell_type": "code",
      "execution_count": null,
      "metadata": {
        "id": "ybDx08SVBGi1",
        "outputId": "f4917a50-71cb-41ea-b3b2-b68a6b65099b"
      },
      "outputs": [
        {
          "name": "stdout",
          "output_type": "stream",
          "text": [
            "8.542982342307454\n"
          ]
        }
      ],
      "source": [
        "model=RandomForestRegressor(random_state=12345,n_estimators=12, max_depth=4)\n",
        "scores=cross_val_score(model,X_train, y_train1, scoring=custom_score,cv=5)\n",
        "final_smape_rougher = scores.mean()\n",
        "model=RandomForestRegressor(random_state=12345,n_estimators=10, max_depth=4)\n",
        "scores=cross_val_score(model,X_train, y_train2, scoring=custom_score,cv=5)\n",
        "final_smape_final = scores.mean()\n",
        "result_smape_RFR=abs(fin_smape(final_smape_rougher,final_smape_final))\n",
        "print(result_smape_RFR)"
      ]
    },
    {
      "cell_type": "markdown",
      "metadata": {
        "id": "akssqvjeBGi1"
      },
      "source": [
        "<b>Модель LinearRegression</b>"
      ]
    },
    {
      "cell_type": "code",
      "execution_count": null,
      "metadata": {
        "id": "yZf5X98kBGi2",
        "outputId": "eefe1d54-e5bd-4c1e-8881-e6f0d7cabd27"
      },
      "outputs": [
        {
          "name": "stdout",
          "output_type": "stream",
          "text": [
            "10.059261443482796\n"
          ]
        }
      ],
      "source": [
        "model = LinearRegression()\n",
        "smape_rougher = cross_val_score(model,X_train,y_train1,scoring=custom_score,cv=5)\n",
        "final_smape_rougher = smape_rougher.mean()\n",
        "smape_final = cross_val_score(model,X_train,y_train2,scoring=custom_score,cv=5)\n",
        "final_smape_final=smape_final.mean()\n",
        "result_smape_LR=abs(fin_smape(final_smape_rougher,final_smape_final))\n",
        "print(result_smape_LR)"
      ]
    },
    {
      "cell_type": "markdown",
      "metadata": {
        "id": "NZcpIAFbBGi3"
      },
      "source": [
        "### Проверим модель RandomForestRegressor на тестовой выборке"
      ]
    },
    {
      "cell_type": "code",
      "execution_count": null,
      "metadata": {
        "id": "EcZSzg9ZBGi4"
      },
      "outputs": [],
      "source": [
        "features_test = df_test.drop(['rougher.output.recovery','final.output.recovery'], axis=1)\n",
        "target_test_rougher = df_test['rougher.output.recovery'] # выделим целевые признаки\n",
        "target_test_final = df_test['final.output.recovery']"
      ]
    },
    {
      "cell_type": "code",
      "execution_count": null,
      "metadata": {
        "id": "ByKD5BBEBGi4"
      },
      "outputs": [],
      "source": [
        "model_RFR_rougher=RandomForestRegressor(random_state=12345,n_estimators=12, max_depth=4)\n",
        "model_RFR_rougher.fit(features_test, target_test_rougher)\n",
        "predicted_rougher = model_RFR_rougher.predict(features_test)"
      ]
    },
    {
      "cell_type": "code",
      "execution_count": null,
      "metadata": {
        "id": "dNOHgUwABGi5"
      },
      "outputs": [],
      "source": [
        "model_RFR_final=RandomForestRegressor(random_state=12345,n_estimators=12, max_depth=4)\n",
        "model_RFR_final.fit(features_test, target_test_final)\n",
        "predicted_final = model_RFR_final.predict(features_test)"
      ]
    },
    {
      "cell_type": "code",
      "execution_count": null,
      "metadata": {
        "id": "yhTouAJBBGi5",
        "outputId": "a13aee87-4ca0-4b7e-cc01-7a51eb946934"
      },
      "outputs": [
        {
          "name": "stdout",
          "output_type": "stream",
          "text": [
            "7.932438132393052\n"
          ]
        }
      ],
      "source": [
        "smape_rougher = smape(target_test_rougher, predicted_rougher)\n",
        "smape_final = smape(target_test_final, predicted_final)\n",
        "final_smape_test =fin_smape(smape_rougher, smape_final)\n",
        "print(final_smape_test)"
      ]
    },
    {
      "cell_type": "code",
      "execution_count": null,
      "metadata": {
        "id": "lMWizk33BGi5",
        "outputId": "fffa085e-9d8f-4402-f181-a9c5abf07561"
      },
      "outputs": [
        {
          "name": "stdout",
          "output_type": "stream",
          "text": [
            "Сравнительная таблица. Cимметричная средняя абсолютная процентная ошибка sMAPE\n",
            "DecisionTreeRegressor |  RandomForestRegressor |  LinearRegression      |  \n",
            "8.94                  |  8.54                  |  10.06                 |  \n"
          ]
        }
      ],
      "source": [
        "print('Сравнительная таблица. Cимметричная средняя абсолютная процентная ошибка sMAPE')\n",
        "final_table=[['DecisionTreeRegressor','RandomForestRegressor','LinearRegression'],\n",
        "             [round(result_smape_DTR,2),round(result_smape_RFR,2),round(result_smape_LR,2)] ]\n",
        "for row in final_table:\n",
        "    for col in row:\n",
        "        print(f'{col:<22}', end='|  ')\n",
        "    print()"
      ]
    },
    {
      "cell_type": "markdown",
      "metadata": {
        "id": "RWbAmQINBGi6"
      },
      "source": [
        "### Проверим модель на адекватность"
      ]
    },
    {
      "cell_type": "code",
      "execution_count": null,
      "metadata": {
        "id": "FwqGGrPXBGi6",
        "outputId": "35d6d869-7cb3-402f-fa60-5925738093a3"
      },
      "outputs": [
        {
          "name": "stdout",
          "output_type": "stream",
          "text": [
            "9.438536537344847\n"
          ]
        }
      ],
      "source": [
        "dummy_rougher = DummyRegressor(strategy=\"median\")\n",
        "dummy_rougher.fit(X_train,target_train_rougher)\n",
        "rougher_pred = dummy_rougher.predict(target_test_rougher)\n",
        "smape_dummy_rougher = smape(target_test_rougher, rougher_pred)\n",
        "\n",
        "dummy_final = DummyRegressor(strategy=\"median\")\n",
        "dummy_final.fit(X_train,target_train_final)\n",
        "final_pred = dummy_final.predict(target_test_final)\n",
        "smape_dummy_final = smape(target_test_final, final_pred)\n",
        "final_smape_test =fin_smape(smape_dummy_rougher, smape_dummy_final)\n",
        "print(final_smape_test)"
      ]
    },
    {
      "cell_type": "markdown",
      "metadata": {
        "id": "12qSHmF3BGi6"
      },
      "source": [
        "<b>Вывод #3: </b>\n",
        "<ul>\n",
        "    <li>Рассмотрены три модели:Модель DecisionTreeRegressor, RandomForestRegressor и LinearRegression. Лучший результат показала модель - RandomForestRegressor. sMAPE этой модели, оказался наименьшим</li>\n",
        "    <li>Выбранная модель была проверена на тестовой выборке и показала  sMAPE = 7,93;</li>\n",
        "    <li>Модель RandomForestRegressor была проверена на адекватность DummyRegressor, показатель sMAPE оказался выше, чем на тествовой выборке, что говорит о неплохом результате. </li>"
      ]
    }
  ],
  "metadata": {
    "ExecuteTimeLog": [
      {
        "duration": 390,
        "start_time": "2022-12-13T12:09:25.952Z"
      },
      {
        "duration": 1565,
        "start_time": "2022-12-13T12:09:27.929Z"
      },
      {
        "duration": 321,
        "start_time": "2022-12-13T12:10:14.531Z"
      },
      {
        "duration": 291,
        "start_time": "2022-12-13T12:10:24.192Z"
      },
      {
        "duration": 12,
        "start_time": "2022-12-13T12:10:41.165Z"
      },
      {
        "duration": 64,
        "start_time": "2022-12-13T12:15:28.074Z"
      },
      {
        "duration": 545,
        "start_time": "2022-12-13T12:16:10.473Z"
      },
      {
        "duration": 25,
        "start_time": "2022-12-13T12:39:02.102Z"
      },
      {
        "duration": 23,
        "start_time": "2022-12-13T12:40:06.185Z"
      },
      {
        "duration": 26,
        "start_time": "2022-12-13T12:40:15.727Z"
      },
      {
        "duration": 3,
        "start_time": "2022-12-13T12:42:57.429Z"
      },
      {
        "duration": 85,
        "start_time": "2022-12-13T12:43:34.614Z"
      },
      {
        "duration": 53,
        "start_time": "2022-12-13T17:58:32.867Z"
      },
      {
        "duration": 49,
        "start_time": "2022-12-13T18:00:25.307Z"
      },
      {
        "duration": 50,
        "start_time": "2022-12-13T18:05:19.668Z"
      },
      {
        "duration": 45,
        "start_time": "2022-12-13T18:09:34.876Z"
      },
      {
        "duration": 449,
        "start_time": "2022-12-13T18:09:42.622Z"
      },
      {
        "duration": 439,
        "start_time": "2022-12-13T18:09:43.072Z"
      },
      {
        "duration": 16,
        "start_time": "2022-12-13T18:09:43.513Z"
      },
      {
        "duration": 483,
        "start_time": "2022-12-13T18:09:43.531Z"
      },
      {
        "duration": 4,
        "start_time": "2022-12-13T18:09:44.016Z"
      },
      {
        "duration": 337,
        "start_time": "2022-12-13T20:05:43.223Z"
      },
      {
        "duration": 2610,
        "start_time": "2022-12-13T20:27:27.475Z"
      },
      {
        "duration": 5,
        "start_time": "2022-12-13T20:27:30.087Z"
      },
      {
        "duration": 51,
        "start_time": "2022-12-13T20:27:30.094Z"
      },
      {
        "duration": 46,
        "start_time": "2022-12-13T20:34:26.685Z"
      },
      {
        "duration": 46,
        "start_time": "2022-12-13T20:36:03.075Z"
      },
      {
        "duration": 27,
        "start_time": "2022-12-13T20:36:33.764Z"
      },
      {
        "duration": 13,
        "start_time": "2022-12-13T20:36:41.313Z"
      },
      {
        "duration": 25,
        "start_time": "2022-12-13T20:36:58.395Z"
      },
      {
        "duration": 33,
        "start_time": "2022-12-13T20:37:17.259Z"
      },
      {
        "duration": 16,
        "start_time": "2022-12-13T20:41:53.795Z"
      },
      {
        "duration": 37,
        "start_time": "2022-12-13T20:43:03.547Z"
      },
      {
        "duration": 3,
        "start_time": "2022-12-13T20:59:22.720Z"
      },
      {
        "duration": 6,
        "start_time": "2022-12-13T20:59:29.061Z"
      },
      {
        "duration": 2,
        "start_time": "2022-12-13T20:59:43.466Z"
      },
      {
        "duration": 6,
        "start_time": "2022-12-13T20:59:49.567Z"
      },
      {
        "duration": 4,
        "start_time": "2022-12-13T21:02:42.385Z"
      },
      {
        "duration": 4,
        "start_time": "2022-12-13T21:04:16.518Z"
      },
      {
        "duration": 25,
        "start_time": "2022-12-13T21:04:59.527Z"
      },
      {
        "duration": 17,
        "start_time": "2022-12-13T21:06:53.470Z"
      },
      {
        "duration": 12,
        "start_time": "2022-12-13T21:07:00.191Z"
      },
      {
        "duration": 31,
        "start_time": "2022-12-13T21:07:12.278Z"
      },
      {
        "duration": 14,
        "start_time": "2022-12-13T21:07:19.656Z"
      },
      {
        "duration": 25,
        "start_time": "2022-12-13T21:07:30.262Z"
      },
      {
        "duration": 17,
        "start_time": "2022-12-13T21:07:35.790Z"
      },
      {
        "duration": 11,
        "start_time": "2022-12-13T21:08:58.115Z"
      },
      {
        "duration": 15,
        "start_time": "2022-12-13T21:11:16.730Z"
      },
      {
        "duration": 7,
        "start_time": "2022-12-13T21:12:12.915Z"
      },
      {
        "duration": 410,
        "start_time": "2022-12-13T21:13:08.010Z"
      },
      {
        "duration": 872,
        "start_time": "2022-12-13T21:13:08.423Z"
      },
      {
        "duration": 21,
        "start_time": "2022-12-13T21:13:09.296Z"
      },
      {
        "duration": 20,
        "start_time": "2022-12-13T21:13:09.319Z"
      },
      {
        "duration": 331,
        "start_time": "2022-12-13T21:13:09.359Z"
      },
      {
        "duration": 10,
        "start_time": "2022-12-13T21:13:09.692Z"
      },
      {
        "duration": 19,
        "start_time": "2022-12-13T21:13:09.704Z"
      },
      {
        "duration": 37,
        "start_time": "2022-12-13T21:13:09.725Z"
      },
      {
        "duration": 31,
        "start_time": "2022-12-13T21:13:09.764Z"
      },
      {
        "duration": 9,
        "start_time": "2022-12-13T21:13:09.797Z"
      },
      {
        "duration": 15,
        "start_time": "2022-12-13T21:13:09.807Z"
      },
      {
        "duration": 42,
        "start_time": "2022-12-13T21:13:09.824Z"
      },
      {
        "duration": 28,
        "start_time": "2022-12-13T21:13:09.869Z"
      },
      {
        "duration": 7,
        "start_time": "2022-12-13T21:13:09.899Z"
      },
      {
        "duration": 52,
        "start_time": "2022-12-14T12:27:55.952Z"
      },
      {
        "duration": 391,
        "start_time": "2022-12-14T12:28:08.779Z"
      },
      {
        "duration": 2582,
        "start_time": "2022-12-14T12:28:09.173Z"
      },
      {
        "duration": 19,
        "start_time": "2022-12-14T12:28:11.756Z"
      },
      {
        "duration": 14,
        "start_time": "2022-12-14T12:28:11.776Z"
      },
      {
        "duration": 451,
        "start_time": "2022-12-14T12:28:11.792Z"
      },
      {
        "duration": 10,
        "start_time": "2022-12-14T12:28:12.245Z"
      },
      {
        "duration": 20,
        "start_time": "2022-12-14T12:28:12.257Z"
      },
      {
        "duration": 13,
        "start_time": "2022-12-14T12:28:12.278Z"
      },
      {
        "duration": 41,
        "start_time": "2022-12-14T12:28:12.292Z"
      },
      {
        "duration": 8,
        "start_time": "2022-12-14T12:28:12.335Z"
      },
      {
        "duration": 12,
        "start_time": "2022-12-14T12:28:12.345Z"
      },
      {
        "duration": 11,
        "start_time": "2022-12-14T12:28:12.358Z"
      },
      {
        "duration": 22,
        "start_time": "2022-12-14T12:28:12.371Z"
      },
      {
        "duration": 27,
        "start_time": "2022-12-14T12:28:12.394Z"
      },
      {
        "duration": 73,
        "start_time": "2022-12-14T12:28:12.423Z"
      },
      {
        "duration": 17,
        "start_time": "2022-12-14T12:29:04.214Z"
      },
      {
        "duration": 26,
        "start_time": "2022-12-14T12:29:17.376Z"
      },
      {
        "duration": 6,
        "start_time": "2022-12-14T12:29:36.174Z"
      },
      {
        "duration": 15,
        "start_time": "2022-12-14T12:30:37.821Z"
      },
      {
        "duration": 9,
        "start_time": "2022-12-14T12:32:32.350Z"
      },
      {
        "duration": 14,
        "start_time": "2022-12-14T12:33:05.152Z"
      },
      {
        "duration": 15,
        "start_time": "2022-12-14T12:33:15.799Z"
      },
      {
        "duration": 12,
        "start_time": "2022-12-14T12:34:07.785Z"
      },
      {
        "duration": 20,
        "start_time": "2022-12-14T12:34:12.004Z"
      },
      {
        "duration": 11,
        "start_time": "2022-12-14T12:34:12.816Z"
      },
      {
        "duration": 8,
        "start_time": "2022-12-14T12:34:13.622Z"
      },
      {
        "duration": 7,
        "start_time": "2022-12-14T12:34:14.707Z"
      },
      {
        "duration": 3,
        "start_time": "2022-12-14T12:48:18.252Z"
      },
      {
        "duration": 4,
        "start_time": "2022-12-14T12:48:38.140Z"
      },
      {
        "duration": 4,
        "start_time": "2022-12-14T12:52:08.383Z"
      },
      {
        "duration": 4,
        "start_time": "2022-12-14T12:52:33.841Z"
      },
      {
        "duration": 4,
        "start_time": "2022-12-14T12:52:59.495Z"
      },
      {
        "duration": 46,
        "start_time": "2022-12-14T19:44:25.889Z"
      },
      {
        "duration": 399,
        "start_time": "2022-12-14T19:44:35.344Z"
      },
      {
        "duration": 2717,
        "start_time": "2022-12-14T19:44:35.745Z"
      },
      {
        "duration": 17,
        "start_time": "2022-12-14T19:44:38.464Z"
      },
      {
        "duration": 13,
        "start_time": "2022-12-14T19:44:38.482Z"
      },
      {
        "duration": 441,
        "start_time": "2022-12-14T19:44:38.496Z"
      },
      {
        "duration": 10,
        "start_time": "2022-12-14T19:44:38.939Z"
      },
      {
        "duration": 16,
        "start_time": "2022-12-14T19:44:38.950Z"
      },
      {
        "duration": 12,
        "start_time": "2022-12-14T19:44:38.967Z"
      },
      {
        "duration": 43,
        "start_time": "2022-12-14T19:44:38.980Z"
      },
      {
        "duration": 8,
        "start_time": "2022-12-14T19:44:39.025Z"
      },
      {
        "duration": 22,
        "start_time": "2022-12-14T19:44:39.034Z"
      },
      {
        "duration": 11,
        "start_time": "2022-12-14T19:44:39.057Z"
      },
      {
        "duration": 20,
        "start_time": "2022-12-14T19:44:39.069Z"
      },
      {
        "duration": 42,
        "start_time": "2022-12-14T19:44:39.090Z"
      },
      {
        "duration": 13,
        "start_time": "2022-12-14T19:44:39.134Z"
      },
      {
        "duration": 8,
        "start_time": "2022-12-14T19:44:39.149Z"
      },
      {
        "duration": 5,
        "start_time": "2022-12-14T19:44:39.158Z"
      },
      {
        "duration": 252,
        "start_time": "2022-12-14T19:44:39.165Z"
      },
      {
        "duration": 199,
        "start_time": "2022-12-14T19:45:25.477Z"
      },
      {
        "duration": 198,
        "start_time": "2022-12-14T19:46:01.784Z"
      },
      {
        "duration": 106,
        "start_time": "2022-12-14T19:47:48.216Z"
      },
      {
        "duration": 77,
        "start_time": "2022-12-14T19:48:24.715Z"
      },
      {
        "duration": 18,
        "start_time": "2022-12-14T19:49:00.397Z"
      },
      {
        "duration": 79,
        "start_time": "2022-12-14T20:19:28.529Z"
      },
      {
        "duration": 8,
        "start_time": "2022-12-14T20:21:01.410Z"
      },
      {
        "duration": 9,
        "start_time": "2022-12-14T20:22:28.041Z"
      },
      {
        "duration": 7,
        "start_time": "2022-12-14T20:24:39.184Z"
      },
      {
        "duration": 11,
        "start_time": "2022-12-14T20:28:27.024Z"
      },
      {
        "duration": 628,
        "start_time": "2022-12-14T20:29:20.419Z"
      },
      {
        "duration": 1039,
        "start_time": "2022-12-14T20:29:35.704Z"
      },
      {
        "duration": 659,
        "start_time": "2022-12-14T20:29:36.746Z"
      },
      {
        "duration": 22,
        "start_time": "2022-12-14T20:29:37.407Z"
      },
      {
        "duration": 12,
        "start_time": "2022-12-14T20:29:37.431Z"
      },
      {
        "duration": 266,
        "start_time": "2022-12-14T20:29:37.445Z"
      },
      {
        "duration": 15,
        "start_time": "2022-12-14T20:29:37.712Z"
      },
      {
        "duration": 101,
        "start_time": "2022-12-14T20:29:37.729Z"
      },
      {
        "duration": 17,
        "start_time": "2022-12-14T20:29:37.832Z"
      },
      {
        "duration": 10,
        "start_time": "2022-12-14T20:29:37.851Z"
      },
      {
        "duration": 23,
        "start_time": "2022-12-14T20:29:37.863Z"
      },
      {
        "duration": 35,
        "start_time": "2022-12-14T20:29:37.887Z"
      },
      {
        "duration": 122,
        "start_time": "2022-12-14T20:29:37.923Z"
      },
      {
        "duration": 11,
        "start_time": "2022-12-14T20:29:38.047Z"
      },
      {
        "duration": 9,
        "start_time": "2022-12-14T20:29:38.060Z"
      },
      {
        "duration": 20,
        "start_time": "2022-12-14T20:29:38.071Z"
      },
      {
        "duration": 48,
        "start_time": "2022-12-14T20:29:38.092Z"
      },
      {
        "duration": 16,
        "start_time": "2022-12-14T20:29:38.142Z"
      },
      {
        "duration": 8,
        "start_time": "2022-12-14T20:29:38.159Z"
      },
      {
        "duration": 6,
        "start_time": "2022-12-14T20:29:38.168Z"
      },
      {
        "duration": 46,
        "start_time": "2022-12-14T20:29:38.175Z"
      },
      {
        "duration": 7,
        "start_time": "2022-12-14T20:29:38.222Z"
      },
      {
        "duration": 8,
        "start_time": "2022-12-14T20:31:16.934Z"
      },
      {
        "duration": 8,
        "start_time": "2022-12-14T20:34:15.194Z"
      },
      {
        "duration": 49,
        "start_time": "2022-12-15T13:13:59.977Z"
      },
      {
        "duration": 1023,
        "start_time": "2022-12-15T13:14:08.025Z"
      },
      {
        "duration": 2641,
        "start_time": "2022-12-15T13:14:09.050Z"
      },
      {
        "duration": 19,
        "start_time": "2022-12-15T13:14:11.692Z"
      },
      {
        "duration": 18,
        "start_time": "2022-12-15T13:14:11.713Z"
      },
      {
        "duration": 483,
        "start_time": "2022-12-15T13:14:11.733Z"
      },
      {
        "duration": 11,
        "start_time": "2022-12-15T13:14:12.217Z"
      },
      {
        "duration": 130,
        "start_time": "2022-12-15T13:14:12.230Z"
      },
      {
        "duration": 23,
        "start_time": "2022-12-15T13:14:12.362Z"
      },
      {
        "duration": 12,
        "start_time": "2022-12-15T13:14:12.387Z"
      },
      {
        "duration": 24,
        "start_time": "2022-12-15T13:14:12.401Z"
      },
      {
        "duration": 9,
        "start_time": "2022-12-15T13:14:12.427Z"
      },
      {
        "duration": 157,
        "start_time": "2022-12-15T13:14:12.438Z"
      },
      {
        "duration": 14,
        "start_time": "2022-12-15T13:14:12.597Z"
      },
      {
        "duration": 11,
        "start_time": "2022-12-15T13:14:12.615Z"
      },
      {
        "duration": 18,
        "start_time": "2022-12-15T13:14:12.628Z"
      },
      {
        "duration": 26,
        "start_time": "2022-12-15T13:14:12.675Z"
      },
      {
        "duration": 14,
        "start_time": "2022-12-15T13:14:12.703Z"
      },
      {
        "duration": 11,
        "start_time": "2022-12-15T13:14:12.718Z"
      },
      {
        "duration": 7,
        "start_time": "2022-12-15T13:14:12.731Z"
      },
      {
        "duration": 58,
        "start_time": "2022-12-15T13:14:12.740Z"
      },
      {
        "duration": 9,
        "start_time": "2022-12-15T13:14:12.800Z"
      },
      {
        "duration": 20,
        "start_time": "2022-12-15T13:14:12.811Z"
      },
      {
        "duration": 4,
        "start_time": "2022-12-15T13:14:53.805Z"
      },
      {
        "duration": 3,
        "start_time": "2022-12-15T13:15:16.549Z"
      },
      {
        "duration": 2,
        "start_time": "2022-12-15T13:45:20.138Z"
      },
      {
        "duration": 3,
        "start_time": "2022-12-15T13:45:26.867Z"
      },
      {
        "duration": 4,
        "start_time": "2022-12-15T13:46:44.810Z"
      },
      {
        "duration": 3,
        "start_time": "2022-12-15T13:51:16.475Z"
      },
      {
        "duration": 3,
        "start_time": "2022-12-15T13:51:17.099Z"
      },
      {
        "duration": 3,
        "start_time": "2022-12-15T13:51:32.122Z"
      },
      {
        "duration": 6,
        "start_time": "2022-12-15T13:53:00.583Z"
      },
      {
        "duration": 3,
        "start_time": "2022-12-15T13:55:29.557Z"
      },
      {
        "duration": 4,
        "start_time": "2022-12-15T13:55:57.469Z"
      },
      {
        "duration": 18,
        "start_time": "2022-12-15T14:03:48.075Z"
      },
      {
        "duration": 5,
        "start_time": "2022-12-15T14:04:15.598Z"
      },
      {
        "duration": 18,
        "start_time": "2022-12-15T14:05:31.861Z"
      },
      {
        "duration": 16,
        "start_time": "2022-12-15T14:05:56.029Z"
      },
      {
        "duration": 13,
        "start_time": "2022-12-15T14:06:55.457Z"
      },
      {
        "duration": 6,
        "start_time": "2022-12-15T14:07:30.779Z"
      },
      {
        "duration": 57,
        "start_time": "2022-12-15T14:11:15.046Z"
      },
      {
        "duration": 4,
        "start_time": "2022-12-15T14:11:39.717Z"
      },
      {
        "duration": 6,
        "start_time": "2022-12-15T14:12:27.408Z"
      },
      {
        "duration": 5,
        "start_time": "2022-12-15T14:12:54.243Z"
      },
      {
        "duration": 4,
        "start_time": "2022-12-15T14:15:12.289Z"
      },
      {
        "duration": 5,
        "start_time": "2022-12-15T14:17:07.920Z"
      },
      {
        "duration": 5,
        "start_time": "2022-12-15T14:18:14.524Z"
      },
      {
        "duration": 5,
        "start_time": "2022-12-15T14:18:26.145Z"
      },
      {
        "duration": 4,
        "start_time": "2022-12-15T14:23:27.222Z"
      },
      {
        "duration": 54,
        "start_time": "2022-12-15T14:29:59.907Z"
      },
      {
        "duration": 3,
        "start_time": "2022-12-15T14:30:08.920Z"
      },
      {
        "duration": 102,
        "start_time": "2022-12-15T14:33:03.192Z"
      },
      {
        "duration": 9,
        "start_time": "2022-12-15T14:34:09.238Z"
      },
      {
        "duration": 3,
        "start_time": "2022-12-15T14:35:15.003Z"
      },
      {
        "duration": 3,
        "start_time": "2022-12-15T14:35:15.951Z"
      },
      {
        "duration": 4,
        "start_time": "2022-12-15T14:36:12.315Z"
      },
      {
        "duration": 3,
        "start_time": "2022-12-15T14:36:12.911Z"
      },
      {
        "duration": 3,
        "start_time": "2022-12-15T14:36:13.500Z"
      },
      {
        "duration": 3,
        "start_time": "2022-12-15T14:36:39.809Z"
      },
      {
        "duration": 10,
        "start_time": "2022-12-15T14:37:51.700Z"
      },
      {
        "duration": 3,
        "start_time": "2022-12-15T14:38:08.793Z"
      },
      {
        "duration": 3,
        "start_time": "2022-12-15T14:38:24.986Z"
      },
      {
        "duration": 2,
        "start_time": "2022-12-15T14:38:25.594Z"
      },
      {
        "duration": 3,
        "start_time": "2022-12-15T14:38:26.236Z"
      },
      {
        "duration": 5,
        "start_time": "2022-12-15T14:39:11.156Z"
      },
      {
        "duration": 5,
        "start_time": "2022-12-15T14:39:54.946Z"
      },
      {
        "duration": 7,
        "start_time": "2022-12-15T14:50:41.887Z"
      },
      {
        "duration": 5,
        "start_time": "2022-12-15T14:51:21.745Z"
      },
      {
        "duration": 12,
        "start_time": "2022-12-15T14:51:44.179Z"
      },
      {
        "duration": 4,
        "start_time": "2022-12-15T14:51:49.991Z"
      },
      {
        "duration": 2,
        "start_time": "2022-12-15T15:01:30.371Z"
      },
      {
        "duration": 3,
        "start_time": "2022-12-15T15:01:30.876Z"
      },
      {
        "duration": 2,
        "start_time": "2022-12-15T15:01:31.757Z"
      },
      {
        "duration": 3,
        "start_time": "2022-12-15T15:01:32.990Z"
      },
      {
        "duration": 10,
        "start_time": "2022-12-15T15:01:36.490Z"
      },
      {
        "duration": 3,
        "start_time": "2022-12-15T15:01:47.003Z"
      },
      {
        "duration": 4,
        "start_time": "2022-12-15T15:01:47.685Z"
      },
      {
        "duration": 5,
        "start_time": "2022-12-15T15:01:48.792Z"
      },
      {
        "duration": 4,
        "start_time": "2022-12-15T15:01:50.224Z"
      },
      {
        "duration": 4,
        "start_time": "2022-12-15T15:01:50.881Z"
      },
      {
        "duration": 5,
        "start_time": "2022-12-15T15:01:51.592Z"
      },
      {
        "duration": 4,
        "start_time": "2022-12-15T15:01:52.830Z"
      },
      {
        "duration": 26,
        "start_time": "2022-12-15T15:01:55.804Z"
      },
      {
        "duration": 18,
        "start_time": "2022-12-15T15:02:50.732Z"
      },
      {
        "duration": 10,
        "start_time": "2022-12-15T15:02:51.286Z"
      },
      {
        "duration": 9,
        "start_time": "2022-12-15T15:02:54.557Z"
      },
      {
        "duration": 9,
        "start_time": "2022-12-15T15:02:54.944Z"
      },
      {
        "duration": 24,
        "start_time": "2022-12-15T15:03:25.558Z"
      },
      {
        "duration": 8,
        "start_time": "2022-12-15T15:06:08.413Z"
      },
      {
        "duration": 12,
        "start_time": "2022-12-15T15:06:29.701Z"
      },
      {
        "duration": 44,
        "start_time": "2022-12-15T15:07:47.947Z"
      },
      {
        "duration": 12,
        "start_time": "2022-12-15T15:08:00.070Z"
      },
      {
        "duration": 999,
        "start_time": "2022-12-15T15:08:26.785Z"
      },
      {
        "duration": 666,
        "start_time": "2022-12-15T15:08:27.786Z"
      },
      {
        "duration": 23,
        "start_time": "2022-12-15T15:08:28.454Z"
      },
      {
        "duration": 13,
        "start_time": "2022-12-15T15:08:28.479Z"
      },
      {
        "duration": 266,
        "start_time": "2022-12-15T15:08:28.493Z"
      },
      {
        "duration": 17,
        "start_time": "2022-12-15T15:08:28.760Z"
      },
      {
        "duration": 97,
        "start_time": "2022-12-15T15:08:28.779Z"
      },
      {
        "duration": 16,
        "start_time": "2022-12-15T15:08:28.877Z"
      },
      {
        "duration": 10,
        "start_time": "2022-12-15T15:08:28.895Z"
      },
      {
        "duration": 27,
        "start_time": "2022-12-15T15:08:28.908Z"
      },
      {
        "duration": 7,
        "start_time": "2022-12-15T15:08:28.937Z"
      },
      {
        "duration": 138,
        "start_time": "2022-12-15T15:08:28.946Z"
      },
      {
        "duration": 13,
        "start_time": "2022-12-15T15:08:29.085Z"
      },
      {
        "duration": 10,
        "start_time": "2022-12-15T15:08:29.100Z"
      },
      {
        "duration": 38,
        "start_time": "2022-12-15T15:08:29.112Z"
      },
      {
        "duration": 7,
        "start_time": "2022-12-15T15:08:29.151Z"
      },
      {
        "duration": 8,
        "start_time": "2022-12-15T15:08:29.160Z"
      },
      {
        "duration": 7,
        "start_time": "2022-12-15T15:08:29.170Z"
      },
      {
        "duration": 7,
        "start_time": "2022-12-15T15:08:29.178Z"
      },
      {
        "duration": 11,
        "start_time": "2022-12-15T15:08:29.186Z"
      },
      {
        "duration": 7,
        "start_time": "2022-12-15T15:08:29.198Z"
      },
      {
        "duration": 5,
        "start_time": "2022-12-15T15:08:29.206Z"
      },
      {
        "duration": 7,
        "start_time": "2022-12-15T15:08:29.212Z"
      },
      {
        "duration": 30,
        "start_time": "2022-12-15T15:08:29.220Z"
      },
      {
        "duration": 25,
        "start_time": "2022-12-15T15:08:29.252Z"
      },
      {
        "duration": 9,
        "start_time": "2022-12-15T15:08:29.279Z"
      },
      {
        "duration": 8,
        "start_time": "2022-12-15T15:08:29.289Z"
      },
      {
        "duration": 26,
        "start_time": "2022-12-15T15:08:29.299Z"
      },
      {
        "duration": 13,
        "start_time": "2022-12-15T15:08:29.326Z"
      },
      {
        "duration": 2,
        "start_time": "2022-12-15T15:13:17.110Z"
      },
      {
        "duration": 689,
        "start_time": "2022-12-15T15:49:46.674Z"
      },
      {
        "duration": 19,
        "start_time": "2022-12-15T15:49:56.002Z"
      },
      {
        "duration": 13,
        "start_time": "2022-12-15T15:50:33.853Z"
      },
      {
        "duration": 20,
        "start_time": "2022-12-15T15:50:35.382Z"
      },
      {
        "duration": 10,
        "start_time": "2022-12-15T15:50:36.508Z"
      },
      {
        "duration": 90,
        "start_time": "2022-12-15T15:50:37.423Z"
      },
      {
        "duration": 16,
        "start_time": "2022-12-15T15:50:42.661Z"
      },
      {
        "duration": 13,
        "start_time": "2022-12-15T15:50:44.083Z"
      },
      {
        "duration": 21,
        "start_time": "2022-12-15T15:50:48.168Z"
      },
      {
        "duration": 8,
        "start_time": "2022-12-15T15:50:49.371Z"
      },
      {
        "duration": 113,
        "start_time": "2022-12-15T15:50:51.278Z"
      },
      {
        "duration": 11,
        "start_time": "2022-12-15T15:50:55.000Z"
      },
      {
        "duration": 12,
        "start_time": "2022-12-15T15:51:00.139Z"
      },
      {
        "duration": 15,
        "start_time": "2022-12-15T15:51:01.714Z"
      },
      {
        "duration": 8,
        "start_time": "2022-12-15T15:51:07.489Z"
      },
      {
        "duration": 3,
        "start_time": "2022-12-15T15:51:11.282Z"
      },
      {
        "duration": 4,
        "start_time": "2022-12-15T15:51:16.351Z"
      },
      {
        "duration": 55,
        "start_time": "2022-12-15T15:55:25.571Z"
      },
      {
        "duration": 4,
        "start_time": "2022-12-15T15:55:45.869Z"
      },
      {
        "duration": 4,
        "start_time": "2022-12-15T15:55:47.270Z"
      },
      {
        "duration": 4,
        "start_time": "2022-12-15T15:57:14.584Z"
      },
      {
        "duration": 4,
        "start_time": "2022-12-15T15:58:21.089Z"
      },
      {
        "duration": 4,
        "start_time": "2022-12-15T15:58:53.300Z"
      },
      {
        "duration": 4,
        "start_time": "2022-12-15T15:59:34.035Z"
      },
      {
        "duration": 6,
        "start_time": "2022-12-15T15:59:54.892Z"
      },
      {
        "duration": 5,
        "start_time": "2022-12-15T16:00:18.803Z"
      },
      {
        "duration": 7,
        "start_time": "2022-12-15T16:00:45.628Z"
      },
      {
        "duration": 9,
        "start_time": "2022-12-15T16:01:17.226Z"
      },
      {
        "duration": 53,
        "start_time": "2022-12-15T16:28:30.631Z"
      },
      {
        "duration": 3,
        "start_time": "2022-12-15T16:29:19.525Z"
      },
      {
        "duration": 816,
        "start_time": "2022-12-15T16:29:20.512Z"
      },
      {
        "duration": 10,
        "start_time": "2022-12-15T16:37:37.142Z"
      },
      {
        "duration": 10,
        "start_time": "2022-12-15T16:38:08.428Z"
      },
      {
        "duration": 11,
        "start_time": "2022-12-15T16:38:24.370Z"
      },
      {
        "duration": 3,
        "start_time": "2022-12-15T16:39:27.538Z"
      },
      {
        "duration": 246,
        "start_time": "2022-12-15T16:39:32.588Z"
      },
      {
        "duration": 1247,
        "start_time": "2022-12-15T16:39:45.571Z"
      },
      {
        "duration": 2647,
        "start_time": "2022-12-15T16:42:07.216Z"
      },
      {
        "duration": 2785,
        "start_time": "2022-12-15T16:43:16.503Z"
      },
      {
        "duration": 153,
        "start_time": "2022-12-15T16:44:46.602Z"
      },
      {
        "duration": 161,
        "start_time": "2022-12-15T16:44:53.192Z"
      },
      {
        "duration": 167,
        "start_time": "2022-12-15T16:45:03.109Z"
      },
      {
        "duration": 157,
        "start_time": "2022-12-15T16:45:14.536Z"
      },
      {
        "duration": 154,
        "start_time": "2022-12-15T16:45:47.205Z"
      },
      {
        "duration": 171,
        "start_time": "2022-12-15T16:46:03.938Z"
      },
      {
        "duration": 157,
        "start_time": "2022-12-15T16:46:19.049Z"
      },
      {
        "duration": 172,
        "start_time": "2022-12-15T16:46:42.952Z"
      },
      {
        "duration": 589,
        "start_time": "2022-12-15T16:46:49.674Z"
      },
      {
        "duration": 612,
        "start_time": "2022-12-15T19:03:40.767Z"
      },
      {
        "duration": 1375,
        "start_time": "2022-12-15T19:03:49.826Z"
      },
      {
        "duration": 2230,
        "start_time": "2022-12-15T19:03:51.203Z"
      },
      {
        "duration": 19,
        "start_time": "2022-12-15T19:03:53.435Z"
      },
      {
        "duration": 14,
        "start_time": "2022-12-15T19:03:53.456Z"
      },
      {
        "duration": 71,
        "start_time": "2022-12-15T19:03:53.472Z"
      },
      {
        "duration": 10,
        "start_time": "2022-12-15T19:03:53.546Z"
      },
      {
        "duration": 112,
        "start_time": "2022-12-15T19:03:53.558Z"
      },
      {
        "duration": 16,
        "start_time": "2022-12-15T19:03:53.672Z"
      },
      {
        "duration": 25,
        "start_time": "2022-12-15T19:03:53.690Z"
      },
      {
        "duration": 20,
        "start_time": "2022-12-15T19:03:53.719Z"
      },
      {
        "duration": 9,
        "start_time": "2022-12-15T19:03:53.741Z"
      },
      {
        "duration": 139,
        "start_time": "2022-12-15T19:03:53.751Z"
      },
      {
        "duration": 22,
        "start_time": "2022-12-15T19:03:53.892Z"
      },
      {
        "duration": 11,
        "start_time": "2022-12-15T19:03:53.916Z"
      },
      {
        "duration": 20,
        "start_time": "2022-12-15T19:03:53.929Z"
      },
      {
        "duration": 8,
        "start_time": "2022-12-15T19:03:53.950Z"
      },
      {
        "duration": 8,
        "start_time": "2022-12-15T19:03:53.959Z"
      },
      {
        "duration": 11,
        "start_time": "2022-12-15T19:03:53.969Z"
      },
      {
        "duration": 5,
        "start_time": "2022-12-15T19:03:53.982Z"
      },
      {
        "duration": 31,
        "start_time": "2022-12-15T19:03:53.989Z"
      },
      {
        "duration": 23,
        "start_time": "2022-12-15T19:03:54.021Z"
      },
      {
        "duration": 8,
        "start_time": "2022-12-15T19:03:54.046Z"
      },
      {
        "duration": 8,
        "start_time": "2022-12-15T19:03:54.055Z"
      },
      {
        "duration": 7,
        "start_time": "2022-12-15T19:03:54.064Z"
      },
      {
        "duration": 59,
        "start_time": "2022-12-15T19:03:54.072Z"
      },
      {
        "duration": 9,
        "start_time": "2022-12-15T19:03:54.133Z"
      },
      {
        "duration": 389,
        "start_time": "2022-12-15T19:03:54.144Z"
      },
      {
        "duration": 453,
        "start_time": "2022-12-15T19:04:08.765Z"
      },
      {
        "duration": 372,
        "start_time": "2022-12-15T19:04:20.458Z"
      },
      {
        "duration": 68,
        "start_time": "2022-12-15T19:07:35.849Z"
      },
      {
        "duration": 263,
        "start_time": "2022-12-15T19:07:46.546Z"
      },
      {
        "duration": 1270,
        "start_time": "2022-12-15T19:11:26.445Z"
      },
      {
        "duration": 629,
        "start_time": "2022-12-15T19:11:27.717Z"
      },
      {
        "duration": 17,
        "start_time": "2022-12-15T19:11:28.348Z"
      },
      {
        "duration": 24,
        "start_time": "2022-12-15T19:11:28.366Z"
      },
      {
        "duration": 79,
        "start_time": "2022-12-15T19:11:28.392Z"
      },
      {
        "duration": 9,
        "start_time": "2022-12-15T19:11:28.473Z"
      },
      {
        "duration": 106,
        "start_time": "2022-12-15T19:11:28.483Z"
      },
      {
        "duration": 23,
        "start_time": "2022-12-15T19:11:28.590Z"
      },
      {
        "duration": 12,
        "start_time": "2022-12-15T19:11:28.615Z"
      },
      {
        "duration": 57,
        "start_time": "2022-12-15T19:11:28.630Z"
      },
      {
        "duration": 7,
        "start_time": "2022-12-15T19:11:28.689Z"
      },
      {
        "duration": 121,
        "start_time": "2022-12-15T19:11:28.697Z"
      },
      {
        "duration": 12,
        "start_time": "2022-12-15T19:11:28.820Z"
      },
      {
        "duration": 17,
        "start_time": "2022-12-15T19:11:28.834Z"
      },
      {
        "duration": 25,
        "start_time": "2022-12-15T19:11:28.853Z"
      },
      {
        "duration": 8,
        "start_time": "2022-12-15T19:11:28.880Z"
      },
      {
        "duration": 16,
        "start_time": "2022-12-15T19:11:28.890Z"
      },
      {
        "duration": 14,
        "start_time": "2022-12-15T19:11:28.912Z"
      },
      {
        "duration": 27,
        "start_time": "2022-12-15T19:11:28.928Z"
      },
      {
        "duration": 25,
        "start_time": "2022-12-15T19:11:28.957Z"
      },
      {
        "duration": 36,
        "start_time": "2022-12-15T19:11:28.985Z"
      },
      {
        "duration": 15,
        "start_time": "2022-12-15T19:11:29.023Z"
      },
      {
        "duration": 10,
        "start_time": "2022-12-15T19:11:29.040Z"
      },
      {
        "duration": 24,
        "start_time": "2022-12-15T19:11:29.051Z"
      },
      {
        "duration": 22,
        "start_time": "2022-12-15T19:11:29.077Z"
      },
      {
        "duration": 19,
        "start_time": "2022-12-15T19:11:29.100Z"
      },
      {
        "duration": 1248,
        "start_time": "2022-12-15T19:13:06.269Z"
      },
      {
        "duration": 622,
        "start_time": "2022-12-15T19:13:07.519Z"
      },
      {
        "duration": 17,
        "start_time": "2022-12-15T19:13:08.143Z"
      },
      {
        "duration": 31,
        "start_time": "2022-12-15T19:13:08.162Z"
      },
      {
        "duration": 74,
        "start_time": "2022-12-15T19:13:08.195Z"
      },
      {
        "duration": 9,
        "start_time": "2022-12-15T19:13:08.271Z"
      },
      {
        "duration": 106,
        "start_time": "2022-12-15T19:13:08.281Z"
      },
      {
        "duration": 15,
        "start_time": "2022-12-15T19:13:08.389Z"
      },
      {
        "duration": 17,
        "start_time": "2022-12-15T19:13:08.405Z"
      },
      {
        "duration": 58,
        "start_time": "2022-12-15T19:13:08.425Z"
      },
      {
        "duration": 24,
        "start_time": "2022-12-15T19:13:08.485Z"
      },
      {
        "duration": 129,
        "start_time": "2022-12-15T19:13:08.510Z"
      },
      {
        "duration": 12,
        "start_time": "2022-12-15T19:13:08.641Z"
      },
      {
        "duration": 48,
        "start_time": "2022-12-15T19:13:08.654Z"
      },
      {
        "duration": 50,
        "start_time": "2022-12-15T19:13:08.704Z"
      },
      {
        "duration": 24,
        "start_time": "2022-12-15T19:13:08.755Z"
      },
      {
        "duration": 28,
        "start_time": "2022-12-15T19:13:08.781Z"
      },
      {
        "duration": 35,
        "start_time": "2022-12-15T19:13:08.811Z"
      },
      {
        "duration": 23,
        "start_time": "2022-12-15T19:13:08.847Z"
      },
      {
        "duration": 38,
        "start_time": "2022-12-15T19:13:08.871Z"
      },
      {
        "duration": 51,
        "start_time": "2022-12-15T19:13:08.910Z"
      },
      {
        "duration": 9,
        "start_time": "2022-12-15T19:13:08.963Z"
      },
      {
        "duration": 18,
        "start_time": "2022-12-15T19:13:08.973Z"
      },
      {
        "duration": 23,
        "start_time": "2022-12-15T19:13:08.992Z"
      },
      {
        "duration": 51,
        "start_time": "2022-12-15T19:13:09.017Z"
      },
      {
        "duration": 9,
        "start_time": "2022-12-15T19:13:09.069Z"
      },
      {
        "duration": 390,
        "start_time": "2022-12-15T19:13:09.080Z"
      },
      {
        "duration": 102,
        "start_time": "2022-12-15T19:13:09.473Z"
      },
      {
        "duration": 414,
        "start_time": "2022-12-15T19:15:02.693Z"
      },
      {
        "duration": 350,
        "start_time": "2022-12-15T19:15:12.699Z"
      },
      {
        "duration": 380,
        "start_time": "2022-12-15T19:17:20.953Z"
      },
      {
        "duration": 188,
        "start_time": "2022-12-15T19:18:49.236Z"
      },
      {
        "duration": 496,
        "start_time": "2022-12-15T19:18:59.352Z"
      },
      {
        "duration": 417,
        "start_time": "2022-12-15T19:19:17.106Z"
      },
      {
        "duration": 397,
        "start_time": "2022-12-15T19:22:52.340Z"
      },
      {
        "duration": 428,
        "start_time": "2022-12-15T19:23:34.639Z"
      },
      {
        "duration": 539,
        "start_time": "2022-12-15T19:24:24.992Z"
      },
      {
        "duration": 416,
        "start_time": "2022-12-15T19:26:52.745Z"
      },
      {
        "duration": 399,
        "start_time": "2022-12-15T19:27:04.218Z"
      },
      {
        "duration": 396,
        "start_time": "2022-12-15T19:28:55.336Z"
      },
      {
        "duration": 535,
        "start_time": "2022-12-15T19:30:35.893Z"
      },
      {
        "duration": 421,
        "start_time": "2022-12-15T19:30:46.293Z"
      },
      {
        "duration": 253,
        "start_time": "2022-12-15T19:31:17.243Z"
      },
      {
        "duration": 748,
        "start_time": "2022-12-15T19:31:36.313Z"
      },
      {
        "duration": 1232,
        "start_time": "2022-12-15T19:32:25.233Z"
      },
      {
        "duration": 1114,
        "start_time": "2022-12-15T19:32:44.466Z"
      },
      {
        "duration": 1415,
        "start_time": "2022-12-15T19:32:52.111Z"
      },
      {
        "duration": 1257,
        "start_time": "2022-12-15T19:33:26.256Z"
      },
      {
        "duration": 1265,
        "start_time": "2022-12-15T19:33:52.002Z"
      },
      {
        "duration": 1221,
        "start_time": "2022-12-15T19:34:16.831Z"
      },
      {
        "duration": 1211,
        "start_time": "2022-12-15T19:34:31.809Z"
      },
      {
        "duration": 1250,
        "start_time": "2022-12-15T19:35:15.126Z"
      },
      {
        "duration": 1204,
        "start_time": "2022-12-15T19:35:50.964Z"
      },
      {
        "duration": 1205,
        "start_time": "2022-12-15T19:36:35.299Z"
      },
      {
        "duration": 1256,
        "start_time": "2022-12-15T19:37:20.532Z"
      },
      {
        "duration": 1077,
        "start_time": "2022-12-15T19:38:03.473Z"
      },
      {
        "duration": 1315,
        "start_time": "2022-12-15T19:38:27.868Z"
      },
      {
        "duration": 71,
        "start_time": "2022-12-15T19:42:44.042Z"
      },
      {
        "duration": 4,
        "start_time": "2022-12-15T19:42:54.558Z"
      },
      {
        "duration": 1372,
        "start_time": "2022-12-15T19:42:58.889Z"
      },
      {
        "duration": 5,
        "start_time": "2022-12-15T19:43:40.601Z"
      },
      {
        "duration": 1352,
        "start_time": "2022-12-15T19:43:44.273Z"
      },
      {
        "duration": 10,
        "start_time": "2022-12-15T19:45:40.765Z"
      },
      {
        "duration": 12,
        "start_time": "2022-12-15T19:46:29.412Z"
      },
      {
        "duration": 5,
        "start_time": "2022-12-15T19:46:37.253Z"
      },
      {
        "duration": 1261,
        "start_time": "2022-12-15T19:46:37.895Z"
      },
      {
        "duration": 4,
        "start_time": "2022-12-15T19:48:23.219Z"
      },
      {
        "duration": 4,
        "start_time": "2022-12-15T19:48:27.614Z"
      },
      {
        "duration": 1245,
        "start_time": "2022-12-15T19:48:28.446Z"
      },
      {
        "duration": 4,
        "start_time": "2022-12-15T19:49:07.982Z"
      },
      {
        "duration": 1291,
        "start_time": "2022-12-15T19:49:08.965Z"
      },
      {
        "duration": 4,
        "start_time": "2022-12-15T19:49:57.980Z"
      },
      {
        "duration": 1308,
        "start_time": "2022-12-15T19:49:59.030Z"
      },
      {
        "duration": 1333,
        "start_time": "2022-12-15T19:50:43.616Z"
      },
      {
        "duration": 1309,
        "start_time": "2022-12-15T19:51:43.378Z"
      },
      {
        "duration": 1348,
        "start_time": "2022-12-15T19:52:27.697Z"
      },
      {
        "duration": 634,
        "start_time": "2022-12-15T19:52:29.047Z"
      },
      {
        "duration": 18,
        "start_time": "2022-12-15T19:52:29.683Z"
      },
      {
        "duration": 21,
        "start_time": "2022-12-15T19:52:29.703Z"
      },
      {
        "duration": 57,
        "start_time": "2022-12-15T19:52:29.725Z"
      },
      {
        "duration": 9,
        "start_time": "2022-12-15T19:52:29.784Z"
      },
      {
        "duration": 86,
        "start_time": "2022-12-15T19:52:29.812Z"
      },
      {
        "duration": 25,
        "start_time": "2022-12-15T19:52:29.899Z"
      },
      {
        "duration": 11,
        "start_time": "2022-12-15T19:52:29.925Z"
      },
      {
        "duration": 24,
        "start_time": "2022-12-15T19:52:29.939Z"
      },
      {
        "duration": 8,
        "start_time": "2022-12-15T19:52:29.965Z"
      },
      {
        "duration": 139,
        "start_time": "2022-12-15T19:52:29.974Z"
      },
      {
        "duration": 13,
        "start_time": "2022-12-15T19:52:30.114Z"
      },
      {
        "duration": 28,
        "start_time": "2022-12-15T19:52:30.129Z"
      },
      {
        "duration": 24,
        "start_time": "2022-12-15T19:52:30.159Z"
      },
      {
        "duration": 10,
        "start_time": "2022-12-15T19:52:30.185Z"
      },
      {
        "duration": 5,
        "start_time": "2022-12-15T19:52:30.197Z"
      },
      {
        "duration": 9,
        "start_time": "2022-12-15T19:52:30.214Z"
      },
      {
        "duration": 8,
        "start_time": "2022-12-15T19:52:30.225Z"
      },
      {
        "duration": 43,
        "start_time": "2022-12-15T19:52:30.235Z"
      },
      {
        "duration": 41,
        "start_time": "2022-12-15T19:52:30.280Z"
      },
      {
        "duration": 11,
        "start_time": "2022-12-15T19:52:30.324Z"
      },
      {
        "duration": 23,
        "start_time": "2022-12-15T19:52:30.338Z"
      },
      {
        "duration": 14,
        "start_time": "2022-12-15T19:52:30.364Z"
      },
      {
        "duration": 45,
        "start_time": "2022-12-15T19:52:30.381Z"
      },
      {
        "duration": 32,
        "start_time": "2022-12-15T19:52:30.429Z"
      },
      {
        "duration": 167053,
        "start_time": "2022-12-15T19:52:30.463Z"
      },
      {
        "duration": 1149,
        "start_time": "2022-12-15T19:55:18.684Z"
      },
      {
        "duration": 5,
        "start_time": "2022-12-15T19:55:19.834Z"
      },
      {
        "duration": 1351,
        "start_time": "2022-12-15T19:55:23.522Z"
      },
      {
        "duration": 666,
        "start_time": "2022-12-15T19:55:24.875Z"
      },
      {
        "duration": 17,
        "start_time": "2022-12-15T19:55:25.543Z"
      },
      {
        "duration": 13,
        "start_time": "2022-12-15T19:55:25.562Z"
      },
      {
        "duration": 70,
        "start_time": "2022-12-15T19:55:25.576Z"
      },
      {
        "duration": 8,
        "start_time": "2022-12-15T19:55:25.647Z"
      },
      {
        "duration": 96,
        "start_time": "2022-12-15T19:55:25.657Z"
      },
      {
        "duration": 15,
        "start_time": "2022-12-15T19:55:25.755Z"
      },
      {
        "duration": 11,
        "start_time": "2022-12-15T19:55:25.771Z"
      },
      {
        "duration": 36,
        "start_time": "2022-12-15T19:55:25.784Z"
      },
      {
        "duration": 8,
        "start_time": "2022-12-15T19:55:25.821Z"
      },
      {
        "duration": 124,
        "start_time": "2022-12-15T19:55:25.830Z"
      },
      {
        "duration": 12,
        "start_time": "2022-12-15T19:55:25.956Z"
      },
      {
        "duration": 12,
        "start_time": "2022-12-15T19:55:25.969Z"
      },
      {
        "duration": 36,
        "start_time": "2022-12-15T19:55:25.983Z"
      },
      {
        "duration": 8,
        "start_time": "2022-12-15T19:55:26.021Z"
      },
      {
        "duration": 12,
        "start_time": "2022-12-15T19:55:26.031Z"
      },
      {
        "duration": 18,
        "start_time": "2022-12-15T19:55:26.044Z"
      },
      {
        "duration": 10,
        "start_time": "2022-12-15T19:55:26.064Z"
      },
      {
        "duration": 18,
        "start_time": "2022-12-15T19:55:26.076Z"
      },
      {
        "duration": 21,
        "start_time": "2022-12-15T19:55:26.095Z"
      },
      {
        "duration": 8,
        "start_time": "2022-12-15T19:55:26.118Z"
      },
      {
        "duration": 9,
        "start_time": "2022-12-15T19:55:26.128Z"
      },
      {
        "duration": 12,
        "start_time": "2022-12-15T19:55:26.138Z"
      },
      {
        "duration": 29,
        "start_time": "2022-12-15T19:55:26.152Z"
      },
      {
        "duration": 11,
        "start_time": "2022-12-15T19:55:26.182Z"
      },
      {
        "duration": 20,
        "start_time": "2022-12-15T19:55:26.194Z"
      },
      {
        "duration": 1223,
        "start_time": "2022-12-15T19:55:26.217Z"
      },
      {
        "duration": 1255,
        "start_time": "2022-12-15T19:55:27.442Z"
      },
      {
        "duration": 5,
        "start_time": "2022-12-15T19:58:14.314Z"
      },
      {
        "duration": 1191,
        "start_time": "2022-12-15T19:58:15.028Z"
      },
      {
        "duration": 1276,
        "start_time": "2022-12-15T19:58:17.491Z"
      },
      {
        "duration": 1279,
        "start_time": "2022-12-15T19:58:18.769Z"
      },
      {
        "duration": 1299,
        "start_time": "2022-12-15T19:59:47.144Z"
      },
      {
        "duration": 664,
        "start_time": "2022-12-15T19:59:48.445Z"
      },
      {
        "duration": 18,
        "start_time": "2022-12-15T19:59:49.110Z"
      },
      {
        "duration": 13,
        "start_time": "2022-12-15T19:59:49.130Z"
      },
      {
        "duration": 74,
        "start_time": "2022-12-15T19:59:49.145Z"
      },
      {
        "duration": 9,
        "start_time": "2022-12-15T19:59:49.221Z"
      },
      {
        "duration": 98,
        "start_time": "2022-12-15T19:59:49.231Z"
      },
      {
        "duration": 16,
        "start_time": "2022-12-15T19:59:49.330Z"
      },
      {
        "duration": 12,
        "start_time": "2022-12-15T19:59:49.348Z"
      },
      {
        "duration": 30,
        "start_time": "2022-12-15T19:59:49.364Z"
      },
      {
        "duration": 22,
        "start_time": "2022-12-15T19:59:49.397Z"
      },
      {
        "duration": 126,
        "start_time": "2022-12-15T19:59:49.421Z"
      },
      {
        "duration": 13,
        "start_time": "2022-12-15T19:59:49.549Z"
      },
      {
        "duration": 13,
        "start_time": "2022-12-15T19:59:49.565Z"
      },
      {
        "duration": 40,
        "start_time": "2022-12-15T19:59:49.580Z"
      },
      {
        "duration": 9,
        "start_time": "2022-12-15T19:59:49.621Z"
      },
      {
        "duration": 5,
        "start_time": "2022-12-15T19:59:49.632Z"
      },
      {
        "duration": 10,
        "start_time": "2022-12-15T19:59:49.639Z"
      },
      {
        "duration": 9,
        "start_time": "2022-12-15T19:59:49.651Z"
      },
      {
        "duration": 14,
        "start_time": "2022-12-15T19:59:49.662Z"
      },
      {
        "duration": 51,
        "start_time": "2022-12-15T19:59:49.678Z"
      },
      {
        "duration": 11,
        "start_time": "2022-12-15T19:59:49.731Z"
      },
      {
        "duration": 8,
        "start_time": "2022-12-15T19:59:49.744Z"
      },
      {
        "duration": 7,
        "start_time": "2022-12-15T19:59:49.754Z"
      },
      {
        "duration": 22,
        "start_time": "2022-12-15T19:59:49.763Z"
      },
      {
        "duration": 10,
        "start_time": "2022-12-15T19:59:49.812Z"
      },
      {
        "duration": 4,
        "start_time": "2022-12-15T19:59:49.823Z"
      },
      {
        "duration": 1268,
        "start_time": "2022-12-15T19:59:49.829Z"
      },
      {
        "duration": 1231,
        "start_time": "2022-12-15T19:59:51.099Z"
      },
      {
        "duration": 1319,
        "start_time": "2022-12-15T19:59:52.332Z"
      },
      {
        "duration": 4,
        "start_time": "2022-12-15T20:01:03.338Z"
      },
      {
        "duration": 1333,
        "start_time": "2022-12-15T20:01:04.512Z"
      },
      {
        "duration": 1367,
        "start_time": "2022-12-15T20:01:17.998Z"
      },
      {
        "duration": 1245,
        "start_time": "2022-12-15T20:01:19.368Z"
      },
      {
        "duration": 318,
        "start_time": "2022-12-15T20:05:21.532Z"
      },
      {
        "duration": 1188,
        "start_time": "2022-12-15T20:05:49.734Z"
      },
      {
        "duration": 7,
        "start_time": "2022-12-15T20:19:27.971Z"
      },
      {
        "duration": 1305,
        "start_time": "2022-12-15T20:21:36.598Z"
      },
      {
        "duration": 1263,
        "start_time": "2022-12-15T20:22:05.045Z"
      },
      {
        "duration": 49,
        "start_time": "2022-12-16T18:28:39.769Z"
      },
      {
        "duration": 1619,
        "start_time": "2022-12-16T18:28:48.497Z"
      },
      {
        "duration": 2783,
        "start_time": "2022-12-16T18:28:50.118Z"
      },
      {
        "duration": 19,
        "start_time": "2022-12-16T18:28:52.902Z"
      },
      {
        "duration": 14,
        "start_time": "2022-12-16T18:28:52.923Z"
      },
      {
        "duration": 88,
        "start_time": "2022-12-16T18:28:52.939Z"
      },
      {
        "duration": 10,
        "start_time": "2022-12-16T18:28:53.029Z"
      },
      {
        "duration": 124,
        "start_time": "2022-12-16T18:28:53.041Z"
      },
      {
        "duration": 16,
        "start_time": "2022-12-16T18:28:53.170Z"
      },
      {
        "duration": 12,
        "start_time": "2022-12-16T18:28:53.188Z"
      },
      {
        "duration": 23,
        "start_time": "2022-12-16T18:28:53.203Z"
      },
      {
        "duration": 8,
        "start_time": "2022-12-16T18:28:53.228Z"
      },
      {
        "duration": 133,
        "start_time": "2022-12-16T18:28:53.255Z"
      },
      {
        "duration": 13,
        "start_time": "2022-12-16T18:28:53.389Z"
      },
      {
        "duration": 11,
        "start_time": "2022-12-16T18:28:53.404Z"
      },
      {
        "duration": 52,
        "start_time": "2022-12-16T18:28:53.416Z"
      },
      {
        "duration": 8,
        "start_time": "2022-12-16T18:28:53.470Z"
      },
      {
        "duration": 3,
        "start_time": "2022-12-16T18:28:53.480Z"
      },
      {
        "duration": 7,
        "start_time": "2022-12-16T18:28:53.485Z"
      },
      {
        "duration": 8,
        "start_time": "2022-12-16T18:28:53.493Z"
      },
      {
        "duration": 10,
        "start_time": "2022-12-16T18:28:53.503Z"
      },
      {
        "duration": 48,
        "start_time": "2022-12-16T18:28:53.515Z"
      },
      {
        "duration": 10,
        "start_time": "2022-12-16T18:28:53.566Z"
      },
      {
        "duration": 8,
        "start_time": "2022-12-16T18:28:53.578Z"
      },
      {
        "duration": 6,
        "start_time": "2022-12-16T18:28:53.588Z"
      },
      {
        "duration": 24,
        "start_time": "2022-12-16T18:28:53.595Z"
      },
      {
        "duration": 44,
        "start_time": "2022-12-16T18:28:53.621Z"
      },
      {
        "duration": 7,
        "start_time": "2022-12-16T18:28:53.671Z"
      },
      {
        "duration": 5,
        "start_time": "2022-12-16T18:28:53.682Z"
      },
      {
        "duration": 1460,
        "start_time": "2022-12-16T18:28:53.689Z"
      },
      {
        "duration": 1391,
        "start_time": "2022-12-16T18:28:55.155Z"
      },
      {
        "duration": 1391,
        "start_time": "2022-12-16T18:28:56.548Z"
      },
      {
        "duration": 131,
        "start_time": "2022-12-16T18:28:57.940Z"
      },
      {
        "duration": 0,
        "start_time": "2022-12-16T18:28:58.073Z"
      },
      {
        "duration": 11,
        "start_time": "2022-12-16T18:29:21.871Z"
      },
      {
        "duration": 706,
        "start_time": "2022-12-16T18:31:55.988Z"
      },
      {
        "duration": 877,
        "start_time": "2022-12-16T18:32:38.975Z"
      },
      {
        "duration": 655,
        "start_time": "2022-12-16T18:42:57.390Z"
      },
      {
        "duration": 831,
        "start_time": "2022-12-16T18:48:58.236Z"
      },
      {
        "duration": 811,
        "start_time": "2022-12-16T18:49:08.784Z"
      },
      {
        "duration": 4298,
        "start_time": "2022-12-16T19:41:23.779Z"
      },
      {
        "duration": 4,
        "start_time": "2022-12-16T20:09:04.155Z"
      },
      {
        "duration": 9,
        "start_time": "2022-12-16T20:09:05.038Z"
      },
      {
        "duration": 7,
        "start_time": "2022-12-16T20:11:22.774Z"
      },
      {
        "duration": 14,
        "start_time": "2022-12-16T20:14:31.875Z"
      },
      {
        "duration": 14,
        "start_time": "2022-12-16T20:25:25.515Z"
      },
      {
        "duration": 5,
        "start_time": "2022-12-16T20:25:38.601Z"
      },
      {
        "duration": 4,
        "start_time": "2022-12-16T20:25:44.410Z"
      },
      {
        "duration": 4,
        "start_time": "2022-12-16T20:25:52.938Z"
      },
      {
        "duration": 1376,
        "start_time": "2022-12-16T20:29:12.355Z"
      },
      {
        "duration": 1031,
        "start_time": "2022-12-16T20:31:52.178Z"
      },
      {
        "duration": 4,
        "start_time": "2022-12-16T20:35:06.124Z"
      },
      {
        "duration": 5,
        "start_time": "2022-12-16T20:35:06.786Z"
      },
      {
        "duration": 5,
        "start_time": "2022-12-16T20:35:08.190Z"
      },
      {
        "duration": 5,
        "start_time": "2022-12-16T20:35:08.834Z"
      },
      {
        "duration": 1224,
        "start_time": "2022-12-16T20:35:10.011Z"
      },
      {
        "duration": 1688,
        "start_time": "2022-12-17T05:49:10.256Z"
      },
      {
        "duration": 2282,
        "start_time": "2022-12-17T05:49:11.946Z"
      },
      {
        "duration": 21,
        "start_time": "2022-12-17T05:49:14.233Z"
      },
      {
        "duration": 14,
        "start_time": "2022-12-17T05:49:14.256Z"
      },
      {
        "duration": 94,
        "start_time": "2022-12-17T05:49:14.273Z"
      },
      {
        "duration": 10,
        "start_time": "2022-12-17T05:49:14.369Z"
      },
      {
        "duration": 113,
        "start_time": "2022-12-17T05:49:14.381Z"
      },
      {
        "duration": 27,
        "start_time": "2022-12-17T05:49:14.496Z"
      },
      {
        "duration": 29,
        "start_time": "2022-12-17T05:49:14.527Z"
      },
      {
        "duration": 35,
        "start_time": "2022-12-17T05:49:14.559Z"
      },
      {
        "duration": 12,
        "start_time": "2022-12-17T05:49:14.596Z"
      },
      {
        "duration": 144,
        "start_time": "2022-12-17T05:49:14.610Z"
      },
      {
        "duration": 14,
        "start_time": "2022-12-17T05:49:14.756Z"
      },
      {
        "duration": 14,
        "start_time": "2022-12-17T05:49:14.773Z"
      },
      {
        "duration": 21,
        "start_time": "2022-12-17T05:49:14.788Z"
      },
      {
        "duration": 41,
        "start_time": "2022-12-17T05:49:14.811Z"
      },
      {
        "duration": 3,
        "start_time": "2022-12-17T05:49:14.855Z"
      },
      {
        "duration": 6,
        "start_time": "2022-12-17T05:49:14.860Z"
      },
      {
        "duration": 6,
        "start_time": "2022-12-17T05:49:14.868Z"
      },
      {
        "duration": 13,
        "start_time": "2022-12-17T05:49:14.875Z"
      },
      {
        "duration": 26,
        "start_time": "2022-12-17T05:49:14.890Z"
      },
      {
        "duration": 40,
        "start_time": "2022-12-17T05:49:14.918Z"
      },
      {
        "duration": 8,
        "start_time": "2022-12-17T05:49:14.959Z"
      },
      {
        "duration": 7,
        "start_time": "2022-12-17T05:49:14.969Z"
      },
      {
        "duration": 24,
        "start_time": "2022-12-17T05:49:14.977Z"
      },
      {
        "duration": 11,
        "start_time": "2022-12-17T05:49:15.003Z"
      },
      {
        "duration": 5,
        "start_time": "2022-12-17T05:49:15.050Z"
      },
      {
        "duration": 7,
        "start_time": "2022-12-17T05:49:15.057Z"
      },
      {
        "duration": 1336,
        "start_time": "2022-12-17T05:49:15.065Z"
      },
      {
        "duration": 1387,
        "start_time": "2022-12-17T05:49:16.403Z"
      },
      {
        "duration": 1400,
        "start_time": "2022-12-17T05:49:17.792Z"
      },
      {
        "duration": 763,
        "start_time": "2022-12-17T05:49:19.194Z"
      },
      {
        "duration": 906,
        "start_time": "2022-12-17T05:49:19.959Z"
      },
      {
        "duration": 3,
        "start_time": "2022-12-17T05:49:20.867Z"
      },
      {
        "duration": 8,
        "start_time": "2022-12-17T05:49:20.872Z"
      },
      {
        "duration": 7,
        "start_time": "2022-12-17T05:49:20.881Z"
      },
      {
        "duration": 7,
        "start_time": "2022-12-17T05:49:20.890Z"
      },
      {
        "duration": 940,
        "start_time": "2022-12-17T05:49:20.898Z"
      },
      {
        "duration": 4,
        "start_time": "2022-12-17T05:53:21.279Z"
      },
      {
        "duration": 7,
        "start_time": "2022-12-17T05:53:22.010Z"
      },
      {
        "duration": 6,
        "start_time": "2022-12-17T05:53:22.999Z"
      },
      {
        "duration": 5,
        "start_time": "2022-12-17T05:53:24.080Z"
      },
      {
        "duration": 1051,
        "start_time": "2022-12-17T05:54:12.794Z"
      },
      {
        "duration": 1522,
        "start_time": "2022-12-17T18:22:14.647Z"
      },
      {
        "duration": 2115,
        "start_time": "2022-12-17T18:22:16.171Z"
      },
      {
        "duration": 20,
        "start_time": "2022-12-17T18:22:18.287Z"
      },
      {
        "duration": 14,
        "start_time": "2022-12-17T18:22:18.309Z"
      },
      {
        "duration": 60,
        "start_time": "2022-12-17T18:22:18.325Z"
      },
      {
        "duration": 9,
        "start_time": "2022-12-17T18:22:18.387Z"
      },
      {
        "duration": 107,
        "start_time": "2022-12-17T18:22:18.397Z"
      },
      {
        "duration": 25,
        "start_time": "2022-12-17T18:22:18.506Z"
      },
      {
        "duration": 12,
        "start_time": "2022-12-17T18:22:18.533Z"
      },
      {
        "duration": 33,
        "start_time": "2022-12-17T18:22:18.548Z"
      },
      {
        "duration": 8,
        "start_time": "2022-12-17T18:22:18.582Z"
      },
      {
        "duration": 135,
        "start_time": "2022-12-17T18:22:18.592Z"
      },
      {
        "duration": 13,
        "start_time": "2022-12-17T18:22:18.729Z"
      },
      {
        "duration": 20,
        "start_time": "2022-12-17T18:22:18.743Z"
      },
      {
        "duration": 30,
        "start_time": "2022-12-17T18:22:18.765Z"
      },
      {
        "duration": 9,
        "start_time": "2022-12-17T18:22:18.797Z"
      },
      {
        "duration": 12,
        "start_time": "2022-12-17T18:22:18.823Z"
      },
      {
        "duration": 24,
        "start_time": "2022-12-17T18:22:18.837Z"
      },
      {
        "duration": 11,
        "start_time": "2022-12-17T18:22:18.862Z"
      },
      {
        "duration": 33,
        "start_time": "2022-12-17T18:22:18.874Z"
      },
      {
        "duration": 27,
        "start_time": "2022-12-17T18:22:18.908Z"
      },
      {
        "duration": 9,
        "start_time": "2022-12-17T18:22:18.937Z"
      },
      {
        "duration": 9,
        "start_time": "2022-12-17T18:22:18.947Z"
      },
      {
        "duration": 8,
        "start_time": "2022-12-17T18:22:18.958Z"
      },
      {
        "duration": 28,
        "start_time": "2022-12-17T18:22:18.967Z"
      },
      {
        "duration": 29,
        "start_time": "2022-12-17T18:22:18.997Z"
      },
      {
        "duration": 21,
        "start_time": "2022-12-17T18:22:19.028Z"
      },
      {
        "duration": 5,
        "start_time": "2022-12-17T18:22:19.053Z"
      },
      {
        "duration": 8,
        "start_time": "2022-12-17T18:22:19.059Z"
      },
      {
        "duration": 1339,
        "start_time": "2022-12-17T18:22:19.069Z"
      },
      {
        "duration": 1325,
        "start_time": "2022-12-17T18:22:20.410Z"
      },
      {
        "duration": 1338,
        "start_time": "2022-12-17T18:22:21.737Z"
      },
      {
        "duration": 640,
        "start_time": "2022-12-17T18:22:23.077Z"
      },
      {
        "duration": 898,
        "start_time": "2022-12-17T18:22:23.722Z"
      },
      {
        "duration": 3,
        "start_time": "2022-12-17T18:22:24.622Z"
      },
      {
        "duration": 19,
        "start_time": "2022-12-17T18:22:24.627Z"
      },
      {
        "duration": 22,
        "start_time": "2022-12-17T18:22:24.648Z"
      },
      {
        "duration": 31,
        "start_time": "2022-12-17T18:22:24.672Z"
      },
      {
        "duration": 884,
        "start_time": "2022-12-17T18:22:24.705Z"
      },
      {
        "duration": 149,
        "start_time": "2022-12-17T18:26:35.845Z"
      },
      {
        "duration": 4,
        "start_time": "2022-12-17T18:26:37.203Z"
      },
      {
        "duration": 6,
        "start_time": "2022-12-17T18:27:38.236Z"
      },
      {
        "duration": 11,
        "start_time": "2022-12-17T18:27:41.274Z"
      },
      {
        "duration": 5,
        "start_time": "2022-12-17T18:27:43.542Z"
      },
      {
        "duration": 6,
        "start_time": "2022-12-17T18:27:44.049Z"
      },
      {
        "duration": 1214,
        "start_time": "2022-12-17T18:27:46.720Z"
      },
      {
        "duration": 1475,
        "start_time": "2022-12-17T18:27:47.936Z"
      },
      {
        "duration": 1358,
        "start_time": "2022-12-17T18:27:58.908Z"
      },
      {
        "duration": 839,
        "start_time": "2022-12-17T18:28:18.176Z"
      },
      {
        "duration": 672,
        "start_time": "2022-12-17T18:28:27.990Z"
      },
      {
        "duration": 3,
        "start_time": "2022-12-17T18:28:38.016Z"
      },
      {
        "duration": 5,
        "start_time": "2022-12-17T18:28:38.603Z"
      },
      {
        "duration": 5,
        "start_time": "2022-12-17T18:28:39.207Z"
      },
      {
        "duration": 5,
        "start_time": "2022-12-17T18:28:39.705Z"
      },
      {
        "duration": 1058,
        "start_time": "2022-12-17T18:28:41.888Z"
      },
      {
        "duration": 970,
        "start_time": "2022-12-17T18:30:56.901Z"
      },
      {
        "duration": 7,
        "start_time": "2022-12-17T18:33:11.305Z"
      },
      {
        "duration": 1158,
        "start_time": "2022-12-17T18:33:15.753Z"
      },
      {
        "duration": 1077,
        "start_time": "2022-12-17T18:33:38.553Z"
      },
      {
        "duration": 629,
        "start_time": "2022-12-17T18:37:26.211Z"
      },
      {
        "duration": 782,
        "start_time": "2022-12-17T18:38:07.896Z"
      },
      {
        "duration": 6,
        "start_time": "2022-12-17T18:42:02.291Z"
      },
      {
        "duration": 7,
        "start_time": "2022-12-17T18:42:02.795Z"
      },
      {
        "duration": 4,
        "start_time": "2022-12-17T18:42:03.412Z"
      },
      {
        "duration": 984,
        "start_time": "2022-12-17T18:42:04.143Z"
      },
      {
        "duration": 1636,
        "start_time": "2022-12-17T18:42:28.461Z"
      },
      {
        "duration": 935,
        "start_time": "2022-12-17T18:42:43.632Z"
      },
      {
        "duration": 5,
        "start_time": "2022-12-17T19:15:50.432Z"
      },
      {
        "duration": 41,
        "start_time": "2022-12-17T19:16:00.657Z"
      },
      {
        "duration": 1461,
        "start_time": "2022-12-17T19:17:06.634Z"
      },
      {
        "duration": 670,
        "start_time": "2022-12-17T19:17:08.097Z"
      },
      {
        "duration": 18,
        "start_time": "2022-12-17T19:17:08.769Z"
      },
      {
        "duration": 13,
        "start_time": "2022-12-17T19:17:08.789Z"
      },
      {
        "duration": 62,
        "start_time": "2022-12-17T19:17:08.823Z"
      },
      {
        "duration": 9,
        "start_time": "2022-12-17T19:17:08.886Z"
      },
      {
        "duration": 121,
        "start_time": "2022-12-17T19:17:08.897Z"
      },
      {
        "duration": 21,
        "start_time": "2022-12-17T19:17:09.020Z"
      },
      {
        "duration": 13,
        "start_time": "2022-12-17T19:17:09.042Z"
      },
      {
        "duration": 20,
        "start_time": "2022-12-17T19:17:09.058Z"
      },
      {
        "duration": 7,
        "start_time": "2022-12-17T19:17:09.080Z"
      },
      {
        "duration": 146,
        "start_time": "2022-12-17T19:17:09.089Z"
      },
      {
        "duration": 14,
        "start_time": "2022-12-17T19:17:09.236Z"
      },
      {
        "duration": 11,
        "start_time": "2022-12-17T19:17:09.251Z"
      },
      {
        "duration": 24,
        "start_time": "2022-12-17T19:17:09.263Z"
      },
      {
        "duration": 7,
        "start_time": "2022-12-17T19:17:09.289Z"
      },
      {
        "duration": 53,
        "start_time": "2022-12-17T19:17:09.298Z"
      },
      {
        "duration": 8,
        "start_time": "2022-12-17T19:17:09.353Z"
      },
      {
        "duration": 11,
        "start_time": "2022-12-17T19:17:09.363Z"
      },
      {
        "duration": 34,
        "start_time": "2022-12-17T19:17:09.376Z"
      },
      {
        "duration": 31,
        "start_time": "2022-12-17T19:17:09.412Z"
      },
      {
        "duration": 11,
        "start_time": "2022-12-17T19:17:09.445Z"
      },
      {
        "duration": 9,
        "start_time": "2022-12-17T19:17:09.457Z"
      },
      {
        "duration": 7,
        "start_time": "2022-12-17T19:17:09.468Z"
      },
      {
        "duration": 53,
        "start_time": "2022-12-17T19:17:09.477Z"
      },
      {
        "duration": 9,
        "start_time": "2022-12-17T19:17:09.532Z"
      },
      {
        "duration": 14,
        "start_time": "2022-12-17T19:17:09.543Z"
      },
      {
        "duration": 4,
        "start_time": "2022-12-17T19:17:09.560Z"
      },
      {
        "duration": 7,
        "start_time": "2022-12-17T19:17:09.565Z"
      },
      {
        "duration": 1295,
        "start_time": "2022-12-17T19:17:09.573Z"
      },
      {
        "duration": 1368,
        "start_time": "2022-12-17T19:17:10.870Z"
      },
      {
        "duration": 1368,
        "start_time": "2022-12-17T19:17:12.239Z"
      },
      {
        "duration": 761,
        "start_time": "2022-12-17T19:17:13.608Z"
      },
      {
        "duration": 865,
        "start_time": "2022-12-17T19:17:14.372Z"
      },
      {
        "duration": 3,
        "start_time": "2022-12-17T19:17:15.239Z"
      },
      {
        "duration": 9,
        "start_time": "2022-12-17T19:17:15.243Z"
      },
      {
        "duration": 7,
        "start_time": "2022-12-17T19:17:15.253Z"
      },
      {
        "duration": 10,
        "start_time": "2022-12-17T19:17:15.262Z"
      },
      {
        "duration": 145,
        "start_time": "2022-12-17T19:17:15.273Z"
      },
      {
        "duration": 0,
        "start_time": "2022-12-17T19:17:15.434Z"
      },
      {
        "duration": 0,
        "start_time": "2022-12-17T19:17:15.435Z"
      },
      {
        "duration": 0,
        "start_time": "2022-12-17T19:17:15.435Z"
      },
      {
        "duration": 73,
        "start_time": "2022-12-17T19:33:30.272Z"
      },
      {
        "duration": 324,
        "start_time": "2022-12-17T19:33:47.542Z"
      },
      {
        "duration": 18,
        "start_time": "2022-12-17T19:34:42.165Z"
      },
      {
        "duration": 984,
        "start_time": "2022-12-17T19:34:48.315Z"
      },
      {
        "duration": 16,
        "start_time": "2022-12-17T19:38:13.771Z"
      },
      {
        "duration": 12,
        "start_time": "2022-12-17T19:38:19.895Z"
      },
      {
        "duration": 17,
        "start_time": "2022-12-17T19:38:20.401Z"
      },
      {
        "duration": 1048,
        "start_time": "2022-12-17T19:38:21.048Z"
      },
      {
        "duration": 9,
        "start_time": "2022-12-17T19:42:52.937Z"
      },
      {
        "duration": 17,
        "start_time": "2022-12-17T19:42:53.481Z"
      },
      {
        "duration": 1017,
        "start_time": "2022-12-17T19:42:54.600Z"
      },
      {
        "duration": 10,
        "start_time": "2022-12-17T19:43:16.100Z"
      },
      {
        "duration": 18,
        "start_time": "2022-12-17T19:43:16.736Z"
      },
      {
        "duration": 899,
        "start_time": "2022-12-17T19:43:20.256Z"
      },
      {
        "duration": 7,
        "start_time": "2022-12-17T19:43:29.013Z"
      },
      {
        "duration": 14,
        "start_time": "2022-12-17T19:43:29.695Z"
      },
      {
        "duration": 1113,
        "start_time": "2022-12-17T19:43:30.957Z"
      },
      {
        "duration": 13,
        "start_time": "2022-12-17T19:44:07.082Z"
      },
      {
        "duration": 1053,
        "start_time": "2022-12-17T19:44:08.361Z"
      },
      {
        "duration": 1410,
        "start_time": "2022-12-17T19:44:15.238Z"
      },
      {
        "duration": 698,
        "start_time": "2022-12-17T19:44:16.650Z"
      },
      {
        "duration": 18,
        "start_time": "2022-12-17T19:44:17.350Z"
      },
      {
        "duration": 14,
        "start_time": "2022-12-17T19:44:17.371Z"
      },
      {
        "duration": 89,
        "start_time": "2022-12-17T19:44:17.387Z"
      },
      {
        "duration": 9,
        "start_time": "2022-12-17T19:44:17.479Z"
      },
      {
        "duration": 107,
        "start_time": "2022-12-17T19:44:17.490Z"
      },
      {
        "duration": 26,
        "start_time": "2022-12-17T19:44:17.599Z"
      },
      {
        "duration": 17,
        "start_time": "2022-12-17T19:44:17.627Z"
      },
      {
        "duration": 26,
        "start_time": "2022-12-17T19:44:17.647Z"
      },
      {
        "duration": 9,
        "start_time": "2022-12-17T19:44:17.674Z"
      },
      {
        "duration": 134,
        "start_time": "2022-12-17T19:44:17.685Z"
      },
      {
        "duration": 21,
        "start_time": "2022-12-17T19:44:17.822Z"
      },
      {
        "duration": 17,
        "start_time": "2022-12-17T19:44:17.844Z"
      },
      {
        "duration": 28,
        "start_time": "2022-12-17T19:44:17.863Z"
      },
      {
        "duration": 10,
        "start_time": "2022-12-17T19:44:17.893Z"
      },
      {
        "duration": 34,
        "start_time": "2022-12-17T19:44:17.904Z"
      },
      {
        "duration": 10,
        "start_time": "2022-12-17T19:44:17.940Z"
      },
      {
        "duration": 5,
        "start_time": "2022-12-17T19:44:17.952Z"
      },
      {
        "duration": 11,
        "start_time": "2022-12-17T19:44:17.959Z"
      },
      {
        "duration": 25,
        "start_time": "2022-12-17T19:44:17.972Z"
      },
      {
        "duration": 9,
        "start_time": "2022-12-17T19:44:17.999Z"
      },
      {
        "duration": 18,
        "start_time": "2022-12-17T19:44:18.009Z"
      },
      {
        "duration": 7,
        "start_time": "2022-12-17T19:44:18.032Z"
      },
      {
        "duration": 24,
        "start_time": "2022-12-17T19:44:18.041Z"
      },
      {
        "duration": 6,
        "start_time": "2022-12-17T19:44:18.067Z"
      },
      {
        "duration": 12,
        "start_time": "2022-12-17T19:44:18.075Z"
      },
      {
        "duration": 4,
        "start_time": "2022-12-17T19:44:18.090Z"
      },
      {
        "duration": 7,
        "start_time": "2022-12-17T19:44:18.095Z"
      },
      {
        "duration": 1391,
        "start_time": "2022-12-17T19:44:18.103Z"
      },
      {
        "duration": 1375,
        "start_time": "2022-12-17T19:44:19.496Z"
      },
      {
        "duration": 1322,
        "start_time": "2022-12-17T19:44:20.873Z"
      },
      {
        "duration": 665,
        "start_time": "2022-12-17T19:44:22.197Z"
      },
      {
        "duration": 816,
        "start_time": "2022-12-17T19:44:22.864Z"
      },
      {
        "duration": 3,
        "start_time": "2022-12-17T19:44:23.682Z"
      },
      {
        "duration": 8,
        "start_time": "2022-12-17T19:44:23.687Z"
      },
      {
        "duration": 5,
        "start_time": "2022-12-17T19:44:23.697Z"
      },
      {
        "duration": 11,
        "start_time": "2022-12-17T19:44:23.722Z"
      },
      {
        "duration": 68,
        "start_time": "2022-12-17T19:44:23.737Z"
      },
      {
        "duration": 0,
        "start_time": "2022-12-17T19:44:23.807Z"
      },
      {
        "duration": 0,
        "start_time": "2022-12-17T19:44:23.808Z"
      },
      {
        "duration": 436,
        "start_time": "2022-12-17T19:44:56.204Z"
      },
      {
        "duration": 18,
        "start_time": "2022-12-17T19:45:35.154Z"
      },
      {
        "duration": 23,
        "start_time": "2022-12-17T19:45:36.280Z"
      },
      {
        "duration": 909,
        "start_time": "2022-12-17T19:45:38.268Z"
      },
      {
        "duration": 4,
        "start_time": "2022-12-17T19:54:16.586Z"
      },
      {
        "duration": 4,
        "start_time": "2022-12-17T19:55:19.286Z"
      },
      {
        "duration": 3,
        "start_time": "2022-12-17T20:01:08.508Z"
      },
      {
        "duration": 3,
        "start_time": "2022-12-17T20:01:36.806Z"
      },
      {
        "duration": 3,
        "start_time": "2022-12-17T20:02:58.654Z"
      },
      {
        "duration": 10,
        "start_time": "2022-12-17T20:03:19.471Z"
      },
      {
        "duration": 83,
        "start_time": "2022-12-17T20:03:26.911Z"
      },
      {
        "duration": 9,
        "start_time": "2022-12-17T20:03:35.059Z"
      },
      {
        "duration": 11,
        "start_time": "2022-12-17T20:03:51.731Z"
      },
      {
        "duration": 1356,
        "start_time": "2022-12-17T20:04:17.383Z"
      },
      {
        "duration": 706,
        "start_time": "2022-12-17T20:04:18.742Z"
      },
      {
        "duration": 19,
        "start_time": "2022-12-17T20:04:19.450Z"
      },
      {
        "duration": 13,
        "start_time": "2022-12-17T20:04:19.471Z"
      },
      {
        "duration": 80,
        "start_time": "2022-12-17T20:04:19.486Z"
      },
      {
        "duration": 9,
        "start_time": "2022-12-17T20:04:19.568Z"
      },
      {
        "duration": 106,
        "start_time": "2022-12-17T20:04:19.579Z"
      },
      {
        "duration": 16,
        "start_time": "2022-12-17T20:04:19.687Z"
      },
      {
        "duration": 34,
        "start_time": "2022-12-17T20:04:19.705Z"
      },
      {
        "duration": 21,
        "start_time": "2022-12-17T20:04:19.741Z"
      },
      {
        "duration": 7,
        "start_time": "2022-12-17T20:04:19.764Z"
      },
      {
        "duration": 132,
        "start_time": "2022-12-17T20:04:19.773Z"
      },
      {
        "duration": 20,
        "start_time": "2022-12-17T20:04:19.907Z"
      },
      {
        "duration": 14,
        "start_time": "2022-12-17T20:04:19.933Z"
      },
      {
        "duration": 18,
        "start_time": "2022-12-17T20:04:19.949Z"
      },
      {
        "duration": 7,
        "start_time": "2022-12-17T20:04:19.968Z"
      },
      {
        "duration": 9,
        "start_time": "2022-12-17T20:04:19.977Z"
      },
      {
        "duration": 9,
        "start_time": "2022-12-17T20:04:19.987Z"
      },
      {
        "duration": 10,
        "start_time": "2022-12-17T20:04:19.998Z"
      },
      {
        "duration": 17,
        "start_time": "2022-12-17T20:04:20.010Z"
      },
      {
        "duration": 58,
        "start_time": "2022-12-17T20:04:20.028Z"
      },
      {
        "duration": 8,
        "start_time": "2022-12-17T20:04:20.088Z"
      },
      {
        "duration": 11,
        "start_time": "2022-12-17T20:04:20.098Z"
      },
      {
        "duration": 16,
        "start_time": "2022-12-17T20:04:20.110Z"
      },
      {
        "duration": 35,
        "start_time": "2022-12-17T20:04:20.131Z"
      },
      {
        "duration": 6,
        "start_time": "2022-12-17T20:04:20.168Z"
      },
      {
        "duration": 14,
        "start_time": "2022-12-17T20:04:20.175Z"
      },
      {
        "duration": 8,
        "start_time": "2022-12-17T20:04:20.190Z"
      },
      {
        "duration": 7,
        "start_time": "2022-12-17T20:04:20.199Z"
      },
      {
        "duration": 1340,
        "start_time": "2022-12-17T20:04:20.207Z"
      },
      {
        "duration": 1349,
        "start_time": "2022-12-17T20:04:21.549Z"
      },
      {
        "duration": 1490,
        "start_time": "2022-12-17T20:04:22.900Z"
      },
      {
        "duration": 701,
        "start_time": "2022-12-17T20:04:24.392Z"
      },
      {
        "duration": 892,
        "start_time": "2022-12-17T20:04:25.095Z"
      },
      {
        "duration": 2,
        "start_time": "2022-12-17T20:04:25.989Z"
      },
      {
        "duration": 8,
        "start_time": "2022-12-17T20:04:25.993Z"
      },
      {
        "duration": 7,
        "start_time": "2022-12-17T20:04:26.003Z"
      },
      {
        "duration": 13,
        "start_time": "2022-12-17T20:04:26.011Z"
      },
      {
        "duration": 33,
        "start_time": "2022-12-17T20:04:26.025Z"
      },
      {
        "duration": 20,
        "start_time": "2022-12-17T20:04:26.059Z"
      },
      {
        "duration": 908,
        "start_time": "2022-12-17T20:04:26.083Z"
      },
      {
        "duration": 5,
        "start_time": "2022-12-17T20:04:26.993Z"
      },
      {
        "duration": 104,
        "start_time": "2022-12-17T20:04:51.176Z"
      },
      {
        "duration": 18,
        "start_time": "2022-12-17T20:05:45.784Z"
      },
      {
        "duration": 4,
        "start_time": "2022-12-17T20:06:04.298Z"
      },
      {
        "duration": 1483,
        "start_time": "2022-12-17T20:06:43.714Z"
      },
      {
        "duration": 717,
        "start_time": "2022-12-17T20:06:45.199Z"
      },
      {
        "duration": 22,
        "start_time": "2022-12-17T20:06:45.918Z"
      },
      {
        "duration": 20,
        "start_time": "2022-12-17T20:06:45.943Z"
      },
      {
        "duration": 77,
        "start_time": "2022-12-17T20:06:45.965Z"
      },
      {
        "duration": 8,
        "start_time": "2022-12-17T20:06:46.044Z"
      },
      {
        "duration": 110,
        "start_time": "2022-12-17T20:06:46.054Z"
      },
      {
        "duration": 17,
        "start_time": "2022-12-17T20:06:46.165Z"
      },
      {
        "duration": 12,
        "start_time": "2022-12-17T20:06:46.183Z"
      },
      {
        "duration": 51,
        "start_time": "2022-12-17T20:06:46.197Z"
      },
      {
        "duration": 9,
        "start_time": "2022-12-17T20:06:46.250Z"
      },
      {
        "duration": 123,
        "start_time": "2022-12-17T20:06:46.260Z"
      },
      {
        "duration": 13,
        "start_time": "2022-12-17T20:06:46.385Z"
      },
      {
        "duration": 29,
        "start_time": "2022-12-17T20:06:46.400Z"
      },
      {
        "duration": 19,
        "start_time": "2022-12-17T20:06:46.432Z"
      },
      {
        "duration": 8,
        "start_time": "2022-12-17T20:06:46.453Z"
      },
      {
        "duration": 3,
        "start_time": "2022-12-17T20:06:46.462Z"
      },
      {
        "duration": 8,
        "start_time": "2022-12-17T20:06:46.466Z"
      },
      {
        "duration": 9,
        "start_time": "2022-12-17T20:06:46.475Z"
      },
      {
        "duration": 16,
        "start_time": "2022-12-17T20:06:46.485Z"
      },
      {
        "duration": 36,
        "start_time": "2022-12-17T20:06:46.503Z"
      },
      {
        "duration": 9,
        "start_time": "2022-12-17T20:06:46.541Z"
      },
      {
        "duration": 7,
        "start_time": "2022-12-17T20:06:46.552Z"
      },
      {
        "duration": 5,
        "start_time": "2022-12-17T20:06:46.561Z"
      },
      {
        "duration": 34,
        "start_time": "2022-12-17T20:06:46.568Z"
      },
      {
        "duration": 7,
        "start_time": "2022-12-17T20:06:46.622Z"
      },
      {
        "duration": 16,
        "start_time": "2022-12-17T20:06:46.633Z"
      },
      {
        "duration": 4,
        "start_time": "2022-12-17T20:06:46.652Z"
      },
      {
        "duration": 9,
        "start_time": "2022-12-17T20:06:46.658Z"
      },
      {
        "duration": 1270,
        "start_time": "2022-12-17T20:06:46.668Z"
      },
      {
        "duration": 1350,
        "start_time": "2022-12-17T20:06:47.939Z"
      },
      {
        "duration": 1377,
        "start_time": "2022-12-17T20:06:49.292Z"
      },
      {
        "duration": 678,
        "start_time": "2022-12-17T20:06:50.670Z"
      },
      {
        "duration": 835,
        "start_time": "2022-12-17T20:06:51.349Z"
      },
      {
        "duration": 3,
        "start_time": "2022-12-17T20:06:52.186Z"
      },
      {
        "duration": 32,
        "start_time": "2022-12-17T20:06:52.190Z"
      },
      {
        "duration": 31,
        "start_time": "2022-12-17T20:06:52.225Z"
      },
      {
        "duration": 8,
        "start_time": "2022-12-17T20:06:52.258Z"
      },
      {
        "duration": 31,
        "start_time": "2022-12-17T20:06:52.268Z"
      },
      {
        "duration": 24,
        "start_time": "2022-12-17T20:06:52.300Z"
      },
      {
        "duration": 910,
        "start_time": "2022-12-17T20:06:52.328Z"
      },
      {
        "duration": 7,
        "start_time": "2022-12-17T20:06:53.240Z"
      },
      {
        "duration": 15,
        "start_time": "2022-12-17T20:07:32.198Z"
      },
      {
        "duration": 14,
        "start_time": "2022-12-17T20:08:40.267Z"
      },
      {
        "duration": 106,
        "start_time": "2022-12-17T20:11:13.479Z"
      },
      {
        "duration": 1321,
        "start_time": "2022-12-17T20:11:35.817Z"
      },
      {
        "duration": 692,
        "start_time": "2022-12-17T20:11:37.140Z"
      },
      {
        "duration": 21,
        "start_time": "2022-12-17T20:11:37.835Z"
      },
      {
        "duration": 14,
        "start_time": "2022-12-17T20:11:37.859Z"
      },
      {
        "duration": 73,
        "start_time": "2022-12-17T20:11:37.875Z"
      },
      {
        "duration": 9,
        "start_time": "2022-12-17T20:11:37.949Z"
      },
      {
        "duration": 100,
        "start_time": "2022-12-17T20:11:37.959Z"
      },
      {
        "duration": 16,
        "start_time": "2022-12-17T20:11:38.061Z"
      },
      {
        "duration": 12,
        "start_time": "2022-12-17T20:11:38.079Z"
      },
      {
        "duration": 54,
        "start_time": "2022-12-17T20:11:38.094Z"
      },
      {
        "duration": 8,
        "start_time": "2022-12-17T20:11:38.150Z"
      },
      {
        "duration": 128,
        "start_time": "2022-12-17T20:11:38.159Z"
      },
      {
        "duration": 12,
        "start_time": "2022-12-17T20:11:38.289Z"
      },
      {
        "duration": 11,
        "start_time": "2022-12-17T20:11:38.302Z"
      },
      {
        "duration": 20,
        "start_time": "2022-12-17T20:11:38.324Z"
      },
      {
        "duration": 7,
        "start_time": "2022-12-17T20:11:38.345Z"
      },
      {
        "duration": 8,
        "start_time": "2022-12-17T20:11:38.354Z"
      },
      {
        "duration": 9,
        "start_time": "2022-12-17T20:11:38.363Z"
      },
      {
        "duration": 17,
        "start_time": "2022-12-17T20:11:38.374Z"
      },
      {
        "duration": 14,
        "start_time": "2022-12-17T20:11:38.392Z"
      },
      {
        "duration": 35,
        "start_time": "2022-12-17T20:11:38.408Z"
      },
      {
        "duration": 10,
        "start_time": "2022-12-17T20:11:38.445Z"
      },
      {
        "duration": 10,
        "start_time": "2022-12-17T20:11:38.457Z"
      },
      {
        "duration": 6,
        "start_time": "2022-12-17T20:11:38.469Z"
      },
      {
        "duration": 45,
        "start_time": "2022-12-17T20:11:38.477Z"
      },
      {
        "duration": 10,
        "start_time": "2022-12-17T20:11:38.524Z"
      },
      {
        "duration": 16,
        "start_time": "2022-12-17T20:11:38.536Z"
      },
      {
        "duration": 5,
        "start_time": "2022-12-17T20:11:38.556Z"
      },
      {
        "duration": 12,
        "start_time": "2022-12-17T20:11:38.563Z"
      },
      {
        "duration": 1230,
        "start_time": "2022-12-17T20:11:38.577Z"
      },
      {
        "duration": 1297,
        "start_time": "2022-12-17T20:11:39.809Z"
      },
      {
        "duration": 1337,
        "start_time": "2022-12-17T20:11:41.108Z"
      },
      {
        "duration": 649,
        "start_time": "2022-12-17T20:11:42.447Z"
      },
      {
        "duration": 812,
        "start_time": "2022-12-17T20:11:43.098Z"
      },
      {
        "duration": 3,
        "start_time": "2022-12-17T20:11:43.912Z"
      },
      {
        "duration": 7,
        "start_time": "2022-12-17T20:11:43.923Z"
      },
      {
        "duration": 10,
        "start_time": "2022-12-17T20:11:43.935Z"
      },
      {
        "duration": 8,
        "start_time": "2022-12-17T20:11:43.946Z"
      },
      {
        "duration": 19,
        "start_time": "2022-12-17T20:11:43.956Z"
      },
      {
        "duration": 19,
        "start_time": "2022-12-17T20:11:43.977Z"
      },
      {
        "duration": 971,
        "start_time": "2022-12-17T20:11:43.998Z"
      },
      {
        "duration": 8,
        "start_time": "2022-12-17T20:11:44.970Z"
      },
      {
        "duration": 18,
        "start_time": "2022-12-17T20:11:44.980Z"
      },
      {
        "duration": 33,
        "start_time": "2022-12-17T20:11:44.999Z"
      },
      {
        "duration": 114,
        "start_time": "2022-12-17T20:12:23.170Z"
      },
      {
        "duration": 15,
        "start_time": "2022-12-17T20:12:40.910Z"
      },
      {
        "duration": 13,
        "start_time": "2022-12-17T20:15:39.568Z"
      },
      {
        "duration": 1366,
        "start_time": "2022-12-17T20:15:54.536Z"
      },
      {
        "duration": 726,
        "start_time": "2022-12-17T20:15:55.905Z"
      },
      {
        "duration": 19,
        "start_time": "2022-12-17T20:15:56.633Z"
      },
      {
        "duration": 26,
        "start_time": "2022-12-17T20:15:56.654Z"
      },
      {
        "duration": 81,
        "start_time": "2022-12-17T20:15:56.682Z"
      },
      {
        "duration": 8,
        "start_time": "2022-12-17T20:15:56.764Z"
      },
      {
        "duration": 116,
        "start_time": "2022-12-17T20:15:56.773Z"
      },
      {
        "duration": 14,
        "start_time": "2022-12-17T20:15:56.891Z"
      },
      {
        "duration": 29,
        "start_time": "2022-12-17T20:15:56.922Z"
      },
      {
        "duration": 43,
        "start_time": "2022-12-17T20:15:56.953Z"
      },
      {
        "duration": 43,
        "start_time": "2022-12-17T20:15:56.997Z"
      },
      {
        "duration": 132,
        "start_time": "2022-12-17T20:15:57.041Z"
      },
      {
        "duration": 13,
        "start_time": "2022-12-17T20:15:57.175Z"
      },
      {
        "duration": 42,
        "start_time": "2022-12-17T20:15:57.191Z"
      },
      {
        "duration": 55,
        "start_time": "2022-12-17T20:15:57.236Z"
      },
      {
        "duration": 30,
        "start_time": "2022-12-17T20:15:57.292Z"
      },
      {
        "duration": 60,
        "start_time": "2022-12-17T20:15:57.331Z"
      },
      {
        "duration": 68,
        "start_time": "2022-12-17T20:15:57.392Z"
      },
      {
        "duration": 41,
        "start_time": "2022-12-17T20:15:57.462Z"
      },
      {
        "duration": 71,
        "start_time": "2022-12-17T20:15:57.505Z"
      },
      {
        "duration": 82,
        "start_time": "2022-12-17T20:15:57.577Z"
      },
      {
        "duration": 44,
        "start_time": "2022-12-17T20:15:57.661Z"
      },
      {
        "duration": 55,
        "start_time": "2022-12-17T20:15:57.707Z"
      },
      {
        "duration": 26,
        "start_time": "2022-12-17T20:15:57.764Z"
      },
      {
        "duration": 89,
        "start_time": "2022-12-17T20:15:57.792Z"
      },
      {
        "duration": 8,
        "start_time": "2022-12-17T20:15:57.883Z"
      },
      {
        "duration": 47,
        "start_time": "2022-12-17T20:15:57.892Z"
      },
      {
        "duration": 36,
        "start_time": "2022-12-17T20:15:57.941Z"
      },
      {
        "duration": 32,
        "start_time": "2022-12-17T20:15:57.978Z"
      },
      {
        "duration": 1359,
        "start_time": "2022-12-17T20:15:58.012Z"
      },
      {
        "duration": 1410,
        "start_time": "2022-12-17T20:15:59.373Z"
      },
      {
        "duration": 1450,
        "start_time": "2022-12-17T20:16:00.785Z"
      },
      {
        "duration": 680,
        "start_time": "2022-12-17T20:16:02.236Z"
      },
      {
        "duration": 826,
        "start_time": "2022-12-17T20:16:02.918Z"
      },
      {
        "duration": 2,
        "start_time": "2022-12-17T20:16:03.746Z"
      },
      {
        "duration": 36,
        "start_time": "2022-12-17T20:16:03.750Z"
      },
      {
        "duration": 21,
        "start_time": "2022-12-17T20:16:03.787Z"
      },
      {
        "duration": 62,
        "start_time": "2022-12-17T20:16:03.810Z"
      },
      {
        "duration": 60,
        "start_time": "2022-12-17T20:16:03.874Z"
      },
      {
        "duration": 22,
        "start_time": "2022-12-17T20:16:03.941Z"
      },
      {
        "duration": 1085,
        "start_time": "2022-12-17T20:16:03.967Z"
      },
      {
        "duration": 9,
        "start_time": "2022-12-17T20:16:05.053Z"
      },
      {
        "duration": 44,
        "start_time": "2022-12-17T20:16:05.064Z"
      },
      {
        "duration": 1300,
        "start_time": "2022-12-17T22:20:05.909Z"
      },
      {
        "duration": 664,
        "start_time": "2022-12-17T22:20:07.211Z"
      },
      {
        "duration": 17,
        "start_time": "2022-12-17T22:20:07.877Z"
      },
      {
        "duration": 26,
        "start_time": "2022-12-17T22:20:07.896Z"
      },
      {
        "duration": 59,
        "start_time": "2022-12-17T22:20:07.924Z"
      },
      {
        "duration": 8,
        "start_time": "2022-12-17T22:20:07.985Z"
      },
      {
        "duration": 105,
        "start_time": "2022-12-17T22:20:07.995Z"
      },
      {
        "duration": 23,
        "start_time": "2022-12-17T22:20:08.102Z"
      },
      {
        "duration": 12,
        "start_time": "2022-12-17T22:20:08.127Z"
      },
      {
        "duration": 40,
        "start_time": "2022-12-17T22:20:08.142Z"
      },
      {
        "duration": 7,
        "start_time": "2022-12-17T22:20:08.184Z"
      },
      {
        "duration": 124,
        "start_time": "2022-12-17T22:20:08.193Z"
      },
      {
        "duration": 15,
        "start_time": "2022-12-17T22:20:08.318Z"
      },
      {
        "duration": 11,
        "start_time": "2022-12-17T22:20:08.335Z"
      },
      {
        "duration": 22,
        "start_time": "2022-12-17T22:20:08.347Z"
      },
      {
        "duration": 8,
        "start_time": "2022-12-17T22:20:08.371Z"
      },
      {
        "duration": 7,
        "start_time": "2022-12-17T22:20:08.380Z"
      },
      {
        "duration": 6,
        "start_time": "2022-12-17T22:20:08.389Z"
      },
      {
        "duration": 9,
        "start_time": "2022-12-17T22:20:08.423Z"
      },
      {
        "duration": 12,
        "start_time": "2022-12-17T22:20:08.433Z"
      },
      {
        "duration": 22,
        "start_time": "2022-12-17T22:20:08.447Z"
      },
      {
        "duration": 8,
        "start_time": "2022-12-17T22:20:08.471Z"
      },
      {
        "duration": 41,
        "start_time": "2022-12-17T22:20:08.481Z"
      },
      {
        "duration": 6,
        "start_time": "2022-12-17T22:20:08.524Z"
      },
      {
        "duration": 23,
        "start_time": "2022-12-17T22:20:08.532Z"
      },
      {
        "duration": 5,
        "start_time": "2022-12-17T22:20:08.557Z"
      },
      {
        "duration": 12,
        "start_time": "2022-12-17T22:20:08.564Z"
      },
      {
        "duration": 4,
        "start_time": "2022-12-17T22:20:08.579Z"
      },
      {
        "duration": 5,
        "start_time": "2022-12-17T22:20:08.585Z"
      },
      {
        "duration": 1252,
        "start_time": "2022-12-17T22:20:08.592Z"
      },
      {
        "duration": 1231,
        "start_time": "2022-12-17T22:20:09.846Z"
      },
      {
        "duration": 1244,
        "start_time": "2022-12-17T22:20:11.079Z"
      },
      {
        "duration": 602,
        "start_time": "2022-12-17T22:20:12.325Z"
      },
      {
        "duration": 755,
        "start_time": "2022-12-17T22:20:12.928Z"
      },
      {
        "duration": 3,
        "start_time": "2022-12-17T22:20:13.684Z"
      },
      {
        "duration": 24,
        "start_time": "2022-12-17T22:20:13.688Z"
      },
      {
        "duration": 25,
        "start_time": "2022-12-17T22:20:13.713Z"
      },
      {
        "duration": 15,
        "start_time": "2022-12-17T22:20:13.739Z"
      },
      {
        "duration": 22,
        "start_time": "2022-12-17T22:20:13.756Z"
      },
      {
        "duration": 31,
        "start_time": "2022-12-17T22:20:13.780Z"
      },
      {
        "duration": 899,
        "start_time": "2022-12-17T22:20:13.813Z"
      },
      {
        "duration": 13,
        "start_time": "2022-12-17T22:20:14.714Z"
      },
      {
        "duration": 13,
        "start_time": "2022-12-17T22:20:14.728Z"
      },
      {
        "duration": 3,
        "start_time": "2022-12-17T22:20:14.743Z"
      },
      {
        "duration": 8,
        "start_time": "2022-12-17T22:20:14.747Z"
      },
      {
        "duration": 8,
        "start_time": "2022-12-17T22:20:14.756Z"
      },
      {
        "duration": 1326,
        "start_time": "2022-12-18T19:41:56.220Z"
      },
      {
        "duration": 2490,
        "start_time": "2022-12-18T19:41:57.548Z"
      },
      {
        "duration": 19,
        "start_time": "2022-12-18T19:42:00.040Z"
      },
      {
        "duration": 14,
        "start_time": "2022-12-18T19:42:00.061Z"
      },
      {
        "duration": 75,
        "start_time": "2022-12-18T19:42:00.076Z"
      },
      {
        "duration": 8,
        "start_time": "2022-12-18T19:42:00.152Z"
      },
      {
        "duration": 94,
        "start_time": "2022-12-18T19:42:00.162Z"
      },
      {
        "duration": 14,
        "start_time": "2022-12-18T19:42:00.258Z"
      },
      {
        "duration": 10,
        "start_time": "2022-12-18T19:42:00.274Z"
      },
      {
        "duration": 30,
        "start_time": "2022-12-18T19:42:00.299Z"
      },
      {
        "duration": 31,
        "start_time": "2022-12-18T19:42:00.331Z"
      },
      {
        "duration": 195,
        "start_time": "2022-12-18T19:42:00.364Z"
      },
      {
        "duration": 12,
        "start_time": "2022-12-18T19:42:00.561Z"
      },
      {
        "duration": 23,
        "start_time": "2022-12-18T19:42:00.574Z"
      },
      {
        "duration": 36,
        "start_time": "2022-12-18T19:42:00.598Z"
      },
      {
        "duration": 18,
        "start_time": "2022-12-18T19:42:00.635Z"
      },
      {
        "duration": 25,
        "start_time": "2022-12-18T19:42:00.654Z"
      },
      {
        "duration": 16,
        "start_time": "2022-12-18T19:42:00.680Z"
      },
      {
        "duration": 18,
        "start_time": "2022-12-18T19:42:00.697Z"
      },
      {
        "duration": 53,
        "start_time": "2022-12-18T19:42:00.717Z"
      },
      {
        "duration": 35,
        "start_time": "2022-12-18T19:42:00.771Z"
      },
      {
        "duration": 29,
        "start_time": "2022-12-18T19:42:00.808Z"
      },
      {
        "duration": 67,
        "start_time": "2022-12-18T19:42:00.838Z"
      },
      {
        "duration": 18,
        "start_time": "2022-12-18T19:42:00.907Z"
      },
      {
        "duration": 24,
        "start_time": "2022-12-18T19:42:00.927Z"
      },
      {
        "duration": 9,
        "start_time": "2022-12-18T19:42:00.952Z"
      },
      {
        "duration": 34,
        "start_time": "2022-12-18T19:42:00.962Z"
      },
      {
        "duration": 7,
        "start_time": "2022-12-18T19:42:00.999Z"
      },
      {
        "duration": 17,
        "start_time": "2022-12-18T19:42:01.007Z"
      },
      {
        "duration": 1158,
        "start_time": "2022-12-18T19:42:01.025Z"
      },
      {
        "duration": 1158,
        "start_time": "2022-12-18T19:42:02.185Z"
      },
      {
        "duration": 1253,
        "start_time": "2022-12-18T19:42:03.345Z"
      },
      {
        "duration": 657,
        "start_time": "2022-12-18T19:42:04.600Z"
      },
      {
        "duration": 727,
        "start_time": "2022-12-18T19:42:05.259Z"
      },
      {
        "duration": 10,
        "start_time": "2022-12-18T19:42:05.987Z"
      },
      {
        "duration": 7,
        "start_time": "2022-12-18T19:42:05.999Z"
      },
      {
        "duration": 8,
        "start_time": "2022-12-18T19:42:06.007Z"
      },
      {
        "duration": 5,
        "start_time": "2022-12-18T19:42:06.016Z"
      },
      {
        "duration": 20,
        "start_time": "2022-12-18T19:42:06.023Z"
      },
      {
        "duration": 20,
        "start_time": "2022-12-18T19:42:06.045Z"
      },
      {
        "duration": 812,
        "start_time": "2022-12-18T19:42:06.067Z"
      },
      {
        "duration": 16,
        "start_time": "2022-12-18T19:42:06.881Z"
      },
      {
        "duration": 9,
        "start_time": "2022-12-18T19:42:06.899Z"
      },
      {
        "duration": 4,
        "start_time": "2022-12-18T19:42:06.909Z"
      },
      {
        "duration": 5,
        "start_time": "2022-12-18T19:42:06.915Z"
      },
      {
        "duration": 8,
        "start_time": "2022-12-18T19:42:06.921Z"
      },
      {
        "duration": 10,
        "start_time": "2022-12-18T19:42:06.930Z"
      },
      {
        "duration": 146,
        "start_time": "2022-12-18T19:42:06.941Z"
      },
      {
        "duration": 184,
        "start_time": "2022-12-18T19:42:56.082Z"
      },
      {
        "duration": 54,
        "start_time": "2022-12-18T19:43:03.060Z"
      },
      {
        "duration": 4,
        "start_time": "2022-12-18T19:43:37.397Z"
      },
      {
        "duration": 3819,
        "start_time": "2022-12-18T19:43:51.774Z"
      },
      {
        "duration": 10,
        "start_time": "2022-12-18T19:58:09.335Z"
      },
      {
        "duration": 491,
        "start_time": "2022-12-18T19:58:24.357Z"
      },
      {
        "duration": 41,
        "start_time": "2022-12-18T19:59:42.737Z"
      },
      {
        "duration": 4,
        "start_time": "2022-12-18T19:59:48.621Z"
      },
      {
        "duration": 2,
        "start_time": "2022-12-18T19:59:53.359Z"
      },
      {
        "duration": 3928,
        "start_time": "2022-12-18T19:59:57.463Z"
      },
      {
        "duration": 12,
        "start_time": "2022-12-18T20:12:31.464Z"
      },
      {
        "duration": 9,
        "start_time": "2022-12-18T20:12:44.234Z"
      },
      {
        "duration": 9,
        "start_time": "2022-12-18T20:13:11.002Z"
      },
      {
        "duration": 6,
        "start_time": "2022-12-18T20:13:23.455Z"
      },
      {
        "duration": 9,
        "start_time": "2022-12-18T20:13:24.816Z"
      },
      {
        "duration": 6,
        "start_time": "2022-12-18T20:13:36.703Z"
      },
      {
        "duration": 9,
        "start_time": "2022-12-18T20:13:47.626Z"
      },
      {
        "duration": 40,
        "start_time": "2022-12-18T20:14:10.804Z"
      },
      {
        "duration": 3,
        "start_time": "2022-12-18T20:16:43.432Z"
      },
      {
        "duration": 4,
        "start_time": "2022-12-18T20:17:04.557Z"
      },
      {
        "duration": 12,
        "start_time": "2022-12-18T20:18:31.779Z"
      },
      {
        "duration": 11,
        "start_time": "2022-12-18T20:18:53.875Z"
      },
      {
        "duration": 10,
        "start_time": "2022-12-18T20:25:15.822Z"
      },
      {
        "duration": 7,
        "start_time": "2022-12-18T20:25:53.503Z"
      },
      {
        "duration": 9,
        "start_time": "2022-12-18T20:26:08.473Z"
      },
      {
        "duration": 6,
        "start_time": "2022-12-18T20:26:12.656Z"
      },
      {
        "duration": 8,
        "start_time": "2022-12-18T20:26:13.364Z"
      },
      {
        "duration": 4,
        "start_time": "2022-12-18T20:27:19.415Z"
      },
      {
        "duration": 4,
        "start_time": "2022-12-18T20:27:27.141Z"
      },
      {
        "duration": 1406,
        "start_time": "2022-12-18T20:27:41.386Z"
      },
      {
        "duration": 763,
        "start_time": "2022-12-18T20:27:42.794Z"
      },
      {
        "duration": 18,
        "start_time": "2022-12-18T20:27:43.559Z"
      },
      {
        "duration": 24,
        "start_time": "2022-12-18T20:27:43.578Z"
      },
      {
        "duration": 58,
        "start_time": "2022-12-18T20:27:43.604Z"
      },
      {
        "duration": 17,
        "start_time": "2022-12-18T20:27:43.664Z"
      },
      {
        "duration": 116,
        "start_time": "2022-12-18T20:27:43.698Z"
      },
      {
        "duration": 16,
        "start_time": "2022-12-18T20:27:43.816Z"
      },
      {
        "duration": 12,
        "start_time": "2022-12-18T20:27:43.833Z"
      },
      {
        "duration": 20,
        "start_time": "2022-12-18T20:27:43.847Z"
      },
      {
        "duration": 32,
        "start_time": "2022-12-18T20:27:43.869Z"
      },
      {
        "duration": 132,
        "start_time": "2022-12-18T20:27:43.903Z"
      },
      {
        "duration": 13,
        "start_time": "2022-12-18T20:27:44.037Z"
      },
      {
        "duration": 13,
        "start_time": "2022-12-18T20:27:44.054Z"
      },
      {
        "duration": 30,
        "start_time": "2022-12-18T20:27:44.068Z"
      },
      {
        "duration": 7,
        "start_time": "2022-12-18T20:27:44.100Z"
      },
      {
        "duration": 3,
        "start_time": "2022-12-18T20:27:44.109Z"
      },
      {
        "duration": 8,
        "start_time": "2022-12-18T20:27:44.113Z"
      },
      {
        "duration": 6,
        "start_time": "2022-12-18T20:27:44.123Z"
      },
      {
        "duration": 13,
        "start_time": "2022-12-18T20:27:44.131Z"
      },
      {
        "duration": 64,
        "start_time": "2022-12-18T20:27:44.146Z"
      },
      {
        "duration": 9,
        "start_time": "2022-12-18T20:27:44.212Z"
      },
      {
        "duration": 10,
        "start_time": "2022-12-18T20:27:44.222Z"
      },
      {
        "duration": 5,
        "start_time": "2022-12-18T20:27:44.233Z"
      },
      {
        "duration": 58,
        "start_time": "2022-12-18T20:27:44.240Z"
      },
      {
        "duration": 6,
        "start_time": "2022-12-18T20:27:44.299Z"
      },
      {
        "duration": 11,
        "start_time": "2022-12-18T20:27:44.306Z"
      },
      {
        "duration": 8,
        "start_time": "2022-12-18T20:27:44.319Z"
      },
      {
        "duration": 8,
        "start_time": "2022-12-18T20:27:44.329Z"
      },
      {
        "duration": 1342,
        "start_time": "2022-12-18T20:27:44.340Z"
      },
      {
        "duration": 1348,
        "start_time": "2022-12-18T20:27:45.684Z"
      },
      {
        "duration": 1256,
        "start_time": "2022-12-18T20:27:47.034Z"
      },
      {
        "duration": 635,
        "start_time": "2022-12-18T20:27:48.292Z"
      },
      {
        "duration": 821,
        "start_time": "2022-12-18T20:27:48.928Z"
      },
      {
        "duration": 4,
        "start_time": "2022-12-18T20:27:49.751Z"
      },
      {
        "duration": 9,
        "start_time": "2022-12-18T20:27:49.756Z"
      },
      {
        "duration": 7,
        "start_time": "2022-12-18T20:27:49.767Z"
      },
      {
        "duration": 11,
        "start_time": "2022-12-18T20:27:49.775Z"
      },
      {
        "duration": 25,
        "start_time": "2022-12-18T20:27:49.787Z"
      },
      {
        "duration": 20,
        "start_time": "2022-12-18T20:27:49.814Z"
      },
      {
        "duration": 972,
        "start_time": "2022-12-18T20:27:49.838Z"
      },
      {
        "duration": 8,
        "start_time": "2022-12-18T20:27:50.812Z"
      },
      {
        "duration": 11,
        "start_time": "2022-12-18T20:27:50.821Z"
      },
      {
        "duration": 6,
        "start_time": "2022-12-18T20:27:50.834Z"
      },
      {
        "duration": 6,
        "start_time": "2022-12-18T20:27:50.842Z"
      },
      {
        "duration": 9,
        "start_time": "2022-12-18T20:27:50.849Z"
      },
      {
        "duration": 117,
        "start_time": "2022-12-18T20:27:50.859Z"
      },
      {
        "duration": 0,
        "start_time": "2022-12-18T20:27:50.978Z"
      },
      {
        "duration": 6,
        "start_time": "2022-12-18T20:27:59.676Z"
      },
      {
        "duration": 10,
        "start_time": "2022-12-18T20:28:00.303Z"
      },
      {
        "duration": 4,
        "start_time": "2022-12-18T20:28:26.764Z"
      },
      {
        "duration": 1355,
        "start_time": "2022-12-18T20:28:36.515Z"
      },
      {
        "duration": 684,
        "start_time": "2022-12-18T20:28:37.872Z"
      },
      {
        "duration": 18,
        "start_time": "2022-12-18T20:28:38.558Z"
      },
      {
        "duration": 31,
        "start_time": "2022-12-18T20:28:38.579Z"
      },
      {
        "duration": 61,
        "start_time": "2022-12-18T20:28:38.611Z"
      },
      {
        "duration": 30,
        "start_time": "2022-12-18T20:28:38.674Z"
      },
      {
        "duration": 113,
        "start_time": "2022-12-18T20:28:38.707Z"
      },
      {
        "duration": 17,
        "start_time": "2022-12-18T20:28:38.822Z"
      },
      {
        "duration": 12,
        "start_time": "2022-12-18T20:28:38.841Z"
      },
      {
        "duration": 66,
        "start_time": "2022-12-18T20:28:38.858Z"
      },
      {
        "duration": 9,
        "start_time": "2022-12-18T20:28:38.925Z"
      },
      {
        "duration": 142,
        "start_time": "2022-12-18T20:28:38.936Z"
      },
      {
        "duration": 30,
        "start_time": "2022-12-18T20:28:39.080Z"
      },
      {
        "duration": 22,
        "start_time": "2022-12-18T20:28:39.113Z"
      },
      {
        "duration": 23,
        "start_time": "2022-12-18T20:28:39.138Z"
      },
      {
        "duration": 35,
        "start_time": "2022-12-18T20:28:39.163Z"
      },
      {
        "duration": 3,
        "start_time": "2022-12-18T20:28:39.200Z"
      },
      {
        "duration": 10,
        "start_time": "2022-12-18T20:28:39.204Z"
      },
      {
        "duration": 5,
        "start_time": "2022-12-18T20:28:39.215Z"
      },
      {
        "duration": 12,
        "start_time": "2022-12-18T20:28:39.222Z"
      },
      {
        "duration": 27,
        "start_time": "2022-12-18T20:28:39.236Z"
      },
      {
        "duration": 33,
        "start_time": "2022-12-18T20:28:39.265Z"
      },
      {
        "duration": 9,
        "start_time": "2022-12-18T20:28:39.301Z"
      },
      {
        "duration": 8,
        "start_time": "2022-12-18T20:28:39.312Z"
      },
      {
        "duration": 24,
        "start_time": "2022-12-18T20:28:39.322Z"
      },
      {
        "duration": 6,
        "start_time": "2022-12-18T20:28:39.347Z"
      },
      {
        "duration": 13,
        "start_time": "2022-12-18T20:28:39.398Z"
      },
      {
        "duration": 5,
        "start_time": "2022-12-18T20:28:39.414Z"
      },
      {
        "duration": 5,
        "start_time": "2022-12-18T20:28:39.421Z"
      },
      {
        "duration": 1364,
        "start_time": "2022-12-18T20:28:39.428Z"
      },
      {
        "duration": 1385,
        "start_time": "2022-12-18T20:28:40.796Z"
      },
      {
        "duration": 1376,
        "start_time": "2022-12-18T20:28:42.184Z"
      },
      {
        "duration": 654,
        "start_time": "2022-12-18T20:28:43.562Z"
      },
      {
        "duration": 962,
        "start_time": "2022-12-18T20:28:44.219Z"
      },
      {
        "duration": 3,
        "start_time": "2022-12-18T20:28:45.183Z"
      },
      {
        "duration": 13,
        "start_time": "2022-12-18T20:28:45.187Z"
      },
      {
        "duration": 11,
        "start_time": "2022-12-18T20:28:45.202Z"
      },
      {
        "duration": 9,
        "start_time": "2022-12-18T20:28:45.214Z"
      },
      {
        "duration": 23,
        "start_time": "2022-12-18T20:28:45.224Z"
      },
      {
        "duration": 21,
        "start_time": "2022-12-18T20:28:45.249Z"
      },
      {
        "duration": 1005,
        "start_time": "2022-12-18T20:28:45.271Z"
      },
      {
        "duration": 8,
        "start_time": "2022-12-18T20:28:46.278Z"
      },
      {
        "duration": 22,
        "start_time": "2022-12-18T20:28:46.288Z"
      },
      {
        "duration": 19,
        "start_time": "2022-12-18T20:28:46.311Z"
      },
      {
        "duration": 36,
        "start_time": "2022-12-18T20:28:46.331Z"
      },
      {
        "duration": 14,
        "start_time": "2022-12-18T20:28:46.369Z"
      },
      {
        "duration": 127,
        "start_time": "2022-12-18T20:28:46.385Z"
      },
      {
        "duration": 0,
        "start_time": "2022-12-18T20:28:46.514Z"
      },
      {
        "duration": 4,
        "start_time": "2022-12-18T20:30:02.041Z"
      },
      {
        "duration": 11,
        "start_time": "2022-12-18T20:30:11.923Z"
      },
      {
        "duration": 17,
        "start_time": "2022-12-18T20:31:48.153Z"
      },
      {
        "duration": 3,
        "start_time": "2022-12-18T20:32:14.269Z"
      },
      {
        "duration": 9,
        "start_time": "2022-12-18T20:32:26.427Z"
      },
      {
        "duration": 1328,
        "start_time": "2022-12-18T20:32:47.948Z"
      },
      {
        "duration": 686,
        "start_time": "2022-12-18T20:32:49.278Z"
      },
      {
        "duration": 31,
        "start_time": "2022-12-18T20:32:49.967Z"
      },
      {
        "duration": 13,
        "start_time": "2022-12-18T20:32:50.001Z"
      },
      {
        "duration": 89,
        "start_time": "2022-12-18T20:32:50.016Z"
      },
      {
        "duration": 18,
        "start_time": "2022-12-18T20:32:50.108Z"
      },
      {
        "duration": 128,
        "start_time": "2022-12-18T20:32:50.128Z"
      },
      {
        "duration": 16,
        "start_time": "2022-12-18T20:32:50.258Z"
      },
      {
        "duration": 28,
        "start_time": "2022-12-18T20:32:50.276Z"
      },
      {
        "duration": 21,
        "start_time": "2022-12-18T20:32:50.306Z"
      },
      {
        "duration": 9,
        "start_time": "2022-12-18T20:32:50.328Z"
      },
      {
        "duration": 134,
        "start_time": "2022-12-18T20:32:50.339Z"
      },
      {
        "duration": 13,
        "start_time": "2022-12-18T20:32:50.474Z"
      },
      {
        "duration": 12,
        "start_time": "2022-12-18T20:32:50.498Z"
      },
      {
        "duration": 18,
        "start_time": "2022-12-18T20:32:50.512Z"
      },
      {
        "duration": 9,
        "start_time": "2022-12-18T20:32:50.531Z"
      },
      {
        "duration": 3,
        "start_time": "2022-12-18T20:32:50.542Z"
      },
      {
        "duration": 7,
        "start_time": "2022-12-18T20:32:50.547Z"
      },
      {
        "duration": 6,
        "start_time": "2022-12-18T20:32:50.556Z"
      },
      {
        "duration": 36,
        "start_time": "2022-12-18T20:32:50.564Z"
      },
      {
        "duration": 24,
        "start_time": "2022-12-18T20:32:50.602Z"
      },
      {
        "duration": 8,
        "start_time": "2022-12-18T20:32:50.628Z"
      },
      {
        "duration": 8,
        "start_time": "2022-12-18T20:32:50.637Z"
      },
      {
        "duration": 6,
        "start_time": "2022-12-18T20:32:50.646Z"
      },
      {
        "duration": 65,
        "start_time": "2022-12-18T20:32:50.653Z"
      },
      {
        "duration": 5,
        "start_time": "2022-12-18T20:32:50.720Z"
      },
      {
        "duration": 11,
        "start_time": "2022-12-18T20:32:50.726Z"
      },
      {
        "duration": 4,
        "start_time": "2022-12-18T20:32:50.740Z"
      },
      {
        "duration": 7,
        "start_time": "2022-12-18T20:32:50.745Z"
      },
      {
        "duration": 1169,
        "start_time": "2022-12-18T20:32:50.753Z"
      },
      {
        "duration": 1277,
        "start_time": "2022-12-18T20:32:51.925Z"
      },
      {
        "duration": 1267,
        "start_time": "2022-12-18T20:32:53.204Z"
      },
      {
        "duration": 744,
        "start_time": "2022-12-18T20:32:54.473Z"
      },
      {
        "duration": 824,
        "start_time": "2022-12-18T20:32:55.219Z"
      },
      {
        "duration": 3,
        "start_time": "2022-12-18T20:32:56.046Z"
      },
      {
        "duration": 9,
        "start_time": "2022-12-18T20:32:56.051Z"
      },
      {
        "duration": 15,
        "start_time": "2022-12-18T20:32:56.062Z"
      },
      {
        "duration": 12,
        "start_time": "2022-12-18T20:32:56.078Z"
      },
      {
        "duration": 27,
        "start_time": "2022-12-18T20:32:56.091Z"
      },
      {
        "duration": 23,
        "start_time": "2022-12-18T20:32:56.120Z"
      },
      {
        "duration": 953,
        "start_time": "2022-12-18T20:32:56.145Z"
      },
      {
        "duration": 10,
        "start_time": "2022-12-18T20:32:57.099Z"
      },
      {
        "duration": 19,
        "start_time": "2022-12-18T20:32:57.111Z"
      },
      {
        "duration": 8,
        "start_time": "2022-12-18T20:32:57.132Z"
      },
      {
        "duration": 4,
        "start_time": "2022-12-18T20:32:57.141Z"
      },
      {
        "duration": 15,
        "start_time": "2022-12-18T20:32:57.147Z"
      },
      {
        "duration": 107,
        "start_time": "2022-12-18T20:32:57.164Z"
      },
      {
        "duration": 0,
        "start_time": "2022-12-18T20:32:57.273Z"
      },
      {
        "duration": 4,
        "start_time": "2022-12-18T20:35:23.751Z"
      },
      {
        "duration": 8,
        "start_time": "2022-12-18T20:35:29.829Z"
      },
      {
        "duration": 8,
        "start_time": "2022-12-18T20:35:37.732Z"
      },
      {
        "duration": 4,
        "start_time": "2022-12-18T20:37:37.336Z"
      },
      {
        "duration": 8,
        "start_time": "2022-12-18T20:37:47.114Z"
      },
      {
        "duration": 1326,
        "start_time": "2022-12-18T20:40:24.327Z"
      },
      {
        "duration": 697,
        "start_time": "2022-12-18T20:40:25.655Z"
      },
      {
        "duration": 22,
        "start_time": "2022-12-18T20:40:26.353Z"
      },
      {
        "duration": 19,
        "start_time": "2022-12-18T20:40:26.378Z"
      },
      {
        "duration": 62,
        "start_time": "2022-12-18T20:40:26.399Z"
      },
      {
        "duration": 8,
        "start_time": "2022-12-18T20:40:26.462Z"
      },
      {
        "duration": 143,
        "start_time": "2022-12-18T20:40:26.471Z"
      },
      {
        "duration": 15,
        "start_time": "2022-12-18T20:40:26.615Z"
      },
      {
        "duration": 17,
        "start_time": "2022-12-18T20:40:26.631Z"
      },
      {
        "duration": 50,
        "start_time": "2022-12-18T20:40:26.650Z"
      },
      {
        "duration": 8,
        "start_time": "2022-12-18T20:40:26.701Z"
      },
      {
        "duration": 129,
        "start_time": "2022-12-18T20:40:26.710Z"
      },
      {
        "duration": 12,
        "start_time": "2022-12-18T20:40:26.841Z"
      },
      {
        "duration": 14,
        "start_time": "2022-12-18T20:40:26.855Z"
      },
      {
        "duration": 27,
        "start_time": "2022-12-18T20:40:26.871Z"
      },
      {
        "duration": 7,
        "start_time": "2022-12-18T20:40:26.899Z"
      },
      {
        "duration": 22,
        "start_time": "2022-12-18T20:40:26.907Z"
      },
      {
        "duration": 13,
        "start_time": "2022-12-18T20:40:26.930Z"
      },
      {
        "duration": 26,
        "start_time": "2022-12-18T20:40:26.945Z"
      },
      {
        "duration": 9,
        "start_time": "2022-12-18T20:40:26.973Z"
      },
      {
        "duration": 34,
        "start_time": "2022-12-18T20:40:26.983Z"
      },
      {
        "duration": 8,
        "start_time": "2022-12-18T20:40:27.018Z"
      },
      {
        "duration": 9,
        "start_time": "2022-12-18T20:40:27.028Z"
      },
      {
        "duration": 18,
        "start_time": "2022-12-18T20:40:27.039Z"
      },
      {
        "duration": 22,
        "start_time": "2022-12-18T20:40:27.058Z"
      },
      {
        "duration": 5,
        "start_time": "2022-12-18T20:40:27.081Z"
      },
      {
        "duration": 7,
        "start_time": "2022-12-18T20:40:27.097Z"
      },
      {
        "duration": 17,
        "start_time": "2022-12-18T20:40:27.105Z"
      },
      {
        "duration": 8,
        "start_time": "2022-12-18T20:40:27.124Z"
      },
      {
        "duration": 1151,
        "start_time": "2022-12-18T20:40:27.134Z"
      },
      {
        "duration": 1151,
        "start_time": "2022-12-18T20:40:28.287Z"
      },
      {
        "duration": 1202,
        "start_time": "2022-12-18T20:40:29.440Z"
      },
      {
        "duration": 582,
        "start_time": "2022-12-18T20:40:30.644Z"
      },
      {
        "duration": 734,
        "start_time": "2022-12-18T20:40:31.227Z"
      },
      {
        "duration": 2,
        "start_time": "2022-12-18T20:40:31.964Z"
      },
      {
        "duration": 7,
        "start_time": "2022-12-18T20:40:31.968Z"
      },
      {
        "duration": 5,
        "start_time": "2022-12-18T20:40:31.976Z"
      },
      {
        "duration": 15,
        "start_time": "2022-12-18T20:40:31.982Z"
      },
      {
        "duration": 21,
        "start_time": "2022-12-18T20:40:31.999Z"
      },
      {
        "duration": 20,
        "start_time": "2022-12-18T20:40:32.022Z"
      },
      {
        "duration": 947,
        "start_time": "2022-12-18T20:40:32.046Z"
      },
      {
        "duration": 7,
        "start_time": "2022-12-18T20:40:32.998Z"
      },
      {
        "duration": 11,
        "start_time": "2022-12-18T20:40:33.007Z"
      },
      {
        "duration": 4,
        "start_time": "2022-12-18T20:40:33.020Z"
      },
      {
        "duration": 6,
        "start_time": "2022-12-18T20:40:33.025Z"
      },
      {
        "duration": 9,
        "start_time": "2022-12-18T20:40:33.032Z"
      },
      {
        "duration": 122,
        "start_time": "2022-12-18T20:40:33.042Z"
      },
      {
        "duration": 0,
        "start_time": "2022-12-18T20:40:33.165Z"
      },
      {
        "duration": 9,
        "start_time": "2022-12-18T20:41:32.990Z"
      },
      {
        "duration": 10,
        "start_time": "2022-12-18T20:41:47.541Z"
      },
      {
        "duration": 4,
        "start_time": "2022-12-18T20:42:39.624Z"
      },
      {
        "duration": 3,
        "start_time": "2022-12-18T20:42:49.809Z"
      },
      {
        "duration": 64,
        "start_time": "2022-12-18T20:42:51.478Z"
      },
      {
        "duration": 4044,
        "start_time": "2022-12-18T20:48:33.246Z"
      },
      {
        "duration": 9,
        "start_time": "2022-12-18T21:00:43.027Z"
      },
      {
        "duration": 4,
        "start_time": "2022-12-18T21:01:18.459Z"
      },
      {
        "duration": 2,
        "start_time": "2022-12-18T21:01:25.164Z"
      },
      {
        "duration": 3831,
        "start_time": "2022-12-18T21:01:30.104Z"
      },
      {
        "duration": 99,
        "start_time": "2022-12-18T21:07:56.880Z"
      },
      {
        "duration": 3954,
        "start_time": "2022-12-18T21:08:23.260Z"
      },
      {
        "duration": 9949,
        "start_time": "2022-12-18T21:22:51.509Z"
      },
      {
        "duration": 9,
        "start_time": "2022-12-18T21:36:09.525Z"
      },
      {
        "duration": 3,
        "start_time": "2022-12-18T21:36:45.985Z"
      },
      {
        "duration": 1038,
        "start_time": "2022-12-18T21:36:53.706Z"
      },
      {
        "duration": 1030,
        "start_time": "2022-12-18T21:37:29.010Z"
      },
      {
        "duration": 1048,
        "start_time": "2022-12-18T21:39:47.949Z"
      },
      {
        "duration": 1719,
        "start_time": "2022-12-19T13:56:49.142Z"
      },
      {
        "duration": 2160,
        "start_time": "2022-12-19T13:56:50.863Z"
      },
      {
        "duration": 27,
        "start_time": "2022-12-19T13:56:53.025Z"
      },
      {
        "duration": 15,
        "start_time": "2022-12-19T13:56:53.055Z"
      },
      {
        "duration": 85,
        "start_time": "2022-12-19T13:56:53.072Z"
      },
      {
        "duration": 12,
        "start_time": "2022-12-19T13:56:53.159Z"
      },
      {
        "duration": 119,
        "start_time": "2022-12-19T13:56:53.173Z"
      },
      {
        "duration": 16,
        "start_time": "2022-12-19T13:56:53.294Z"
      },
      {
        "duration": 29,
        "start_time": "2022-12-19T13:56:53.312Z"
      },
      {
        "duration": 24,
        "start_time": "2022-12-19T13:56:53.348Z"
      },
      {
        "duration": 10,
        "start_time": "2022-12-19T13:56:53.374Z"
      },
      {
        "duration": 163,
        "start_time": "2022-12-19T13:56:53.385Z"
      },
      {
        "duration": 14,
        "start_time": "2022-12-19T13:56:53.554Z"
      },
      {
        "duration": 17,
        "start_time": "2022-12-19T13:56:53.570Z"
      },
      {
        "duration": 41,
        "start_time": "2022-12-19T13:56:53.589Z"
      },
      {
        "duration": 15,
        "start_time": "2022-12-19T13:56:53.632Z"
      },
      {
        "duration": 15,
        "start_time": "2022-12-19T13:56:53.649Z"
      },
      {
        "duration": 14,
        "start_time": "2022-12-19T13:56:53.666Z"
      },
      {
        "duration": 10,
        "start_time": "2022-12-19T13:56:53.681Z"
      },
      {
        "duration": 17,
        "start_time": "2022-12-19T13:56:53.693Z"
      },
      {
        "duration": 39,
        "start_time": "2022-12-19T13:56:53.712Z"
      },
      {
        "duration": 9,
        "start_time": "2022-12-19T13:56:53.753Z"
      },
      {
        "duration": 10,
        "start_time": "2022-12-19T13:56:53.764Z"
      },
      {
        "duration": 10,
        "start_time": "2022-12-19T13:56:53.776Z"
      },
      {
        "duration": 24,
        "start_time": "2022-12-19T13:56:53.788Z"
      },
      {
        "duration": 34,
        "start_time": "2022-12-19T13:56:53.814Z"
      },
      {
        "duration": 24,
        "start_time": "2022-12-19T13:56:53.850Z"
      },
      {
        "duration": 16,
        "start_time": "2022-12-19T13:56:53.878Z"
      },
      {
        "duration": 11,
        "start_time": "2022-12-19T13:56:53.896Z"
      },
      {
        "duration": 1340,
        "start_time": "2022-12-19T13:56:53.909Z"
      },
      {
        "duration": 1382,
        "start_time": "2022-12-19T13:56:55.251Z"
      },
      {
        "duration": 1377,
        "start_time": "2022-12-19T13:56:56.635Z"
      },
      {
        "duration": 690,
        "start_time": "2022-12-19T13:56:58.015Z"
      },
      {
        "duration": 965,
        "start_time": "2022-12-19T13:56:58.708Z"
      },
      {
        "duration": 3,
        "start_time": "2022-12-19T13:56:59.674Z"
      },
      {
        "duration": 27,
        "start_time": "2022-12-19T13:56:59.678Z"
      },
      {
        "duration": 37,
        "start_time": "2022-12-19T13:56:59.706Z"
      },
      {
        "duration": 38,
        "start_time": "2022-12-19T13:56:59.750Z"
      },
      {
        "duration": 29,
        "start_time": "2022-12-19T13:56:59.790Z"
      },
      {
        "duration": 47,
        "start_time": "2022-12-19T13:56:59.822Z"
      },
      {
        "duration": 1062,
        "start_time": "2022-12-19T13:56:59.871Z"
      },
      {
        "duration": 13,
        "start_time": "2022-12-19T13:57:00.937Z"
      },
      {
        "duration": 17,
        "start_time": "2022-12-19T13:57:00.953Z"
      },
      {
        "duration": 11,
        "start_time": "2022-12-19T13:57:00.972Z"
      },
      {
        "duration": 10,
        "start_time": "2022-12-19T13:57:00.985Z"
      },
      {
        "duration": 14,
        "start_time": "2022-12-19T13:57:00.997Z"
      },
      {
        "duration": 7,
        "start_time": "2022-12-19T13:57:01.013Z"
      },
      {
        "duration": 11862,
        "start_time": "2022-12-19T13:57:01.021Z"
      },
      {
        "duration": 1208,
        "start_time": "2022-12-19T13:57:12.884Z"
      },
      {
        "duration": 221,
        "start_time": "2022-12-19T14:04:45.529Z"
      },
      {
        "duration": 11,
        "start_time": "2022-12-19T14:06:02.551Z"
      },
      {
        "duration": 6,
        "start_time": "2022-12-19T14:07:57.837Z"
      },
      {
        "duration": 1469,
        "start_time": "2022-12-19T14:21:06.059Z"
      },
      {
        "duration": 763,
        "start_time": "2022-12-19T14:21:07.530Z"
      },
      {
        "duration": 20,
        "start_time": "2022-12-19T14:21:08.295Z"
      },
      {
        "duration": 31,
        "start_time": "2022-12-19T14:21:08.317Z"
      },
      {
        "duration": 59,
        "start_time": "2022-12-19T14:21:08.349Z"
      },
      {
        "duration": 9,
        "start_time": "2022-12-19T14:21:08.409Z"
      },
      {
        "duration": 109,
        "start_time": "2022-12-19T14:21:08.438Z"
      },
      {
        "duration": 17,
        "start_time": "2022-12-19T14:21:08.548Z"
      },
      {
        "duration": 18,
        "start_time": "2022-12-19T14:21:08.567Z"
      },
      {
        "duration": 52,
        "start_time": "2022-12-19T14:21:08.588Z"
      },
      {
        "duration": 8,
        "start_time": "2022-12-19T14:21:08.642Z"
      },
      {
        "duration": 136,
        "start_time": "2022-12-19T14:21:08.652Z"
      },
      {
        "duration": 13,
        "start_time": "2022-12-19T14:21:08.790Z"
      },
      {
        "duration": 14,
        "start_time": "2022-12-19T14:21:08.805Z"
      },
      {
        "duration": 22,
        "start_time": "2022-12-19T14:21:08.838Z"
      },
      {
        "duration": 11,
        "start_time": "2022-12-19T14:21:08.862Z"
      },
      {
        "duration": 26,
        "start_time": "2022-12-19T14:21:08.876Z"
      },
      {
        "duration": 10,
        "start_time": "2022-12-19T14:21:08.905Z"
      },
      {
        "duration": 20,
        "start_time": "2022-12-19T14:21:08.918Z"
      },
      {
        "duration": 15,
        "start_time": "2022-12-19T14:21:08.940Z"
      },
      {
        "duration": 58,
        "start_time": "2022-12-19T14:21:08.957Z"
      },
      {
        "duration": 18,
        "start_time": "2022-12-19T14:21:09.017Z"
      },
      {
        "duration": 17,
        "start_time": "2022-12-19T14:21:09.038Z"
      },
      {
        "duration": 10,
        "start_time": "2022-12-19T14:21:09.058Z"
      },
      {
        "duration": 47,
        "start_time": "2022-12-19T14:21:09.070Z"
      },
      {
        "duration": 22,
        "start_time": "2022-12-19T14:21:09.119Z"
      },
      {
        "duration": 20,
        "start_time": "2022-12-19T14:21:09.143Z"
      },
      {
        "duration": 15,
        "start_time": "2022-12-19T14:21:09.167Z"
      },
      {
        "duration": 7,
        "start_time": "2022-12-19T14:21:09.183Z"
      },
      {
        "duration": 1282,
        "start_time": "2022-12-19T14:21:09.192Z"
      },
      {
        "duration": 1338,
        "start_time": "2022-12-19T14:21:10.476Z"
      },
      {
        "duration": 1366,
        "start_time": "2022-12-19T14:21:11.816Z"
      },
      {
        "duration": 670,
        "start_time": "2022-12-19T14:21:13.184Z"
      },
      {
        "duration": 868,
        "start_time": "2022-12-19T14:21:13.856Z"
      },
      {
        "duration": 3,
        "start_time": "2022-12-19T14:21:14.726Z"
      },
      {
        "duration": 11,
        "start_time": "2022-12-19T14:21:14.738Z"
      },
      {
        "duration": 17,
        "start_time": "2022-12-19T14:21:14.751Z"
      },
      {
        "duration": 18,
        "start_time": "2022-12-19T14:21:14.770Z"
      },
      {
        "duration": 45,
        "start_time": "2022-12-19T14:21:14.790Z"
      },
      {
        "duration": 21,
        "start_time": "2022-12-19T14:21:14.837Z"
      },
      {
        "duration": 1079,
        "start_time": "2022-12-19T14:21:14.860Z"
      },
      {
        "duration": 9,
        "start_time": "2022-12-19T14:21:15.940Z"
      },
      {
        "duration": 17,
        "start_time": "2022-12-19T14:21:15.951Z"
      },
      {
        "duration": 9,
        "start_time": "2022-12-19T14:21:15.971Z"
      },
      {
        "duration": 11,
        "start_time": "2022-12-19T14:21:15.981Z"
      },
      {
        "duration": 9,
        "start_time": "2022-12-19T14:21:15.994Z"
      },
      {
        "duration": 23,
        "start_time": "2022-12-19T14:21:16.005Z"
      },
      {
        "duration": 11180,
        "start_time": "2022-12-19T14:21:16.030Z"
      },
      {
        "duration": 1216,
        "start_time": "2022-12-19T14:21:27.212Z"
      },
      {
        "duration": 194,
        "start_time": "2022-12-19T14:21:28.438Z"
      },
      {
        "duration": 1416,
        "start_time": "2022-12-19T14:28:45.192Z"
      },
      {
        "duration": 734,
        "start_time": "2022-12-19T14:28:46.610Z"
      },
      {
        "duration": 21,
        "start_time": "2022-12-19T14:28:47.346Z"
      },
      {
        "duration": 15,
        "start_time": "2022-12-19T14:28:47.369Z"
      },
      {
        "duration": 87,
        "start_time": "2022-12-19T14:28:47.385Z"
      },
      {
        "duration": 9,
        "start_time": "2022-12-19T14:28:47.474Z"
      },
      {
        "duration": 117,
        "start_time": "2022-12-19T14:28:47.485Z"
      },
      {
        "duration": 17,
        "start_time": "2022-12-19T14:28:47.604Z"
      },
      {
        "duration": 26,
        "start_time": "2022-12-19T14:28:47.623Z"
      },
      {
        "duration": 29,
        "start_time": "2022-12-19T14:28:47.651Z"
      },
      {
        "duration": 11,
        "start_time": "2022-12-19T14:28:47.682Z"
      },
      {
        "duration": 167,
        "start_time": "2022-12-19T14:28:47.695Z"
      },
      {
        "duration": 15,
        "start_time": "2022-12-19T14:28:47.864Z"
      },
      {
        "duration": 13,
        "start_time": "2022-12-19T14:28:47.881Z"
      },
      {
        "duration": 43,
        "start_time": "2022-12-19T14:28:47.896Z"
      },
      {
        "duration": 10,
        "start_time": "2022-12-19T14:28:47.941Z"
      },
      {
        "duration": 5,
        "start_time": "2022-12-19T14:28:47.952Z"
      },
      {
        "duration": 9,
        "start_time": "2022-12-19T14:28:47.959Z"
      },
      {
        "duration": 5,
        "start_time": "2022-12-19T14:28:47.970Z"
      },
      {
        "duration": 15,
        "start_time": "2022-12-19T14:28:47.977Z"
      },
      {
        "duration": 51,
        "start_time": "2022-12-19T14:28:47.994Z"
      },
      {
        "duration": 9,
        "start_time": "2022-12-19T14:28:48.047Z"
      },
      {
        "duration": 13,
        "start_time": "2022-12-19T14:28:48.058Z"
      },
      {
        "duration": 14,
        "start_time": "2022-12-19T14:28:48.073Z"
      },
      {
        "duration": 26,
        "start_time": "2022-12-19T14:28:48.089Z"
      },
      {
        "duration": 25,
        "start_time": "2022-12-19T14:28:48.116Z"
      },
      {
        "duration": 12,
        "start_time": "2022-12-19T14:28:48.143Z"
      },
      {
        "duration": 4,
        "start_time": "2022-12-19T14:28:48.159Z"
      },
      {
        "duration": 8,
        "start_time": "2022-12-19T14:28:48.165Z"
      },
      {
        "duration": 1388,
        "start_time": "2022-12-19T14:28:48.175Z"
      },
      {
        "duration": 1291,
        "start_time": "2022-12-19T14:28:49.565Z"
      },
      {
        "duration": 1352,
        "start_time": "2022-12-19T14:28:50.858Z"
      },
      {
        "duration": 651,
        "start_time": "2022-12-19T14:28:52.211Z"
      },
      {
        "duration": 818,
        "start_time": "2022-12-19T14:28:52.864Z"
      },
      {
        "duration": 2,
        "start_time": "2022-12-19T14:28:53.684Z"
      },
      {
        "duration": 9,
        "start_time": "2022-12-19T14:28:53.688Z"
      },
      {
        "duration": 9,
        "start_time": "2022-12-19T14:28:53.699Z"
      },
      {
        "duration": 8,
        "start_time": "2022-12-19T14:28:53.710Z"
      },
      {
        "duration": 34,
        "start_time": "2022-12-19T14:28:53.720Z"
      },
      {
        "duration": 22,
        "start_time": "2022-12-19T14:28:53.756Z"
      },
      {
        "duration": 1043,
        "start_time": "2022-12-19T14:28:53.781Z"
      },
      {
        "duration": 15,
        "start_time": "2022-12-19T14:28:54.825Z"
      },
      {
        "duration": 7,
        "start_time": "2022-12-19T14:28:54.842Z"
      },
      {
        "duration": 3,
        "start_time": "2022-12-19T14:28:54.851Z"
      },
      {
        "duration": 5,
        "start_time": "2022-12-19T14:28:54.855Z"
      },
      {
        "duration": 11,
        "start_time": "2022-12-19T14:28:54.861Z"
      },
      {
        "duration": 7,
        "start_time": "2022-12-19T14:28:54.874Z"
      },
      {
        "duration": 11070,
        "start_time": "2022-12-19T14:28:54.882Z"
      },
      {
        "duration": 1183,
        "start_time": "2022-12-19T14:29:05.954Z"
      },
      {
        "duration": 704655,
        "start_time": "2022-12-19T14:29:07.139Z"
      },
      {
        "duration": 69264,
        "start_time": "2022-12-19T14:46:25.298Z"
      },
      {
        "duration": 1618,
        "start_time": "2022-12-19T15:20:01.467Z"
      },
      {
        "duration": 726,
        "start_time": "2022-12-19T15:20:03.088Z"
      },
      {
        "duration": 33,
        "start_time": "2022-12-19T15:20:03.816Z"
      },
      {
        "duration": 26,
        "start_time": "2022-12-19T15:20:03.851Z"
      },
      {
        "duration": 80,
        "start_time": "2022-12-19T15:20:03.881Z"
      },
      {
        "duration": 9,
        "start_time": "2022-12-19T15:20:03.963Z"
      },
      {
        "duration": 123,
        "start_time": "2022-12-19T15:20:03.974Z"
      },
      {
        "duration": 18,
        "start_time": "2022-12-19T15:20:04.099Z"
      },
      {
        "duration": 32,
        "start_time": "2022-12-19T15:20:04.119Z"
      },
      {
        "duration": 49,
        "start_time": "2022-12-19T15:20:04.155Z"
      },
      {
        "duration": 12,
        "start_time": "2022-12-19T15:20:04.207Z"
      },
      {
        "duration": 145,
        "start_time": "2022-12-19T15:20:04.221Z"
      },
      {
        "duration": 19,
        "start_time": "2022-12-19T15:20:04.369Z"
      },
      {
        "duration": 13,
        "start_time": "2022-12-19T15:20:04.390Z"
      },
      {
        "duration": 79,
        "start_time": "2022-12-19T15:20:04.405Z"
      },
      {
        "duration": 11,
        "start_time": "2022-12-19T15:20:04.486Z"
      },
      {
        "duration": 15,
        "start_time": "2022-12-19T15:20:04.499Z"
      },
      {
        "duration": 27,
        "start_time": "2022-12-19T15:20:04.516Z"
      },
      {
        "duration": 21,
        "start_time": "2022-12-19T15:20:04.546Z"
      },
      {
        "duration": 21,
        "start_time": "2022-12-19T15:20:04.569Z"
      },
      {
        "duration": 38,
        "start_time": "2022-12-19T15:20:04.592Z"
      },
      {
        "duration": 12,
        "start_time": "2022-12-19T15:20:04.632Z"
      },
      {
        "duration": 19,
        "start_time": "2022-12-19T15:20:04.646Z"
      },
      {
        "duration": 9,
        "start_time": "2022-12-19T15:20:04.667Z"
      },
      {
        "duration": 45,
        "start_time": "2022-12-19T15:20:04.678Z"
      },
      {
        "duration": 16,
        "start_time": "2022-12-19T15:20:04.725Z"
      },
      {
        "duration": 19,
        "start_time": "2022-12-19T15:20:04.742Z"
      },
      {
        "duration": 7,
        "start_time": "2022-12-19T15:20:04.765Z"
      },
      {
        "duration": 24,
        "start_time": "2022-12-19T15:20:04.774Z"
      },
      {
        "duration": 1445,
        "start_time": "2022-12-19T15:20:04.801Z"
      },
      {
        "duration": 1454,
        "start_time": "2022-12-19T15:20:06.249Z"
      },
      {
        "duration": 1659,
        "start_time": "2022-12-19T15:20:07.706Z"
      },
      {
        "duration": 694,
        "start_time": "2022-12-19T15:20:09.367Z"
      },
      {
        "duration": 940,
        "start_time": "2022-12-19T15:20:10.063Z"
      },
      {
        "duration": 5,
        "start_time": "2022-12-19T15:20:11.005Z"
      },
      {
        "duration": 30,
        "start_time": "2022-12-19T15:20:11.012Z"
      },
      {
        "duration": 14,
        "start_time": "2022-12-19T15:20:11.044Z"
      },
      {
        "duration": 12,
        "start_time": "2022-12-19T15:20:11.060Z"
      },
      {
        "duration": 28,
        "start_time": "2022-12-19T15:20:11.074Z"
      },
      {
        "duration": 25,
        "start_time": "2022-12-19T15:20:11.104Z"
      },
      {
        "duration": 1092,
        "start_time": "2022-12-19T15:20:11.138Z"
      },
      {
        "duration": 10,
        "start_time": "2022-12-19T15:20:12.232Z"
      },
      {
        "duration": 10,
        "start_time": "2022-12-19T15:20:12.244Z"
      },
      {
        "duration": 4,
        "start_time": "2022-12-19T15:20:12.256Z"
      },
      {
        "duration": 12,
        "start_time": "2022-12-19T15:20:12.262Z"
      },
      {
        "duration": 11,
        "start_time": "2022-12-19T15:20:12.276Z"
      },
      {
        "duration": 6,
        "start_time": "2022-12-19T15:20:12.289Z"
      },
      {
        "duration": 11597,
        "start_time": "2022-12-19T15:20:12.298Z"
      },
      {
        "duration": 1175,
        "start_time": "2022-12-19T15:20:23.898Z"
      },
      {
        "duration": 3,
        "start_time": "2022-12-19T15:20:25.075Z"
      },
      {
        "duration": 7153,
        "start_time": "2022-12-19T15:20:25.080Z"
      },
      {
        "duration": 71152,
        "start_time": "2022-12-19T15:20:47.074Z"
      },
      {
        "duration": 49,
        "start_time": "2022-12-19T18:03:18.597Z"
      },
      {
        "duration": 1661,
        "start_time": "2022-12-19T18:03:51.803Z"
      },
      {
        "duration": 80,
        "start_time": "2022-12-19T18:03:57.793Z"
      },
      {
        "duration": 1353,
        "start_time": "2022-12-19T18:04:07.504Z"
      },
      {
        "duration": 3007,
        "start_time": "2022-12-19T18:04:08.859Z"
      },
      {
        "duration": 18,
        "start_time": "2022-12-19T18:04:11.868Z"
      },
      {
        "duration": 12,
        "start_time": "2022-12-19T18:04:11.888Z"
      },
      {
        "duration": 66,
        "start_time": "2022-12-19T18:04:11.902Z"
      },
      {
        "duration": 7,
        "start_time": "2022-12-19T18:04:11.970Z"
      },
      {
        "duration": 98,
        "start_time": "2022-12-19T18:04:11.979Z"
      },
      {
        "duration": 15,
        "start_time": "2022-12-19T18:04:12.079Z"
      },
      {
        "duration": 11,
        "start_time": "2022-12-19T18:04:12.095Z"
      },
      {
        "duration": 19,
        "start_time": "2022-12-19T18:04:12.122Z"
      },
      {
        "duration": 17,
        "start_time": "2022-12-19T18:04:12.143Z"
      },
      {
        "duration": 129,
        "start_time": "2022-12-19T18:04:12.162Z"
      },
      {
        "duration": 12,
        "start_time": "2022-12-19T18:04:12.293Z"
      },
      {
        "duration": 25,
        "start_time": "2022-12-19T18:04:12.306Z"
      },
      {
        "duration": 28,
        "start_time": "2022-12-19T18:04:12.332Z"
      },
      {
        "duration": 10,
        "start_time": "2022-12-19T18:04:12.362Z"
      },
      {
        "duration": 11,
        "start_time": "2022-12-19T18:04:12.373Z"
      },
      {
        "duration": 24,
        "start_time": "2022-12-19T18:04:12.386Z"
      },
      {
        "duration": 13,
        "start_time": "2022-12-19T18:04:12.411Z"
      },
      {
        "duration": 28,
        "start_time": "2022-12-19T18:04:12.425Z"
      },
      {
        "duration": 37,
        "start_time": "2022-12-19T18:04:12.455Z"
      },
      {
        "duration": 8,
        "start_time": "2022-12-19T18:04:12.494Z"
      },
      {
        "duration": 23,
        "start_time": "2022-12-19T18:04:12.504Z"
      },
      {
        "duration": 5,
        "start_time": "2022-12-19T18:04:12.529Z"
      },
      {
        "duration": 22,
        "start_time": "2022-12-19T18:04:12.535Z"
      },
      {
        "duration": 6,
        "start_time": "2022-12-19T18:04:12.558Z"
      },
      {
        "duration": 25,
        "start_time": "2022-12-19T18:04:12.565Z"
      },
      {
        "duration": 53,
        "start_time": "2022-12-19T18:04:12.594Z"
      },
      {
        "duration": 35,
        "start_time": "2022-12-19T18:04:12.649Z"
      },
      {
        "duration": 1186,
        "start_time": "2022-12-19T18:04:12.685Z"
      },
      {
        "duration": 1152,
        "start_time": "2022-12-19T18:04:13.872Z"
      },
      {
        "duration": 1241,
        "start_time": "2022-12-19T18:04:15.026Z"
      },
      {
        "duration": 598,
        "start_time": "2022-12-19T18:04:16.269Z"
      },
      {
        "duration": 745,
        "start_time": "2022-12-19T18:04:16.869Z"
      },
      {
        "duration": 3,
        "start_time": "2022-12-19T18:04:17.620Z"
      },
      {
        "duration": 8,
        "start_time": "2022-12-19T18:04:17.624Z"
      },
      {
        "duration": 6,
        "start_time": "2022-12-19T18:04:17.634Z"
      },
      {
        "duration": 6,
        "start_time": "2022-12-19T18:04:17.641Z"
      },
      {
        "duration": 20,
        "start_time": "2022-12-19T18:04:17.648Z"
      },
      {
        "duration": 19,
        "start_time": "2022-12-19T18:04:17.669Z"
      },
      {
        "duration": 951,
        "start_time": "2022-12-19T18:04:17.690Z"
      },
      {
        "duration": 8,
        "start_time": "2022-12-19T18:04:18.643Z"
      },
      {
        "duration": 8,
        "start_time": "2022-12-19T18:04:18.652Z"
      },
      {
        "duration": 4,
        "start_time": "2022-12-19T18:04:18.661Z"
      },
      {
        "duration": 6,
        "start_time": "2022-12-19T18:04:18.666Z"
      },
      {
        "duration": 10,
        "start_time": "2022-12-19T18:04:18.673Z"
      },
      {
        "duration": 22,
        "start_time": "2022-12-19T18:04:18.685Z"
      },
      {
        "duration": 10127,
        "start_time": "2022-12-19T18:04:18.708Z"
      },
      {
        "duration": 1061,
        "start_time": "2022-12-19T18:04:28.836Z"
      },
      {
        "duration": 2,
        "start_time": "2022-12-19T18:04:29.899Z"
      },
      {
        "duration": 62501,
        "start_time": "2022-12-19T18:04:29.902Z"
      },
      {
        "duration": 1115,
        "start_time": "2022-12-19T18:05:32.405Z"
      },
      {
        "duration": 63,
        "start_time": "2022-12-19T18:10:40.972Z"
      },
      {
        "duration": 50,
        "start_time": "2022-12-19T18:11:36.082Z"
      },
      {
        "duration": 3,
        "start_time": "2022-12-19T18:19:34.859Z"
      },
      {
        "duration": 5,
        "start_time": "2022-12-19T18:20:43.183Z"
      },
      {
        "duration": 45,
        "start_time": "2022-12-19T18:29:38.425Z"
      },
      {
        "duration": 4,
        "start_time": "2022-12-19T18:30:54.761Z"
      },
      {
        "duration": 1153,
        "start_time": "2022-12-19T18:32:22.840Z"
      },
      {
        "duration": 3,
        "start_time": "2022-12-19T18:32:31.398Z"
      },
      {
        "duration": 10172,
        "start_time": "2022-12-19T18:32:32.972Z"
      },
      {
        "duration": 2147,
        "start_time": "2022-12-19T18:32:43.146Z"
      },
      {
        "duration": 2112,
        "start_time": "2022-12-19T18:36:06.548Z"
      },
      {
        "duration": 2122,
        "start_time": "2022-12-19T18:36:24.141Z"
      },
      {
        "duration": 2198,
        "start_time": "2022-12-19T18:37:22.842Z"
      },
      {
        "duration": 2101,
        "start_time": "2022-12-19T18:37:52.876Z"
      },
      {
        "duration": 14834,
        "start_time": "2022-12-19T18:40:31.307Z"
      },
      {
        "duration": 1332,
        "start_time": "2022-12-19T18:41:14.761Z"
      },
      {
        "duration": 649,
        "start_time": "2022-12-19T18:41:16.095Z"
      },
      {
        "duration": 19,
        "start_time": "2022-12-19T18:41:16.745Z"
      },
      {
        "duration": 14,
        "start_time": "2022-12-19T18:41:16.766Z"
      },
      {
        "duration": 76,
        "start_time": "2022-12-19T18:41:16.781Z"
      },
      {
        "duration": 9,
        "start_time": "2022-12-19T18:41:16.859Z"
      },
      {
        "duration": 100,
        "start_time": "2022-12-19T18:41:16.869Z"
      },
      {
        "duration": 16,
        "start_time": "2022-12-19T18:41:16.970Z"
      },
      {
        "duration": 33,
        "start_time": "2022-12-19T18:41:16.988Z"
      },
      {
        "duration": 19,
        "start_time": "2022-12-19T18:41:17.024Z"
      },
      {
        "duration": 7,
        "start_time": "2022-12-19T18:41:17.045Z"
      },
      {
        "duration": 133,
        "start_time": "2022-12-19T18:41:17.054Z"
      },
      {
        "duration": 14,
        "start_time": "2022-12-19T18:41:17.188Z"
      },
      {
        "duration": 30,
        "start_time": "2022-12-19T18:41:17.204Z"
      },
      {
        "duration": 14,
        "start_time": "2022-12-19T18:41:17.236Z"
      },
      {
        "duration": 7,
        "start_time": "2022-12-19T18:41:17.252Z"
      },
      {
        "duration": 17,
        "start_time": "2022-12-19T18:41:17.260Z"
      },
      {
        "duration": 13,
        "start_time": "2022-12-19T18:41:17.279Z"
      },
      {
        "duration": 8,
        "start_time": "2022-12-19T18:41:17.293Z"
      },
      {
        "duration": 18,
        "start_time": "2022-12-19T18:41:17.303Z"
      },
      {
        "duration": 30,
        "start_time": "2022-12-19T18:41:17.323Z"
      },
      {
        "duration": 8,
        "start_time": "2022-12-19T18:41:17.355Z"
      },
      {
        "duration": 7,
        "start_time": "2022-12-19T18:41:17.365Z"
      },
      {
        "duration": 6,
        "start_time": "2022-12-19T18:41:17.374Z"
      },
      {
        "duration": 40,
        "start_time": "2022-12-19T18:41:17.381Z"
      },
      {
        "duration": 5,
        "start_time": "2022-12-19T18:41:17.423Z"
      },
      {
        "duration": 16,
        "start_time": "2022-12-19T18:41:17.429Z"
      },
      {
        "duration": 4,
        "start_time": "2022-12-19T18:41:17.449Z"
      },
      {
        "duration": 6,
        "start_time": "2022-12-19T18:41:17.454Z"
      },
      {
        "duration": 1154,
        "start_time": "2022-12-19T18:41:17.462Z"
      },
      {
        "duration": 1237,
        "start_time": "2022-12-19T18:41:18.620Z"
      },
      {
        "duration": 1272,
        "start_time": "2022-12-19T18:41:19.859Z"
      },
      {
        "duration": 623,
        "start_time": "2022-12-19T18:41:21.133Z"
      },
      {
        "duration": 764,
        "start_time": "2022-12-19T18:41:21.758Z"
      },
      {
        "duration": 4,
        "start_time": "2022-12-19T18:41:22.524Z"
      },
      {
        "duration": 10,
        "start_time": "2022-12-19T18:41:22.530Z"
      },
      {
        "duration": 6,
        "start_time": "2022-12-19T18:41:22.542Z"
      },
      {
        "duration": 10,
        "start_time": "2022-12-19T18:41:22.549Z"
      },
      {
        "duration": 25,
        "start_time": "2022-12-19T18:41:22.561Z"
      },
      {
        "duration": 47,
        "start_time": "2022-12-19T18:41:22.588Z"
      },
      {
        "duration": 965,
        "start_time": "2022-12-19T18:41:22.637Z"
      },
      {
        "duration": 7,
        "start_time": "2022-12-19T18:41:23.604Z"
      },
      {
        "duration": 12,
        "start_time": "2022-12-19T18:41:23.612Z"
      },
      {
        "duration": 9,
        "start_time": "2022-12-19T18:41:23.625Z"
      },
      {
        "duration": 5,
        "start_time": "2022-12-19T18:41:23.635Z"
      },
      {
        "duration": 9,
        "start_time": "2022-12-19T18:41:23.641Z"
      },
      {
        "duration": 5,
        "start_time": "2022-12-19T18:41:23.651Z"
      },
      {
        "duration": 8,
        "start_time": "2022-12-19T18:41:23.658Z"
      },
      {
        "duration": 10215,
        "start_time": "2022-12-19T18:41:23.668Z"
      },
      {
        "duration": 2149,
        "start_time": "2022-12-19T18:41:33.884Z"
      },
      {
        "duration": 149,
        "start_time": "2022-12-19T18:41:36.035Z"
      },
      {
        "duration": 9,
        "start_time": "2022-12-19T18:41:36.186Z"
      },
      {
        "duration": 0,
        "start_time": "2022-12-19T18:41:36.197Z"
      },
      {
        "duration": 62566,
        "start_time": "2022-12-19T18:51:52.943Z"
      },
      {
        "duration": 1256,
        "start_time": "2022-12-19T18:56:08.679Z"
      },
      {
        "duration": 637,
        "start_time": "2022-12-19T18:56:09.937Z"
      },
      {
        "duration": 18,
        "start_time": "2022-12-19T18:56:10.576Z"
      },
      {
        "duration": 11,
        "start_time": "2022-12-19T18:56:10.596Z"
      },
      {
        "duration": 55,
        "start_time": "2022-12-19T18:56:10.621Z"
      },
      {
        "duration": 8,
        "start_time": "2022-12-19T18:56:10.677Z"
      },
      {
        "duration": 103,
        "start_time": "2022-12-19T18:56:10.687Z"
      },
      {
        "duration": 15,
        "start_time": "2022-12-19T18:56:10.792Z"
      },
      {
        "duration": 10,
        "start_time": "2022-12-19T18:56:10.821Z"
      },
      {
        "duration": 20,
        "start_time": "2022-12-19T18:56:10.834Z"
      },
      {
        "duration": 7,
        "start_time": "2022-12-19T18:56:10.856Z"
      },
      {
        "duration": 130,
        "start_time": "2022-12-19T18:56:10.864Z"
      },
      {
        "duration": 13,
        "start_time": "2022-12-19T18:56:10.995Z"
      },
      {
        "duration": 11,
        "start_time": "2022-12-19T18:56:11.020Z"
      },
      {
        "duration": 18,
        "start_time": "2022-12-19T18:56:11.032Z"
      },
      {
        "duration": 7,
        "start_time": "2022-12-19T18:56:11.051Z"
      },
      {
        "duration": 17,
        "start_time": "2022-12-19T18:56:11.059Z"
      },
      {
        "duration": 20,
        "start_time": "2022-12-19T18:56:11.077Z"
      },
      {
        "duration": 11,
        "start_time": "2022-12-19T18:56:11.098Z"
      },
      {
        "duration": 9,
        "start_time": "2022-12-19T18:56:11.111Z"
      },
      {
        "duration": 23,
        "start_time": "2022-12-19T18:56:11.121Z"
      },
      {
        "duration": 9,
        "start_time": "2022-12-19T18:56:11.146Z"
      },
      {
        "duration": 15,
        "start_time": "2022-12-19T18:56:11.157Z"
      },
      {
        "duration": 7,
        "start_time": "2022-12-19T18:56:11.174Z"
      },
      {
        "duration": 46,
        "start_time": "2022-12-19T18:56:11.183Z"
      },
      {
        "duration": 7,
        "start_time": "2022-12-19T18:56:11.231Z"
      },
      {
        "duration": 11,
        "start_time": "2022-12-19T18:56:11.239Z"
      },
      {
        "duration": 5,
        "start_time": "2022-12-19T18:56:11.254Z"
      },
      {
        "duration": 7,
        "start_time": "2022-12-19T18:56:11.260Z"
      },
      {
        "duration": 1226,
        "start_time": "2022-12-19T18:56:11.269Z"
      },
      {
        "duration": 1230,
        "start_time": "2022-12-19T18:56:12.497Z"
      },
      {
        "duration": 1198,
        "start_time": "2022-12-19T18:56:13.729Z"
      },
      {
        "duration": 596,
        "start_time": "2022-12-19T18:56:14.929Z"
      },
      {
        "duration": 723,
        "start_time": "2022-12-19T18:56:15.527Z"
      },
      {
        "duration": 3,
        "start_time": "2022-12-19T18:56:16.251Z"
      },
      {
        "duration": 9,
        "start_time": "2022-12-19T18:56:16.255Z"
      },
      {
        "duration": 10,
        "start_time": "2022-12-19T18:56:16.265Z"
      },
      {
        "duration": 10,
        "start_time": "2022-12-19T18:56:16.277Z"
      },
      {
        "duration": 21,
        "start_time": "2022-12-19T18:56:16.289Z"
      },
      {
        "duration": 27,
        "start_time": "2022-12-19T18:56:16.311Z"
      },
      {
        "duration": 995,
        "start_time": "2022-12-19T18:56:16.340Z"
      },
      {
        "duration": 7,
        "start_time": "2022-12-19T18:56:17.337Z"
      },
      {
        "duration": 9,
        "start_time": "2022-12-19T18:56:17.345Z"
      },
      {
        "duration": 3,
        "start_time": "2022-12-19T18:56:17.355Z"
      },
      {
        "duration": 5,
        "start_time": "2022-12-19T18:56:17.360Z"
      },
      {
        "duration": 7,
        "start_time": "2022-12-19T18:56:17.367Z"
      },
      {
        "duration": 9,
        "start_time": "2022-12-19T18:56:17.375Z"
      },
      {
        "duration": 4,
        "start_time": "2022-12-19T18:56:17.385Z"
      },
      {
        "duration": 10030,
        "start_time": "2022-12-19T18:56:17.391Z"
      },
      {
        "duration": 2097,
        "start_time": "2022-12-19T18:56:27.422Z"
      },
      {
        "duration": 563162,
        "start_time": "2022-12-19T18:56:29.521Z"
      },
      {
        "duration": 1310,
        "start_time": "2022-12-19T19:06:55.215Z"
      },
      {
        "duration": 7632,
        "start_time": "2022-12-19T19:06:56.528Z"
      },
      {
        "duration": 15138,
        "start_time": "2022-12-19T19:09:08.424Z"
      },
      {
        "duration": 10278,
        "start_time": "2022-12-19T19:09:55.807Z"
      },
      {
        "duration": 1612,
        "start_time": "2022-12-19T19:10:20.950Z"
      },
      {
        "duration": 326840,
        "start_time": "2022-12-19T19:12:27.041Z"
      },
      {
        "duration": 13795,
        "start_time": "2022-12-19T19:18:27.967Z"
      },
      {
        "duration": 13994,
        "start_time": "2022-12-19T19:20:24.021Z"
      },
      {
        "duration": 2575,
        "start_time": "2022-12-19T19:22:54.051Z"
      },
      {
        "duration": 2466,
        "start_time": "2022-12-19T19:23:19.164Z"
      },
      {
        "duration": 2,
        "start_time": "2022-12-19T19:31:27.817Z"
      },
      {
        "duration": 4,
        "start_time": "2022-12-19T19:33:53.079Z"
      },
      {
        "duration": 4,
        "start_time": "2022-12-19T20:00:05.368Z"
      },
      {
        "duration": 713,
        "start_time": "2022-12-19T20:00:06.228Z"
      },
      {
        "duration": 723,
        "start_time": "2022-12-19T20:00:10.315Z"
      },
      {
        "duration": 6,
        "start_time": "2022-12-19T20:00:12.750Z"
      },
      {
        "duration": 6,
        "start_time": "2022-12-19T20:00:54.882Z"
      },
      {
        "duration": 123,
        "start_time": "2022-12-19T20:23:05.619Z"
      },
      {
        "duration": 6,
        "start_time": "2022-12-19T20:23:19.622Z"
      },
      {
        "duration": 8,
        "start_time": "2022-12-19T20:25:55.604Z"
      },
      {
        "duration": 8,
        "start_time": "2022-12-19T20:26:27.369Z"
      },
      {
        "duration": 8,
        "start_time": "2022-12-19T20:27:39.340Z"
      },
      {
        "duration": 9,
        "start_time": "2022-12-19T20:34:26.547Z"
      },
      {
        "duration": 6,
        "start_time": "2022-12-19T20:34:57.243Z"
      },
      {
        "duration": 9,
        "start_time": "2022-12-19T20:35:36.123Z"
      },
      {
        "duration": 4,
        "start_time": "2022-12-19T20:36:49.763Z"
      },
      {
        "duration": 745,
        "start_time": "2022-12-19T20:53:29.936Z"
      },
      {
        "duration": 1327,
        "start_time": "2022-12-19T20:53:45.099Z"
      },
      {
        "duration": 678,
        "start_time": "2022-12-19T20:53:46.428Z"
      },
      {
        "duration": 19,
        "start_time": "2022-12-19T20:53:47.107Z"
      },
      {
        "duration": 12,
        "start_time": "2022-12-19T20:53:47.128Z"
      },
      {
        "duration": 62,
        "start_time": "2022-12-19T20:53:47.142Z"
      },
      {
        "duration": 22,
        "start_time": "2022-12-19T20:53:47.205Z"
      },
      {
        "duration": 96,
        "start_time": "2022-12-19T20:53:47.228Z"
      },
      {
        "duration": 15,
        "start_time": "2022-12-19T20:53:47.326Z"
      },
      {
        "duration": 18,
        "start_time": "2022-12-19T20:53:47.342Z"
      },
      {
        "duration": 29,
        "start_time": "2022-12-19T20:53:47.362Z"
      },
      {
        "duration": 7,
        "start_time": "2022-12-19T20:53:47.392Z"
      },
      {
        "duration": 125,
        "start_time": "2022-12-19T20:53:47.400Z"
      },
      {
        "duration": 11,
        "start_time": "2022-12-19T20:53:47.526Z"
      },
      {
        "duration": 9,
        "start_time": "2022-12-19T20:53:47.539Z"
      },
      {
        "duration": 18,
        "start_time": "2022-12-19T20:53:47.550Z"
      },
      {
        "duration": 7,
        "start_time": "2022-12-19T20:53:47.569Z"
      },
      {
        "duration": 2,
        "start_time": "2022-12-19T20:53:47.577Z"
      },
      {
        "duration": 6,
        "start_time": "2022-12-19T20:53:47.581Z"
      },
      {
        "duration": 6,
        "start_time": "2022-12-19T20:53:47.589Z"
      },
      {
        "duration": 5,
        "start_time": "2022-12-19T20:53:47.621Z"
      },
      {
        "duration": 26,
        "start_time": "2022-12-19T20:53:47.628Z"
      },
      {
        "duration": 10,
        "start_time": "2022-12-19T20:53:47.655Z"
      },
      {
        "duration": 8,
        "start_time": "2022-12-19T20:53:47.666Z"
      },
      {
        "duration": 6,
        "start_time": "2022-12-19T20:53:47.676Z"
      },
      {
        "duration": 56,
        "start_time": "2022-12-19T20:53:47.684Z"
      },
      {
        "duration": 6,
        "start_time": "2022-12-19T20:53:47.742Z"
      },
      {
        "duration": 9,
        "start_time": "2022-12-19T20:53:47.750Z"
      },
      {
        "duration": 4,
        "start_time": "2022-12-19T20:53:47.764Z"
      },
      {
        "duration": 5,
        "start_time": "2022-12-19T20:53:47.769Z"
      },
      {
        "duration": 1197,
        "start_time": "2022-12-19T20:53:47.776Z"
      },
      {
        "duration": 1201,
        "start_time": "2022-12-19T20:53:48.974Z"
      },
      {
        "duration": 1213,
        "start_time": "2022-12-19T20:53:50.176Z"
      },
      {
        "duration": 605,
        "start_time": "2022-12-19T20:53:51.391Z"
      },
      {
        "duration": 736,
        "start_time": "2022-12-19T20:53:51.997Z"
      },
      {
        "duration": 3,
        "start_time": "2022-12-19T20:53:52.734Z"
      },
      {
        "duration": 19,
        "start_time": "2022-12-19T20:53:52.738Z"
      },
      {
        "duration": 6,
        "start_time": "2022-12-19T20:53:52.758Z"
      },
      {
        "duration": 6,
        "start_time": "2022-12-19T20:53:52.765Z"
      },
      {
        "duration": 24,
        "start_time": "2022-12-19T20:53:52.772Z"
      },
      {
        "duration": 26,
        "start_time": "2022-12-19T20:53:52.798Z"
      },
      {
        "duration": 957,
        "start_time": "2022-12-19T20:53:52.826Z"
      },
      {
        "duration": 7,
        "start_time": "2022-12-19T20:53:53.785Z"
      },
      {
        "duration": 8,
        "start_time": "2022-12-19T20:53:53.794Z"
      },
      {
        "duration": 6,
        "start_time": "2022-12-19T20:53:53.804Z"
      },
      {
        "duration": 10,
        "start_time": "2022-12-19T20:53:53.811Z"
      },
      {
        "duration": 7,
        "start_time": "2022-12-19T20:53:53.823Z"
      },
      {
        "duration": 5,
        "start_time": "2022-12-19T20:53:53.831Z"
      },
      {
        "duration": 9,
        "start_time": "2022-12-19T20:53:53.837Z"
      },
      {
        "duration": 10109,
        "start_time": "2022-12-19T20:53:53.847Z"
      },
      {
        "duration": 10220,
        "start_time": "2022-12-19T20:54:03.958Z"
      },
      {
        "duration": 1641,
        "start_time": "2022-12-19T20:54:14.180Z"
      },
      {
        "duration": 556110,
        "start_time": "2022-12-19T20:54:15.823Z"
      },
      {
        "duration": 323897,
        "start_time": "2022-12-19T21:03:31.934Z"
      },
      {
        "duration": 13808,
        "start_time": "2022-12-19T21:08:55.832Z"
      },
      {
        "duration": 2979,
        "start_time": "2022-12-19T21:09:09.643Z"
      },
      {
        "duration": 5,
        "start_time": "2022-12-19T21:09:12.624Z"
      },
      {
        "duration": 828,
        "start_time": "2022-12-19T21:09:12.631Z"
      },
      {
        "duration": 714,
        "start_time": "2022-12-19T21:09:13.461Z"
      },
      {
        "duration": 6,
        "start_time": "2022-12-19T21:09:14.177Z"
      },
      {
        "duration": 23,
        "start_time": "2022-12-19T21:09:14.184Z"
      },
      {
        "duration": 47,
        "start_time": "2022-12-19T21:09:14.211Z"
      },
      {
        "duration": 0,
        "start_time": "2022-12-19T21:09:14.259Z"
      },
      {
        "duration": 573,
        "start_time": "2022-12-19T21:09:59.663Z"
      },
      {
        "duration": 105,
        "start_time": "2022-12-19T21:38:52.128Z"
      },
      {
        "duration": 11,
        "start_time": "2022-12-19T21:39:39.597Z"
      },
      {
        "duration": 5,
        "start_time": "2022-12-19T21:40:24.814Z"
      },
      {
        "duration": 5,
        "start_time": "2022-12-19T21:40:38.240Z"
      },
      {
        "duration": 5,
        "start_time": "2022-12-19T21:40:44.220Z"
      },
      {
        "duration": 1327,
        "start_time": "2022-12-19T21:45:09.901Z"
      },
      {
        "duration": 709,
        "start_time": "2022-12-19T21:45:11.230Z"
      },
      {
        "duration": 18,
        "start_time": "2022-12-19T21:45:11.940Z"
      },
      {
        "duration": 12,
        "start_time": "2022-12-19T21:45:11.960Z"
      },
      {
        "duration": 79,
        "start_time": "2022-12-19T21:45:11.974Z"
      },
      {
        "duration": 8,
        "start_time": "2022-12-19T21:45:12.055Z"
      },
      {
        "duration": 106,
        "start_time": "2022-12-19T21:45:12.064Z"
      },
      {
        "duration": 16,
        "start_time": "2022-12-19T21:45:12.172Z"
      },
      {
        "duration": 13,
        "start_time": "2022-12-19T21:45:12.189Z"
      },
      {
        "duration": 19,
        "start_time": "2022-12-19T21:45:12.221Z"
      },
      {
        "duration": 8,
        "start_time": "2022-12-19T21:45:12.242Z"
      },
      {
        "duration": 137,
        "start_time": "2022-12-19T21:45:12.252Z"
      },
      {
        "duration": 13,
        "start_time": "2022-12-19T21:45:12.391Z"
      },
      {
        "duration": 26,
        "start_time": "2022-12-19T21:45:12.405Z"
      },
      {
        "duration": 21,
        "start_time": "2022-12-19T21:45:12.433Z"
      },
      {
        "duration": 7,
        "start_time": "2022-12-19T21:45:12.456Z"
      },
      {
        "duration": 6,
        "start_time": "2022-12-19T21:45:12.464Z"
      },
      {
        "duration": 9,
        "start_time": "2022-12-19T21:45:12.472Z"
      },
      {
        "duration": 10,
        "start_time": "2022-12-19T21:45:12.482Z"
      },
      {
        "duration": 14,
        "start_time": "2022-12-19T21:45:12.494Z"
      },
      {
        "duration": 28,
        "start_time": "2022-12-19T21:45:12.521Z"
      },
      {
        "duration": 8,
        "start_time": "2022-12-19T21:45:12.551Z"
      },
      {
        "duration": 9,
        "start_time": "2022-12-19T21:45:12.561Z"
      },
      {
        "duration": 9,
        "start_time": "2022-12-19T21:45:12.572Z"
      },
      {
        "duration": 42,
        "start_time": "2022-12-19T21:45:12.583Z"
      },
      {
        "duration": 7,
        "start_time": "2022-12-19T21:45:12.626Z"
      },
      {
        "duration": 10,
        "start_time": "2022-12-19T21:45:12.635Z"
      },
      {
        "duration": 4,
        "start_time": "2022-12-19T21:45:12.649Z"
      },
      {
        "duration": 5,
        "start_time": "2022-12-19T21:45:12.655Z"
      },
      {
        "duration": 1179,
        "start_time": "2022-12-19T21:45:12.661Z"
      },
      {
        "duration": 1153,
        "start_time": "2022-12-19T21:45:13.842Z"
      },
      {
        "duration": 1206,
        "start_time": "2022-12-19T21:45:14.996Z"
      },
      {
        "duration": 576,
        "start_time": "2022-12-19T21:45:16.203Z"
      },
      {
        "duration": 728,
        "start_time": "2022-12-19T21:45:16.781Z"
      },
      {
        "duration": 2,
        "start_time": "2022-12-19T21:45:17.511Z"
      },
      {
        "duration": 4,
        "start_time": "2022-12-19T21:45:17.521Z"
      },
      {
        "duration": 15,
        "start_time": "2022-12-19T21:45:17.526Z"
      },
      {
        "duration": 8,
        "start_time": "2022-12-19T21:45:17.542Z"
      },
      {
        "duration": 25,
        "start_time": "2022-12-19T21:45:17.551Z"
      },
      {
        "duration": 19,
        "start_time": "2022-12-19T21:45:17.577Z"
      },
      {
        "duration": 889,
        "start_time": "2022-12-19T21:45:17.598Z"
      },
      {
        "duration": 8,
        "start_time": "2022-12-19T21:45:18.488Z"
      },
      {
        "duration": 9,
        "start_time": "2022-12-19T21:45:18.497Z"
      },
      {
        "duration": 4,
        "start_time": "2022-12-19T21:45:18.507Z"
      },
      {
        "duration": 2,
        "start_time": "2022-12-19T21:45:18.521Z"
      },
      {
        "duration": 7,
        "start_time": "2022-12-19T21:45:18.525Z"
      },
      {
        "duration": 8,
        "start_time": "2022-12-19T21:45:18.534Z"
      },
      {
        "duration": 8,
        "start_time": "2022-12-19T21:45:18.543Z"
      },
      {
        "duration": 9959,
        "start_time": "2022-12-19T21:45:18.552Z"
      },
      {
        "duration": 10016,
        "start_time": "2022-12-19T21:45:28.513Z"
      },
      {
        "duration": 1623,
        "start_time": "2022-12-19T21:45:38.531Z"
      },
      {
        "duration": 553420,
        "start_time": "2022-12-19T21:45:40.155Z"
      },
      {
        "duration": 322144,
        "start_time": "2022-12-19T21:54:53.577Z"
      },
      {
        "duration": 13612,
        "start_time": "2022-12-19T22:00:15.723Z"
      },
      {
        "duration": 2384,
        "start_time": "2022-12-19T22:00:29.337Z"
      },
      {
        "duration": 7,
        "start_time": "2022-12-19T22:00:31.723Z"
      },
      {
        "duration": 803,
        "start_time": "2022-12-19T22:00:31.731Z"
      },
      {
        "duration": 718,
        "start_time": "2022-12-19T22:00:32.536Z"
      },
      {
        "duration": 5,
        "start_time": "2022-12-19T22:00:33.256Z"
      },
      {
        "duration": 8,
        "start_time": "2022-12-19T22:00:33.263Z"
      },
      {
        "duration": 10,
        "start_time": "2022-12-19T22:00:33.272Z"
      }
    ],
    "kernelspec": {
      "display_name": "Python 3 (ipykernel)",
      "language": "python",
      "name": "python3"
    },
    "language_info": {
      "codemirror_mode": {
        "name": "ipython",
        "version": 3
      },
      "file_extension": ".py",
      "mimetype": "text/x-python",
      "name": "python",
      "nbconvert_exporter": "python",
      "pygments_lexer": "ipython3",
      "version": "3.9.5"
    },
    "toc": {
      "base_numbering": 1,
      "nav_menu": {},
      "number_sections": true,
      "sideBar": true,
      "skip_h1_title": true,
      "title_cell": "Содержание",
      "title_sidebar": "Contents",
      "toc_cell": true,
      "toc_position": {},
      "toc_section_display": true,
      "toc_window_display": false
    },
    "colab": {
      "provenance": []
    }
  },
  "nbformat": 4,
  "nbformat_minor": 0
}