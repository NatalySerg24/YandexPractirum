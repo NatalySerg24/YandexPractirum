{
  "cells": [
    {
      "cell_type": "markdown",
      "metadata": {
        "id": "JTmG8JEmxAhk"
      },
      "source": [
        "# Отток клиентов"
      ]
    },
    {
      "cell_type": "markdown",
      "metadata": {
        "id": "dbbgEXwkxAhl"
      },
      "source": [
        "Из «Бета-Банка» стали уходить клиенты. Каждый месяц. Немного, но заметно. Банковские маркетологи посчитали: сохранять текущих клиентов дешевле, чем привлекать новых.\n",
        "\n",
        "Нужно спрогнозировать, уйдёт клиент из банка в ближайшее время или нет. Вам предоставлены исторические данные о поведении клиентов и расторжении договоров с банком.\n",
        "\n",
        "Постройте модель с предельно большим значением *F1*-меры. Чтобы сдать проект успешно, нужно довести метрику до 0.59. Проверьте *F1*-меру на тестовой выборке самостоятельно.\n",
        "\n",
        "Дополнительно измеряйте *AUC-ROC*, сравнивайте её значение с *F1*-мерой.\n",
        "\n",
        "Источник данных: [https://www.kaggle.com/barelydedicated/bank-customer-churn-modeling](https://www.kaggle.com/barelydedicated/bank-customer-churn-modeling)"
      ]
    },
    {
      "cell_type": "markdown",
      "metadata": {
        "id": "NvRMHEYDxAhl"
      },
      "source": [
        "<p><em><b>Признаки</b></em></p>\n",
        "<ul>\n",
        " <li><b>RowNumber</b> — индекс строки в данных</li>\n",
        " <li><b>CustomerId</b>  — уникальный идентификатор клиента</li>\n",
        " <li><b>Surname</b>  — фамилия</li>\n",
        " <li><b>CreditScore </b> — кредитный рейтинг </li>\n",
        " <li><b>Geography</b> — страна проживания</li>\n",
        " <li><b>Gender</b> — пол</li>\n",
        " <li><b>Tenure</b>  — сколько лет человек является клиентом банка</li>\n",
        " <li><b>Balance</b> — баланс на счёте </li>\n",
        " <li><b>NumOfProducts</b>— количество продуктов банка, используемых клиентом</li>\n",
        "<li><b>HasCrCard</b> — наличие кредитной карты </li>\n",
        "<li><b>IsActiveMember</b>— активность клиента</li>\n",
        "<li><b>EstimatedSalary</b> — предполагаемая зарплата</li>\n",
        "</ul>\n",
        "<p><em><b>Целевой признак</b></em></p>\n",
        "<ul>\n",
        "<li><b> Exited</b> — факт ухода клиента</li>\n",
        "</ul>\n",
        "\n",
        "\n"
      ]
    },
    {
      "cell_type": "markdown",
      "metadata": {
        "id": "TjW9MXn1xAhl"
      },
      "source": [
        "## Подготовка данных"
      ]
    },
    {
      "cell_type": "code",
      "execution_count": null,
      "metadata": {
        "id": "94u_VkuexAhl"
      },
      "outputs": [],
      "source": [
        "import pandas as pd\n",
        "import matplotlib.pyplot as plt\n",
        "from sklearn.model_selection import train_test_split\n",
        "from sklearn.ensemble import RandomForestClassifier\n",
        "from sklearn.linear_model import LogisticRegression\n",
        "from sklearn.tree import DecisionTreeClassifier\n",
        "from joblib import dump\n",
        "import seaborn as sns\n",
        "from sklearn.preprocessing import StandardScaler\n",
        "from sklearn.metrics import*\n",
        "from sklearn.metrics import*\n",
        "from sklearn.utils import shuffle\n",
        "from sklearn.model_selection import GridSearchCV"
      ]
    },
    {
      "cell_type": "code",
      "execution_count": null,
      "metadata": {
        "id": "5dqewF04xAhm",
        "outputId": "5b9c3f2e-9833-4730-fed9-cc86dbe2c166"
      },
      "outputs": [
        {
          "name": "stdout",
          "output_type": "stream",
          "text": [
            "<class 'pandas.core.frame.DataFrame'>\n",
            "RangeIndex: 10000 entries, 0 to 9999\n",
            "Data columns (total 14 columns):\n",
            " #   Column           Non-Null Count  Dtype  \n",
            "---  ------           --------------  -----  \n",
            " 0   RowNumber        10000 non-null  int64  \n",
            " 1   CustomerId       10000 non-null  int64  \n",
            " 2   Surname          10000 non-null  object \n",
            " 3   CreditScore      10000 non-null  int64  \n",
            " 4   Geography        10000 non-null  object \n",
            " 5   Gender           10000 non-null  object \n",
            " 6   Age              10000 non-null  int64  \n",
            " 7   Tenure           9091 non-null   float64\n",
            " 8   Balance          10000 non-null  float64\n",
            " 9   NumOfProducts    10000 non-null  int64  \n",
            " 10  HasCrCard        10000 non-null  int64  \n",
            " 11  IsActiveMember   10000 non-null  int64  \n",
            " 12  EstimatedSalary  10000 non-null  float64\n",
            " 13  Exited           10000 non-null  int64  \n",
            "dtypes: float64(3), int64(8), object(3)\n",
            "memory usage: 1.1+ MB\n",
            "None\n",
            "   RowNumber  CustomerId   Surname  CreditScore Geography  Gender  Age  \\\n",
            "0          1    15634602  Hargrave          619    France  Female   42   \n",
            "1          2    15647311      Hill          608     Spain  Female   41   \n",
            "2          3    15619304      Onio          502    France  Female   42   \n",
            "3          4    15701354      Boni          699    France  Female   39   \n",
            "4          5    15737888  Mitchell          850     Spain  Female   43   \n",
            "\n",
            "   Tenure    Balance  NumOfProducts  HasCrCard  IsActiveMember  \\\n",
            "0     2.0       0.00              1          1               1   \n",
            "1     1.0   83807.86              1          0               1   \n",
            "2     8.0  159660.80              3          1               0   \n",
            "3     1.0       0.00              2          0               0   \n",
            "4     2.0  125510.82              1          1               1   \n",
            "\n",
            "   EstimatedSalary  Exited  \n",
            "0        101348.88       1  \n",
            "1        112542.58       0  \n",
            "2        113931.57       1  \n",
            "3         93826.63       0  \n",
            "4         79084.10       0  \n"
          ]
        }
      ],
      "source": [
        "df=pd.read_csv('/datasets/Churn.csv')\n",
        "print(df.info())\n",
        "print(df.head(5))"
      ]
    },
    {
      "cell_type": "markdown",
      "metadata": {
        "id": "K0doYu7exAhn"
      },
      "source": [
        "### Предварительные выводы:\n",
        "<ol>\n",
        "    <li>в датасете 11 столбцов с численными данными (целые и вещественные) и 3 столбца с  типом object. Здесь могут быть как текстовые, так и смешанные числовые и нечисловые значения. Уточним эти данные в дальнейшем;</li>\n",
        "    <li>названия столбцов записаны с загланых букв, запишем имена столбцов в нижнем регистре;\n",
        "</ul>"
      ]
    },
    {
      "cell_type": "markdown",
      "metadata": {
        "id": "Lam37sTrxAhn"
      },
      "source": [
        "### Изменим регистр букв в названиях столбцов и посмотрим содержание датасета:"
      ]
    },
    {
      "cell_type": "code",
      "execution_count": null,
      "metadata": {
        "id": "7NWzyRuhxAhn",
        "outputId": "67fe61f6-9cb2-4c5a-c3e3-6a6019d75ded"
      },
      "outputs": [
        {
          "data": {
            "text/html": [
              "<div>\n",
              "<style scoped>\n",
              "    .dataframe tbody tr th:only-of-type {\n",
              "        vertical-align: middle;\n",
              "    }\n",
              "\n",
              "    .dataframe tbody tr th {\n",
              "        vertical-align: top;\n",
              "    }\n",
              "\n",
              "    .dataframe thead th {\n",
              "        text-align: right;\n",
              "    }\n",
              "</style>\n",
              "<table border=\"1\" class=\"dataframe\">\n",
              "  <thead>\n",
              "    <tr style=\"text-align: right;\">\n",
              "      <th></th>\n",
              "      <th>rownumber</th>\n",
              "      <th>customerid</th>\n",
              "      <th>surname</th>\n",
              "      <th>creditscore</th>\n",
              "      <th>geography</th>\n",
              "      <th>gender</th>\n",
              "      <th>age</th>\n",
              "      <th>tenure</th>\n",
              "      <th>balance</th>\n",
              "      <th>numofproducts</th>\n",
              "      <th>hascrcard</th>\n",
              "      <th>isactivemember</th>\n",
              "      <th>estimatedsalary</th>\n",
              "      <th>exited</th>\n",
              "    </tr>\n",
              "  </thead>\n",
              "  <tbody>\n",
              "    <tr>\n",
              "      <th>0</th>\n",
              "      <td>1</td>\n",
              "      <td>15634602</td>\n",
              "      <td>Hargrave</td>\n",
              "      <td>619</td>\n",
              "      <td>France</td>\n",
              "      <td>Female</td>\n",
              "      <td>42</td>\n",
              "      <td>2.0</td>\n",
              "      <td>0.00</td>\n",
              "      <td>1</td>\n",
              "      <td>1</td>\n",
              "      <td>1</td>\n",
              "      <td>101348.88</td>\n",
              "      <td>1</td>\n",
              "    </tr>\n",
              "    <tr>\n",
              "      <th>1</th>\n",
              "      <td>2</td>\n",
              "      <td>15647311</td>\n",
              "      <td>Hill</td>\n",
              "      <td>608</td>\n",
              "      <td>Spain</td>\n",
              "      <td>Female</td>\n",
              "      <td>41</td>\n",
              "      <td>1.0</td>\n",
              "      <td>83807.86</td>\n",
              "      <td>1</td>\n",
              "      <td>0</td>\n",
              "      <td>1</td>\n",
              "      <td>112542.58</td>\n",
              "      <td>0</td>\n",
              "    </tr>\n",
              "    <tr>\n",
              "      <th>2</th>\n",
              "      <td>3</td>\n",
              "      <td>15619304</td>\n",
              "      <td>Onio</td>\n",
              "      <td>502</td>\n",
              "      <td>France</td>\n",
              "      <td>Female</td>\n",
              "      <td>42</td>\n",
              "      <td>8.0</td>\n",
              "      <td>159660.80</td>\n",
              "      <td>3</td>\n",
              "      <td>1</td>\n",
              "      <td>0</td>\n",
              "      <td>113931.57</td>\n",
              "      <td>1</td>\n",
              "    </tr>\n",
              "    <tr>\n",
              "      <th>3</th>\n",
              "      <td>4</td>\n",
              "      <td>15701354</td>\n",
              "      <td>Boni</td>\n",
              "      <td>699</td>\n",
              "      <td>France</td>\n",
              "      <td>Female</td>\n",
              "      <td>39</td>\n",
              "      <td>1.0</td>\n",
              "      <td>0.00</td>\n",
              "      <td>2</td>\n",
              "      <td>0</td>\n",
              "      <td>0</td>\n",
              "      <td>93826.63</td>\n",
              "      <td>0</td>\n",
              "    </tr>\n",
              "    <tr>\n",
              "      <th>4</th>\n",
              "      <td>5</td>\n",
              "      <td>15737888</td>\n",
              "      <td>Mitchell</td>\n",
              "      <td>850</td>\n",
              "      <td>Spain</td>\n",
              "      <td>Female</td>\n",
              "      <td>43</td>\n",
              "      <td>2.0</td>\n",
              "      <td>125510.82</td>\n",
              "      <td>1</td>\n",
              "      <td>1</td>\n",
              "      <td>1</td>\n",
              "      <td>79084.10</td>\n",
              "      <td>0</td>\n",
              "    </tr>\n",
              "    <tr>\n",
              "      <th>5</th>\n",
              "      <td>6</td>\n",
              "      <td>15574012</td>\n",
              "      <td>Chu</td>\n",
              "      <td>645</td>\n",
              "      <td>Spain</td>\n",
              "      <td>Male</td>\n",
              "      <td>44</td>\n",
              "      <td>8.0</td>\n",
              "      <td>113755.78</td>\n",
              "      <td>2</td>\n",
              "      <td>1</td>\n",
              "      <td>0</td>\n",
              "      <td>149756.71</td>\n",
              "      <td>1</td>\n",
              "    </tr>\n",
              "    <tr>\n",
              "      <th>6</th>\n",
              "      <td>7</td>\n",
              "      <td>15592531</td>\n",
              "      <td>Bartlett</td>\n",
              "      <td>822</td>\n",
              "      <td>France</td>\n",
              "      <td>Male</td>\n",
              "      <td>50</td>\n",
              "      <td>7.0</td>\n",
              "      <td>0.00</td>\n",
              "      <td>2</td>\n",
              "      <td>1</td>\n",
              "      <td>1</td>\n",
              "      <td>10062.80</td>\n",
              "      <td>0</td>\n",
              "    </tr>\n",
              "    <tr>\n",
              "      <th>7</th>\n",
              "      <td>8</td>\n",
              "      <td>15656148</td>\n",
              "      <td>Obinna</td>\n",
              "      <td>376</td>\n",
              "      <td>Germany</td>\n",
              "      <td>Female</td>\n",
              "      <td>29</td>\n",
              "      <td>4.0</td>\n",
              "      <td>115046.74</td>\n",
              "      <td>4</td>\n",
              "      <td>1</td>\n",
              "      <td>0</td>\n",
              "      <td>119346.88</td>\n",
              "      <td>1</td>\n",
              "    </tr>\n",
              "    <tr>\n",
              "      <th>8</th>\n",
              "      <td>9</td>\n",
              "      <td>15792365</td>\n",
              "      <td>He</td>\n",
              "      <td>501</td>\n",
              "      <td>France</td>\n",
              "      <td>Male</td>\n",
              "      <td>44</td>\n",
              "      <td>4.0</td>\n",
              "      <td>142051.07</td>\n",
              "      <td>2</td>\n",
              "      <td>0</td>\n",
              "      <td>1</td>\n",
              "      <td>74940.50</td>\n",
              "      <td>0</td>\n",
              "    </tr>\n",
              "    <tr>\n",
              "      <th>9</th>\n",
              "      <td>10</td>\n",
              "      <td>15592389</td>\n",
              "      <td>H?</td>\n",
              "      <td>684</td>\n",
              "      <td>France</td>\n",
              "      <td>Male</td>\n",
              "      <td>27</td>\n",
              "      <td>2.0</td>\n",
              "      <td>134603.88</td>\n",
              "      <td>1</td>\n",
              "      <td>1</td>\n",
              "      <td>1</td>\n",
              "      <td>71725.73</td>\n",
              "      <td>0</td>\n",
              "    </tr>\n",
              "  </tbody>\n",
              "</table>\n",
              "</div>"
            ],
            "text/plain": [
              "   rownumber  customerid   surname  creditscore geography  gender  age  \\\n",
              "0          1    15634602  Hargrave          619    France  Female   42   \n",
              "1          2    15647311      Hill          608     Spain  Female   41   \n",
              "2          3    15619304      Onio          502    France  Female   42   \n",
              "3          4    15701354      Boni          699    France  Female   39   \n",
              "4          5    15737888  Mitchell          850     Spain  Female   43   \n",
              "5          6    15574012       Chu          645     Spain    Male   44   \n",
              "6          7    15592531  Bartlett          822    France    Male   50   \n",
              "7          8    15656148    Obinna          376   Germany  Female   29   \n",
              "8          9    15792365        He          501    France    Male   44   \n",
              "9         10    15592389        H?          684    France    Male   27   \n",
              "\n",
              "   tenure    balance  numofproducts  hascrcard  isactivemember  \\\n",
              "0     2.0       0.00              1          1               1   \n",
              "1     1.0   83807.86              1          0               1   \n",
              "2     8.0  159660.80              3          1               0   \n",
              "3     1.0       0.00              2          0               0   \n",
              "4     2.0  125510.82              1          1               1   \n",
              "5     8.0  113755.78              2          1               0   \n",
              "6     7.0       0.00              2          1               1   \n",
              "7     4.0  115046.74              4          1               0   \n",
              "8     4.0  142051.07              2          0               1   \n",
              "9     2.0  134603.88              1          1               1   \n",
              "\n",
              "   estimatedsalary  exited  \n",
              "0        101348.88       1  \n",
              "1        112542.58       0  \n",
              "2        113931.57       1  \n",
              "3         93826.63       0  \n",
              "4         79084.10       0  \n",
              "5        149756.71       1  \n",
              "6         10062.80       0  \n",
              "7        119346.88       1  \n",
              "8         74940.50       0  \n",
              "9         71725.73       0  "
            ]
          },
          "execution_count": 3,
          "metadata": {},
          "output_type": "execute_result"
        }
      ],
      "source": [
        "df.columns = map(str.lower, df.columns)\n",
        "df.head(10)"
      ]
    },
    {
      "cell_type": "markdown",
      "metadata": {
        "id": "QoziDMDJxAho"
      },
      "source": [
        "Посмотрим сколько пропущенных значений в датасете"
      ]
    },
    {
      "cell_type": "code",
      "execution_count": null,
      "metadata": {
        "id": "lJ84f8wlxAho",
        "outputId": "d1ad684b-eb5e-4cf9-eb5c-861eeba10ee0"
      },
      "outputs": [
        {
          "data": {
            "text/html": [
              "<style  type=\"text/css\" >\n",
              "#T_23f05_row0_col0{\n",
              "            background-color:  #b40426;\n",
              "            color:  #f1f1f1;\n",
              "        }#T_23f05_row1_col0,#T_23f05_row2_col0,#T_23f05_row3_col0,#T_23f05_row4_col0,#T_23f05_row5_col0,#T_23f05_row6_col0,#T_23f05_row7_col0,#T_23f05_row8_col0,#T_23f05_row9_col0,#T_23f05_row10_col0,#T_23f05_row11_col0,#T_23f05_row12_col0,#T_23f05_row13_col0{\n",
              "            background-color:  #3b4cc0;\n",
              "            color:  #f1f1f1;\n",
              "        }</style><table id=\"T_23f05_\" ><thead>    <tr>        <th class=\"blank level0\" ></th>        <th class=\"col_heading level0 col0\" >0</th>    </tr></thead><tbody>\n",
              "                <tr>\n",
              "                        <th id=\"T_23f05_level0_row0\" class=\"row_heading level0 row0\" >tenure</th>\n",
              "                        <td id=\"T_23f05_row0_col0\" class=\"data row0 col0\" >9.090000</td>\n",
              "            </tr>\n",
              "            <tr>\n",
              "                        <th id=\"T_23f05_level0_row1\" class=\"row_heading level0 row1\" >exited</th>\n",
              "                        <td id=\"T_23f05_row1_col0\" class=\"data row1 col0\" >0.000000</td>\n",
              "            </tr>\n",
              "            <tr>\n",
              "                        <th id=\"T_23f05_level0_row2\" class=\"row_heading level0 row2\" >estimatedsalary</th>\n",
              "                        <td id=\"T_23f05_row2_col0\" class=\"data row2 col0\" >0.000000</td>\n",
              "            </tr>\n",
              "            <tr>\n",
              "                        <th id=\"T_23f05_level0_row3\" class=\"row_heading level0 row3\" >isactivemember</th>\n",
              "                        <td id=\"T_23f05_row3_col0\" class=\"data row3 col0\" >0.000000</td>\n",
              "            </tr>\n",
              "            <tr>\n",
              "                        <th id=\"T_23f05_level0_row4\" class=\"row_heading level0 row4\" >hascrcard</th>\n",
              "                        <td id=\"T_23f05_row4_col0\" class=\"data row4 col0\" >0.000000</td>\n",
              "            </tr>\n",
              "            <tr>\n",
              "                        <th id=\"T_23f05_level0_row5\" class=\"row_heading level0 row5\" >numofproducts</th>\n",
              "                        <td id=\"T_23f05_row5_col0\" class=\"data row5 col0\" >0.000000</td>\n",
              "            </tr>\n",
              "            <tr>\n",
              "                        <th id=\"T_23f05_level0_row6\" class=\"row_heading level0 row6\" >balance</th>\n",
              "                        <td id=\"T_23f05_row6_col0\" class=\"data row6 col0\" >0.000000</td>\n",
              "            </tr>\n",
              "            <tr>\n",
              "                        <th id=\"T_23f05_level0_row7\" class=\"row_heading level0 row7\" >age</th>\n",
              "                        <td id=\"T_23f05_row7_col0\" class=\"data row7 col0\" >0.000000</td>\n",
              "            </tr>\n",
              "            <tr>\n",
              "                        <th id=\"T_23f05_level0_row8\" class=\"row_heading level0 row8\" >gender</th>\n",
              "                        <td id=\"T_23f05_row8_col0\" class=\"data row8 col0\" >0.000000</td>\n",
              "            </tr>\n",
              "            <tr>\n",
              "                        <th id=\"T_23f05_level0_row9\" class=\"row_heading level0 row9\" >geography</th>\n",
              "                        <td id=\"T_23f05_row9_col0\" class=\"data row9 col0\" >0.000000</td>\n",
              "            </tr>\n",
              "            <tr>\n",
              "                        <th id=\"T_23f05_level0_row10\" class=\"row_heading level0 row10\" >creditscore</th>\n",
              "                        <td id=\"T_23f05_row10_col0\" class=\"data row10 col0\" >0.000000</td>\n",
              "            </tr>\n",
              "            <tr>\n",
              "                        <th id=\"T_23f05_level0_row11\" class=\"row_heading level0 row11\" >surname</th>\n",
              "                        <td id=\"T_23f05_row11_col0\" class=\"data row11 col0\" >0.000000</td>\n",
              "            </tr>\n",
              "            <tr>\n",
              "                        <th id=\"T_23f05_level0_row12\" class=\"row_heading level0 row12\" >customerid</th>\n",
              "                        <td id=\"T_23f05_row12_col0\" class=\"data row12 col0\" >0.000000</td>\n",
              "            </tr>\n",
              "            <tr>\n",
              "                        <th id=\"T_23f05_level0_row13\" class=\"row_heading level0 row13\" >rownumber</th>\n",
              "                        <td id=\"T_23f05_row13_col0\" class=\"data row13 col0\" >0.000000</td>\n",
              "            </tr>\n",
              "    </tbody></table>"
            ],
            "text/plain": [
              "<pandas.io.formats.style.Styler at 0x7efc7354eb80>"
            ]
          },
          "execution_count": 4,
          "metadata": {},
          "output_type": "execute_result"
        }
      ],
      "source": [
        "pd.DataFrame(df.isna().mean()*100).sort_values(by=0)[::-1].style.background_gradient('coolwarm')"
      ]
    },
    {
      "cell_type": "markdown",
      "metadata": {
        "id": "Zi_VZgtPxAho"
      },
      "source": [
        "Как видим пропущенные значения есть только в столбце 'tenure', причем менее 10%, поэтому этими строками можно пренебречь и удалить их."
      ]
    },
    {
      "cell_type": "code",
      "execution_count": null,
      "metadata": {
        "id": "4arFdYpXxAho"
      },
      "outputs": [],
      "source": [
        "df = df.dropna(subset=['tenure'])\n",
        "df['tenure'] = df['tenure'].astype('int64')# поменяем на целочисленный тип"
      ]
    },
    {
      "cell_type": "code",
      "execution_count": null,
      "metadata": {
        "id": "dOojaqIqxAho",
        "outputId": "4bfecc82-ac7a-4cfc-ed53-fc7fa829510d"
      },
      "outputs": [
        {
          "data": {
            "text/plain": [
              "array([ 2,  1,  8,  7,  4,  6,  3, 10,  5,  9,  0])"
            ]
          },
          "execution_count": 6,
          "metadata": {},
          "output_type": "execute_result"
        }
      ],
      "source": [
        "df['tenure'].unique()#проверим смену типа данных"
      ]
    },
    {
      "cell_type": "code",
      "execution_count": null,
      "metadata": {
        "id": "fcrtQEeQxAhp"
      },
      "outputs": [],
      "source": [
        "def age_cat(age): #сделаем классификацию по возрастам\n",
        "    try:\n",
        "        if 18 <= age <= 30:\n",
        "            return '18-30'\n",
        "        elif 31 <= age <= 40:\n",
        "            return '31-40'\n",
        "        elif 41 <= age <= 50:\n",
        "            return '41-50'\n",
        "        elif 51 <= age <= 60:\n",
        "            return '51-60'\n",
        "        elif 61 <= age <= 70:\n",
        "            return '61-70'\n",
        "        elif age >= 71:\n",
        "            return 'более 70'\n",
        "    except:\n",
        "        pass\n",
        "df['age_category'] = df['age'].apply(age_cat)"
      ]
    },
    {
      "cell_type": "code",
      "execution_count": null,
      "metadata": {
        "id": "mSTUjTuhxAhp",
        "outputId": "35897694-5f0c-4c5d-fb73-c4624586dd28"
      },
      "outputs": [
        {
          "name": "stdout",
          "output_type": "stream",
          "text": [
            "<class 'pandas.core.frame.DataFrame'>\n",
            "Int64Index: 9091 entries, 0 to 9998\n",
            "Data columns (total 15 columns):\n",
            " #   Column           Non-Null Count  Dtype  \n",
            "---  ------           --------------  -----  \n",
            " 0   rownumber        9091 non-null   int64  \n",
            " 1   customerid       9091 non-null   int64  \n",
            " 2   surname          9091 non-null   object \n",
            " 3   creditscore      9091 non-null   int64  \n",
            " 4   geography        9091 non-null   object \n",
            " 5   gender           9091 non-null   object \n",
            " 6   age              9091 non-null   int64  \n",
            " 7   tenure           9091 non-null   int64  \n",
            " 8   balance          9091 non-null   float64\n",
            " 9   numofproducts    9091 non-null   int64  \n",
            " 10  hascrcard        9091 non-null   int64  \n",
            " 11  isactivemember   9091 non-null   int64  \n",
            " 12  estimatedsalary  9091 non-null   float64\n",
            " 13  exited           9091 non-null   int64  \n",
            " 14  age_category     9091 non-null   object \n",
            "dtypes: float64(2), int64(9), object(4)\n",
            "memory usage: 1.1+ MB\n"
          ]
        }
      ],
      "source": [
        "df.info()"
      ]
    },
    {
      "cell_type": "code",
      "execution_count": null,
      "metadata": {
        "id": "z6xRMa7ixAhp"
      },
      "outputs": [],
      "source": [
        "df_gender=df.groupby('gender')['gender'].count().sort_values(ascending=False)"
      ]
    },
    {
      "cell_type": "code",
      "execution_count": null,
      "metadata": {
        "id": "EVCRzVTDxAhp",
        "outputId": "014bbc06-96b6-4a4f-acac-cc90201980b3"
      },
      "outputs": [
        {
          "data": {
            "image/png": "[encoded data removed]",
            "text/plain": [
              "<Figure size 432x288 with 1 Axes>"
            ]
          },
          "metadata": {},
          "output_type": "display_data"
        }
      ],
      "source": [
        "labels = ['Женщины','Мужчины']\n",
        "fig, ax = plt.subplots()\n",
        "ax.pie(df_gender, labels=labels, autopct='%1.1f%%', shadow=True,\n",
        "       wedgeprops={'lw':1, 'ls':'--','edgecolor':\"k\"}, rotatelabels=True)\n",
        "ax.axis(\"equal\")\n",
        "import warnings\n",
        "warnings.filterwarnings('ignore')"
      ]
    },
    {
      "cell_type": "markdown",
      "metadata": {
        "id": "1fhut2FOxAhp"
      },
      "source": [
        "Круговая диаграмма показывает, что мужчин и женщин среди клиентов примерно поровну"
      ]
    },
    {
      "cell_type": "code",
      "execution_count": null,
      "metadata": {
        "id": "JYNnKZeOxAhq"
      },
      "outputs": [],
      "source": [
        "df_age=df.groupby('age_category')['age_category'].count().sort_values(ascending=False)\n",
        "#print(df_age)\n",
        "#df_age=df.groupby('age_category')['exited'].sum().sort_values(ascending=False)"
      ]
    },
    {
      "cell_type": "code",
      "execution_count": null,
      "metadata": {
        "id": "PySJVy_ExAhq",
        "outputId": "17743d6e-1142-4169-af9f-f67200886d33"
      },
      "outputs": [
        {
          "data": {
            "image/png": "[encoded data removed]",
            "text/plain": [
              "<Figure size 432x288 with 1 Axes>"
            ]
          },
          "metadata": {},
          "output_type": "display_data"
        }
      ],
      "source": [
        "labels = ['31-40','41-50','18-30','51-60','61-70','более 70']\n",
        "fig, ax = plt.subplots()\n",
        "ax.pie(df_age, labels=labels, autopct='%1.1f%%', shadow=True, wedgeprops={'lw':1, 'ls':'--','edgecolor':\"k\"}, rotatelabels=True)\n",
        "ax.axis(\"equal\")\n",
        "import warnings\n",
        "warnings.filterwarnings('ignore')"
      ]
    },
    {
      "cell_type": "code",
      "execution_count": null,
      "metadata": {
        "id": "P66Mw4_LxAhq",
        "outputId": "5d97c605-0358-4968-b874-bd31b0b2afd1"
      },
      "outputs": [
        {
          "name": "stdout",
          "output_type": "stream",
          "text": [
            "geography\n",
            "France     4550\n",
            "Germany    2293\n",
            "Spain      2248\n",
            "Name: geography, dtype: int64\n"
          ]
        }
      ],
      "source": [
        "df_geography=df.groupby('geography')['geography'].count().sort_values(ascending=False)\n",
        "print(df_geography)"
      ]
    },
    {
      "cell_type": "code",
      "execution_count": null,
      "metadata": {
        "id": "RXdmjjPWxAhq",
        "outputId": "738784d0-5486-4079-e9b9-917faa332c1c"
      },
      "outputs": [
        {
          "data": {
            "image/png": "[encoded data removed]",
            "text/plain": [
              "<Figure size 432x288 with 1 Axes>"
            ]
          },
          "metadata": {},
          "output_type": "display_data"
        }
      ],
      "source": [
        "labels = ['Germany','France','Spain']\n",
        "fig, ax = plt.subplots()\n",
        "ax.pie(df_geography, labels=labels, autopct='%1.1f%%', shadow=True, wedgeprops={'lw':1, 'ls':'--','edgecolor':\"k\"}, rotatelabels=True)\n",
        "ax.axis(\"equal\")\n",
        "import warnings\n",
        "warnings.filterwarnings('ignore')"
      ]
    },
    {
      "cell_type": "code",
      "execution_count": null,
      "metadata": {
        "id": "VZ0SAFVPxAhr",
        "outputId": "d3555577-fdf4-4ab0-c243-b57db38b131a"
      },
      "outputs": [
        {
          "data": {
            "image/png": "[encoded data removed]",
            "text/plain": [
              "<Figure size 1440x360 with 1 Axes>"
            ]
          },
          "metadata": {
            "needs_background": "light"
          },
          "output_type": "display_data"
        }
      ],
      "source": [
        "df.query('exited==1').pivot_table(index='tenure', values='exited', aggfunc='count').plot(\n",
        "    grid=True,\n",
        "    figsize=(20, 5),\n",
        "      )\n",
        "plt.title('Количество людей, ушедших из банка')\n",
        "plt.xlabel('сколько лет человек является клиентом банка')\n",
        "plt.ylabel('Количество людей')\n",
        "plt.show()"
      ]
    },
    {
      "cell_type": "code",
      "execution_count": null,
      "metadata": {
        "id": "kxuWbhLDxAhr",
        "outputId": "2a7ff1c3-2f8d-4836-a6a0-296a0524e100"
      },
      "outputs": [
        {
          "data": {
            "text/plain": [
              "<AxesSubplot:>"
            ]
          },
          "execution_count": 16,
          "metadata": {},
          "output_type": "execute_result"
        },
        {
          "data": {
            "image/png": "[encoded data removed]",
            "text/plain": [
              "<Figure size 432x288 with 2 Axes>"
            ]
          },
          "metadata": {
            "needs_background": "light"
          },
          "output_type": "display_data"
        }
      ],
      "source": [
        "sns.heatmap(df.corr())#корреляционная матрица"
      ]
    },
    {
      "cell_type": "markdown",
      "metadata": {
        "id": "cIL9qRIDxAhr"
      },
      "source": [
        "Корреляционная матрица показывает, что сильных зависимостей здесь не возникает, поэтому все признаки можно оставить."
      ]
    },
    {
      "cell_type": "markdown",
      "metadata": {
        "id": "6vyMYQf7xAhs"
      },
      "source": [
        "### Выводы по предварительной подготовке данных:\n",
        "<ol>\n",
        "    <li>Пропущенные значения наблюдаются только в столбце 'tenure', причем менее 10%, поэтому мы ими пренебрегли. </li>\n",
        "    <li>Значения в этом столбце имеют вещественный тип, поменяли его на целочисленный. </li>\n",
        "    <li>Среди клиентов банка мужчин и женщин примерно поровну. Большинство клиентов в возрастной категории от 30 до 40 лет, меньше всего  - от 60 лет и более.</li>\n",
        "    <li>Банк имеет представительства в Германии, Франции и Испании. Большинство клиентов в Германии.</li>\n",
        "    <li>Люди, которые являются клиентами банка более 9 лет, реже покидают банк.</li>\n",
        "    </ol>"
      ]
    },
    {
      "cell_type": "markdown",
      "metadata": {
        "id": "peajm4I-xAhs"
      },
      "source": [
        "## Исследование задачи"
      ]
    },
    {
      "cell_type": "markdown",
      "metadata": {
        "id": "z6SdTcSexAhs"
      },
      "source": [
        "### Удалим несущественные на наш взгляд признаки"
      ]
    },
    {
      "cell_type": "code",
      "execution_count": null,
      "metadata": {
        "id": "NQ1zNs26xAhs"
      },
      "outputs": [],
      "source": [
        "not_informative = ['rownumber','customerid','surname','age_category']\n",
        "df = df.drop(columns=not_informative)"
      ]
    },
    {
      "cell_type": "code",
      "execution_count": null,
      "metadata": {
        "id": "dVExMBr6xAht",
        "outputId": "06ea49b2-2ce4-456b-aed9-6c8942ffbed2"
      },
      "outputs": [
        {
          "data": {
            "text/html": [
              "<div>\n",
              "<style scoped>\n",
              "    .dataframe tbody tr th:only-of-type {\n",
              "        vertical-align: middle;\n",
              "    }\n",
              "\n",
              "    .dataframe tbody tr th {\n",
              "        vertical-align: top;\n",
              "    }\n",
              "\n",
              "    .dataframe thead th {\n",
              "        text-align: right;\n",
              "    }\n",
              "</style>\n",
              "<table border=\"1\" class=\"dataframe\">\n",
              "  <thead>\n",
              "    <tr style=\"text-align: right;\">\n",
              "      <th></th>\n",
              "      <th>creditscore</th>\n",
              "      <th>geography</th>\n",
              "      <th>gender</th>\n",
              "      <th>age</th>\n",
              "      <th>tenure</th>\n",
              "      <th>balance</th>\n",
              "      <th>numofproducts</th>\n",
              "      <th>hascrcard</th>\n",
              "      <th>isactivemember</th>\n",
              "      <th>estimatedsalary</th>\n",
              "      <th>exited</th>\n",
              "    </tr>\n",
              "  </thead>\n",
              "  <tbody>\n",
              "    <tr>\n",
              "      <th>0</th>\n",
              "      <td>619</td>\n",
              "      <td>France</td>\n",
              "      <td>Female</td>\n",
              "      <td>42</td>\n",
              "      <td>2</td>\n",
              "      <td>0.00</td>\n",
              "      <td>1</td>\n",
              "      <td>1</td>\n",
              "      <td>1</td>\n",
              "      <td>101348.88</td>\n",
              "      <td>1</td>\n",
              "    </tr>\n",
              "    <tr>\n",
              "      <th>1</th>\n",
              "      <td>608</td>\n",
              "      <td>Spain</td>\n",
              "      <td>Female</td>\n",
              "      <td>41</td>\n",
              "      <td>1</td>\n",
              "      <td>83807.86</td>\n",
              "      <td>1</td>\n",
              "      <td>0</td>\n",
              "      <td>1</td>\n",
              "      <td>112542.58</td>\n",
              "      <td>0</td>\n",
              "    </tr>\n",
              "    <tr>\n",
              "      <th>2</th>\n",
              "      <td>502</td>\n",
              "      <td>France</td>\n",
              "      <td>Female</td>\n",
              "      <td>42</td>\n",
              "      <td>8</td>\n",
              "      <td>159660.80</td>\n",
              "      <td>3</td>\n",
              "      <td>1</td>\n",
              "      <td>0</td>\n",
              "      <td>113931.57</td>\n",
              "      <td>1</td>\n",
              "    </tr>\n",
              "    <tr>\n",
              "      <th>3</th>\n",
              "      <td>699</td>\n",
              "      <td>France</td>\n",
              "      <td>Female</td>\n",
              "      <td>39</td>\n",
              "      <td>1</td>\n",
              "      <td>0.00</td>\n",
              "      <td>2</td>\n",
              "      <td>0</td>\n",
              "      <td>0</td>\n",
              "      <td>93826.63</td>\n",
              "      <td>0</td>\n",
              "    </tr>\n",
              "    <tr>\n",
              "      <th>4</th>\n",
              "      <td>850</td>\n",
              "      <td>Spain</td>\n",
              "      <td>Female</td>\n",
              "      <td>43</td>\n",
              "      <td>2</td>\n",
              "      <td>125510.82</td>\n",
              "      <td>1</td>\n",
              "      <td>1</td>\n",
              "      <td>1</td>\n",
              "      <td>79084.10</td>\n",
              "      <td>0</td>\n",
              "    </tr>\n",
              "  </tbody>\n",
              "</table>\n",
              "</div>"
            ],
            "text/plain": [
              "   creditscore geography  gender  age  tenure    balance  numofproducts  \\\n",
              "0          619    France  Female   42       2       0.00              1   \n",
              "1          608     Spain  Female   41       1   83807.86              1   \n",
              "2          502    France  Female   42       8  159660.80              3   \n",
              "3          699    France  Female   39       1       0.00              2   \n",
              "4          850     Spain  Female   43       2  125510.82              1   \n",
              "\n",
              "   hascrcard  isactivemember  estimatedsalary  exited  \n",
              "0          1               1        101348.88       1  \n",
              "1          0               1        112542.58       0  \n",
              "2          1               0        113931.57       1  \n",
              "3          0               0         93826.63       0  \n",
              "4          1               1         79084.10       0  "
            ]
          },
          "execution_count": 18,
          "metadata": {},
          "output_type": "execute_result"
        }
      ],
      "source": [
        "df.head(5)"
      ]
    },
    {
      "cell_type": "markdown",
      "metadata": {
        "id": "ZlyKW5E5xAht"
      },
      "source": [
        "### Преобразуем категориальные переменные в фиктивные переменные"
      ]
    },
    {
      "cell_type": "code",
      "execution_count": null,
      "metadata": {
        "id": "tXeIT4XsxAht",
        "outputId": "e51a9ec9-bea8-4b07-917e-8ff17344fba2"
      },
      "outputs": [
        {
          "data": {
            "text/html": [
              "<div>\n",
              "<style scoped>\n",
              "    .dataframe tbody tr th:only-of-type {\n",
              "        vertical-align: middle;\n",
              "    }\n",
              "\n",
              "    .dataframe tbody tr th {\n",
              "        vertical-align: top;\n",
              "    }\n",
              "\n",
              "    .dataframe thead th {\n",
              "        text-align: right;\n",
              "    }\n",
              "</style>\n",
              "<table border=\"1\" class=\"dataframe\">\n",
              "  <thead>\n",
              "    <tr style=\"text-align: right;\">\n",
              "      <th></th>\n",
              "      <th>creditscore</th>\n",
              "      <th>age</th>\n",
              "      <th>tenure</th>\n",
              "      <th>balance</th>\n",
              "      <th>numofproducts</th>\n",
              "      <th>hascrcard</th>\n",
              "      <th>isactivemember</th>\n",
              "      <th>estimatedsalary</th>\n",
              "      <th>exited</th>\n",
              "      <th>geography_Germany</th>\n",
              "      <th>geography_Spain</th>\n",
              "      <th>gender_Male</th>\n",
              "    </tr>\n",
              "  </thead>\n",
              "  <tbody>\n",
              "    <tr>\n",
              "      <th>0</th>\n",
              "      <td>619</td>\n",
              "      <td>42</td>\n",
              "      <td>2</td>\n",
              "      <td>0.00</td>\n",
              "      <td>1</td>\n",
              "      <td>1</td>\n",
              "      <td>1</td>\n",
              "      <td>101348.88</td>\n",
              "      <td>1</td>\n",
              "      <td>0</td>\n",
              "      <td>0</td>\n",
              "      <td>0</td>\n",
              "    </tr>\n",
              "    <tr>\n",
              "      <th>1</th>\n",
              "      <td>608</td>\n",
              "      <td>41</td>\n",
              "      <td>1</td>\n",
              "      <td>83807.86</td>\n",
              "      <td>1</td>\n",
              "      <td>0</td>\n",
              "      <td>1</td>\n",
              "      <td>112542.58</td>\n",
              "      <td>0</td>\n",
              "      <td>0</td>\n",
              "      <td>1</td>\n",
              "      <td>0</td>\n",
              "    </tr>\n",
              "    <tr>\n",
              "      <th>2</th>\n",
              "      <td>502</td>\n",
              "      <td>42</td>\n",
              "      <td>8</td>\n",
              "      <td>159660.80</td>\n",
              "      <td>3</td>\n",
              "      <td>1</td>\n",
              "      <td>0</td>\n",
              "      <td>113931.57</td>\n",
              "      <td>1</td>\n",
              "      <td>0</td>\n",
              "      <td>0</td>\n",
              "      <td>0</td>\n",
              "    </tr>\n",
              "    <tr>\n",
              "      <th>3</th>\n",
              "      <td>699</td>\n",
              "      <td>39</td>\n",
              "      <td>1</td>\n",
              "      <td>0.00</td>\n",
              "      <td>2</td>\n",
              "      <td>0</td>\n",
              "      <td>0</td>\n",
              "      <td>93826.63</td>\n",
              "      <td>0</td>\n",
              "      <td>0</td>\n",
              "      <td>0</td>\n",
              "      <td>0</td>\n",
              "    </tr>\n",
              "    <tr>\n",
              "      <th>4</th>\n",
              "      <td>850</td>\n",
              "      <td>43</td>\n",
              "      <td>2</td>\n",
              "      <td>125510.82</td>\n",
              "      <td>1</td>\n",
              "      <td>1</td>\n",
              "      <td>1</td>\n",
              "      <td>79084.10</td>\n",
              "      <td>0</td>\n",
              "      <td>0</td>\n",
              "      <td>1</td>\n",
              "      <td>0</td>\n",
              "    </tr>\n",
              "  </tbody>\n",
              "</table>\n",
              "</div>"
            ],
            "text/plain": [
              "   creditscore  age  tenure    balance  numofproducts  hascrcard  \\\n",
              "0          619   42       2       0.00              1          1   \n",
              "1          608   41       1   83807.86              1          0   \n",
              "2          502   42       8  159660.80              3          1   \n",
              "3          699   39       1       0.00              2          0   \n",
              "4          850   43       2  125510.82              1          1   \n",
              "\n",
              "   isactivemember  estimatedsalary  exited  geography_Germany  \\\n",
              "0               1        101348.88       1                  0   \n",
              "1               1        112542.58       0                  0   \n",
              "2               0        113931.57       1                  0   \n",
              "3               0         93826.63       0                  0   \n",
              "4               1         79084.10       0                  0   \n",
              "\n",
              "   geography_Spain  gender_Male  \n",
              "0                0            0  \n",
              "1                1            0  \n",
              "2                0            0  \n",
              "3                0            0  \n",
              "4                1            0  "
            ]
          },
          "execution_count": 19,
          "metadata": {},
          "output_type": "execute_result"
        }
      ],
      "source": [
        "df = pd.get_dummies(df, drop_first=True)\n",
        "df.head(5)"
      ]
    },
    {
      "cell_type": "markdown",
      "metadata": {
        "id": "e6XAp5kUxAht"
      },
      "source": [
        "### Разделим данные с использованием функции Scikit-learn train_test_split. Разобъем датасет на тренировочную, валидационную и тестовую выборки (60%, 20%, 20%)"
      ]
    },
    {
      "cell_type": "code",
      "execution_count": null,
      "metadata": {
        "id": "tNURVYF5xAht"
      },
      "outputs": [],
      "source": [
        "target = df['exited']\n",
        "features = df.drop('exited', axis=1)\n",
        "features_train, features_valid, target_train, target_valid = train_test_split(features, target, test_size=0.4,\n",
        "                                                                              random_state=12345, stratify=target)\n",
        "features_valid, features_test, target_valid, target_test = train_test_split(features_valid, target_valid, test_size=0.5,\n",
        "                                                                              random_state=12345, stratify=target_valid)"
      ]
    },
    {
      "cell_type": "markdown",
      "metadata": {
        "id": "SJmXGgt1xAhu"
      },
      "source": [
        "### Стандартизируем численные признаки обучающей и валидационной выборок"
      ]
    },
    {
      "cell_type": "code",
      "execution_count": null,
      "metadata": {
        "id": "2YlhaWcqxAhu",
        "outputId": "3c45729a-590a-423a-8c9e-7f4cc90fb268"
      },
      "outputs": [
        {
          "name": "stdout",
          "output_type": "stream",
          "text": [
            "      creditscore       age    tenure   balance  numofproducts  hascrcard  \\\n",
            "9723    -1.292898 -0.660843  0.686341  0.786636      -0.910943          0   \n",
            "1224    -1.563714  0.778434  1.034232  0.833795      -0.910943          1   \n",
            "8377     1.581914  0.106771 -0.357331 -1.222967       0.789359          1   \n",
            "8014     0.842379  0.010820 -1.053112  0.807063      -0.910943          1   \n",
            "2491    -0.397123 -1.236554 -0.357331 -1.222967       0.789359          1   \n",
            "\n",
            "      isactivemember  estimatedsalary  geography_Germany  geography_Spain  \\\n",
            "9723               0        -0.223548                  0                0   \n",
            "1224               0         1.383021                  0                1   \n",
            "8377               1        -0.308331                  0                1   \n",
            "8014               1        -0.430980                  0                1   \n",
            "2491               1         1.392642                  0                1   \n",
            "\n",
            "      gender_Male  \n",
            "9723            1  \n",
            "1224            0  \n",
            "8377            1  \n",
            "8014            0  \n",
            "2491            0  \n"
          ]
        }
      ],
      "source": [
        "numeric = ['creditscore','age','tenure','balance','numofproducts','estimatedsalary']\n",
        "scaler = StandardScaler()\n",
        "scaler.fit(features_train[numeric])\n",
        "features_train[numeric] = scaler.transform(features_train[numeric])\n",
        "features_valid[numeric] = scaler.transform(features_valid[numeric])\n",
        "features_test[numeric] = scaler.transform(features_test[numeric])\n",
        "pd.options.mode.chained_assignment = None\n",
        "print(features_train.head(5))"
      ]
    },
    {
      "cell_type": "markdown",
      "metadata": {
        "id": "bJ2UtfyGxAhu"
      },
      "source": [
        "### Проверим сбалансированность классов в целевом признаке"
      ]
    },
    {
      "cell_type": "code",
      "execution_count": null,
      "metadata": {
        "id": "jhJrLsWlxAhu",
        "outputId": "ca4013e6-a5f4-4400-b064-cc62ab9b1aef"
      },
      "outputs": [
        {
          "name": "stdout",
          "output_type": "stream",
          "text": [
            "0    0.796062\n",
            "1    0.203938\n",
            "Name: exited, dtype: float64\n"
          ]
        },
        {
          "data": {
            "text/plain": [
              "<AxesSubplot:>"
            ]
          },
          "execution_count": 22,
          "metadata": {},
          "output_type": "execute_result"
        },
        {
          "data": {
            "image/png": "[encoded data removed]",
            "text/plain": [
              "<Figure size 432x288 with 1 Axes>"
            ]
          },
          "metadata": {
            "needs_background": "light"
          },
          "output_type": "display_data"
        }
      ],
      "source": [
        "class_frequency = target.value_counts(normalize=True)# < напишите код здесь >)\n",
        "print(class_frequency)\n",
        "class_frequency.plot(kind='bar')"
      ]
    },
    {
      "cell_type": "markdown",
      "metadata": {
        "id": "cUISTHKOxAhv"
      },
      "source": [
        "### Изучим модели без исправления дисбаланса"
      ]
    },
    {
      "cell_type": "code",
      "execution_count": null,
      "metadata": {
        "id": "1OmwuyhsxAhv"
      },
      "outputs": [],
      "source": [
        "X_train = features_train\n",
        "y_train = target_train"
      ]
    },
    {
      "cell_type": "markdown",
      "metadata": {
        "id": "Ns4TGQ8zxAhv"
      },
      "source": [
        "#### Воспользуемся DecisionTreeClassifier для подбора гиперпараметров на обучающей выборке для моделей: <b>обучающее дерево, логистическая регрессия и случайный лес</b>"
      ]
    },
    {
      "cell_type": "markdown",
      "metadata": {
        "id": "-WOpGwR_xAhv"
      },
      "source": [
        "<b>1) Обучающее дерево</b>"
      ]
    },
    {
      "cell_type": "code",
      "execution_count": null,
      "metadata": {
        "id": "dTsXxNT8xAhw",
        "outputId": "4cf640d8-ba4d-4d87-a5b8-1bd75dbca320"
      },
      "outputs": [
        {
          "name": "stdout",
          "output_type": "stream",
          "text": [
            "CPU times: user 11.4 s, sys: 1.88 ms, total: 11.4 s\n",
            "Wall time: 11.4 s\n"
          ]
        },
        {
          "data": {
            "text/plain": [
              "{'max_depth': 6, 'min_samples_leaf': 4, 'min_samples_split': 2}"
            ]
          },
          "execution_count": 24,
          "metadata": {},
          "output_type": "execute_result"
        }
      ],
      "source": [
        "%%time\n",
        "clf = DecisionTreeClassifier()\n",
        "parametrs = {\n",
        "           'max_depth': range (2,13, 2),\n",
        "           'min_samples_leaf': range (1,8),\n",
        "           'min_samples_split': range (2,10,2) }\n",
        "grid = GridSearchCV(clf, parametrs, cv=5)\n",
        "grid.fit(X_train, y_train)\n",
        "grid.best_params_"
      ]
    },
    {
      "cell_type": "markdown",
      "metadata": {
        "id": "_3-ETqzoxAhx"
      },
      "source": [
        "<b>2) Логистическая регрессия</b>"
      ]
    },
    {
      "cell_type": "code",
      "execution_count": null,
      "metadata": {
        "id": "2g9xjrxlxAhx",
        "outputId": "664f9439-86e0-4144-8f36-fbb11d972a65"
      },
      "outputs": [
        {
          "name": "stdout",
          "output_type": "stream",
          "text": [
            "CPU times: user 1.33 s, sys: 1.37 s, total: 2.7 s\n",
            "Wall time: 2.63 s\n"
          ]
        },
        {
          "data": {
            "text/plain": [
              "{'C': 1, 'penalty': 'l1', 'solver': 'liblinear'}"
            ]
          },
          "execution_count": 25,
          "metadata": {},
          "output_type": "execute_result"
        }
      ],
      "source": [
        "%%time\n",
        "clf = LogisticRegression()\n",
        "parametrs = {\n",
        "             'penalty': ['l1', 'l2'],\n",
        "             'C':range(1, 4, 2),\n",
        "              'solver' : ['liblinear'] }\n",
        "grid = GridSearchCV(clf, parametrs, cv=5)\n",
        "grid.fit(X_train, y_train)\n",
        "grid.best_params_"
      ]
    },
    {
      "cell_type": "markdown",
      "metadata": {
        "id": "817l1Vq5xAhy"
      },
      "source": [
        "<b>3) Случайный лес</b>"
      ]
    },
    {
      "cell_type": "code",
      "execution_count": null,
      "metadata": {
        "id": "l9irbkJWxAhy",
        "outputId": "9f2bdf45-e361-4f8f-8cf6-c68efd656677"
      },
      "outputs": [
        {
          "name": "stdout",
          "output_type": "stream",
          "text": [
            "CPU times: user 5min 52s, sys: 1.5 s, total: 5min 53s\n",
            "Wall time: 5min 54s\n"
          ]
        },
        {
          "data": {
            "text/plain": [
              "{'max_depth': 13,\n",
              " 'min_samples_leaf': 5,\n",
              " 'min_samples_split': 6,\n",
              " 'n_estimators': 30}"
            ]
          },
          "execution_count": 26,
          "metadata": {},
          "output_type": "execute_result"
        }
      ],
      "source": [
        "%%time\n",
        "clf = RandomForestClassifier()\n",
        "parametrs = { 'n_estimators': range (20, 41, 10),\n",
        "              'max_depth': range (1,16, 2),\n",
        "              'min_samples_leaf': range (1,8),\n",
        "              'min_samples_split': range (2,10,2) }\n",
        "grid = GridSearchCV(clf, parametrs, cv=5)\n",
        "grid.fit(X_train, y_train)\n",
        "grid.best_params_"
      ]
    },
    {
      "cell_type": "markdown",
      "metadata": {
        "id": "Iw_3YmsCxAhz"
      },
      "source": [
        "<b>Наборы лучших гиперпараметров:</b>"
      ]
    },
    {
      "cell_type": "markdown",
      "metadata": {
        "id": "O-ufcy0rxAhz"
      },
      "source": [
        "- для модели дерево решений:max_depth=6,min_samples_leaf=4, min_samples_split=8"
      ]
    },
    {
      "cell_type": "markdown",
      "metadata": {
        "id": "Q1oVlGxBxAhz"
      },
      "source": [
        "- для модели логистическая регрессия:penalty=l1',C=1)"
      ]
    },
    {
      "cell_type": "markdown",
      "metadata": {
        "id": "ihn94IJKxAhz"
      },
      "source": [
        "- для модели случайный лес: max_depth=11,min_samples_leaf=5,  min_samples_split= 6,n_estimators=20"
      ]
    },
    {
      "cell_type": "markdown",
      "metadata": {
        "id": "ECO5BZInxAh0"
      },
      "source": [
        "#### Посмотрим как работают модели с выбранными гиперпараметрами:"
      ]
    },
    {
      "cell_type": "markdown",
      "metadata": {
        "id": "iyOTi7bCxAh0"
      },
      "source": [
        "<b>1) Обучающее дерево</b>"
      ]
    },
    {
      "cell_type": "code",
      "execution_count": null,
      "metadata": {
        "id": "q09P2IaQxAh0",
        "outputId": "db566c90-f713-4994-dcd2-3609b3b92716"
      },
      "outputs": [
        {
          "name": "stdout",
          "output_type": "stream",
          "text": [
            "Матрица ошибок [[1406   41]\n",
            " [ 201  170]]\n",
            "Полнота 0.4582210242587601\n",
            "Точность 0.8056872037914692\n",
            "f1-мера 0.584192439862543\n"
          ]
        },
        {
          "data": {
            "image/png": "[encoded data removed]",
            "text/plain": [
              "<Figure size 432x288 with 1 Axes>"
            ]
          },
          "metadata": {
            "needs_background": "light"
          },
          "output_type": "display_data"
        },
        {
          "name": "stdout",
          "output_type": "stream",
          "text": [
            "0.8453916179398961\n"
          ]
        }
      ],
      "source": [
        "model = DecisionTreeClassifier(random_state=12345,max_depth=6, min_samples_leaf=4, min_samples_split= 8)\n",
        "model.fit(features_train, target_train)\n",
        "predicted_valid = model.predict(features_valid)\n",
        "probabilities_valid = model.predict_proba(features_valid)\n",
        "probabilities_one_valid = probabilities_valid[:, 1]\n",
        "auc_roc = roc_auc_score(target_valid, probabilities_one_valid)\n",
        "print(\"Матрица ошибок\", confusion_matrix(target_valid, predicted_valid) )\n",
        "print(\"Полнота\",recall_score(target_valid,predicted_valid))\n",
        "print(\"Точность\",precision_score(target_valid,predicted_valid))\n",
        "print(\"f1-мера\", f1_score(target_valid,predicted_valid))\n",
        "fpr, tpr, thresholds =roc_curve(target_valid, probabilities_one_valid)\n",
        "plt.plot(fpr, tpr)\n",
        "plt.plot([0, 1], [0, 1], linestyle='--')\n",
        "plt.xlim([0.0, 1.0])\n",
        "plt.ylim([0.0, 1.0])\n",
        "plt.xlabel('False Positive Rate')\n",
        "plt.ylabel('True Positive Rate')\n",
        "plt.title('ROC-кривая')\n",
        "plt.show()\n",
        "print(auc_roc)"
      ]
    },
    {
      "cell_type": "markdown",
      "metadata": {
        "id": "Zhu5ZLJ5xAh0"
      },
      "source": [
        "<b>2) Логистическая регрессия</b>"
      ]
    },
    {
      "cell_type": "code",
      "execution_count": null,
      "metadata": {
        "id": "ZjFC9C4mxAh0",
        "outputId": "b2364961-4c9d-4a1c-c31c-eef16b4bf857"
      },
      "outputs": [
        {
          "name": "stdout",
          "output_type": "stream",
          "text": [
            "Матрица ошибок [[1399   48]\n",
            " [ 288   83]]\n",
            "Полнота 0.22371967654986524\n",
            "Точность 0.6335877862595419\n",
            "f1-мера 0.3306772908366534\n"
          ]
        },
        {
          "data": {
            "image/png": "[encoded data removed]",
            "text/plain": [
              "<Figure size 432x288 with 1 Axes>"
            ]
          },
          "metadata": {
            "needs_background": "light"
          },
          "output_type": "display_data"
        },
        {
          "name": "stdout",
          "output_type": "stream",
          "text": [
            "0.7893010355098474\n"
          ]
        }
      ],
      "source": [
        "model = LogisticRegression(random_state=12345, C=1, penalty='l2', solver='liblinear')\n",
        "model.fit(features_train, target_train)\n",
        "predicted_valid = model.predict(features_valid)\n",
        "probabilities_valid = model.predict_proba(features_valid)\n",
        "probabilities_one_valid = probabilities_valid[:, 1]\n",
        "auc_roc = roc_auc_score(target_valid, probabilities_one_valid)\n",
        "print(\"Матрица ошибок\", confusion_matrix(target_valid, predicted_valid))\n",
        "print(\"Полнота\",recall_score(target_valid,predicted_valid))\n",
        "print(\"Точность\",precision_score(target_valid,predicted_valid))\n",
        "print(\"f1-мера\", f1_score(target_valid,predicted_valid))\n",
        "fpr, tpr, thresholds =roc_curve(target_valid, probabilities_one_valid)\n",
        "plt.plot(fpr, tpr)\n",
        "plt.plot([0, 1], [0, 1], linestyle='--')\n",
        "plt.xlim([0.0, 1.0])\n",
        "plt.ylim([0.0, 1.0])\n",
        "plt.xlabel('False Positive Rate')\n",
        "plt.ylabel('True Positive Rate')\n",
        "plt.title('ROC-кривая')\n",
        "plt.show()\n",
        "\n",
        "print(auc_roc)"
      ]
    },
    {
      "cell_type": "markdown",
      "metadata": {
        "id": "jmn1XMg1xAh1"
      },
      "source": [
        "<b>3) Случайный лес</b>"
      ]
    },
    {
      "cell_type": "code",
      "execution_count": null,
      "metadata": {
        "id": "5aD6RpGmxAh1",
        "outputId": "af5f3dc2-0cd0-4a12-e887-d10f35fa9517"
      },
      "outputs": [
        {
          "name": "stdout",
          "output_type": "stream",
          "text": [
            "Матрица ошибок [[1406   41]\n",
            " [ 192  179]]\n",
            "Полнота 0.48247978436657685\n",
            "Точность 0.8136363636363636\n",
            "f1-мера 0.6057529610829104\n"
          ]
        }
      ],
      "source": [
        "model = RandomForestClassifier(random_state=12345,max_depth=13,min_samples_leaf=5, min_samples_split= 6,n_estimators=40)\n",
        "model.fit(features_train, target_train)\n",
        "predicted_valid = model.predict(features_valid)\n",
        "print(\"Матрица ошибок\", confusion_matrix(target_valid, predicted_valid) )\n",
        "print(\"Полнота\",recall_score(target_valid,predicted_valid))\n",
        "print(\"Точность\",precision_score(target_valid,predicted_valid))\n",
        "print(\"f1-мера\", f1_score(target_valid,predicted_valid))"
      ]
    },
    {
      "cell_type": "code",
      "execution_count": null,
      "metadata": {
        "id": "mkLYkvwPxAh1",
        "outputId": "cd6ee0f0-3a35-4e8a-ec4f-cc40358d9a2b"
      },
      "outputs": [
        {
          "data": {
            "image/png": "[encoded data removed]",
            "text/plain": [
              "<Figure size 432x288 with 1 Axes>"
            ]
          },
          "metadata": {
            "needs_background": "light"
          },
          "output_type": "display_data"
        },
        {
          "name": "stdout",
          "output_type": "stream",
          "text": [
            "0.8788049258899815\n"
          ]
        }
      ],
      "source": [
        "probabilities_valid = model.predict_proba(features_valid)\n",
        "probabilities_one_valid = probabilities_valid[:, 1]\n",
        "auc_roc = roc_auc_score(target_valid, probabilities_one_valid)\n",
        "fpr, tpr, thresholds =roc_curve(target_valid, probabilities_one_valid)\n",
        "plt.plot(fpr, tpr)\n",
        "plt.plot([0, 1], [0, 1], linestyle='--')\n",
        "plt.xlim([0.0, 1.0])\n",
        "plt.ylim([0.0, 1.0])\n",
        "plt.xlabel('False Positive Rate')\n",
        "plt.ylabel('True Positive Rate')\n",
        "plt.title('ROC-кривая')\n",
        "plt.show()\n",
        "print(auc_roc)"
      ]
    },
    {
      "cell_type": "markdown",
      "metadata": {
        "id": "AieEXThRxAh2"
      },
      "source": [
        "## Борьба с дисбалансом"
      ]
    },
    {
      "cell_type": "markdown",
      "metadata": {
        "id": "wzJYRF7IxAh2"
      },
      "source": [
        " Посмотрим различные способы борьбы с дисбалансом"
      ]
    },
    {
      "cell_type": "markdown",
      "metadata": {
        "id": "qHTSjUpDxAh2"
      },
      "source": [
        "### Взвешивание классов"
      ]
    },
    {
      "cell_type": "markdown",
      "metadata": {
        "id": "I8O1YeivxAh3"
      },
      "source": [
        "<b>1) Обучающее дерево</b>"
      ]
    },
    {
      "cell_type": "code",
      "execution_count": null,
      "metadata": {
        "scrolled": true,
        "id": "hHu-VV3YxAh3",
        "outputId": "a653a675-e9e8-4bcb-a6fe-a1ef336529ff"
      },
      "outputs": [
        {
          "name": "stdout",
          "output_type": "stream",
          "text": [
            "F1: 0.587\n"
          ]
        }
      ],
      "source": [
        "model = DecisionTreeClassifier(random_state=12345, max_depth=6, min_samples_leaf=4, min_samples_split= 4,class_weight='balanced')\n",
        "model.fit(features_train, target_train)\n",
        "predicted_valid = model.predict(features_valid)\n",
        "f1_DTC_1= round(f1_score(target_valid, predicted_valid),3)\n",
        "print(\"F1:\", f1_DTC_1)"
      ]
    },
    {
      "cell_type": "markdown",
      "metadata": {
        "id": "b61L_hA-xAh3"
      },
      "source": [
        "<b>2) Логистическая регрессия</b>"
      ]
    },
    {
      "cell_type": "code",
      "execution_count": null,
      "metadata": {
        "id": "6PP2BR_QxAh3",
        "outputId": "d28eb8b1-2e1e-44a0-d47b-dc2f744c47f1"
      },
      "outputs": [
        {
          "name": "stdout",
          "output_type": "stream",
          "text": [
            "F1: 0.507\n"
          ]
        }
      ],
      "source": [
        "model = LogisticRegression(random_state=12345, C=1, penalty='l1', solver='liblinear',class_weight='balanced')\n",
        "model.fit(features_train, target_train)\n",
        "predicted_valid = model.predict(features_valid)\n",
        "f1_LR_1=round(f1_score(target_valid, predicted_valid),3)\n",
        "print(\"F1:\", f1_LR_1)"
      ]
    },
    {
      "cell_type": "markdown",
      "metadata": {
        "id": "C1ZY97odxAh3"
      },
      "source": [
        "<b>3) Случайный лес</b>"
      ]
    },
    {
      "cell_type": "code",
      "execution_count": null,
      "metadata": {
        "id": "D76cqKHsxAh3",
        "outputId": "5c7f596b-025a-4cfb-e5a1-b6c4090230eb"
      },
      "outputs": [
        {
          "name": "stdout",
          "output_type": "stream",
          "text": [
            "F1: 0.621\n"
          ]
        }
      ],
      "source": [
        "model = RandomForestClassifier(random_state=12345, max_depth=11,min_samples_leaf=5, min_samples_split= 6,n_estimators=20,class_weight='balanced')\n",
        "model.fit(features_train, target_train)\n",
        "predicted_valid = model.predict(features_valid)\n",
        "f1_RFC_1=round(f1_score(target_valid, predicted_valid),3)\n",
        "print(\"F1:\",f1_RFC_1)"
      ]
    },
    {
      "cell_type": "markdown",
      "metadata": {
        "id": "tusn2uHbxAh4"
      },
      "source": [
        "### Увеличение выборки"
      ]
    },
    {
      "cell_type": "code",
      "execution_count": null,
      "metadata": {
        "id": "_rj5yHY-xAh4",
        "outputId": "f1c89714-2687-49e5-b0e4-cc21cf69f200"
      },
      "outputs": [
        {
          "name": "stdout",
          "output_type": "stream",
          "text": [
            "1    4448\n",
            "0    4342\n",
            "Name: exited, dtype: int64\n"
          ]
        }
      ],
      "source": [
        "def upsample(features, target, repeat):\n",
        "    features_zeros = features[target == 0]\n",
        "    features_ones = features[target == 1]\n",
        "    target_zeros = target[target == 0]\n",
        "    target_ones = target[target == 1]\n",
        "\n",
        "    features_upsampled = pd.concat([features_zeros] + [features_ones] * repeat)\n",
        "    target_upsampled = pd.concat([target_zeros] + [target_ones] * repeat)\n",
        "\n",
        "    features_upsampled, target_upsampled = shuffle(\n",
        "        features_upsampled, target_upsampled, random_state=12345)\n",
        "\n",
        "    return features_upsampled, target_upsampled\n",
        "\n",
        "features_upsampled, target_upsampled = upsample(features_train, target_train, 4)\n",
        "print(target_upsampled.value_counts())"
      ]
    },
    {
      "cell_type": "code",
      "execution_count": null,
      "metadata": {
        "id": "W5ENp8NqxAh4"
      },
      "outputs": [],
      "source": [
        "X_train = features_upsampled\n",
        "y_train = target_upsampled"
      ]
    },
    {
      "cell_type": "markdown",
      "metadata": {
        "id": "53jpko8txAh4"
      },
      "source": [
        "Подберем гиперпараметры при увеличении выборки и обучим с ними модели"
      ]
    },
    {
      "cell_type": "markdown",
      "metadata": {
        "id": "9N0a1YvlxAh4"
      },
      "source": [
        "<b>1) Обучающее дерево</b>"
      ]
    },
    {
      "cell_type": "code",
      "execution_count": null,
      "metadata": {
        "id": "uhGhK2IPxAh4",
        "outputId": "6a12b5bf-a382-4fd8-f73a-6bb6c8e055f7"
      },
      "outputs": [
        {
          "name": "stdout",
          "output_type": "stream",
          "text": [
            "CPU times: user 15.2 s, sys: 7.88 ms, total: 15.2 s\n",
            "Wall time: 15.2 s\n"
          ]
        },
        {
          "data": {
            "text/plain": [
              "{'max_depth': 12, 'min_samples_leaf': 1, 'min_samples_split': 2}"
            ]
          },
          "execution_count": 36,
          "metadata": {},
          "output_type": "execute_result"
        }
      ],
      "source": [
        "%%time\n",
        "clf = DecisionTreeClassifier()\n",
        "parametrs = {\n",
        "           'max_depth': range (2,13, 2),\n",
        "           'min_samples_leaf': range (1,8),\n",
        "           'min_samples_split': range (2,10,2) }\n",
        "grid = GridSearchCV(clf, parametrs, cv=5)\n",
        "grid.fit(X_train, y_train)\n",
        "grid.best_params_"
      ]
    },
    {
      "cell_type": "code",
      "execution_count": null,
      "metadata": {
        "scrolled": true,
        "id": "nD-U4JCYxAh5",
        "outputId": "d44c4e79-7622-4f76-fe7e-9e80d0b304d3"
      },
      "outputs": [
        {
          "name": "stdout",
          "output_type": "stream",
          "text": [
            "F1: 0.509\n"
          ]
        }
      ],
      "source": [
        "model = DecisionTreeClassifier(random_state=12345, max_depth=12, min_samples_leaf=1, min_samples_split= 2)\n",
        "model.fit(features_upsampled, target_upsampled)\n",
        "predicted_valid = model.predict(features_valid)\n",
        "f1_DTC_2=  round(f1_score(target_valid, predicted_valid),3)\n",
        "print(\"F1:\",f1_DTC_2)"
      ]
    },
    {
      "cell_type": "markdown",
      "metadata": {
        "id": "x6c69SVbxAh5"
      },
      "source": [
        "<b>2) Логистическая регрессия</b>"
      ]
    },
    {
      "cell_type": "code",
      "execution_count": null,
      "metadata": {
        "id": "ev3EFStWxAh5",
        "outputId": "7af8b013-b327-461e-9821-2f980169331e"
      },
      "outputs": [
        {
          "name": "stdout",
          "output_type": "stream",
          "text": [
            "CPU times: user 1.58 s, sys: 1.76 s, total: 3.34 s\n",
            "Wall time: 3.34 s\n"
          ]
        },
        {
          "data": {
            "text/plain": [
              "{'C': 1, 'penalty': 'l1', 'solver': 'liblinear'}"
            ]
          },
          "execution_count": 38,
          "metadata": {},
          "output_type": "execute_result"
        }
      ],
      "source": [
        "%%time\n",
        "clf = LogisticRegression()\n",
        "parametrs = {\n",
        "             'penalty': ['l1', 'l2'],\n",
        "             'C':range(1, 4, 2),\n",
        "              'solver' : ['liblinear'] }\n",
        "grid = GridSearchCV(clf, parametrs, cv=5)\n",
        "grid.fit(X_train, y_train)\n",
        "grid.best_params_"
      ]
    },
    {
      "cell_type": "code",
      "execution_count": null,
      "metadata": {
        "id": "u-kOnzZHxAh5",
        "outputId": "4766efcf-1820-4070-fc85-fcbc1508c3f5"
      },
      "outputs": [
        {
          "name": "stdout",
          "output_type": "stream",
          "text": [
            "F1: 0.505\n"
          ]
        }
      ],
      "source": [
        "model=LogisticRegression(random_state=12345,C=1, penalty='l1',solver='liblinear',max_iter=1000)\n",
        "model.fit(features_upsampled, target_upsampled)\n",
        "predicted_valid=model.predict(features_valid)\n",
        "f1_LR_2=round(f1_score(target_valid, predicted_valid),3)\n",
        "print(\"F1:\", f1_LR_2)"
      ]
    },
    {
      "cell_type": "markdown",
      "metadata": {
        "id": "ueY4858VxAh6"
      },
      "source": [
        "<b>3) Случайный лес</b>"
      ]
    },
    {
      "cell_type": "code",
      "execution_count": null,
      "metadata": {
        "id": "UDO1sErDxAh6",
        "outputId": "0c4ed28f-aeac-4418-8360-a7983d102c5e"
      },
      "outputs": [
        {
          "name": "stdout",
          "output_type": "stream",
          "text": [
            "CPU times: user 4min 25s, sys: 895 ms, total: 4min 26s\n",
            "Wall time: 4min 27s\n"
          ]
        },
        {
          "data": {
            "text/plain": [
              "{'max_depth': 15,\n",
              " 'min_samples_leaf': 1,\n",
              " 'min_samples_split': 2,\n",
              " 'n_estimators': 30}"
            ]
          },
          "execution_count": 40,
          "metadata": {},
          "output_type": "execute_result"
        }
      ],
      "source": [
        "%%time\n",
        "clf = RandomForestClassifier()\n",
        "parametrs = { 'n_estimators': range (20, 40, 10),\n",
        "              'max_depth': range (1,16, 2),\n",
        "              'min_samples_leaf': range (1,8),\n",
        "              'min_samples_split': range (2,10,2) }\n",
        "grid = GridSearchCV(clf, parametrs, cv=5)\n",
        "grid.fit(X_train, y_train)\n",
        "grid.best_params_"
      ]
    },
    {
      "cell_type": "code",
      "execution_count": null,
      "metadata": {
        "scrolled": true,
        "id": "VF0NAb3HxAh6",
        "outputId": "033d1b59-1752-4c93-bd20-2098be68a58b"
      },
      "outputs": [
        {
          "name": "stdout",
          "output_type": "stream",
          "text": [
            "0.623\n"
          ]
        },
        {
          "data": {
            "image/png": "[encoded data removed]",
            "text/plain": [
              "<Figure size 432x288 with 1 Axes>"
            ]
          },
          "metadata": {
            "needs_background": "light"
          },
          "output_type": "display_data"
        },
        {
          "name": "stdout",
          "output_type": "stream",
          "text": [
            "0.8578441873417815\n"
          ]
        }
      ],
      "source": [
        "model = RandomForestClassifier(random_state=12345, max_depth=15,min_samples_leaf=1, min_samples_split= 2,n_estimators=30)\n",
        "model.fit(features_upsampled,target_upsampled)\n",
        "predicted_valid = model.predict(features_valid)\n",
        "probabilities_valid = model.predict_proba(features_valid)\n",
        "probabilities_one_valid = probabilities_valid[:, 1]\n",
        "f1_RFC_2=round(f1_score(target_valid, predicted_valid),3)\n",
        "print(f1_RFC_2)\n",
        "fpr, tpr, thresholds =roc_curve(target_valid, probabilities_one_valid)\n",
        "#plt.figure()\n",
        "plt.plot(fpr, tpr)\n",
        "plt.plot([0, 1], [0, 1], linestyle='--')\n",
        "plt.xlim([0.0, 1.0])\n",
        "plt.ylim([0.0, 1.0])\n",
        "plt.xlabel('False Positive Rate')\n",
        "plt.ylabel('True Positive Rate')\n",
        "plt.title('ROC-кривая')\n",
        "plt.show()\n",
        "print(roc_auc_score(target_valid, probabilities_one_valid))"
      ]
    },
    {
      "cell_type": "markdown",
      "metadata": {
        "id": "kyKvGl1HxAh6"
      },
      "source": [
        "### Уменьшение выборки"
      ]
    },
    {
      "cell_type": "code",
      "execution_count": null,
      "metadata": {
        "id": "w-6xFoPgxAh7",
        "outputId": "9920bc94-52df-493f-a531-61322442b2eb"
      },
      "outputs": [
        {
          "name": "stdout",
          "output_type": "stream",
          "text": [
            "1    1112\n",
            "0    1086\n",
            "Name: exited, dtype: int64\n"
          ]
        }
      ],
      "source": [
        "def downsample(features, target, fraction):\n",
        "    features_zeros = features[target == 0]\n",
        "    features_ones = features[target == 1]\n",
        "    target_zeros = target[target == 0]\n",
        "    target_ones = target[target == 1]\n",
        "\n",
        "    features_downsampled = pd.concat(\n",
        "        [features_zeros.sample(frac=fraction, random_state=12345)] + [features_ones])\n",
        "    target_downsampled = pd.concat(\n",
        "        [target_zeros.sample(frac=fraction, random_state=12345)] + [target_ones])\n",
        "\n",
        "    features_downsampled, target_downsampled = shuffle(\n",
        "        features_downsampled, target_downsampled, random_state=12345)\n",
        "\n",
        "    return features_downsampled, target_downsampled\n",
        "\n",
        "features_downsampled, target_downsampled = downsample(features_train, target_train, 0.25)\n",
        "print(target_downsampled.value_counts())"
      ]
    },
    {
      "cell_type": "code",
      "execution_count": null,
      "metadata": {
        "id": "vzheafCyxAh7"
      },
      "outputs": [],
      "source": [
        "X_train = features_downsampled\n",
        "y_train = target_downsampled"
      ]
    },
    {
      "cell_type": "markdown",
      "metadata": {
        "id": "Ui9ipR-dxAh7"
      },
      "source": [
        "Подберем гиперпараметры при уменьшении выборки"
      ]
    },
    {
      "cell_type": "markdown",
      "metadata": {
        "id": "meSEGGQrxAh7"
      },
      "source": [
        "<b>1) Обучающее дерево</b>"
      ]
    },
    {
      "cell_type": "code",
      "execution_count": null,
      "metadata": {
        "id": "CArPLLIcxAh7",
        "outputId": "ceaeb3ff-cc31-47a2-bb1e-8a9bef3ac1df"
      },
      "outputs": [
        {
          "name": "stdout",
          "output_type": "stream",
          "text": [
            "CPU times: user 6.3 s, sys: 0 ns, total: 6.3 s\n",
            "Wall time: 6.32 s\n"
          ]
        },
        {
          "data": {
            "text/plain": [
              "{'max_depth': 6, 'min_samples_leaf': 2, 'min_samples_split': 4}"
            ]
          },
          "execution_count": 44,
          "metadata": {},
          "output_type": "execute_result"
        }
      ],
      "source": [
        "%%time\n",
        "clf = DecisionTreeClassifier()\n",
        "parametrs = {\n",
        "           'max_depth': range (2,13, 2),\n",
        "           'min_samples_leaf': range (1,8),\n",
        "           'min_samples_split': range (2,10,2) }\n",
        "grid = GridSearchCV(clf, parametrs, cv=5)\n",
        "grid.fit(X_train, y_train)\n",
        "grid.best_params_"
      ]
    },
    {
      "cell_type": "code",
      "execution_count": null,
      "metadata": {
        "scrolled": true,
        "id": "0Pt3G-C0xAh8",
        "outputId": "0ecf40da-f5be-4ffa-81d9-1baad99768b6"
      },
      "outputs": [
        {
          "name": "stdout",
          "output_type": "stream",
          "text": [
            "F1: 0.52\n"
          ]
        }
      ],
      "source": [
        "model = DecisionTreeClassifier(random_state=12345, max_depth=12, min_samples_leaf=1, min_samples_split= 2)\n",
        "model.fit(features_downsampled, target_downsampled)\n",
        "predicted_valid = model.predict(features_valid)\n",
        "f1_DTC_3=round(f1_score(target_valid, predicted_valid),3)\n",
        "print(\"F1:\", f1_DTC_3)"
      ]
    },
    {
      "cell_type": "markdown",
      "metadata": {
        "id": "z5NVi4yjxAh8"
      },
      "source": [
        "<b>2) Логистическая регрессия</b>"
      ]
    },
    {
      "cell_type": "code",
      "execution_count": null,
      "metadata": {
        "id": "abk95qS4xAh8",
        "outputId": "0d19018d-20ba-4af3-b97b-04b2b9589ee4"
      },
      "outputs": [
        {
          "name": "stdout",
          "output_type": "stream",
          "text": [
            "CPU times: user 149 ms, sys: 0 ns, total: 149 ms\n",
            "Wall time: 157 ms\n"
          ]
        },
        {
          "data": {
            "text/plain": [
              "{'C': 1, 'penalty': 'l2', 'solver': 'liblinear'}"
            ]
          },
          "execution_count": 46,
          "metadata": {},
          "output_type": "execute_result"
        }
      ],
      "source": [
        "%%time\n",
        "clf = LogisticRegression()\n",
        "parametrs = {\n",
        "             'penalty': ['l1', 'l2'],\n",
        "             'C':range(1, 4, 2),\n",
        "              'solver' : ['liblinear'] }\n",
        "grid = GridSearchCV(clf, parametrs, cv=5)\n",
        "grid.fit(X_train, y_train)\n",
        "grid.best_params_"
      ]
    },
    {
      "cell_type": "code",
      "execution_count": null,
      "metadata": {
        "id": "td0WvhmrxAh8",
        "outputId": "bdfd1b78-8f2c-466d-88b3-bf9ca8045ce0"
      },
      "outputs": [
        {
          "name": "stdout",
          "output_type": "stream",
          "text": [
            "F1: 0.512\n"
          ]
        }
      ],
      "source": [
        "model=LogisticRegression(random_state=12345,C=1, penalty='l1',solver='liblinear', max_iter=1000)\n",
        "model.fit(features_downsampled,target_downsampled)\n",
        "predicted_valid=model.predict(features_valid)\n",
        "f1_LR_3=round(f1_score(target_valid, predicted_valid),3)\n",
        "print(\"F1:\", f1_LR_3)"
      ]
    },
    {
      "cell_type": "markdown",
      "metadata": {
        "id": "H4HCjvCqxAh8"
      },
      "source": [
        "<b>3) Случайный лес</b>"
      ]
    },
    {
      "cell_type": "code",
      "execution_count": null,
      "metadata": {
        "id": "S9MrcRURxAh8",
        "outputId": "9ee3d487-8100-46df-a02a-feb0186dcc12"
      },
      "outputs": [
        {
          "name": "stdout",
          "output_type": "stream",
          "text": [
            "CPU times: user 1min 59s, sys: 733 ms, total: 2min\n",
            "Wall time: 2min\n"
          ]
        },
        {
          "data": {
            "text/plain": [
              "{'max_depth': 13,\n",
              " 'min_samples_leaf': 3,\n",
              " 'min_samples_split': 2,\n",
              " 'n_estimators': 30}"
            ]
          },
          "execution_count": 48,
          "metadata": {},
          "output_type": "execute_result"
        }
      ],
      "source": [
        "%%time\n",
        "clf = RandomForestClassifier()\n",
        "parametrs = { 'n_estimators': range (20, 40, 10),\n",
        "              'max_depth': range (1,16, 2),\n",
        "              'min_samples_leaf': range (1,8),\n",
        "              'min_samples_split': range (2,10,2) }\n",
        "grid = GridSearchCV(clf, parametrs, cv=5)\n",
        "grid.fit(X_train, y_train)\n",
        "grid.best_params_"
      ]
    },
    {
      "cell_type": "code",
      "execution_count": null,
      "metadata": {
        "id": "TZRo8PnYxAh9",
        "outputId": "03423cb7-c18b-493a-c660-93d1a14e4e2e"
      },
      "outputs": [
        {
          "name": "stdout",
          "output_type": "stream",
          "text": [
            "F1: 0.606\n"
          ]
        }
      ],
      "source": [
        "model = RandomForestClassifier(random_state=12345, max_depth=13,min_samples_leaf=3, min_samples_split= 2,n_estimators=30)\n",
        "model.fit(features_downsampled,target_downsampled)\n",
        "predicted_valid = model.predict(features_valid)\n",
        "f1_RFC_3=round(f1_score(target_valid, predicted_valid),3)\n",
        "print(\"F1:\",f1_RFC_3)"
      ]
    },
    {
      "cell_type": "code",
      "execution_count": null,
      "metadata": {
        "id": "fdoQRFo6xAh9",
        "outputId": "fdac7256-feb4-4204-9ca5-ab477733d34b"
      },
      "outputs": [
        {
          "name": "stdout",
          "output_type": "stream",
          "text": [
            "Модель                 DTC                     RFC                   LR                     \n",
            "Взвешивание классов    0.587                  0.621                  0.507                  \n",
            "Увеличение выборки     0.509                  0.623                  0.505                  \n",
            "Уменьшение выборки     0.52                   0.606                  0.512                  \n"
          ]
        }
      ],
      "source": [
        "\n",
        "final_table=[['Модель','DTC',' RFC','LR'],['Взвешивание классов',f1_DTC_1,f1_RFC_1,f1_LR_1],\n",
        "             ['Увеличение выборки',f1_DTC_2,f1_RFC_2,f1_LR_2],\n",
        "             ['Уменьшение выборки',f1_DTC_3,f1_RFC_3,f1_LR_3]]\n",
        "for row in final_table:\n",
        "    for col in row:\n",
        "        print(f'{col:<20}', end='   ')\n",
        "    print()"
      ]
    },
    {
      "cell_type": "markdown",
      "metadata": {
        "id": "mnXlluGBxAh9"
      },
      "source": [
        "По результатам работы с дисбалансом можно заключить, что наиболее эффективным способом является <b>увеличение выборки</b>. Наилучший результат показала модель <b>Случайного леса</b>."
      ]
    },
    {
      "cell_type": "markdown",
      "metadata": {
        "id": "sVvdvmL_xAh-"
      },
      "source": [
        " <b>Кривая AUC ROC</b>"
      ]
    },
    {
      "cell_type": "markdown",
      "metadata": {
        "id": "aEAPmCWlxAh-"
      },
      "source": [
        "Оценим качество построенной модели, построив кривую AUC ROC.\n",
        "Площадь под кривой (AUC) является мерой способности классификатора различать классы, поэтому чем будет выше площадь под нашей кривой, тем лучше производительность модели."
      ]
    },
    {
      "cell_type": "code",
      "execution_count": null,
      "metadata": {
        "scrolled": true,
        "id": "4zSyUsQxxAh-",
        "outputId": "4d973063-874b-4a30-e6b2-b6849136c34c"
      },
      "outputs": [
        {
          "data": {
            "image/png": "[encoded data removed]",
            "text/plain": [
              "<Figure size 432x288 with 1 Axes>"
            ]
          },
          "metadata": {
            "needs_background": "light"
          },
          "output_type": "display_data"
        },
        {
          "name": "stdout",
          "output_type": "stream",
          "text": [
            "0.8739840957311065\n"
          ]
        }
      ],
      "source": [
        "model = RandomForestClassifier(random_state=12345, max_depth=15,min_samples_leaf=5, min_samples_split= 2,n_estimators=30)\n",
        "model.fit(features_downsampled,target_downsampled)\n",
        "predicted_valid = model.predict(features_valid)\n",
        "probabilities_valid = model.predict_proba(features_valid)\n",
        "probabilities_one_valid = probabilities_valid[:, 1]\n",
        "\n",
        "fpr, tpr, thresholds =roc_curve(target_valid, probabilities_one_valid)\n",
        "#plt.figure()\n",
        "plt.plot(fpr, tpr)\n",
        "plt.plot([0, 1], [0, 1], linestyle='--')\n",
        "plt.xlim([0.0, 1.0])\n",
        "plt.ylim([0.0, 1.0])\n",
        "plt.xlabel('False Positive Rate')\n",
        "plt.ylabel('True Positive Rate')\n",
        "plt.title('ROC-кривая')\n",
        "plt.show()\n",
        "print(roc_auc_score(target_valid, probabilities_one_valid))"
      ]
    },
    {
      "cell_type": "markdown",
      "metadata": {
        "id": "pCciezPKxAh-"
      },
      "source": [
        "Значение 0,87 показывает нам, что высока вероятность, что классификатор сможет различить положительные и отрицательных значения класса."
      ]
    },
    {
      "cell_type": "markdown",
      "metadata": {
        "id": "QZn4QWFbxAh_"
      },
      "source": [
        "## Тестирование модели"
      ]
    },
    {
      "cell_type": "markdown",
      "metadata": {
        "id": "9ngxdFpKxAh_"
      },
      "source": [
        "Поскольку чем больше данных, тем лучше модель может обучиться, обучим модель с выбранными гиперпараметрами на тренировочной + валидационной выборке. И эту дообученную модель проверим на тесте."
      ]
    },
    {
      "cell_type": "code",
      "execution_count": null,
      "metadata": {
        "id": "SUM0tM-mxAh_",
        "outputId": "ced5784e-6915-43e3-eac0-fa0dc803dbcd"
      },
      "outputs": [
        {
          "name": "stdout",
          "output_type": "stream",
          "text": [
            "F1: 0.604\n"
          ]
        }
      ],
      "source": [
        "features_train_valid = pd.concat([features_train, features_valid])\n",
        "target_train_valid = pd.concat([target_train, target_valid])\n",
        "features_upsampled, target_upsampled = upsample(features_train_valid,target_train_valid, 4) #воспользуемся ранее описанной функцией\n",
        "\n",
        "model = RandomForestClassifier(random_state=12345, max_depth=15,min_samples_leaf=5, min_samples_split= 2,n_estimators=30)\n",
        "model.fit(features_upsampled, target_upsampled)\n",
        "predicted_test = model.predict(features_test)\n",
        "f1=round(f1_score(target_test, predicted_test),3)\n",
        "print(\"F1:\",f1)"
      ]
    },
    {
      "cell_type": "markdown",
      "metadata": {
        "id": "AEYLTn2bxAh_"
      },
      "source": [
        "На тестовой выборке модель показала значение f1-меры более 0,60, что соответствует поставленной задаче."
      ]
    },
    {
      "cell_type": "markdown",
      "metadata": {
        "id": "XBRXxpKoxAh_"
      },
      "source": [
        "<p><em><b>Итоговый вывод:</b></em></p>\n",
        "<ul>\n",
        " <li>предварительно были изучены и подготовлены данные для дальнейшей работы по анализу ситуации с оттоком клиентов из банка;</li>\n",
        " <li>были обработаны данные на предмет наличия пропусков, изменены типы данных, там где это целесообразно;</li>\n",
        " <li>дана характеристика клиентам банка по заданным признакам;</li>\n",
        "  <li>были удалены несущественные относительно задач исследования признаки;</li>\n",
        "     <li>раделен датасет на тренировочную, валидационную и тестовую выборки;</li>\n",
        "     <li>произведена стандартизация численных признаков выборок;</li>\n",
        "     <li>изучили модели без учета дисбаланса, при этом случайный лес показал неплохой результат: f1=0,606 и roc_auc=0,879; </li>\n",
        "     <li>при учете параметра взвешивания классов лучший результат был по прежнему у случайного леса -  f1=0,621;</li>\n",
        "     <li>при увеличении выборки у случайного леса метрики незначительно повысились: f1=0,623, это самый лучший показатель;</li>\n",
        "     <li>при уменьшении случайный лес показал снижение f1=0,59 и roc_auc=0,874;</li>\n",
        "    <li>На тестовой выборке модель случайного леса показала значение f1-меры более 0,60, что соответствует поставленной задаче.</li>"
      ]
    },
    {
      "cell_type": "code",
      "execution_count": null,
      "metadata": {
        "id": "6x-QYAzTxAiC"
      },
      "outputs": [],
      "source": []
    }
  ],
  "metadata": {
    "ExecuteTimeLog": [
      {
        "duration": 1091,
        "start_time": "2022-11-19T13:30:17.449Z"
      },
      {
        "duration": 177,
        "start_time": "2022-11-19T13:30:18.542Z"
      },
      {
        "duration": 90,
        "start_time": "2022-11-19T13:32:10.549Z"
      },
      {
        "duration": 18,
        "start_time": "2022-11-19T13:32:29.755Z"
      },
      {
        "duration": 2,
        "start_time": "2022-11-19T14:10:36.441Z"
      },
      {
        "duration": 54,
        "start_time": "2022-11-19T14:10:37.794Z"
      },
      {
        "duration": 7,
        "start_time": "2022-11-19T14:10:43.110Z"
      },
      {
        "duration": 8,
        "start_time": "2022-11-19T15:10:14.435Z"
      },
      {
        "duration": 15,
        "start_time": "2022-11-19T15:10:23.883Z"
      },
      {
        "duration": 456,
        "start_time": "2022-11-19T15:14:54.926Z"
      },
      {
        "duration": 1195,
        "start_time": "2022-11-19T15:16:10.508Z"
      },
      {
        "duration": 13,
        "start_time": "2022-11-19T15:16:19.946Z"
      },
      {
        "duration": 11,
        "start_time": "2022-11-19T15:16:40.006Z"
      },
      {
        "duration": 16,
        "start_time": "2022-11-19T15:16:53.925Z"
      },
      {
        "duration": 11,
        "start_time": "2022-11-19T15:21:04.984Z"
      },
      {
        "duration": 8,
        "start_time": "2022-11-19T15:21:22.460Z"
      },
      {
        "duration": 18,
        "start_time": "2022-11-19T15:23:02.494Z"
      },
      {
        "duration": 17,
        "start_time": "2022-11-19T15:23:07.541Z"
      },
      {
        "duration": 14,
        "start_time": "2022-11-19T15:23:41.310Z"
      },
      {
        "duration": 1086,
        "start_time": "2022-11-19T15:23:55.723Z"
      },
      {
        "duration": 54,
        "start_time": "2022-11-19T15:23:56.811Z"
      },
      {
        "duration": 19,
        "start_time": "2022-11-19T15:23:56.866Z"
      },
      {
        "duration": 309,
        "start_time": "2022-11-19T15:23:56.887Z"
      },
      {
        "duration": 6,
        "start_time": "2022-11-19T15:23:57.197Z"
      },
      {
        "duration": 3,
        "start_time": "2022-11-19T15:24:05.461Z"
      },
      {
        "duration": 52,
        "start_time": "2022-11-19T15:24:05.951Z"
      },
      {
        "duration": 15,
        "start_time": "2022-11-19T15:24:08.024Z"
      },
      {
        "duration": 13,
        "start_time": "2022-11-19T15:24:09.455Z"
      },
      {
        "duration": 6,
        "start_time": "2022-11-19T15:24:10.880Z"
      },
      {
        "duration": 99,
        "start_time": "2022-11-19T15:33:41.447Z"
      },
      {
        "duration": 5,
        "start_time": "2022-11-19T15:34:01.090Z"
      },
      {
        "duration": 6,
        "start_time": "2022-11-19T15:34:05.101Z"
      },
      {
        "duration": 5,
        "start_time": "2022-11-19T15:34:05.623Z"
      },
      {
        "duration": 6,
        "start_time": "2022-11-19T15:34:32.837Z"
      },
      {
        "duration": 11,
        "start_time": "2022-11-19T15:40:18.991Z"
      },
      {
        "duration": 5,
        "start_time": "2022-11-19T15:42:39.059Z"
      },
      {
        "duration": 10,
        "start_time": "2022-11-19T15:49:07.778Z"
      },
      {
        "duration": 8,
        "start_time": "2022-11-19T15:49:15.193Z"
      },
      {
        "duration": 11,
        "start_time": "2022-11-19T15:49:35.528Z"
      },
      {
        "duration": 9,
        "start_time": "2022-11-19T15:50:21.936Z"
      },
      {
        "duration": 12,
        "start_time": "2022-11-19T15:50:33.547Z"
      },
      {
        "duration": 7,
        "start_time": "2022-11-19T15:52:07.472Z"
      },
      {
        "duration": 6,
        "start_time": "2022-11-19T15:52:19.041Z"
      },
      {
        "duration": 6,
        "start_time": "2022-11-19T15:52:36.123Z"
      },
      {
        "duration": 12,
        "start_time": "2022-11-19T15:53:49.808Z"
      },
      {
        "duration": 6,
        "start_time": "2022-11-19T15:53:50.398Z"
      },
      {
        "duration": 5,
        "start_time": "2022-11-19T15:53:51.139Z"
      },
      {
        "duration": 8,
        "start_time": "2022-11-19T15:54:37.132Z"
      },
      {
        "duration": 12,
        "start_time": "2022-11-19T15:54:39.366Z"
      },
      {
        "duration": 6,
        "start_time": "2022-11-19T15:54:40.023Z"
      },
      {
        "duration": 6,
        "start_time": "2022-11-19T15:54:40.937Z"
      },
      {
        "duration": 7,
        "start_time": "2022-11-19T15:57:07.790Z"
      },
      {
        "duration": 13,
        "start_time": "2022-11-19T15:57:11.348Z"
      },
      {
        "duration": 8,
        "start_time": "2022-11-19T15:57:13.946Z"
      },
      {
        "duration": 6,
        "start_time": "2022-11-19T15:57:17.083Z"
      },
      {
        "duration": 10,
        "start_time": "2022-11-19T15:58:58.621Z"
      },
      {
        "duration": 3,
        "start_time": "2022-11-19T15:59:09.809Z"
      },
      {
        "duration": 50,
        "start_time": "2022-11-19T15:59:10.423Z"
      },
      {
        "duration": 14,
        "start_time": "2022-11-19T15:59:12.061Z"
      },
      {
        "duration": 13,
        "start_time": "2022-11-19T15:59:13.398Z"
      },
      {
        "duration": 4,
        "start_time": "2022-11-19T15:59:14.699Z"
      },
      {
        "duration": 10,
        "start_time": "2022-11-19T15:59:15.436Z"
      },
      {
        "duration": 13,
        "start_time": "2022-11-19T15:59:16.280Z"
      },
      {
        "duration": 7,
        "start_time": "2022-11-19T15:59:16.965Z"
      },
      {
        "duration": 6,
        "start_time": "2022-11-19T15:59:18.007Z"
      },
      {
        "duration": 160,
        "start_time": "2022-11-19T15:59:19.067Z"
      },
      {
        "duration": 138,
        "start_time": "2022-11-19T16:01:15.389Z"
      },
      {
        "duration": 7,
        "start_time": "2022-11-19T16:02:10.254Z"
      },
      {
        "duration": 12,
        "start_time": "2022-11-19T16:02:12.075Z"
      },
      {
        "duration": 6,
        "start_time": "2022-11-19T16:02:15.683Z"
      },
      {
        "duration": 9,
        "start_time": "2022-11-19T16:02:22.392Z"
      },
      {
        "duration": 119,
        "start_time": "2022-11-19T16:03:32.993Z"
      },
      {
        "duration": 86,
        "start_time": "2022-11-19T16:07:26.256Z"
      },
      {
        "duration": 154,
        "start_time": "2022-11-19T16:08:10.267Z"
      },
      {
        "duration": 6,
        "start_time": "2022-11-19T16:17:45.014Z"
      },
      {
        "duration": 84,
        "start_time": "2022-11-19T16:18:47.720Z"
      },
      {
        "duration": 2406,
        "start_time": "2022-11-19T16:20:04.136Z"
      },
      {
        "duration": 5,
        "start_time": "2022-11-19T16:20:16.274Z"
      },
      {
        "duration": 7,
        "start_time": "2022-11-19T16:26:35.688Z"
      },
      {
        "duration": 4,
        "start_time": "2022-11-19T16:26:37.443Z"
      },
      {
        "duration": 12,
        "start_time": "2022-11-19T16:27:52.275Z"
      },
      {
        "duration": 1157,
        "start_time": "2022-11-19T16:32:55.194Z"
      },
      {
        "duration": 7,
        "start_time": "2022-11-19T16:33:15.021Z"
      },
      {
        "duration": 5,
        "start_time": "2022-11-19T16:33:20.526Z"
      },
      {
        "duration": 156,
        "start_time": "2022-11-19T16:40:48.067Z"
      },
      {
        "duration": 17,
        "start_time": "2022-11-19T16:46:07.678Z"
      },
      {
        "duration": 13,
        "start_time": "2022-11-19T16:47:29.147Z"
      },
      {
        "duration": 9,
        "start_time": "2022-11-19T16:47:39.072Z"
      },
      {
        "duration": 14,
        "start_time": "2022-11-19T16:50:10.861Z"
      },
      {
        "duration": 20,
        "start_time": "2022-11-19T16:50:46.414Z"
      },
      {
        "duration": 6,
        "start_time": "2022-11-19T16:51:17.309Z"
      },
      {
        "duration": 159,
        "start_time": "2022-11-19T16:54:02.345Z"
      },
      {
        "duration": 298,
        "start_time": "2022-11-19T16:54:14.183Z"
      },
      {
        "duration": 1361,
        "start_time": "2022-11-20T14:21:27.821Z"
      },
      {
        "duration": 99,
        "start_time": "2022-11-20T14:21:29.185Z"
      },
      {
        "duration": 15,
        "start_time": "2022-11-20T14:21:29.285Z"
      },
      {
        "duration": 72,
        "start_time": "2022-11-20T14:21:29.302Z"
      },
      {
        "duration": 6,
        "start_time": "2022-11-20T14:21:29.376Z"
      },
      {
        "duration": 33,
        "start_time": "2022-11-20T14:21:29.383Z"
      },
      {
        "duration": 41,
        "start_time": "2022-11-20T14:21:29.417Z"
      },
      {
        "duration": 31,
        "start_time": "2022-11-20T14:21:29.459Z"
      },
      {
        "duration": 31,
        "start_time": "2022-11-20T14:21:29.492Z"
      },
      {
        "duration": 120,
        "start_time": "2022-11-20T14:21:29.525Z"
      },
      {
        "duration": 7,
        "start_time": "2022-11-20T14:21:29.646Z"
      },
      {
        "duration": 133,
        "start_time": "2022-11-20T14:21:29.654Z"
      },
      {
        "duration": 12,
        "start_time": "2022-11-20T14:21:29.788Z"
      },
      {
        "duration": 114,
        "start_time": "2022-11-20T14:21:29.801Z"
      },
      {
        "duration": 177,
        "start_time": "2022-11-20T14:21:29.916Z"
      },
      {
        "duration": 15,
        "start_time": "2022-11-20T14:21:30.095Z"
      },
      {
        "duration": 2,
        "start_time": "2022-11-20T14:21:57.282Z"
      },
      {
        "duration": 55,
        "start_time": "2022-11-20T14:21:57.895Z"
      },
      {
        "duration": 17,
        "start_time": "2022-11-20T14:22:00.082Z"
      },
      {
        "duration": 14,
        "start_time": "2022-11-20T14:22:01.581Z"
      },
      {
        "duration": 6,
        "start_time": "2022-11-20T14:22:04.024Z"
      },
      {
        "duration": 4,
        "start_time": "2022-11-20T14:22:04.032Z"
      },
      {
        "duration": 8,
        "start_time": "2022-11-20T14:22:04.823Z"
      },
      {
        "duration": 73,
        "start_time": "2022-11-20T14:22:05.706Z"
      },
      {
        "duration": 6,
        "start_time": "2022-11-20T14:22:06.455Z"
      },
      {
        "duration": 76,
        "start_time": "2022-11-20T14:22:07.039Z"
      },
      {
        "duration": 7,
        "start_time": "2022-11-20T14:22:07.637Z"
      },
      {
        "duration": 123,
        "start_time": "2022-11-20T14:22:08.379Z"
      },
      {
        "duration": 6,
        "start_time": "2022-11-20T14:22:08.994Z"
      },
      {
        "duration": 81,
        "start_time": "2022-11-20T14:22:09.610Z"
      },
      {
        "duration": 150,
        "start_time": "2022-11-20T14:22:10.517Z"
      },
      {
        "duration": 13,
        "start_time": "2022-11-20T14:22:15.640Z"
      },
      {
        "duration": 112,
        "start_time": "2022-11-20T14:22:45.953Z"
      },
      {
        "duration": 12,
        "start_time": "2022-11-20T14:23:04.616Z"
      },
      {
        "duration": 14,
        "start_time": "2022-11-20T14:23:55.426Z"
      },
      {
        "duration": 13,
        "start_time": "2022-11-20T14:24:10.041Z"
      },
      {
        "duration": 158,
        "start_time": "2022-11-20T14:24:27.782Z"
      },
      {
        "duration": 13,
        "start_time": "2022-11-20T14:24:31.128Z"
      },
      {
        "duration": 12,
        "start_time": "2022-11-20T14:24:59.344Z"
      },
      {
        "duration": 1258,
        "start_time": "2022-11-20T14:25:19.726Z"
      },
      {
        "duration": 56,
        "start_time": "2022-11-20T14:25:20.986Z"
      },
      {
        "duration": 16,
        "start_time": "2022-11-20T14:25:21.043Z"
      },
      {
        "duration": 58,
        "start_time": "2022-11-20T14:25:21.061Z"
      },
      {
        "duration": 7,
        "start_time": "2022-11-20T14:25:21.120Z"
      },
      {
        "duration": 20,
        "start_time": "2022-11-20T14:25:21.128Z"
      },
      {
        "duration": 42,
        "start_time": "2022-11-20T14:25:21.149Z"
      },
      {
        "duration": 49,
        "start_time": "2022-11-20T14:25:21.192Z"
      },
      {
        "duration": 25,
        "start_time": "2022-11-20T14:25:21.243Z"
      },
      {
        "duration": 109,
        "start_time": "2022-11-20T14:25:21.270Z"
      },
      {
        "duration": 19,
        "start_time": "2022-11-20T14:25:21.381Z"
      },
      {
        "duration": 130,
        "start_time": "2022-11-20T14:25:21.402Z"
      },
      {
        "duration": 6,
        "start_time": "2022-11-20T14:25:21.534Z"
      },
      {
        "duration": 98,
        "start_time": "2022-11-20T14:25:21.541Z"
      },
      {
        "duration": 162,
        "start_time": "2022-11-20T14:25:21.640Z"
      },
      {
        "duration": 5,
        "start_time": "2022-11-20T14:25:21.803Z"
      },
      {
        "duration": 12,
        "start_time": "2022-11-20T14:25:53.167Z"
      },
      {
        "duration": 1476,
        "start_time": "2022-11-20T18:45:09.963Z"
      },
      {
        "duration": 181,
        "start_time": "2022-11-20T18:45:11.441Z"
      },
      {
        "duration": 23,
        "start_time": "2022-11-20T18:45:11.624Z"
      },
      {
        "duration": 91,
        "start_time": "2022-11-20T18:45:11.650Z"
      },
      {
        "duration": 7,
        "start_time": "2022-11-20T18:45:11.742Z"
      },
      {
        "duration": 17,
        "start_time": "2022-11-20T18:45:11.751Z"
      },
      {
        "duration": 20,
        "start_time": "2022-11-20T18:45:11.769Z"
      },
      {
        "duration": 25,
        "start_time": "2022-11-20T18:45:11.792Z"
      },
      {
        "duration": 26,
        "start_time": "2022-11-20T18:45:11.818Z"
      },
      {
        "duration": 105,
        "start_time": "2022-11-20T18:45:11.847Z"
      },
      {
        "duration": 8,
        "start_time": "2022-11-20T18:45:11.954Z"
      },
      {
        "duration": 137,
        "start_time": "2022-11-20T18:45:11.963Z"
      },
      {
        "duration": 6,
        "start_time": "2022-11-20T18:45:12.102Z"
      },
      {
        "duration": 107,
        "start_time": "2022-11-20T18:45:12.109Z"
      },
      {
        "duration": 165,
        "start_time": "2022-11-20T18:45:12.218Z"
      },
      {
        "duration": 5,
        "start_time": "2022-11-20T18:45:12.385Z"
      },
      {
        "duration": 14,
        "start_time": "2022-11-20T18:45:12.392Z"
      },
      {
        "duration": 21,
        "start_time": "2022-11-20T19:01:15.931Z"
      },
      {
        "duration": 6,
        "start_time": "2022-11-20T19:04:30.970Z"
      },
      {
        "duration": 155,
        "start_time": "2022-11-20T19:04:54.619Z"
      },
      {
        "duration": 6,
        "start_time": "2022-11-20T19:06:03.644Z"
      },
      {
        "duration": 118,
        "start_time": "2022-11-20T19:06:17.058Z"
      },
      {
        "duration": 103,
        "start_time": "2022-11-20T19:06:49.631Z"
      },
      {
        "duration": 6,
        "start_time": "2022-11-20T19:06:58.061Z"
      },
      {
        "duration": 5,
        "start_time": "2022-11-20T19:07:21.110Z"
      },
      {
        "duration": 94,
        "start_time": "2022-11-20T19:07:25.296Z"
      },
      {
        "duration": 11,
        "start_time": "2022-11-20T19:12:19.517Z"
      },
      {
        "duration": 17,
        "start_time": "2022-11-20T19:12:47.360Z"
      },
      {
        "duration": 169,
        "start_time": "2022-11-20T19:14:39.921Z"
      },
      {
        "duration": 166,
        "start_time": "2022-11-20T19:18:05.925Z"
      },
      {
        "duration": 8,
        "start_time": "2022-11-20T19:48:53.908Z"
      },
      {
        "duration": 56,
        "start_time": "2022-11-20T19:49:03.836Z"
      },
      {
        "duration": 390,
        "start_time": "2022-11-20T19:49:12.024Z"
      },
      {
        "duration": 374,
        "start_time": "2022-11-20T19:51:09.522Z"
      },
      {
        "duration": 20,
        "start_time": "2022-11-20T19:56:20.821Z"
      },
      {
        "duration": 12,
        "start_time": "2022-11-20T20:03:26.917Z"
      },
      {
        "duration": 9,
        "start_time": "2022-11-20T20:05:06.233Z"
      },
      {
        "duration": 21,
        "start_time": "2022-11-20T20:05:50.027Z"
      },
      {
        "duration": 10,
        "start_time": "2022-11-20T20:06:09.652Z"
      },
      {
        "duration": 7,
        "start_time": "2022-11-20T20:54:10.394Z"
      },
      {
        "duration": 1705,
        "start_time": "2022-11-21T13:38:33.461Z"
      },
      {
        "duration": 168,
        "start_time": "2022-11-21T13:38:35.168Z"
      },
      {
        "duration": 17,
        "start_time": "2022-11-21T13:38:35.338Z"
      },
      {
        "duration": 53,
        "start_time": "2022-11-21T13:38:35.357Z"
      },
      {
        "duration": 7,
        "start_time": "2022-11-21T13:38:35.412Z"
      },
      {
        "duration": 8,
        "start_time": "2022-11-21T13:38:35.420Z"
      },
      {
        "duration": 9,
        "start_time": "2022-11-21T13:38:35.429Z"
      },
      {
        "duration": 15,
        "start_time": "2022-11-21T13:38:35.440Z"
      },
      {
        "duration": 21,
        "start_time": "2022-11-21T13:38:35.457Z"
      },
      {
        "duration": 103,
        "start_time": "2022-11-21T13:38:35.481Z"
      },
      {
        "duration": 6,
        "start_time": "2022-11-21T13:38:35.586Z"
      },
      {
        "duration": 164,
        "start_time": "2022-11-21T13:38:35.593Z"
      },
      {
        "duration": 18,
        "start_time": "2022-11-21T13:38:35.760Z"
      },
      {
        "duration": 109,
        "start_time": "2022-11-21T13:38:35.779Z"
      },
      {
        "duration": 275,
        "start_time": "2022-11-21T13:38:35.890Z"
      },
      {
        "duration": 437,
        "start_time": "2022-11-21T13:38:36.167Z"
      },
      {
        "duration": 4,
        "start_time": "2022-11-21T13:38:36.606Z"
      },
      {
        "duration": 15,
        "start_time": "2022-11-21T13:38:36.612Z"
      },
      {
        "duration": 28,
        "start_time": "2022-11-21T13:38:36.628Z"
      },
      {
        "duration": 27,
        "start_time": "2022-11-21T13:38:36.658Z"
      },
      {
        "duration": 6,
        "start_time": "2022-11-21T13:38:36.687Z"
      },
      {
        "duration": 1540,
        "start_time": "2022-11-21T17:21:42.147Z"
      },
      {
        "duration": 193,
        "start_time": "2022-11-21T17:21:43.689Z"
      },
      {
        "duration": 15,
        "start_time": "2022-11-21T17:21:53.944Z"
      },
      {
        "duration": 63,
        "start_time": "2022-11-21T17:21:56.308Z"
      },
      {
        "duration": 7,
        "start_time": "2022-11-21T17:21:58.170Z"
      },
      {
        "duration": 4,
        "start_time": "2022-11-21T17:21:58.943Z"
      },
      {
        "duration": 9,
        "start_time": "2022-11-21T17:22:00.049Z"
      },
      {
        "duration": 19,
        "start_time": "2022-11-21T17:22:00.818Z"
      },
      {
        "duration": 8,
        "start_time": "2022-11-21T17:22:05.459Z"
      },
      {
        "duration": 101,
        "start_time": "2022-11-21T17:22:06.806Z"
      },
      {
        "duration": 6,
        "start_time": "2022-11-21T17:22:08.070Z"
      },
      {
        "duration": 203,
        "start_time": "2022-11-21T17:22:08.985Z"
      },
      {
        "duration": 7,
        "start_time": "2022-11-21T17:22:30.267Z"
      },
      {
        "duration": 139,
        "start_time": "2022-11-21T17:22:31.480Z"
      },
      {
        "duration": 195,
        "start_time": "2022-11-21T17:23:00.248Z"
      },
      {
        "duration": 9,
        "start_time": "2022-11-21T17:23:15.200Z"
      },
      {
        "duration": 120,
        "start_time": "2022-11-21T17:23:16.433Z"
      },
      {
        "duration": 205,
        "start_time": "2022-11-21T17:23:17.962Z"
      },
      {
        "duration": 179,
        "start_time": "2022-11-21T17:24:41.737Z"
      },
      {
        "duration": 6,
        "start_time": "2022-11-21T17:24:47.451Z"
      },
      {
        "duration": 117,
        "start_time": "2022-11-21T17:24:57.192Z"
      },
      {
        "duration": 3,
        "start_time": "2022-11-21T17:30:24.711Z"
      },
      {
        "duration": 15,
        "start_time": "2022-11-21T17:39:52.950Z"
      },
      {
        "duration": 83,
        "start_time": "2022-11-21T17:47:57.574Z"
      },
      {
        "duration": 10,
        "start_time": "2022-11-21T17:48:10.244Z"
      },
      {
        "duration": 103,
        "start_time": "2022-11-21T17:48:32.360Z"
      },
      {
        "duration": 29,
        "start_time": "2022-11-21T17:48:54.057Z"
      },
      {
        "duration": 110,
        "start_time": "2022-11-21T17:49:46.646Z"
      },
      {
        "duration": 35,
        "start_time": "2022-11-21T17:50:10.225Z"
      },
      {
        "duration": 26,
        "start_time": "2022-11-21T17:59:12.539Z"
      },
      {
        "duration": 89,
        "start_time": "2022-11-21T18:04:34.937Z"
      },
      {
        "duration": 32,
        "start_time": "2022-11-21T18:20:27.034Z"
      },
      {
        "duration": 3,
        "start_time": "2022-11-21T18:20:45.312Z"
      },
      {
        "duration": 18,
        "start_time": "2022-11-21T18:20:57.383Z"
      },
      {
        "duration": 57,
        "start_time": "2022-11-21T18:25:12.501Z"
      },
      {
        "duration": 125,
        "start_time": "2022-11-21T18:25:39.891Z"
      },
      {
        "duration": 29,
        "start_time": "2022-11-21T18:25:48.494Z"
      },
      {
        "duration": 108,
        "start_time": "2022-11-21T18:37:07.442Z"
      },
      {
        "duration": 230,
        "start_time": "2022-11-21T18:49:05.973Z"
      },
      {
        "duration": 5,
        "start_time": "2022-11-21T18:49:37.569Z"
      },
      {
        "duration": 6788,
        "start_time": "2022-11-21T18:49:44.316Z"
      },
      {
        "duration": 6952,
        "start_time": "2022-11-21T19:11:01.452Z"
      },
      {
        "duration": 6813,
        "start_time": "2022-11-21T19:11:23.420Z"
      },
      {
        "duration": 6834,
        "start_time": "2022-11-21T19:12:00.640Z"
      },
      {
        "duration": 6958,
        "start_time": "2022-11-21T19:12:14.408Z"
      },
      {
        "duration": 6920,
        "start_time": "2022-11-21T19:12:59.942Z"
      },
      {
        "duration": 6768,
        "start_time": "2022-11-21T19:13:17.544Z"
      },
      {
        "duration": 6348,
        "start_time": "2022-11-21T19:14:18.853Z"
      },
      {
        "duration": 6596,
        "start_time": "2022-11-21T19:14:35.352Z"
      },
      {
        "duration": 6483,
        "start_time": "2022-11-21T19:14:50.142Z"
      },
      {
        "duration": 6508,
        "start_time": "2022-11-21T19:15:17.771Z"
      },
      {
        "duration": 6707,
        "start_time": "2022-11-21T19:15:39.595Z"
      },
      {
        "duration": 8718,
        "start_time": "2022-11-21T19:15:59.441Z"
      },
      {
        "duration": 10952,
        "start_time": "2022-11-21T19:16:55.079Z"
      },
      {
        "duration": 90,
        "start_time": "2022-11-21T19:25:31.084Z"
      },
      {
        "duration": 6,
        "start_time": "2022-11-21T19:26:01.144Z"
      },
      {
        "duration": 12157,
        "start_time": "2022-11-21T19:26:07.054Z"
      },
      {
        "duration": 11885,
        "start_time": "2022-11-21T19:26:52.463Z"
      },
      {
        "duration": 17,
        "start_time": "2022-11-21T19:29:30.416Z"
      },
      {
        "duration": 16,
        "start_time": "2022-11-21T19:30:18.407Z"
      },
      {
        "duration": 32362,
        "start_time": "2022-11-21T19:31:48.985Z"
      },
      {
        "duration": 86601,
        "start_time": "2022-11-21T19:32:37.217Z"
      },
      {
        "duration": 24886,
        "start_time": "2022-11-21T19:35:21.938Z"
      },
      {
        "duration": 45695,
        "start_time": "2022-11-21T19:38:17.746Z"
      },
      {
        "duration": 19152,
        "start_time": "2022-11-21T19:40:06.066Z"
      },
      {
        "duration": 255849,
        "start_time": "2022-11-21T19:40:35.569Z"
      },
      {
        "duration": 25382,
        "start_time": "2022-11-21T19:45:57.383Z"
      },
      {
        "duration": 6404,
        "start_time": "2022-11-21T19:46:49.448Z"
      },
      {
        "duration": 8134,
        "start_time": "2022-11-21T19:47:04.465Z"
      },
      {
        "duration": 25245,
        "start_time": "2022-11-21T19:47:15.958Z"
      },
      {
        "duration": 93,
        "start_time": "2022-11-21T19:55:43.831Z"
      },
      {
        "duration": 74,
        "start_time": "2022-11-21T19:56:22.663Z"
      },
      {
        "duration": 387,
        "start_time": "2022-11-21T19:56:40.444Z"
      },
      {
        "duration": 358,
        "start_time": "2022-11-21T19:56:59.178Z"
      },
      {
        "duration": 389,
        "start_time": "2022-11-21T19:58:19.244Z"
      },
      {
        "duration": 1351,
        "start_time": "2022-11-21T20:00:23.985Z"
      },
      {
        "duration": 56,
        "start_time": "2022-11-21T20:00:25.341Z"
      },
      {
        "duration": 16,
        "start_time": "2022-11-21T20:00:25.399Z"
      },
      {
        "duration": 54,
        "start_time": "2022-11-21T20:00:25.417Z"
      },
      {
        "duration": 8,
        "start_time": "2022-11-21T20:00:25.473Z"
      },
      {
        "duration": 13,
        "start_time": "2022-11-21T20:00:25.482Z"
      },
      {
        "duration": 10,
        "start_time": "2022-11-21T20:00:25.497Z"
      },
      {
        "duration": 20,
        "start_time": "2022-11-21T20:00:25.509Z"
      },
      {
        "duration": 12,
        "start_time": "2022-11-21T20:00:25.531Z"
      },
      {
        "duration": 105,
        "start_time": "2022-11-21T20:00:25.545Z"
      },
      {
        "duration": 6,
        "start_time": "2022-11-21T20:00:25.651Z"
      },
      {
        "duration": 127,
        "start_time": "2022-11-21T20:00:25.659Z"
      },
      {
        "duration": 7,
        "start_time": "2022-11-21T20:00:25.788Z"
      },
      {
        "duration": 153,
        "start_time": "2022-11-21T20:00:25.797Z"
      },
      {
        "duration": 306,
        "start_time": "2022-11-21T20:00:25.953Z"
      },
      {
        "duration": 380,
        "start_time": "2022-11-21T20:00:26.260Z"
      },
      {
        "duration": 4,
        "start_time": "2022-11-21T20:00:26.641Z"
      },
      {
        "duration": 15,
        "start_time": "2022-11-21T20:00:26.646Z"
      },
      {
        "duration": 17,
        "start_time": "2022-11-21T20:00:26.663Z"
      },
      {
        "duration": 4,
        "start_time": "2022-11-21T20:00:26.682Z"
      },
      {
        "duration": 16,
        "start_time": "2022-11-21T20:00:26.688Z"
      },
      {
        "duration": 44,
        "start_time": "2022-11-21T20:00:26.706Z"
      },
      {
        "duration": 117,
        "start_time": "2022-11-21T20:00:26.752Z"
      },
      {
        "duration": 679,
        "start_time": "2022-11-21T20:00:26.870Z"
      },
      {
        "duration": 2662,
        "start_time": "2022-11-21T20:00:27.551Z"
      },
      {
        "duration": 116,
        "start_time": "2022-11-21T20:00:30.215Z"
      },
      {
        "duration": 11,
        "start_time": "2022-11-21T20:00:34.223Z"
      },
      {
        "duration": 50,
        "start_time": "2022-11-21T20:00:34.948Z"
      },
      {
        "duration": 20,
        "start_time": "2022-11-21T20:00:36.838Z"
      },
      {
        "duration": 13,
        "start_time": "2022-11-21T20:00:38.182Z"
      },
      {
        "duration": 6,
        "start_time": "2022-11-21T20:00:39.464Z"
      },
      {
        "duration": 4,
        "start_time": "2022-11-21T20:00:40.082Z"
      },
      {
        "duration": 8,
        "start_time": "2022-11-21T20:00:40.917Z"
      },
      {
        "duration": 15,
        "start_time": "2022-11-21T20:00:41.640Z"
      },
      {
        "duration": 7,
        "start_time": "2022-11-21T20:00:42.267Z"
      },
      {
        "duration": 88,
        "start_time": "2022-11-21T20:00:42.959Z"
      },
      {
        "duration": 6,
        "start_time": "2022-11-21T20:00:43.616Z"
      },
      {
        "duration": 128,
        "start_time": "2022-11-21T20:00:44.239Z"
      },
      {
        "duration": 6,
        "start_time": "2022-11-21T20:00:44.970Z"
      },
      {
        "duration": 133,
        "start_time": "2022-11-21T20:00:45.598Z"
      },
      {
        "duration": 212,
        "start_time": "2022-11-21T20:00:46.303Z"
      },
      {
        "duration": 403,
        "start_time": "2022-11-21T20:00:47.268Z"
      },
      {
        "duration": 5,
        "start_time": "2022-11-21T20:00:50.000Z"
      },
      {
        "duration": 11,
        "start_time": "2022-11-21T20:00:50.948Z"
      },
      {
        "duration": 18,
        "start_time": "2022-11-21T20:00:52.867Z"
      },
      {
        "duration": 6,
        "start_time": "2022-11-21T20:00:54.996Z"
      },
      {
        "duration": 10,
        "start_time": "2022-11-21T20:00:56.653Z"
      },
      {
        "duration": 27,
        "start_time": "2022-11-21T20:00:59.332Z"
      },
      {
        "duration": 114,
        "start_time": "2022-11-21T20:01:00.343Z"
      },
      {
        "duration": 647,
        "start_time": "2022-11-21T20:01:04.216Z"
      },
      {
        "duration": 2694,
        "start_time": "2022-11-21T20:01:08.682Z"
      },
      {
        "duration": 24,
        "start_time": "2022-11-21T20:01:13.486Z"
      },
      {
        "duration": 55,
        "start_time": "2022-11-21T20:02:01.473Z"
      },
      {
        "duration": 12,
        "start_time": "2022-11-21T20:19:34.313Z"
      },
      {
        "duration": 33,
        "start_time": "2022-11-21T20:19:37.698Z"
      },
      {
        "duration": 126,
        "start_time": "2022-11-21T20:19:38.670Z"
      },
      {
        "duration": 666,
        "start_time": "2022-11-21T20:19:40.009Z"
      },
      {
        "duration": 2701,
        "start_time": "2022-11-21T20:19:44.720Z"
      },
      {
        "duration": 28,
        "start_time": "2022-11-21T20:19:50.579Z"
      },
      {
        "duration": 686,
        "start_time": "2022-11-21T20:21:39.854Z"
      },
      {
        "duration": 2678,
        "start_time": "2022-11-21T20:22:48.322Z"
      },
      {
        "duration": 744,
        "start_time": "2022-11-21T20:23:10.002Z"
      },
      {
        "duration": 723,
        "start_time": "2022-11-21T20:23:19.093Z"
      },
      {
        "duration": 2609,
        "start_time": "2022-11-21T20:23:25.778Z"
      },
      {
        "duration": 83,
        "start_time": "2022-11-21T20:23:38.245Z"
      },
      {
        "duration": 1726,
        "start_time": "2022-11-23T12:03:04.689Z"
      },
      {
        "duration": 107,
        "start_time": "2022-11-23T12:03:06.417Z"
      },
      {
        "duration": 19,
        "start_time": "2022-11-23T12:03:06.526Z"
      },
      {
        "duration": 61,
        "start_time": "2022-11-23T12:03:06.546Z"
      },
      {
        "duration": 7,
        "start_time": "2022-11-23T12:03:06.610Z"
      },
      {
        "duration": 10,
        "start_time": "2022-11-23T12:03:06.618Z"
      },
      {
        "duration": 24,
        "start_time": "2022-11-23T12:03:06.629Z"
      },
      {
        "duration": 24,
        "start_time": "2022-11-23T12:03:06.655Z"
      },
      {
        "duration": 16,
        "start_time": "2022-11-23T12:03:06.680Z"
      },
      {
        "duration": 113,
        "start_time": "2022-11-23T12:03:06.697Z"
      },
      {
        "duration": 8,
        "start_time": "2022-11-23T12:03:06.812Z"
      },
      {
        "duration": 173,
        "start_time": "2022-11-23T12:03:06.821Z"
      },
      {
        "duration": 7,
        "start_time": "2022-11-23T12:03:06.996Z"
      },
      {
        "duration": 111,
        "start_time": "2022-11-23T12:03:07.006Z"
      },
      {
        "duration": 276,
        "start_time": "2022-11-23T12:03:07.119Z"
      },
      {
        "duration": 441,
        "start_time": "2022-11-23T12:03:07.396Z"
      },
      {
        "duration": 5,
        "start_time": "2022-11-23T12:03:07.839Z"
      },
      {
        "duration": 16,
        "start_time": "2022-11-23T12:03:07.846Z"
      },
      {
        "duration": 30,
        "start_time": "2022-11-23T12:03:07.864Z"
      },
      {
        "duration": 5,
        "start_time": "2022-11-23T12:03:07.902Z"
      },
      {
        "duration": 20,
        "start_time": "2022-11-23T12:03:07.909Z"
      },
      {
        "duration": 34,
        "start_time": "2022-11-23T12:03:07.930Z"
      },
      {
        "duration": 131,
        "start_time": "2022-11-23T12:03:07.977Z"
      },
      {
        "duration": 697,
        "start_time": "2022-11-23T12:03:08.110Z"
      },
      {
        "duration": 2853,
        "start_time": "2022-11-23T12:03:08.809Z"
      },
      {
        "duration": 49,
        "start_time": "2022-11-23T12:03:11.663Z"
      },
      {
        "duration": 188,
        "start_time": "2022-11-23T12:03:11.713Z"
      },
      {
        "duration": 4,
        "start_time": "2022-11-23T12:03:48.515Z"
      },
      {
        "duration": 3,
        "start_time": "2022-11-23T12:06:08.065Z"
      },
      {
        "duration": 50,
        "start_time": "2022-11-23T12:06:17.546Z"
      },
      {
        "duration": 54,
        "start_time": "2022-11-23T12:07:35.196Z"
      },
      {
        "duration": 48,
        "start_time": "2022-11-23T12:08:47.735Z"
      },
      {
        "duration": 42,
        "start_time": "2022-11-23T12:12:19.064Z"
      },
      {
        "duration": 308,
        "start_time": "2022-11-23T12:13:28.949Z"
      },
      {
        "duration": 319,
        "start_time": "2022-11-23T12:13:36.351Z"
      },
      {
        "duration": 46,
        "start_time": "2022-11-23T12:15:10.832Z"
      },
      {
        "duration": 124,
        "start_time": "2022-11-23T12:17:59.753Z"
      },
      {
        "duration": 51,
        "start_time": "2022-11-23T12:19:53.974Z"
      },
      {
        "duration": 27,
        "start_time": "2022-11-23T12:20:04.894Z"
      },
      {
        "duration": 25,
        "start_time": "2022-11-23T12:38:27.679Z"
      },
      {
        "duration": 19,
        "start_time": "2022-11-23T12:38:28.949Z"
      },
      {
        "duration": 1345,
        "start_time": "2022-11-23T12:38:39.423Z"
      },
      {
        "duration": 58,
        "start_time": "2022-11-23T12:38:40.770Z"
      },
      {
        "duration": 18,
        "start_time": "2022-11-23T12:38:40.829Z"
      },
      {
        "duration": 70,
        "start_time": "2022-11-23T12:38:40.850Z"
      },
      {
        "duration": 8,
        "start_time": "2022-11-23T12:38:40.921Z"
      },
      {
        "duration": 19,
        "start_time": "2022-11-23T12:38:40.931Z"
      },
      {
        "duration": 18,
        "start_time": "2022-11-23T12:38:40.951Z"
      },
      {
        "duration": 40,
        "start_time": "2022-11-23T12:38:40.970Z"
      },
      {
        "duration": 7,
        "start_time": "2022-11-23T12:38:41.012Z"
      },
      {
        "duration": 98,
        "start_time": "2022-11-23T12:38:41.021Z"
      },
      {
        "duration": 7,
        "start_time": "2022-11-23T12:38:41.121Z"
      },
      {
        "duration": 154,
        "start_time": "2022-11-23T12:38:41.130Z"
      },
      {
        "duration": 7,
        "start_time": "2022-11-23T12:38:41.285Z"
      },
      {
        "duration": 118,
        "start_time": "2022-11-23T12:38:41.294Z"
      },
      {
        "duration": 275,
        "start_time": "2022-11-23T12:38:41.413Z"
      },
      {
        "duration": 389,
        "start_time": "2022-11-23T12:38:41.690Z"
      },
      {
        "duration": 4,
        "start_time": "2022-11-23T12:38:42.081Z"
      },
      {
        "duration": 16,
        "start_time": "2022-11-23T12:38:42.087Z"
      },
      {
        "duration": 25,
        "start_time": "2022-11-23T12:38:42.105Z"
      },
      {
        "duration": 7,
        "start_time": "2022-11-23T12:38:42.132Z"
      },
      {
        "duration": 39,
        "start_time": "2022-11-23T12:38:42.141Z"
      },
      {
        "duration": 28,
        "start_time": "2022-11-23T12:38:42.182Z"
      },
      {
        "duration": 137,
        "start_time": "2022-11-23T12:38:42.212Z"
      },
      {
        "duration": 733,
        "start_time": "2022-11-23T12:38:42.351Z"
      },
      {
        "duration": 2964,
        "start_time": "2022-11-23T12:38:43.085Z"
      },
      {
        "duration": 44,
        "start_time": "2022-11-23T12:38:46.051Z"
      },
      {
        "duration": 135,
        "start_time": "2022-11-23T12:38:46.177Z"
      },
      {
        "duration": 283,
        "start_time": "2022-11-23T12:38:46.315Z"
      },
      {
        "duration": 78,
        "start_time": "2022-11-23T12:38:46.600Z"
      },
      {
        "duration": 115,
        "start_time": "2022-11-23T12:38:46.689Z"
      },
      {
        "duration": 78,
        "start_time": "2022-11-23T12:38:46.806Z"
      },
      {
        "duration": 191,
        "start_time": "2022-11-23T12:38:46.886Z"
      },
      {
        "duration": 249,
        "start_time": "2022-11-23T12:40:42.798Z"
      },
      {
        "duration": 32,
        "start_time": "2022-11-23T12:41:24.845Z"
      },
      {
        "duration": 276,
        "start_time": "2022-11-23T12:41:25.720Z"
      },
      {
        "duration": 21,
        "start_time": "2022-11-23T12:41:27.176Z"
      },
      {
        "duration": 44,
        "start_time": "2022-11-23T12:51:32.584Z"
      },
      {
        "duration": 24,
        "start_time": "2022-11-23T12:51:39.455Z"
      },
      {
        "duration": 30,
        "start_time": "2022-11-23T12:51:49.575Z"
      },
      {
        "duration": 30,
        "start_time": "2022-11-23T12:51:56.520Z"
      },
      {
        "duration": 36,
        "start_time": "2022-11-23T12:52:02.918Z"
      },
      {
        "duration": 37,
        "start_time": "2022-11-23T12:52:09.997Z"
      },
      {
        "duration": 42,
        "start_time": "2022-11-23T12:52:17.255Z"
      },
      {
        "duration": 37,
        "start_time": "2022-11-23T12:52:23.766Z"
      },
      {
        "duration": 27,
        "start_time": "2022-11-23T12:52:31.366Z"
      },
      {
        "duration": 27,
        "start_time": "2022-11-23T12:53:19.025Z"
      },
      {
        "duration": 26,
        "start_time": "2022-11-23T12:53:25.434Z"
      },
      {
        "duration": 26,
        "start_time": "2022-11-23T12:53:33.367Z"
      },
      {
        "duration": 27,
        "start_time": "2022-11-23T12:53:39.884Z"
      },
      {
        "duration": 256,
        "start_time": "2022-11-23T12:54:38.254Z"
      },
      {
        "duration": 261,
        "start_time": "2022-11-23T12:55:35.606Z"
      },
      {
        "duration": 240,
        "start_time": "2022-11-23T12:55:43.952Z"
      },
      {
        "duration": 254,
        "start_time": "2022-11-23T12:55:53.044Z"
      },
      {
        "duration": 240,
        "start_time": "2022-11-23T12:56:15.323Z"
      },
      {
        "duration": 329,
        "start_time": "2022-11-23T12:56:55.354Z"
      },
      {
        "duration": 274,
        "start_time": "2022-11-23T12:57:02.405Z"
      },
      {
        "duration": 261,
        "start_time": "2022-11-23T12:57:09.485Z"
      },
      {
        "duration": 145,
        "start_time": "2022-11-23T13:04:09.580Z"
      },
      {
        "duration": 0,
        "start_time": "2022-11-23T13:04:09.727Z"
      },
      {
        "duration": 4,
        "start_time": "2022-11-23T13:04:40.090Z"
      },
      {
        "duration": 12,
        "start_time": "2022-11-23T13:04:47.087Z"
      },
      {
        "duration": 42,
        "start_time": "2022-11-23T13:04:48.904Z"
      },
      {
        "duration": 1117,
        "start_time": "2022-11-23T13:12:55.970Z"
      },
      {
        "duration": 854,
        "start_time": "2022-11-23T13:13:46.242Z"
      },
      {
        "duration": 677,
        "start_time": "2022-11-23T14:20:15.725Z"
      },
      {
        "duration": 2579,
        "start_time": "2022-11-23T14:23:21.535Z"
      },
      {
        "duration": 2589,
        "start_time": "2022-11-23T14:23:49.378Z"
      },
      {
        "duration": 2748,
        "start_time": "2022-11-23T14:24:12.364Z"
      },
      {
        "duration": 2745,
        "start_time": "2022-11-23T14:24:55.048Z"
      },
      {
        "duration": 49,
        "start_time": "2022-11-23T14:25:23.694Z"
      },
      {
        "duration": 2779,
        "start_time": "2022-11-23T14:25:52.748Z"
      },
      {
        "duration": 760,
        "start_time": "2022-11-23T14:26:58.820Z"
      },
      {
        "duration": 34,
        "start_time": "2022-11-23T14:34:21.814Z"
      },
      {
        "duration": 1552,
        "start_time": "2022-11-23T14:34:30.110Z"
      },
      {
        "duration": 75,
        "start_time": "2022-11-23T14:34:31.664Z"
      },
      {
        "duration": 24,
        "start_time": "2022-11-23T14:34:31.741Z"
      },
      {
        "duration": 59,
        "start_time": "2022-11-23T14:34:31.767Z"
      },
      {
        "duration": 8,
        "start_time": "2022-11-23T14:34:31.828Z"
      },
      {
        "duration": 16,
        "start_time": "2022-11-23T14:34:31.838Z"
      },
      {
        "duration": 58,
        "start_time": "2022-11-23T14:34:31.856Z"
      },
      {
        "duration": 32,
        "start_time": "2022-11-23T14:34:31.915Z"
      },
      {
        "duration": 12,
        "start_time": "2022-11-23T14:34:31.949Z"
      },
      {
        "duration": 131,
        "start_time": "2022-11-23T14:34:31.962Z"
      },
      {
        "duration": 9,
        "start_time": "2022-11-23T14:34:32.094Z"
      },
      {
        "duration": 176,
        "start_time": "2022-11-23T14:34:32.105Z"
      },
      {
        "duration": 16,
        "start_time": "2022-11-23T14:34:32.285Z"
      },
      {
        "duration": 127,
        "start_time": "2022-11-23T14:34:32.306Z"
      },
      {
        "duration": 270,
        "start_time": "2022-11-23T14:34:32.435Z"
      },
      {
        "duration": 407,
        "start_time": "2022-11-23T14:34:32.707Z"
      },
      {
        "duration": 5,
        "start_time": "2022-11-23T14:34:33.116Z"
      },
      {
        "duration": 20,
        "start_time": "2022-11-23T14:34:33.122Z"
      },
      {
        "duration": 47,
        "start_time": "2022-11-23T14:34:33.144Z"
      },
      {
        "duration": 14,
        "start_time": "2022-11-23T14:34:33.197Z"
      },
      {
        "duration": 31,
        "start_time": "2022-11-23T14:34:33.213Z"
      },
      {
        "duration": 45,
        "start_time": "2022-11-23T14:34:33.246Z"
      },
      {
        "duration": 138,
        "start_time": "2022-11-23T14:34:33.296Z"
      },
      {
        "duration": 818,
        "start_time": "2022-11-23T14:34:33.435Z"
      },
      {
        "duration": 3348,
        "start_time": "2022-11-23T14:34:34.256Z"
      },
      {
        "duration": 81,
        "start_time": "2022-11-23T14:34:37.606Z"
      },
      {
        "duration": 108,
        "start_time": "2022-11-23T14:34:37.694Z"
      },
      {
        "duration": 299,
        "start_time": "2022-11-23T14:34:37.804Z"
      },
      {
        "duration": 83,
        "start_time": "2022-11-23T14:34:38.106Z"
      },
      {
        "duration": 110,
        "start_time": "2022-11-23T14:34:38.195Z"
      },
      {
        "duration": 295,
        "start_time": "2022-11-23T14:34:38.307Z"
      },
      {
        "duration": 21,
        "start_time": "2022-11-23T14:34:38.604Z"
      },
      {
        "duration": 111,
        "start_time": "2022-11-23T14:34:38.678Z"
      },
      {
        "duration": 50,
        "start_time": "2022-11-23T14:34:38.791Z"
      },
      {
        "duration": 52,
        "start_time": "2022-11-23T14:34:38.843Z"
      },
      {
        "duration": 18,
        "start_time": "2022-11-23T14:34:53.165Z"
      },
      {
        "duration": 28,
        "start_time": "2022-11-23T14:34:53.914Z"
      },
      {
        "duration": 27,
        "start_time": "2022-11-23T14:35:36.126Z"
      },
      {
        "duration": 27,
        "start_time": "2022-11-23T14:35:39.311Z"
      },
      {
        "duration": 8,
        "start_time": "2022-11-23T14:36:55.478Z"
      },
      {
        "duration": 51,
        "start_time": "2022-11-23T14:36:56.010Z"
      },
      {
        "duration": 14,
        "start_time": "2022-11-23T14:36:57.392Z"
      },
      {
        "duration": 14,
        "start_time": "2022-11-23T14:36:58.451Z"
      },
      {
        "duration": 6,
        "start_time": "2022-11-23T14:36:59.442Z"
      },
      {
        "duration": 4,
        "start_time": "2022-11-23T14:36:59.947Z"
      },
      {
        "duration": 7,
        "start_time": "2022-11-23T14:37:00.445Z"
      },
      {
        "duration": 11,
        "start_time": "2022-11-23T14:37:00.950Z"
      },
      {
        "duration": 11,
        "start_time": "2022-11-23T14:37:01.481Z"
      },
      {
        "duration": 121,
        "start_time": "2022-11-23T14:37:01.994Z"
      },
      {
        "duration": 6,
        "start_time": "2022-11-23T14:37:02.447Z"
      },
      {
        "duration": 142,
        "start_time": "2022-11-23T14:37:02.962Z"
      },
      {
        "duration": 7,
        "start_time": "2022-11-23T14:37:03.457Z"
      },
      {
        "duration": 109,
        "start_time": "2022-11-23T14:37:04.016Z"
      },
      {
        "duration": 211,
        "start_time": "2022-11-23T14:37:04.427Z"
      },
      {
        "duration": 419,
        "start_time": "2022-11-23T14:37:04.897Z"
      },
      {
        "duration": 4,
        "start_time": "2022-11-23T14:37:06.396Z"
      },
      {
        "duration": 11,
        "start_time": "2022-11-23T14:37:06.895Z"
      },
      {
        "duration": 18,
        "start_time": "2022-11-23T14:37:07.896Z"
      },
      {
        "duration": 6,
        "start_time": "2022-11-23T14:37:08.352Z"
      },
      {
        "duration": 12,
        "start_time": "2022-11-23T14:37:09.360Z"
      },
      {
        "duration": 24,
        "start_time": "2022-11-23T14:37:10.330Z"
      },
      {
        "duration": 108,
        "start_time": "2022-11-23T14:37:12.395Z"
      },
      {
        "duration": 727,
        "start_time": "2022-11-23T14:37:13.437Z"
      },
      {
        "duration": 2924,
        "start_time": "2022-11-23T14:37:14.167Z"
      },
      {
        "duration": 24,
        "start_time": "2022-11-23T14:37:17.093Z"
      },
      {
        "duration": 118,
        "start_time": "2022-11-23T14:37:17.181Z"
      },
      {
        "duration": 267,
        "start_time": "2022-11-23T14:37:18.655Z"
      },
      {
        "duration": 32,
        "start_time": "2022-11-23T14:37:19.257Z"
      },
      {
        "duration": 28,
        "start_time": "2022-11-23T14:37:21.241Z"
      },
      {
        "duration": 255,
        "start_time": "2022-11-23T14:37:22.435Z"
      },
      {
        "duration": 25,
        "start_time": "2022-11-23T14:37:23.705Z"
      },
      {
        "duration": 13,
        "start_time": "2022-11-23T14:37:26.010Z"
      },
      {
        "duration": 22,
        "start_time": "2022-11-23T14:37:26.890Z"
      },
      {
        "duration": 34,
        "start_time": "2022-11-23T14:37:28.203Z"
      },
      {
        "duration": 240,
        "start_time": "2022-11-23T14:37:56.899Z"
      },
      {
        "duration": 277,
        "start_time": "2022-11-23T14:38:11.362Z"
      },
      {
        "duration": 70,
        "start_time": "2022-11-23T14:38:15.412Z"
      },
      {
        "duration": 14,
        "start_time": "2022-11-23T14:43:13.368Z"
      },
      {
        "duration": 110,
        "start_time": "2022-11-23T14:43:14.672Z"
      },
      {
        "duration": 279,
        "start_time": "2022-11-23T14:43:17.847Z"
      },
      {
        "duration": 39,
        "start_time": "2022-11-23T14:43:20.936Z"
      },
      {
        "duration": 12,
        "start_time": "2022-11-23T14:46:52.390Z"
      },
      {
        "duration": 13,
        "start_time": "2022-11-23T14:47:20.960Z"
      },
      {
        "duration": 75,
        "start_time": "2022-11-23T14:47:25.604Z"
      },
      {
        "duration": 274,
        "start_time": "2022-11-23T14:47:28.223Z"
      },
      {
        "duration": 36,
        "start_time": "2022-11-23T14:47:33.690Z"
      },
      {
        "duration": 14,
        "start_time": "2022-11-23T14:48:04.536Z"
      },
      {
        "duration": 13,
        "start_time": "2022-11-23T14:48:22.199Z"
      },
      {
        "duration": 19,
        "start_time": "2022-11-23T14:48:28.492Z"
      },
      {
        "duration": 18,
        "start_time": "2022-11-23T14:48:34.025Z"
      },
      {
        "duration": 25,
        "start_time": "2022-11-23T14:48:40.336Z"
      },
      {
        "duration": 259,
        "start_time": "2022-11-23T14:48:41.844Z"
      },
      {
        "duration": 25,
        "start_time": "2022-11-23T14:48:44.022Z"
      },
      {
        "duration": 20,
        "start_time": "2022-11-23T14:51:06.766Z"
      },
      {
        "duration": 135,
        "start_time": "2022-11-23T14:51:12.938Z"
      },
      {
        "duration": 26,
        "start_time": "2022-11-23T14:51:21.776Z"
      },
      {
        "duration": 28,
        "start_time": "2022-11-23T14:52:20.327Z"
      },
      {
        "duration": 320,
        "start_time": "2022-11-23T14:52:22.223Z"
      },
      {
        "duration": 23,
        "start_time": "2022-11-23T14:52:30.204Z"
      },
      {
        "duration": 55,
        "start_time": "2022-11-23T17:13:47.322Z"
      },
      {
        "duration": 20,
        "start_time": "2022-11-23T17:13:49.093Z"
      },
      {
        "duration": 13,
        "start_time": "2022-11-23T17:13:50.804Z"
      },
      {
        "duration": 9,
        "start_time": "2022-11-23T17:13:52.387Z"
      },
      {
        "duration": 4,
        "start_time": "2022-11-23T17:13:53.074Z"
      },
      {
        "duration": 10,
        "start_time": "2022-11-23T17:13:53.811Z"
      },
      {
        "duration": 16,
        "start_time": "2022-11-23T17:13:54.550Z"
      },
      {
        "duration": 8,
        "start_time": "2022-11-23T17:13:55.260Z"
      },
      {
        "duration": 96,
        "start_time": "2022-11-23T17:13:56.144Z"
      },
      {
        "duration": 7,
        "start_time": "2022-11-23T17:13:56.854Z"
      },
      {
        "duration": 130,
        "start_time": "2022-11-23T17:13:57.549Z"
      },
      {
        "duration": 6,
        "start_time": "2022-11-23T17:13:58.265Z"
      },
      {
        "duration": 90,
        "start_time": "2022-11-23T17:13:58.941Z"
      },
      {
        "duration": 175,
        "start_time": "2022-11-23T17:13:59.677Z"
      },
      {
        "duration": 391,
        "start_time": "2022-11-23T17:14:00.315Z"
      },
      {
        "duration": 4,
        "start_time": "2022-11-23T17:14:03.144Z"
      },
      {
        "duration": 12,
        "start_time": "2022-11-23T17:14:03.965Z"
      },
      {
        "duration": 17,
        "start_time": "2022-11-23T17:14:06.224Z"
      },
      {
        "duration": 5,
        "start_time": "2022-11-23T17:14:07.554Z"
      },
      {
        "duration": 13,
        "start_time": "2022-11-23T17:14:09.538Z"
      },
      {
        "duration": 29,
        "start_time": "2022-11-23T17:14:10.900Z"
      },
      {
        "duration": 120,
        "start_time": "2022-11-23T17:14:11.928Z"
      },
      {
        "duration": 809,
        "start_time": "2022-11-23T17:14:13.326Z"
      },
      {
        "duration": 2828,
        "start_time": "2022-11-23T17:14:14.350Z"
      },
      {
        "duration": 62,
        "start_time": "2022-11-23T17:14:17.180Z"
      },
      {
        "duration": 32,
        "start_time": "2022-11-23T17:14:19.600Z"
      },
      {
        "duration": 285,
        "start_time": "2022-11-23T17:14:22.070Z"
      },
      {
        "duration": 76,
        "start_time": "2022-11-23T17:14:28.160Z"
      },
      {
        "duration": 25,
        "start_time": "2022-11-23T17:14:31.193Z"
      },
      {
        "duration": 258,
        "start_time": "2022-11-23T17:14:32.057Z"
      },
      {
        "duration": 22,
        "start_time": "2022-11-23T17:14:34.032Z"
      },
      {
        "duration": 13,
        "start_time": "2022-11-23T17:14:36.868Z"
      },
      {
        "duration": 30,
        "start_time": "2022-11-23T17:14:37.721Z"
      },
      {
        "duration": 304,
        "start_time": "2022-11-23T17:14:38.672Z"
      },
      {
        "duration": 24,
        "start_time": "2022-11-23T17:14:42.971Z"
      },
      {
        "duration": 244,
        "start_time": "2022-11-23T17:14:54.075Z"
      },
      {
        "duration": 1168,
        "start_time": "2022-11-23T17:15:01.812Z"
      },
      {
        "duration": 2022,
        "start_time": "2022-11-23T17:15:12.073Z"
      },
      {
        "duration": 2011,
        "start_time": "2022-11-23T17:15:26.405Z"
      },
      {
        "duration": 2036,
        "start_time": "2022-11-23T17:15:39.282Z"
      },
      {
        "duration": 1993,
        "start_time": "2022-11-23T17:15:50.064Z"
      },
      {
        "duration": 1632,
        "start_time": "2022-11-23T17:16:00.185Z"
      },
      {
        "duration": 117,
        "start_time": "2022-11-23T17:26:28.239Z"
      },
      {
        "duration": 4,
        "start_time": "2022-11-23T17:26:51.411Z"
      },
      {
        "duration": 1374,
        "start_time": "2022-11-23T17:27:39.170Z"
      },
      {
        "duration": 65,
        "start_time": "2022-11-23T17:27:40.546Z"
      },
      {
        "duration": 20,
        "start_time": "2022-11-23T17:27:40.612Z"
      },
      {
        "duration": 59,
        "start_time": "2022-11-23T17:27:40.634Z"
      },
      {
        "duration": 7,
        "start_time": "2022-11-23T17:27:40.694Z"
      },
      {
        "duration": 9,
        "start_time": "2022-11-23T17:27:40.702Z"
      },
      {
        "duration": 11,
        "start_time": "2022-11-23T17:27:40.713Z"
      },
      {
        "duration": 25,
        "start_time": "2022-11-23T17:27:40.725Z"
      },
      {
        "duration": 6,
        "start_time": "2022-11-23T17:27:40.751Z"
      },
      {
        "duration": 110,
        "start_time": "2022-11-23T17:27:40.760Z"
      },
      {
        "duration": 7,
        "start_time": "2022-11-23T17:27:40.871Z"
      },
      {
        "duration": 138,
        "start_time": "2022-11-23T17:27:40.880Z"
      },
      {
        "duration": 15,
        "start_time": "2022-11-23T17:27:41.020Z"
      },
      {
        "duration": 157,
        "start_time": "2022-11-23T17:27:41.037Z"
      },
      {
        "duration": 280,
        "start_time": "2022-11-23T17:27:41.196Z"
      },
      {
        "duration": 465,
        "start_time": "2022-11-23T17:27:41.478Z"
      },
      {
        "duration": 5,
        "start_time": "2022-11-23T17:27:41.945Z"
      },
      {
        "duration": 19,
        "start_time": "2022-11-23T17:27:41.951Z"
      },
      {
        "duration": 25,
        "start_time": "2022-11-23T17:27:41.972Z"
      },
      {
        "duration": 6,
        "start_time": "2022-11-23T17:27:41.998Z"
      },
      {
        "duration": 40,
        "start_time": "2022-11-23T17:27:42.005Z"
      },
      {
        "duration": 36,
        "start_time": "2022-11-23T17:27:42.047Z"
      },
      {
        "duration": 132,
        "start_time": "2022-11-23T17:27:42.085Z"
      },
      {
        "duration": 1302,
        "start_time": "2022-11-23T17:28:29.282Z"
      },
      {
        "duration": 56,
        "start_time": "2022-11-23T17:28:30.586Z"
      },
      {
        "duration": 15,
        "start_time": "2022-11-23T17:28:30.644Z"
      },
      {
        "duration": 96,
        "start_time": "2022-11-23T17:28:30.661Z"
      },
      {
        "duration": 8,
        "start_time": "2022-11-23T17:28:30.758Z"
      },
      {
        "duration": 91,
        "start_time": "2022-11-23T17:28:30.768Z"
      },
      {
        "duration": 80,
        "start_time": "2022-11-23T17:28:30.861Z"
      },
      {
        "duration": 46,
        "start_time": "2022-11-23T17:28:30.943Z"
      },
      {
        "duration": 9,
        "start_time": "2022-11-23T17:28:30.990Z"
      },
      {
        "duration": 99,
        "start_time": "2022-11-23T17:28:31.001Z"
      },
      {
        "duration": 6,
        "start_time": "2022-11-23T17:28:31.102Z"
      },
      {
        "duration": 136,
        "start_time": "2022-11-23T17:28:31.109Z"
      },
      {
        "duration": 6,
        "start_time": "2022-11-23T17:28:31.247Z"
      },
      {
        "duration": 116,
        "start_time": "2022-11-23T17:28:31.254Z"
      },
      {
        "duration": 266,
        "start_time": "2022-11-23T17:28:31.372Z"
      },
      {
        "duration": 393,
        "start_time": "2022-11-23T17:28:31.639Z"
      },
      {
        "duration": 5,
        "start_time": "2022-11-23T17:28:32.034Z"
      },
      {
        "duration": 61,
        "start_time": "2022-11-23T17:28:32.041Z"
      },
      {
        "duration": 196,
        "start_time": "2022-11-23T17:28:32.103Z"
      },
      {
        "duration": 8,
        "start_time": "2022-11-23T17:28:32.301Z"
      },
      {
        "duration": 26,
        "start_time": "2022-11-23T17:28:32.310Z"
      },
      {
        "duration": 35,
        "start_time": "2022-11-23T17:28:32.338Z"
      },
      {
        "duration": 149,
        "start_time": "2022-11-23T17:28:32.375Z"
      },
      {
        "duration": 206654,
        "start_time": "2022-11-23T17:28:32.536Z"
      },
      {
        "duration": 0,
        "start_time": "2022-11-23T17:31:59.192Z"
      },
      {
        "duration": 0,
        "start_time": "2022-11-23T17:31:59.193Z"
      },
      {
        "duration": 0,
        "start_time": "2022-11-23T17:31:59.194Z"
      },
      {
        "duration": 0,
        "start_time": "2022-11-23T17:31:59.195Z"
      },
      {
        "duration": 0,
        "start_time": "2022-11-23T17:31:59.197Z"
      },
      {
        "duration": 0,
        "start_time": "2022-11-23T17:31:59.199Z"
      },
      {
        "duration": 0,
        "start_time": "2022-11-23T17:31:59.200Z"
      },
      {
        "duration": 0,
        "start_time": "2022-11-23T17:31:59.200Z"
      },
      {
        "duration": 0,
        "start_time": "2022-11-23T17:31:59.201Z"
      },
      {
        "duration": 0,
        "start_time": "2022-11-23T17:31:59.202Z"
      },
      {
        "duration": 0,
        "start_time": "2022-11-23T17:31:59.202Z"
      },
      {
        "duration": 0,
        "start_time": "2022-11-23T17:31:59.203Z"
      },
      {
        "duration": 0,
        "start_time": "2022-11-23T17:31:59.204Z"
      },
      {
        "duration": 0,
        "start_time": "2022-11-23T17:31:59.205Z"
      },
      {
        "duration": 0,
        "start_time": "2022-11-23T17:31:59.205Z"
      },
      {
        "duration": 0,
        "start_time": "2022-11-23T17:31:59.206Z"
      },
      {
        "duration": 0,
        "start_time": "2022-11-23T17:31:59.207Z"
      },
      {
        "duration": 0,
        "start_time": "2022-11-23T17:31:59.207Z"
      },
      {
        "duration": 0,
        "start_time": "2022-11-23T17:31:59.209Z"
      },
      {
        "duration": 0,
        "start_time": "2022-11-23T17:31:59.209Z"
      },
      {
        "duration": 0,
        "start_time": "2022-11-23T17:35:58.975Z"
      },
      {
        "duration": 0,
        "start_time": "2022-11-23T17:44:33.141Z"
      },
      {
        "duration": 13693,
        "start_time": "2022-11-23T17:44:34.842Z"
      },
      {
        "duration": 619047,
        "start_time": "2022-11-23T17:45:03.921Z"
      },
      {
        "duration": 781,
        "start_time": "2022-11-23T17:55:22.970Z"
      },
      {
        "duration": 2857,
        "start_time": "2022-11-23T17:55:23.753Z"
      },
      {
        "duration": 122,
        "start_time": "2022-11-23T17:55:26.613Z"
      },
      {
        "duration": 10,
        "start_time": "2022-11-23T17:57:25.656Z"
      },
      {
        "duration": 748,
        "start_time": "2022-11-23T17:57:37.312Z"
      },
      {
        "duration": 2835,
        "start_time": "2022-11-23T17:57:38.273Z"
      },
      {
        "duration": 39,
        "start_time": "2022-11-23T17:57:41.110Z"
      },
      {
        "duration": 31,
        "start_time": "2022-11-23T17:57:46.605Z"
      },
      {
        "duration": 279,
        "start_time": "2022-11-23T17:57:48.546Z"
      },
      {
        "duration": 117,
        "start_time": "2022-11-23T17:57:50.017Z"
      },
      {
        "duration": 27,
        "start_time": "2022-11-23T17:57:51.748Z"
      },
      {
        "duration": 288,
        "start_time": "2022-11-23T17:57:52.909Z"
      },
      {
        "duration": 91,
        "start_time": "2022-11-23T17:57:54.469Z"
      },
      {
        "duration": 13,
        "start_time": "2022-11-23T17:57:56.416Z"
      },
      {
        "duration": 32,
        "start_time": "2022-11-23T17:57:58.032Z"
      },
      {
        "duration": 430,
        "start_time": "2022-11-23T17:57:59.640Z"
      },
      {
        "duration": 361,
        "start_time": "2022-11-23T17:59:03.730Z"
      },
      {
        "duration": 369,
        "start_time": "2022-11-23T18:01:33.836Z"
      },
      {
        "duration": 80,
        "start_time": "2022-11-23T18:06:33.794Z"
      },
      {
        "duration": 71,
        "start_time": "2022-11-23T18:07:13.330Z"
      },
      {
        "duration": 18089,
        "start_time": "2022-11-23T18:08:05.643Z"
      },
      {
        "duration": 1695,
        "start_time": "2022-11-25T08:05:44.272Z"
      },
      {
        "duration": 111,
        "start_time": "2022-11-25T08:05:45.968Z"
      },
      {
        "duration": 18,
        "start_time": "2022-11-25T08:05:46.080Z"
      },
      {
        "duration": 62,
        "start_time": "2022-11-25T08:05:46.100Z"
      },
      {
        "duration": 10,
        "start_time": "2022-11-25T08:05:46.164Z"
      },
      {
        "duration": 11,
        "start_time": "2022-11-25T08:05:46.175Z"
      },
      {
        "duration": 16,
        "start_time": "2022-11-25T08:05:46.188Z"
      },
      {
        "duration": 20,
        "start_time": "2022-11-25T08:05:46.206Z"
      },
      {
        "duration": 47,
        "start_time": "2022-11-25T08:05:46.228Z"
      },
      {
        "duration": 128,
        "start_time": "2022-11-25T08:05:46.277Z"
      },
      {
        "duration": 8,
        "start_time": "2022-11-25T08:05:46.407Z"
      },
      {
        "duration": 192,
        "start_time": "2022-11-25T08:05:46.417Z"
      },
      {
        "duration": 8,
        "start_time": "2022-11-25T08:05:46.611Z"
      },
      {
        "duration": 119,
        "start_time": "2022-11-25T08:05:46.621Z"
      },
      {
        "duration": 296,
        "start_time": "2022-11-25T08:05:46.742Z"
      },
      {
        "duration": 505,
        "start_time": "2022-11-25T08:05:47.039Z"
      },
      {
        "duration": 5,
        "start_time": "2022-11-25T08:05:47.545Z"
      },
      {
        "duration": 15,
        "start_time": "2022-11-25T08:05:47.552Z"
      },
      {
        "duration": 24,
        "start_time": "2022-11-25T08:05:47.569Z"
      },
      {
        "duration": 21,
        "start_time": "2022-11-25T08:05:47.595Z"
      },
      {
        "duration": 34,
        "start_time": "2022-11-25T08:05:47.618Z"
      },
      {
        "duration": 29,
        "start_time": "2022-11-25T08:05:47.654Z"
      },
      {
        "duration": 138,
        "start_time": "2022-11-25T08:05:47.686Z"
      },
      {
        "duration": 1508,
        "start_time": "2022-11-25T08:11:26.352Z"
      },
      {
        "duration": 60,
        "start_time": "2022-11-25T08:11:27.862Z"
      },
      {
        "duration": 19,
        "start_time": "2022-11-25T08:11:27.928Z"
      },
      {
        "duration": 73,
        "start_time": "2022-11-25T08:11:27.950Z"
      },
      {
        "duration": 9,
        "start_time": "2022-11-25T08:11:28.025Z"
      },
      {
        "duration": 42,
        "start_time": "2022-11-25T08:11:28.035Z"
      },
      {
        "duration": 18,
        "start_time": "2022-11-25T08:11:28.079Z"
      },
      {
        "duration": 23,
        "start_time": "2022-11-25T08:11:28.099Z"
      },
      {
        "duration": 26,
        "start_time": "2022-11-25T08:11:28.125Z"
      },
      {
        "duration": 131,
        "start_time": "2022-11-25T08:11:28.153Z"
      },
      {
        "duration": 7,
        "start_time": "2022-11-25T08:11:28.286Z"
      },
      {
        "duration": 241,
        "start_time": "2022-11-25T08:11:28.295Z"
      },
      {
        "duration": 8,
        "start_time": "2022-11-25T08:11:28.539Z"
      },
      {
        "duration": 134,
        "start_time": "2022-11-25T08:11:28.550Z"
      },
      {
        "duration": 299,
        "start_time": "2022-11-25T08:11:28.686Z"
      },
      {
        "duration": 461,
        "start_time": "2022-11-25T08:11:28.987Z"
      },
      {
        "duration": 6,
        "start_time": "2022-11-25T08:11:29.451Z"
      },
      {
        "duration": 30,
        "start_time": "2022-11-25T08:11:29.459Z"
      },
      {
        "duration": 39,
        "start_time": "2022-11-25T08:11:29.491Z"
      },
      {
        "duration": 10,
        "start_time": "2022-11-25T08:11:29.532Z"
      },
      {
        "duration": 31,
        "start_time": "2022-11-25T08:11:29.546Z"
      },
      {
        "duration": 48,
        "start_time": "2022-11-25T08:11:29.580Z"
      },
      {
        "duration": 157,
        "start_time": "2022-11-25T08:11:29.630Z"
      },
      {
        "duration": 1487,
        "start_time": "2022-11-25T08:24:24.634Z"
      },
      {
        "duration": 67,
        "start_time": "2022-11-25T08:24:26.123Z"
      },
      {
        "duration": 21,
        "start_time": "2022-11-25T08:24:26.192Z"
      },
      {
        "duration": 61,
        "start_time": "2022-11-25T08:24:26.216Z"
      },
      {
        "duration": 11,
        "start_time": "2022-11-25T08:24:26.279Z"
      },
      {
        "duration": 48,
        "start_time": "2022-11-25T08:24:26.292Z"
      },
      {
        "duration": 29,
        "start_time": "2022-11-25T08:24:26.343Z"
      },
      {
        "duration": 40,
        "start_time": "2022-11-25T08:24:26.375Z"
      },
      {
        "duration": 18,
        "start_time": "2022-11-25T08:24:26.418Z"
      },
      {
        "duration": 153,
        "start_time": "2022-11-25T08:24:26.440Z"
      },
      {
        "duration": 6,
        "start_time": "2022-11-25T08:24:26.595Z"
      },
      {
        "duration": 158,
        "start_time": "2022-11-25T08:24:26.612Z"
      },
      {
        "duration": 6,
        "start_time": "2022-11-25T08:24:26.772Z"
      },
      {
        "duration": 125,
        "start_time": "2022-11-25T08:24:26.780Z"
      },
      {
        "duration": 289,
        "start_time": "2022-11-25T08:24:26.907Z"
      },
      {
        "duration": 408,
        "start_time": "2022-11-25T08:24:27.198Z"
      },
      {
        "duration": 6,
        "start_time": "2022-11-25T08:24:27.609Z"
      },
      {
        "duration": 28,
        "start_time": "2022-11-25T08:24:27.617Z"
      },
      {
        "duration": 62,
        "start_time": "2022-11-25T08:24:27.648Z"
      },
      {
        "duration": 16,
        "start_time": "2022-11-25T08:24:27.712Z"
      },
      {
        "duration": 40,
        "start_time": "2022-11-25T08:24:27.731Z"
      },
      {
        "duration": 30,
        "start_time": "2022-11-25T08:24:27.773Z"
      },
      {
        "duration": 134,
        "start_time": "2022-11-25T08:24:27.805Z"
      },
      {
        "duration": 122731,
        "start_time": "2022-11-25T08:24:27.941Z"
      },
      {
        "duration": 19642,
        "start_time": "2022-11-25T08:26:30.674Z"
      },
      {
        "duration": 75,
        "start_time": "2022-11-25T08:26:50.318Z"
      },
      {
        "duration": 755,
        "start_time": "2022-11-25T08:26:50.395Z"
      },
      {
        "duration": 2974,
        "start_time": "2022-11-25T08:26:51.154Z"
      },
      {
        "duration": 81,
        "start_time": "2022-11-25T08:26:54.130Z"
      },
      {
        "duration": 122,
        "start_time": "2022-11-25T08:26:54.220Z"
      },
      {
        "duration": 294,
        "start_time": "2022-11-25T08:26:54.344Z"
      },
      {
        "duration": 78,
        "start_time": "2022-11-25T08:26:54.640Z"
      },
      {
        "duration": 115,
        "start_time": "2022-11-25T08:26:54.720Z"
      },
      {
        "duration": 299,
        "start_time": "2022-11-25T08:26:54.837Z"
      },
      {
        "duration": 73,
        "start_time": "2022-11-25T08:26:55.138Z"
      },
      {
        "duration": 102,
        "start_time": "2022-11-25T08:26:55.214Z"
      },
      {
        "duration": 33,
        "start_time": "2022-11-25T08:26:55.318Z"
      },
      {
        "duration": 341,
        "start_time": "2022-11-25T08:26:55.353Z"
      },
      {
        "duration": 36,
        "start_time": "2022-11-25T08:26:55.697Z"
      },
      {
        "duration": 180,
        "start_time": "2022-11-25T08:26:55.735Z"
      },
      {
        "duration": 22,
        "start_time": "2022-11-25T08:26:55.917Z"
      },
      {
        "duration": 348,
        "start_time": "2022-11-25T08:26:55.940Z"
      },
      {
        "duration": 34,
        "start_time": "2022-11-25T08:26:56.289Z"
      },
      {
        "duration": 1496,
        "start_time": "2022-11-25T08:45:22.712Z"
      },
      {
        "duration": 71,
        "start_time": "2022-11-25T08:45:24.210Z"
      },
      {
        "duration": 26,
        "start_time": "2022-11-25T08:45:24.284Z"
      },
      {
        "duration": 73,
        "start_time": "2022-11-25T08:45:24.312Z"
      },
      {
        "duration": 9,
        "start_time": "2022-11-25T08:45:24.387Z"
      },
      {
        "duration": 20,
        "start_time": "2022-11-25T08:45:24.397Z"
      },
      {
        "duration": 14,
        "start_time": "2022-11-25T08:45:24.418Z"
      },
      {
        "duration": 30,
        "start_time": "2022-11-25T08:45:24.434Z"
      },
      {
        "duration": 7,
        "start_time": "2022-11-25T08:45:24.466Z"
      },
      {
        "duration": 124,
        "start_time": "2022-11-25T08:45:24.474Z"
      },
      {
        "duration": 14,
        "start_time": "2022-11-25T08:45:24.600Z"
      },
      {
        "duration": 158,
        "start_time": "2022-11-25T08:45:24.616Z"
      },
      {
        "duration": 7,
        "start_time": "2022-11-25T08:45:24.776Z"
      },
      {
        "duration": 144,
        "start_time": "2022-11-25T08:45:24.787Z"
      },
      {
        "duration": 308,
        "start_time": "2022-11-25T08:45:24.933Z"
      },
      {
        "duration": 404,
        "start_time": "2022-11-25T08:45:25.243Z"
      },
      {
        "duration": 5,
        "start_time": "2022-11-25T08:45:25.649Z"
      },
      {
        "duration": 21,
        "start_time": "2022-11-25T08:45:25.656Z"
      },
      {
        "duration": 39,
        "start_time": "2022-11-25T08:45:25.678Z"
      },
      {
        "duration": 6,
        "start_time": "2022-11-25T08:45:25.720Z"
      },
      {
        "duration": 23,
        "start_time": "2022-11-25T08:45:25.728Z"
      },
      {
        "duration": 28,
        "start_time": "2022-11-25T08:45:25.753Z"
      },
      {
        "duration": 157,
        "start_time": "2022-11-25T08:45:25.783Z"
      },
      {
        "duration": 19788,
        "start_time": "2022-11-25T08:56:53.619Z"
      },
      {
        "duration": 2056,
        "start_time": "2022-11-25T08:57:13.412Z"
      },
      {
        "duration": 807,
        "start_time": "2022-11-25T08:57:15.471Z"
      },
      {
        "duration": 3175,
        "start_time": "2022-11-25T08:57:16.280Z"
      },
      {
        "duration": 59,
        "start_time": "2022-11-25T08:57:19.457Z"
      },
      {
        "duration": 115,
        "start_time": "2022-11-25T08:57:19.518Z"
      },
      {
        "duration": 299,
        "start_time": "2022-11-25T08:57:19.635Z"
      },
      {
        "duration": 179,
        "start_time": "2022-11-25T08:57:19.936Z"
      },
      {
        "duration": 28,
        "start_time": "2022-11-25T08:57:20.116Z"
      },
      {
        "duration": 309,
        "start_time": "2022-11-25T08:57:20.146Z"
      },
      {
        "duration": 55,
        "start_time": "2022-11-25T08:57:20.458Z"
      },
      {
        "duration": 101,
        "start_time": "2022-11-25T08:57:20.516Z"
      },
      {
        "duration": 32,
        "start_time": "2022-11-25T08:57:20.619Z"
      },
      {
        "duration": 344,
        "start_time": "2022-11-25T08:57:20.653Z"
      },
      {
        "duration": 29,
        "start_time": "2022-11-25T08:57:20.999Z"
      },
      {
        "duration": 83,
        "start_time": "2022-11-25T08:57:21.031Z"
      },
      {
        "duration": 105,
        "start_time": "2022-11-25T08:57:21.119Z"
      },
      {
        "duration": 1454,
        "start_time": "2022-11-25T08:59:26.833Z"
      },
      {
        "duration": 60,
        "start_time": "2022-11-25T08:59:28.289Z"
      },
      {
        "duration": 18,
        "start_time": "2022-11-25T08:59:28.350Z"
      },
      {
        "duration": 68,
        "start_time": "2022-11-25T08:59:28.370Z"
      },
      {
        "duration": 7,
        "start_time": "2022-11-25T08:59:28.440Z"
      },
      {
        "duration": 6,
        "start_time": "2022-11-25T08:59:28.449Z"
      },
      {
        "duration": 7,
        "start_time": "2022-11-25T08:59:28.457Z"
      },
      {
        "duration": 17,
        "start_time": "2022-11-25T08:59:28.465Z"
      },
      {
        "duration": 7,
        "start_time": "2022-11-25T08:59:28.512Z"
      },
      {
        "duration": 120,
        "start_time": "2022-11-25T08:59:28.522Z"
      },
      {
        "duration": 7,
        "start_time": "2022-11-25T08:59:28.643Z"
      },
      {
        "duration": 155,
        "start_time": "2022-11-25T08:59:28.652Z"
      },
      {
        "duration": 7,
        "start_time": "2022-11-25T08:59:28.812Z"
      },
      {
        "duration": 136,
        "start_time": "2022-11-25T08:59:28.822Z"
      },
      {
        "duration": 305,
        "start_time": "2022-11-25T08:59:28.960Z"
      },
      {
        "duration": 454,
        "start_time": "2022-11-25T08:59:29.267Z"
      },
      {
        "duration": 4,
        "start_time": "2022-11-25T08:59:29.723Z"
      },
      {
        "duration": 15,
        "start_time": "2022-11-25T08:59:29.728Z"
      },
      {
        "duration": 21,
        "start_time": "2022-11-25T08:59:29.744Z"
      },
      {
        "duration": 5,
        "start_time": "2022-11-25T08:59:29.766Z"
      },
      {
        "duration": 50,
        "start_time": "2022-11-25T08:59:29.773Z"
      },
      {
        "duration": 27,
        "start_time": "2022-11-25T08:59:29.825Z"
      },
      {
        "duration": 160,
        "start_time": "2022-11-25T08:59:29.854Z"
      },
      {
        "duration": 162281,
        "start_time": "2022-11-25T08:59:30.016Z"
      },
      {
        "duration": 3,
        "start_time": "2022-11-25T09:05:39.092Z"
      },
      {
        "duration": 827,
        "start_time": "2022-11-25T09:05:39.098Z"
      },
      {
        "duration": 3102,
        "start_time": "2022-11-25T09:05:39.929Z"
      },
      {
        "duration": 21,
        "start_time": "2022-11-25T09:05:43.032Z"
      },
      {
        "duration": 115,
        "start_time": "2022-11-25T09:05:43.114Z"
      },
      {
        "duration": 303,
        "start_time": "2022-11-25T09:05:43.231Z"
      },
      {
        "duration": 84,
        "start_time": "2022-11-25T09:05:43.536Z"
      },
      {
        "duration": 116,
        "start_time": "2022-11-25T09:05:43.621Z"
      },
      {
        "duration": 289,
        "start_time": "2022-11-25T09:05:43.738Z"
      },
      {
        "duration": 84,
        "start_time": "2022-11-25T09:05:44.029Z"
      },
      {
        "duration": 198,
        "start_time": "2022-11-25T09:05:44.115Z"
      },
      {
        "duration": 32,
        "start_time": "2022-11-25T09:05:44.315Z"
      },
      {
        "duration": 352,
        "start_time": "2022-11-25T09:05:44.349Z"
      },
      {
        "duration": 31,
        "start_time": "2022-11-25T09:05:44.703Z"
      },
      {
        "duration": 81,
        "start_time": "2022-11-25T09:05:44.736Z"
      },
      {
        "duration": 119,
        "start_time": "2022-11-25T09:05:44.819Z"
      },
      {
        "duration": 320,
        "start_time": "2022-11-25T09:05:44.940Z"
      },
      {
        "duration": 57,
        "start_time": "2022-11-25T09:05:45.262Z"
      },
      {
        "duration": 182,
        "start_time": "2022-11-25T09:05:45.324Z"
      },
      {
        "duration": 20075,
        "start_time": "2022-11-25T09:08:18.765Z"
      },
      {
        "duration": 2234,
        "start_time": "2022-11-25T09:09:38.667Z"
      },
      {
        "duration": 1603,
        "start_time": "2022-11-25T09:11:56.099Z"
      },
      {
        "duration": 70,
        "start_time": "2022-11-25T09:11:57.705Z"
      },
      {
        "duration": 19,
        "start_time": "2022-11-25T09:11:57.777Z"
      },
      {
        "duration": 64,
        "start_time": "2022-11-25T09:11:57.797Z"
      },
      {
        "duration": 8,
        "start_time": "2022-11-25T09:11:57.863Z"
      },
      {
        "duration": 11,
        "start_time": "2022-11-25T09:11:57.873Z"
      },
      {
        "duration": 34,
        "start_time": "2022-11-25T09:11:57.886Z"
      },
      {
        "duration": 35,
        "start_time": "2022-11-25T09:11:57.922Z"
      },
      {
        "duration": 8,
        "start_time": "2022-11-25T09:11:57.960Z"
      },
      {
        "duration": 140,
        "start_time": "2022-11-25T09:11:57.970Z"
      },
      {
        "duration": 17,
        "start_time": "2022-11-25T09:11:58.113Z"
      },
      {
        "duration": 174,
        "start_time": "2022-11-25T09:11:58.132Z"
      },
      {
        "duration": 21,
        "start_time": "2022-11-25T09:11:58.308Z"
      },
      {
        "duration": 127,
        "start_time": "2022-11-25T09:11:58.332Z"
      },
      {
        "duration": 303,
        "start_time": "2022-11-25T09:11:58.461Z"
      },
      {
        "duration": 467,
        "start_time": "2022-11-25T09:11:58.766Z"
      },
      {
        "duration": 4,
        "start_time": "2022-11-25T09:11:59.235Z"
      },
      {
        "duration": 15,
        "start_time": "2022-11-25T09:11:59.241Z"
      },
      {
        "duration": 24,
        "start_time": "2022-11-25T09:11:59.258Z"
      },
      {
        "duration": 40,
        "start_time": "2022-11-25T09:11:59.284Z"
      },
      {
        "duration": 28,
        "start_time": "2022-11-25T09:11:59.326Z"
      },
      {
        "duration": 29,
        "start_time": "2022-11-25T09:11:59.356Z"
      },
      {
        "duration": 157,
        "start_time": "2022-11-25T09:11:59.388Z"
      },
      {
        "duration": 183,
        "start_time": "2022-11-25T09:11:59.547Z"
      },
      {
        "duration": 57,
        "start_time": "2022-11-25T09:11:59.731Z"
      },
      {
        "duration": 1637,
        "start_time": "2022-11-25T15:20:37.564Z"
      },
      {
        "duration": 199,
        "start_time": "2022-11-25T15:20:42.958Z"
      },
      {
        "duration": 18,
        "start_time": "2022-11-25T15:20:48.839Z"
      },
      {
        "duration": 78,
        "start_time": "2022-11-25T15:20:50.992Z"
      },
      {
        "duration": 8,
        "start_time": "2022-11-25T15:20:52.993Z"
      },
      {
        "duration": 6,
        "start_time": "2022-11-25T15:20:54.538Z"
      },
      {
        "duration": 8,
        "start_time": "2022-11-25T15:20:56.105Z"
      },
      {
        "duration": 17,
        "start_time": "2022-11-25T15:20:57.254Z"
      },
      {
        "duration": 7,
        "start_time": "2022-11-25T15:20:58.209Z"
      },
      {
        "duration": 106,
        "start_time": "2022-11-25T15:20:59.344Z"
      },
      {
        "duration": 6,
        "start_time": "2022-11-25T15:21:00.360Z"
      },
      {
        "duration": 143,
        "start_time": "2022-11-25T15:21:01.314Z"
      },
      {
        "duration": 6,
        "start_time": "2022-11-25T15:21:02.284Z"
      },
      {
        "duration": 108,
        "start_time": "2022-11-25T15:21:03.214Z"
      },
      {
        "duration": 347,
        "start_time": "2022-11-25T15:21:04.171Z"
      },
      {
        "duration": 477,
        "start_time": "2022-11-25T15:21:05.787Z"
      },
      {
        "duration": 5,
        "start_time": "2022-11-25T15:21:09.986Z"
      },
      {
        "duration": 12,
        "start_time": "2022-11-25T15:21:11.171Z"
      },
      {
        "duration": 24,
        "start_time": "2022-11-25T15:21:13.302Z"
      },
      {
        "duration": 6,
        "start_time": "2022-11-25T15:21:14.602Z"
      },
      {
        "duration": 19,
        "start_time": "2022-11-25T15:21:16.455Z"
      },
      {
        "duration": 29,
        "start_time": "2022-11-25T15:21:19.672Z"
      },
      {
        "duration": 119,
        "start_time": "2022-11-25T15:21:20.872Z"
      },
      {
        "duration": 4,
        "start_time": "2022-11-25T15:21:23.539Z"
      },
      {
        "duration": 19566,
        "start_time": "2022-11-25T15:21:25.393Z"
      },
      {
        "duration": 2278,
        "start_time": "2022-11-25T15:22:06.272Z"
      },
      {
        "duration": 941757,
        "start_time": "2022-11-25T15:22:14.371Z"
      },
      {
        "duration": 793,
        "start_time": "2022-11-25T15:37:56.130Z"
      },
      {
        "duration": 118,
        "start_time": "2022-11-25T15:39:30.123Z"
      },
      {
        "duration": 13,
        "start_time": "2022-11-25T15:39:35.327Z"
      },
      {
        "duration": 31,
        "start_time": "2022-11-25T15:39:36.980Z"
      },
      {
        "duration": 405,
        "start_time": "2022-11-25T15:39:38.017Z"
      },
      {
        "duration": 718,
        "start_time": "2022-11-25T15:41:36.719Z"
      },
      {
        "duration": 2869,
        "start_time": "2022-11-25T15:41:43.860Z"
      },
      {
        "duration": 19,
        "start_time": "2022-11-25T15:42:14.309Z"
      },
      {
        "duration": 31,
        "start_time": "2022-11-25T15:45:28.950Z"
      },
      {
        "duration": 27,
        "start_time": "2022-11-25T15:46:03.237Z"
      },
      {
        "duration": 337,
        "start_time": "2022-11-25T15:46:17.752Z"
      },
      {
        "duration": 270,
        "start_time": "2022-11-25T15:46:29.261Z"
      },
      {
        "duration": 253,
        "start_time": "2022-11-25T15:47:26.789Z"
      },
      {
        "duration": 307,
        "start_time": "2022-11-25T15:48:28.575Z"
      },
      {
        "duration": 3,
        "start_time": "2022-11-25T15:51:02.325Z"
      },
      {
        "duration": 12673,
        "start_time": "2022-11-25T15:51:03.294Z"
      },
      {
        "duration": 1050,
        "start_time": "2022-11-25T15:51:26.582Z"
      },
      {
        "duration": 640587,
        "start_time": "2022-11-25T15:51:37.273Z"
      },
      {
        "duration": 300,
        "start_time": "2022-11-25T16:03:50.769Z"
      },
      {
        "duration": 247,
        "start_time": "2022-11-25T16:04:28.579Z"
      },
      {
        "duration": 293,
        "start_time": "2022-11-25T16:04:42.604Z"
      },
      {
        "duration": 246,
        "start_time": "2022-11-25T16:04:56.548Z"
      },
      {
        "duration": 1491,
        "start_time": "2022-11-25T16:21:50.452Z"
      },
      {
        "duration": 58,
        "start_time": "2022-11-25T16:21:51.945Z"
      },
      {
        "duration": 20,
        "start_time": "2022-11-25T16:21:52.005Z"
      },
      {
        "duration": 73,
        "start_time": "2022-11-25T16:21:52.027Z"
      },
      {
        "duration": 7,
        "start_time": "2022-11-25T16:21:52.103Z"
      },
      {
        "duration": 18,
        "start_time": "2022-11-25T16:21:52.112Z"
      },
      {
        "duration": 9,
        "start_time": "2022-11-25T16:21:52.131Z"
      },
      {
        "duration": 17,
        "start_time": "2022-11-25T16:21:52.141Z"
      },
      {
        "duration": 8,
        "start_time": "2022-11-25T16:21:52.159Z"
      },
      {
        "duration": 125,
        "start_time": "2022-11-25T16:21:52.169Z"
      },
      {
        "duration": 7,
        "start_time": "2022-11-25T16:21:52.296Z"
      },
      {
        "duration": 155,
        "start_time": "2022-11-25T16:21:52.305Z"
      },
      {
        "duration": 7,
        "start_time": "2022-11-25T16:21:52.462Z"
      },
      {
        "duration": 119,
        "start_time": "2022-11-25T16:21:52.473Z"
      },
      {
        "duration": 278,
        "start_time": "2022-11-25T16:21:52.593Z"
      },
      {
        "duration": 444,
        "start_time": "2022-11-25T16:21:52.873Z"
      },
      {
        "duration": 6,
        "start_time": "2022-11-25T16:21:53.322Z"
      },
      {
        "duration": 16,
        "start_time": "2022-11-25T16:21:53.329Z"
      },
      {
        "duration": 23,
        "start_time": "2022-11-25T16:21:53.347Z"
      },
      {
        "duration": 6,
        "start_time": "2022-11-25T16:21:53.372Z"
      },
      {
        "duration": 17,
        "start_time": "2022-11-25T16:21:53.379Z"
      },
      {
        "duration": 27,
        "start_time": "2022-11-25T16:21:53.423Z"
      },
      {
        "duration": 137,
        "start_time": "2022-11-25T16:21:53.452Z"
      },
      {
        "duration": 2,
        "start_time": "2022-11-25T16:21:53.591Z"
      },
      {
        "duration": 12845,
        "start_time": "2022-11-25T16:21:53.595Z"
      },
      {
        "duration": 1184,
        "start_time": "2022-11-25T16:22:06.442Z"
      },
      {
        "duration": 110857,
        "start_time": "2022-11-25T16:22:07.628Z"
      },
      {
        "duration": 721,
        "start_time": "2022-11-25T16:23:58.487Z"
      },
      {
        "duration": 62,
        "start_time": "2022-11-25T16:24:01.073Z"
      },
      {
        "duration": 31,
        "start_time": "2022-11-25T16:24:01.222Z"
      },
      {
        "duration": 308,
        "start_time": "2022-11-25T16:24:01.254Z"
      },
      {
        "duration": 71,
        "start_time": "2022-11-25T16:24:01.563Z"
      },
      {
        "duration": 38,
        "start_time": "2022-11-25T16:24:01.723Z"
      },
      {
        "duration": 292,
        "start_time": "2022-11-25T16:24:01.763Z"
      },
      {
        "duration": 68,
        "start_time": "2022-11-25T16:24:02.057Z"
      },
      {
        "duration": 96,
        "start_time": "2022-11-25T16:24:02.127Z"
      },
      {
        "duration": 38,
        "start_time": "2022-11-25T16:24:02.225Z"
      },
      {
        "duration": 425,
        "start_time": "2022-11-25T16:24:02.265Z"
      },
      {
        "duration": 36,
        "start_time": "2022-11-25T16:24:02.692Z"
      },
      {
        "duration": 98,
        "start_time": "2022-11-25T16:24:02.733Z"
      },
      {
        "duration": 191,
        "start_time": "2022-11-25T16:24:02.833Z"
      },
      {
        "duration": 255,
        "start_time": "2022-11-25T16:24:03.026Z"
      },
      {
        "duration": 40,
        "start_time": "2022-11-25T16:24:03.283Z"
      },
      {
        "duration": 2112,
        "start_time": "2022-11-25T16:24:03.324Z"
      },
      {
        "duration": 1549,
        "start_time": "2022-11-25T16:24:24.840Z"
      },
      {
        "duration": 57,
        "start_time": "2022-11-25T16:24:26.391Z"
      },
      {
        "duration": 18,
        "start_time": "2022-11-25T16:24:26.450Z"
      },
      {
        "duration": 65,
        "start_time": "2022-11-25T16:24:26.470Z"
      },
      {
        "duration": 7,
        "start_time": "2022-11-25T16:24:26.537Z"
      },
      {
        "duration": 15,
        "start_time": "2022-11-25T16:24:26.546Z"
      },
      {
        "duration": 8,
        "start_time": "2022-11-25T16:24:26.563Z"
      },
      {
        "duration": 17,
        "start_time": "2022-11-25T16:24:26.572Z"
      },
      {
        "duration": 6,
        "start_time": "2022-11-25T16:24:26.591Z"
      },
      {
        "duration": 100,
        "start_time": "2022-11-25T16:24:26.622Z"
      },
      {
        "duration": 7,
        "start_time": "2022-11-25T16:24:26.723Z"
      },
      {
        "duration": 148,
        "start_time": "2022-11-25T16:24:26.732Z"
      },
      {
        "duration": 7,
        "start_time": "2022-11-25T16:24:26.881Z"
      },
      {
        "duration": 113,
        "start_time": "2022-11-25T16:24:26.890Z"
      },
      {
        "duration": 277,
        "start_time": "2022-11-25T16:24:27.005Z"
      },
      {
        "duration": 413,
        "start_time": "2022-11-25T16:24:27.284Z"
      },
      {
        "duration": 4,
        "start_time": "2022-11-25T16:24:27.699Z"
      },
      {
        "duration": 22,
        "start_time": "2022-11-25T16:24:27.705Z"
      },
      {
        "duration": 20,
        "start_time": "2022-11-25T16:24:27.728Z"
      },
      {
        "duration": 6,
        "start_time": "2022-11-25T16:24:27.749Z"
      },
      {
        "duration": 14,
        "start_time": "2022-11-25T16:24:27.757Z"
      },
      {
        "duration": 61,
        "start_time": "2022-11-25T16:24:27.773Z"
      },
      {
        "duration": 138,
        "start_time": "2022-11-25T16:24:27.837Z"
      },
      {
        "duration": 3,
        "start_time": "2022-11-25T16:24:27.977Z"
      },
      {
        "duration": 12454,
        "start_time": "2022-11-25T16:24:27.981Z"
      },
      {
        "duration": 1095,
        "start_time": "2022-11-25T16:24:40.438Z"
      },
      {
        "duration": 383602,
        "start_time": "2022-11-25T16:24:41.623Z"
      },
      {
        "duration": 757,
        "start_time": "2022-11-25T16:31:05.228Z"
      },
      {
        "duration": 1803,
        "start_time": "2022-11-25T16:31:05.987Z"
      },
      {
        "duration": 31,
        "start_time": "2022-11-25T16:31:07.792Z"
      },
      {
        "duration": 201,
        "start_time": "2022-11-25T16:31:07.824Z"
      },
      {
        "duration": 242,
        "start_time": "2022-11-25T16:31:08.027Z"
      },
      {
        "duration": 54,
        "start_time": "2022-11-25T16:31:08.270Z"
      },
      {
        "duration": 117,
        "start_time": "2022-11-25T16:31:08.326Z"
      },
      {
        "duration": 272,
        "start_time": "2022-11-25T16:31:08.445Z"
      },
      {
        "duration": 20,
        "start_time": "2022-11-25T16:31:08.719Z"
      },
      {
        "duration": 91,
        "start_time": "2022-11-25T16:31:08.742Z"
      },
      {
        "duration": 38,
        "start_time": "2022-11-25T16:31:08.922Z"
      },
      {
        "duration": 432,
        "start_time": "2022-11-25T16:31:08.961Z"
      },
      {
        "duration": 28,
        "start_time": "2022-11-25T16:31:09.395Z"
      },
      {
        "duration": 198,
        "start_time": "2022-11-25T16:31:09.424Z"
      },
      {
        "duration": 14,
        "start_time": "2022-11-25T16:31:09.624Z"
      },
      {
        "duration": 314,
        "start_time": "2022-11-25T16:31:09.640Z"
      },
      {
        "duration": 67,
        "start_time": "2022-11-25T16:31:09.956Z"
      },
      {
        "duration": 1853,
        "start_time": "2022-11-25T16:34:45.029Z"
      },
      {
        "duration": 2671,
        "start_time": "2022-11-25T16:35:16.355Z"
      },
      {
        "duration": 230,
        "start_time": "2022-11-25T16:35:54.006Z"
      },
      {
        "duration": 258,
        "start_time": "2022-11-25T16:36:06.117Z"
      },
      {
        "duration": 196,
        "start_time": "2022-11-25T16:36:11.879Z"
      },
      {
        "duration": 234,
        "start_time": "2022-11-25T16:36:23.235Z"
      },
      {
        "duration": 215,
        "start_time": "2022-11-25T16:36:30.052Z"
      },
      {
        "duration": 208,
        "start_time": "2022-11-25T16:37:13.574Z"
      },
      {
        "duration": 263,
        "start_time": "2022-11-25T16:37:22.383Z"
      },
      {
        "duration": 201,
        "start_time": "2022-11-25T16:37:32.670Z"
      },
      {
        "duration": 2829,
        "start_time": "2022-11-25T16:37:54.926Z"
      },
      {
        "duration": 502,
        "start_time": "2022-11-25T16:38:15.991Z"
      },
      {
        "duration": 282,
        "start_time": "2022-11-25T16:40:56.245Z"
      },
      {
        "duration": 2796,
        "start_time": "2022-11-25T16:41:17.055Z"
      },
      {
        "duration": 95,
        "start_time": "2022-11-25T16:41:21.828Z"
      },
      {
        "duration": 28,
        "start_time": "2022-11-25T16:41:24.898Z"
      },
      {
        "duration": 252,
        "start_time": "2022-11-25T16:41:27.906Z"
      },
      {
        "duration": 26,
        "start_time": "2022-11-25T16:41:32.865Z"
      },
      {
        "duration": 33,
        "start_time": "2022-11-25T16:41:35.343Z"
      },
      {
        "duration": 274,
        "start_time": "2022-11-25T16:41:38.209Z"
      },
      {
        "duration": 22,
        "start_time": "2022-11-25T16:41:40.134Z"
      },
      {
        "duration": 14,
        "start_time": "2022-11-25T16:41:43.604Z"
      },
      {
        "duration": 32,
        "start_time": "2022-11-25T16:41:44.697Z"
      },
      {
        "duration": 422,
        "start_time": "2022-11-25T16:41:46.000Z"
      },
      {
        "duration": 330,
        "start_time": "2022-11-25T16:42:06.534Z"
      },
      {
        "duration": 25,
        "start_time": "2022-11-25T16:42:11.598Z"
      },
      {
        "duration": 15,
        "start_time": "2022-11-25T16:42:20.130Z"
      },
      {
        "duration": 18,
        "start_time": "2022-11-25T16:42:22.301Z"
      },
      {
        "duration": 146,
        "start_time": "2022-11-25T16:42:35.382Z"
      },
      {
        "duration": 24,
        "start_time": "2022-11-25T16:42:39.594Z"
      },
      {
        "duration": 4,
        "start_time": "2022-11-25T16:43:41.948Z"
      },
      {
        "duration": 8,
        "start_time": "2022-11-25T16:44:09.324Z"
      },
      {
        "duration": 92,
        "start_time": "2022-11-25T16:45:13.172Z"
      },
      {
        "duration": 125,
        "start_time": "2022-11-25T16:45:52.202Z"
      },
      {
        "duration": 13,
        "start_time": "2022-11-25T16:46:00.742Z"
      },
      {
        "duration": 13,
        "start_time": "2022-11-25T16:46:11.033Z"
      },
      {
        "duration": 12,
        "start_time": "2022-11-25T16:46:56.432Z"
      },
      {
        "duration": 12,
        "start_time": "2022-11-25T16:46:57.419Z"
      },
      {
        "duration": 95,
        "start_time": "2022-11-25T16:47:03.939Z"
      },
      {
        "duration": 13,
        "start_time": "2022-11-25T16:47:19.972Z"
      },
      {
        "duration": 1483,
        "start_time": "2022-11-25T16:47:57.875Z"
      },
      {
        "duration": 58,
        "start_time": "2022-11-25T16:47:59.360Z"
      },
      {
        "duration": 17,
        "start_time": "2022-11-25T16:47:59.420Z"
      },
      {
        "duration": 58,
        "start_time": "2022-11-25T16:47:59.439Z"
      },
      {
        "duration": 22,
        "start_time": "2022-11-25T16:47:59.500Z"
      },
      {
        "duration": 4,
        "start_time": "2022-11-25T16:47:59.524Z"
      },
      {
        "duration": 8,
        "start_time": "2022-11-25T16:47:59.530Z"
      },
      {
        "duration": 16,
        "start_time": "2022-11-25T16:47:59.540Z"
      },
      {
        "duration": 10,
        "start_time": "2022-11-25T16:47:59.558Z"
      },
      {
        "duration": 120,
        "start_time": "2022-11-25T16:47:59.569Z"
      },
      {
        "duration": 6,
        "start_time": "2022-11-25T16:47:59.691Z"
      },
      {
        "duration": 143,
        "start_time": "2022-11-25T16:47:59.699Z"
      },
      {
        "duration": 8,
        "start_time": "2022-11-25T16:47:59.844Z"
      },
      {
        "duration": 117,
        "start_time": "2022-11-25T16:47:59.857Z"
      },
      {
        "duration": 283,
        "start_time": "2022-11-25T16:47:59.976Z"
      },
      {
        "duration": 410,
        "start_time": "2022-11-25T16:48:00.261Z"
      },
      {
        "duration": 5,
        "start_time": "2022-11-25T16:48:00.672Z"
      },
      {
        "duration": 28,
        "start_time": "2022-11-25T16:48:00.679Z"
      },
      {
        "duration": 37,
        "start_time": "2022-11-25T16:48:00.708Z"
      },
      {
        "duration": 6,
        "start_time": "2022-11-25T16:48:00.747Z"
      },
      {
        "duration": 15,
        "start_time": "2022-11-25T16:48:00.755Z"
      },
      {
        "duration": 28,
        "start_time": "2022-11-25T16:48:00.772Z"
      },
      {
        "duration": 137,
        "start_time": "2022-11-25T16:48:00.803Z"
      },
      {
        "duration": 3,
        "start_time": "2022-11-25T16:48:00.942Z"
      },
      {
        "duration": 12677,
        "start_time": "2022-11-25T16:48:00.947Z"
      },
      {
        "duration": 1101,
        "start_time": "2022-11-25T16:48:13.626Z"
      },
      {
        "duration": 1524,
        "start_time": "2022-11-25T17:45:17.849Z"
      },
      {
        "duration": 82,
        "start_time": "2022-11-25T17:45:19.376Z"
      },
      {
        "duration": 26,
        "start_time": "2022-11-25T17:45:19.460Z"
      },
      {
        "duration": 90,
        "start_time": "2022-11-25T17:45:19.488Z"
      },
      {
        "duration": 10,
        "start_time": "2022-11-25T17:45:19.582Z"
      },
      {
        "duration": 7,
        "start_time": "2022-11-25T17:45:19.594Z"
      },
      {
        "duration": 24,
        "start_time": "2022-11-25T17:45:19.603Z"
      },
      {
        "duration": 30,
        "start_time": "2022-11-25T17:45:19.629Z"
      },
      {
        "duration": 7,
        "start_time": "2022-11-25T17:45:19.661Z"
      },
      {
        "duration": 130,
        "start_time": "2022-11-25T17:45:19.671Z"
      },
      {
        "duration": 6,
        "start_time": "2022-11-25T17:45:19.802Z"
      },
      {
        "duration": 192,
        "start_time": "2022-11-25T17:45:19.810Z"
      },
      {
        "duration": 20,
        "start_time": "2022-11-25T17:45:20.004Z"
      },
      {
        "duration": 135,
        "start_time": "2022-11-25T17:45:20.028Z"
      },
      {
        "duration": 267,
        "start_time": "2022-11-25T17:45:20.164Z"
      },
      {
        "duration": 383,
        "start_time": "2022-11-25T17:45:20.433Z"
      },
      {
        "duration": 5,
        "start_time": "2022-11-25T17:45:20.818Z"
      },
      {
        "duration": 16,
        "start_time": "2022-11-25T17:45:20.825Z"
      },
      {
        "duration": 19,
        "start_time": "2022-11-25T17:45:20.843Z"
      },
      {
        "duration": 5,
        "start_time": "2022-11-25T17:45:20.864Z"
      },
      {
        "duration": 16,
        "start_time": "2022-11-25T17:45:20.871Z"
      },
      {
        "duration": 52,
        "start_time": "2022-11-25T17:45:20.889Z"
      },
      {
        "duration": 133,
        "start_time": "2022-11-25T17:45:20.943Z"
      },
      {
        "duration": 4,
        "start_time": "2022-11-25T17:45:21.078Z"
      },
      {
        "duration": 12670,
        "start_time": "2022-11-25T17:45:21.084Z"
      },
      {
        "duration": 1169,
        "start_time": "2022-11-25T17:45:33.756Z"
      },
      {
        "duration": 376932,
        "start_time": "2022-11-25T17:45:34.928Z"
      },
      {
        "duration": 718,
        "start_time": "2022-11-25T17:51:51.862Z"
      },
      {
        "duration": 2777,
        "start_time": "2022-11-25T17:51:52.582Z"
      },
      {
        "duration": 60,
        "start_time": "2022-11-25T17:51:55.361Z"
      },
      {
        "duration": 115,
        "start_time": "2022-11-25T17:51:55.423Z"
      },
      {
        "duration": 285,
        "start_time": "2022-11-25T17:51:55.540Z"
      },
      {
        "duration": 98,
        "start_time": "2022-11-25T17:51:55.828Z"
      },
      {
        "duration": 117,
        "start_time": "2022-11-25T17:51:55.929Z"
      },
      {
        "duration": 274,
        "start_time": "2022-11-25T17:51:56.048Z"
      },
      {
        "duration": 25,
        "start_time": "2022-11-25T17:51:56.323Z"
      },
      {
        "duration": 101,
        "start_time": "2022-11-25T17:51:56.422Z"
      },
      {
        "duration": 32,
        "start_time": "2022-11-25T17:51:56.524Z"
      },
      {
        "duration": 336,
        "start_time": "2022-11-25T17:51:56.558Z"
      },
      {
        "duration": 32,
        "start_time": "2022-11-25T17:51:56.895Z"
      },
      {
        "duration": 98,
        "start_time": "2022-11-25T17:51:56.932Z"
      },
      {
        "duration": 100,
        "start_time": "2022-11-25T17:51:57.032Z"
      },
      {
        "duration": 326,
        "start_time": "2022-11-25T17:51:57.134Z"
      },
      {
        "duration": 66,
        "start_time": "2022-11-25T17:51:57.462Z"
      },
      {
        "duration": 142,
        "start_time": "2022-11-25T18:00:11.203Z"
      },
      {
        "duration": 2586,
        "start_time": "2022-11-25T18:00:47.789Z"
      },
      {
        "duration": 493,
        "start_time": "2022-11-25T18:01:09.519Z"
      },
      {
        "duration": 108,
        "start_time": "2022-11-25T18:11:26.884Z"
      },
      {
        "duration": 30,
        "start_time": "2022-11-25T18:21:21.709Z"
      },
      {
        "duration": 204,
        "start_time": "2022-11-25T18:22:44.211Z"
      },
      {
        "duration": 208,
        "start_time": "2022-11-25T18:22:59.022Z"
      },
      {
        "duration": 143,
        "start_time": "2022-11-25T18:23:45.762Z"
      },
      {
        "duration": 83,
        "start_time": "2022-11-25T18:25:56.514Z"
      },
      {
        "duration": 23,
        "start_time": "2022-11-25T18:26:57.051Z"
      },
      {
        "duration": 132,
        "start_time": "2022-11-25T18:27:33.982Z"
      },
      {
        "duration": 94,
        "start_time": "2022-11-25T18:27:56.531Z"
      },
      {
        "duration": 13,
        "start_time": "2022-11-25T18:28:48.442Z"
      },
      {
        "duration": 25,
        "start_time": "2022-11-25T18:30:17.097Z"
      },
      {
        "duration": 156,
        "start_time": "2022-11-25T18:31:17.933Z"
      },
      {
        "duration": 99,
        "start_time": "2022-11-25T18:32:13.042Z"
      },
      {
        "duration": 35,
        "start_time": "2022-11-25T18:32:23.918Z"
      },
      {
        "duration": 106,
        "start_time": "2022-11-25T18:32:32.873Z"
      },
      {
        "duration": 163,
        "start_time": "2022-11-25T18:35:27.635Z"
      },
      {
        "duration": 36,
        "start_time": "2022-11-25T18:35:36.950Z"
      },
      {
        "duration": 167,
        "start_time": "2022-11-25T18:35:49.662Z"
      },
      {
        "duration": 83,
        "start_time": "2022-11-25T18:36:08.996Z"
      },
      {
        "duration": 29,
        "start_time": "2022-11-25T18:37:44.760Z"
      },
      {
        "duration": 77,
        "start_time": "2022-11-25T18:37:51.478Z"
      },
      {
        "duration": 144,
        "start_time": "2022-11-25T18:38:02.079Z"
      },
      {
        "duration": 71,
        "start_time": "2022-11-25T18:38:41.464Z"
      },
      {
        "duration": 20,
        "start_time": "2022-11-25T18:39:47.120Z"
      },
      {
        "duration": 73,
        "start_time": "2022-11-25T18:40:20.452Z"
      },
      {
        "duration": 38,
        "start_time": "2022-11-25T18:43:18.216Z"
      },
      {
        "duration": 159,
        "start_time": "2022-11-25T18:44:17.255Z"
      },
      {
        "duration": 114,
        "start_time": "2022-11-25T18:44:57.207Z"
      },
      {
        "duration": 27,
        "start_time": "2022-11-25T18:46:03.829Z"
      },
      {
        "duration": 68,
        "start_time": "2022-11-25T19:08:54.669Z"
      },
      {
        "duration": 165,
        "start_time": "2022-11-25T19:09:06.279Z"
      },
      {
        "duration": 28,
        "start_time": "2022-11-25T19:10:10.795Z"
      },
      {
        "duration": 32,
        "start_time": "2022-11-25T19:11:24.093Z"
      },
      {
        "duration": 69,
        "start_time": "2022-11-25T19:12:35.566Z"
      },
      {
        "duration": 68,
        "start_time": "2022-11-25T19:13:49.161Z"
      },
      {
        "duration": 12,
        "start_time": "2022-11-25T19:18:01.367Z"
      },
      {
        "duration": 5,
        "start_time": "2022-11-25T19:29:59.400Z"
      },
      {
        "duration": 10,
        "start_time": "2022-11-25T19:31:27.095Z"
      },
      {
        "duration": 10,
        "start_time": "2022-11-25T19:31:50.763Z"
      },
      {
        "duration": 22,
        "start_time": "2022-11-25T19:33:28.450Z"
      },
      {
        "duration": 26,
        "start_time": "2022-11-25T19:33:34.015Z"
      },
      {
        "duration": 113,
        "start_time": "2022-11-25T19:33:45.316Z"
      },
      {
        "duration": 40,
        "start_time": "2022-11-25T19:33:55.938Z"
      },
      {
        "duration": 25,
        "start_time": "2022-11-25T19:34:06.519Z"
      },
      {
        "duration": 161,
        "start_time": "2022-11-25T19:34:20.639Z"
      },
      {
        "duration": 31,
        "start_time": "2022-11-25T19:34:31.052Z"
      },
      {
        "duration": 27,
        "start_time": "2022-11-25T19:34:46.324Z"
      },
      {
        "duration": 78,
        "start_time": "2022-11-25T19:34:55.345Z"
      },
      {
        "duration": 31,
        "start_time": "2022-11-25T19:35:10.999Z"
      },
      {
        "duration": 6,
        "start_time": "2022-11-25T19:35:12.857Z"
      },
      {
        "duration": 6,
        "start_time": "2022-11-25T19:35:47.627Z"
      },
      {
        "duration": 6,
        "start_time": "2022-11-25T19:39:11.389Z"
      },
      {
        "duration": 7,
        "start_time": "2022-11-25T19:41:10.484Z"
      },
      {
        "duration": 8,
        "start_time": "2022-11-25T19:41:20.094Z"
      },
      {
        "duration": 8,
        "start_time": "2022-11-25T19:41:31.146Z"
      },
      {
        "duration": 6,
        "start_time": "2022-11-25T19:41:40.215Z"
      },
      {
        "duration": 7,
        "start_time": "2022-11-25T19:42:23.056Z"
      },
      {
        "duration": 187,
        "start_time": "2022-11-25T20:06:15.481Z"
      },
      {
        "duration": 209,
        "start_time": "2022-11-25T20:08:00.018Z"
      },
      {
        "duration": 76,
        "start_time": "2022-11-25T20:26:11.587Z"
      },
      {
        "duration": 28,
        "start_time": "2022-11-25T20:28:12.515Z"
      },
      {
        "duration": 75,
        "start_time": "2022-11-25T20:28:21.852Z"
      },
      {
        "duration": 157,
        "start_time": "2022-11-25T20:29:17.372Z"
      },
      {
        "duration": 206,
        "start_time": "2022-11-25T20:30:03.166Z"
      },
      {
        "duration": 13,
        "start_time": "2022-11-25T20:46:36.775Z"
      },
      {
        "duration": 13,
        "start_time": "2022-11-25T20:47:02.338Z"
      },
      {
        "duration": 29,
        "start_time": "2022-11-25T20:47:10.500Z"
      },
      {
        "duration": 226,
        "start_time": "2022-11-25T20:47:19.200Z"
      },
      {
        "duration": 202,
        "start_time": "2022-11-25T20:47:38.028Z"
      },
      {
        "duration": 202,
        "start_time": "2022-11-25T20:47:53.863Z"
      },
      {
        "duration": 88,
        "start_time": "2022-11-25T20:48:26.265Z"
      },
      {
        "duration": 19,
        "start_time": "2022-11-25T20:48:27.420Z"
      },
      {
        "duration": 6,
        "start_time": "2022-11-25T20:48:29.265Z"
      },
      {
        "duration": 194,
        "start_time": "2022-11-25T20:48:41.649Z"
      },
      {
        "duration": 387,
        "start_time": "2022-11-25T20:52:24.683Z"
      },
      {
        "duration": 13,
        "start_time": "2022-11-26T11:14:33.120Z"
      },
      {
        "duration": 32,
        "start_time": "2022-11-26T11:14:55.040Z"
      },
      {
        "duration": 211,
        "start_time": "2022-11-26T11:14:57.586Z"
      },
      {
        "duration": 3,
        "start_time": "2022-11-26T11:15:03.013Z"
      },
      {
        "duration": 1478,
        "start_time": "2022-11-26T11:15:22.555Z"
      },
      {
        "duration": 59,
        "start_time": "2022-11-26T11:15:24.035Z"
      },
      {
        "duration": 23,
        "start_time": "2022-11-26T11:15:24.096Z"
      },
      {
        "duration": 92,
        "start_time": "2022-11-26T11:15:24.121Z"
      },
      {
        "duration": 23,
        "start_time": "2022-11-26T11:15:24.216Z"
      },
      {
        "duration": 7,
        "start_time": "2022-11-26T11:15:24.241Z"
      },
      {
        "duration": 11,
        "start_time": "2022-11-26T11:15:24.250Z"
      },
      {
        "duration": 23,
        "start_time": "2022-11-26T11:15:24.263Z"
      },
      {
        "duration": 6,
        "start_time": "2022-11-26T11:15:24.288Z"
      },
      {
        "duration": 134,
        "start_time": "2022-11-26T11:15:24.296Z"
      },
      {
        "duration": 12,
        "start_time": "2022-11-26T11:15:24.432Z"
      },
      {
        "duration": 184,
        "start_time": "2022-11-26T11:15:24.447Z"
      },
      {
        "duration": 8,
        "start_time": "2022-11-26T11:15:24.637Z"
      },
      {
        "duration": 120,
        "start_time": "2022-11-26T11:15:24.649Z"
      },
      {
        "duration": 292,
        "start_time": "2022-11-26T11:15:24.770Z"
      },
      {
        "duration": 374,
        "start_time": "2022-11-26T11:15:25.064Z"
      },
      {
        "duration": 4,
        "start_time": "2022-11-26T11:15:25.440Z"
      },
      {
        "duration": 15,
        "start_time": "2022-11-26T11:15:25.446Z"
      },
      {
        "duration": 22,
        "start_time": "2022-11-26T11:15:25.463Z"
      },
      {
        "duration": 14,
        "start_time": "2022-11-26T11:15:25.486Z"
      },
      {
        "duration": 57,
        "start_time": "2022-11-26T11:15:25.502Z"
      },
      {
        "duration": 123,
        "start_time": "2022-11-26T11:15:25.561Z"
      },
      {
        "duration": 3,
        "start_time": "2022-11-26T11:15:25.686Z"
      },
      {
        "duration": 12854,
        "start_time": "2022-11-26T11:15:25.690Z"
      },
      {
        "duration": 1299,
        "start_time": "2022-11-26T11:15:38.546Z"
      },
      {
        "duration": 383129,
        "start_time": "2022-11-26T11:15:39.846Z"
      },
      {
        "duration": 25,
        "start_time": "2022-11-26T11:22:02.976Z"
      },
      {
        "duration": 143,
        "start_time": "2022-11-26T11:22:03.003Z"
      },
      {
        "duration": 191,
        "start_time": "2022-11-26T11:22:03.147Z"
      },
      {
        "duration": 23,
        "start_time": "2022-11-26T11:22:03.339Z"
      },
      {
        "duration": 140,
        "start_time": "2022-11-26T11:22:03.363Z"
      },
      {
        "duration": 35,
        "start_time": "2022-11-26T11:22:03.504Z"
      },
      {
        "duration": 195,
        "start_time": "2022-11-26T11:22:03.542Z"
      },
      {
        "duration": 29,
        "start_time": "2022-11-26T11:22:03.739Z"
      },
      {
        "duration": 184,
        "start_time": "2022-11-26T11:22:03.770Z"
      },
      {
        "duration": 32,
        "start_time": "2022-11-26T11:22:03.955Z"
      },
      {
        "duration": 105,
        "start_time": "2022-11-26T11:22:04.042Z"
      },
      {
        "duration": 28,
        "start_time": "2022-11-26T11:22:04.149Z"
      },
      {
        "duration": 100,
        "start_time": "2022-11-26T11:22:04.179Z"
      },
      {
        "duration": 16,
        "start_time": "2022-11-26T11:22:04.281Z"
      },
      {
        "duration": 97,
        "start_time": "2022-11-26T11:22:04.342Z"
      },
      {
        "duration": 206,
        "start_time": "2022-11-26T11:22:04.441Z"
      },
      {
        "duration": 413,
        "start_time": "2022-11-26T11:22:04.649Z"
      },
      {
        "duration": 2,
        "start_time": "2022-11-26T11:35:20.211Z"
      },
      {
        "duration": 121,
        "start_time": "2022-11-26T11:41:42.982Z"
      },
      {
        "duration": 30,
        "start_time": "2022-11-27T07:11:35.139Z"
      },
      {
        "duration": 4,
        "start_time": "2022-11-27T07:11:46.594Z"
      },
      {
        "duration": 88,
        "start_time": "2022-11-27T07:12:05.984Z"
      },
      {
        "duration": 4,
        "start_time": "2022-11-27T07:12:08.791Z"
      },
      {
        "duration": 5,
        "start_time": "2022-11-27T07:12:34.374Z"
      },
      {
        "duration": 1591,
        "start_time": "2022-11-28T15:08:02.674Z"
      },
      {
        "duration": 182,
        "start_time": "2022-11-28T15:08:04.267Z"
      },
      {
        "duration": 15,
        "start_time": "2022-11-28T15:08:04.451Z"
      },
      {
        "duration": 50,
        "start_time": "2022-11-28T15:08:04.468Z"
      },
      {
        "duration": 7,
        "start_time": "2022-11-28T15:08:04.519Z"
      },
      {
        "duration": 6,
        "start_time": "2022-11-28T15:08:04.527Z"
      },
      {
        "duration": 9,
        "start_time": "2022-11-28T15:08:04.534Z"
      },
      {
        "duration": 15,
        "start_time": "2022-11-28T15:08:04.544Z"
      },
      {
        "duration": 17,
        "start_time": "2022-11-28T15:08:04.560Z"
      },
      {
        "duration": 88,
        "start_time": "2022-11-28T15:08:04.580Z"
      },
      {
        "duration": 10,
        "start_time": "2022-11-28T15:08:04.670Z"
      },
      {
        "duration": 127,
        "start_time": "2022-11-28T15:08:04.682Z"
      },
      {
        "duration": 5,
        "start_time": "2022-11-28T15:08:04.811Z"
      },
      {
        "duration": 102,
        "start_time": "2022-11-28T15:08:04.817Z"
      },
      {
        "duration": 252,
        "start_time": "2022-11-28T15:08:04.921Z"
      },
      {
        "duration": 412,
        "start_time": "2022-11-28T15:08:05.174Z"
      },
      {
        "duration": 4,
        "start_time": "2022-11-28T15:08:05.587Z"
      },
      {
        "duration": 13,
        "start_time": "2022-11-28T15:08:05.593Z"
      },
      {
        "duration": 25,
        "start_time": "2022-11-28T15:08:05.608Z"
      },
      {
        "duration": 13,
        "start_time": "2022-11-28T15:08:05.634Z"
      },
      {
        "duration": 41,
        "start_time": "2022-11-28T15:08:05.649Z"
      },
      {
        "duration": 111,
        "start_time": "2022-11-28T15:08:05.691Z"
      },
      {
        "duration": 3,
        "start_time": "2022-11-28T15:08:05.803Z"
      },
      {
        "duration": 11343,
        "start_time": "2022-11-28T15:08:05.807Z"
      },
      {
        "duration": 1432,
        "start_time": "2022-11-28T15:08:17.151Z"
      },
      {
        "duration": 25,
        "start_time": "2022-11-28T15:44:14.385Z"
      },
      {
        "duration": 112,
        "start_time": "2022-11-28T15:44:59.448Z"
      },
      {
        "duration": 15,
        "start_time": "2022-11-28T15:45:16.609Z"
      },
      {
        "duration": 119,
        "start_time": "2022-11-28T15:46:55.681Z"
      },
      {
        "duration": 352,
        "start_time": "2022-11-28T15:47:47.845Z"
      },
      {
        "duration": 227,
        "start_time": "2022-11-28T15:48:40.608Z"
      },
      {
        "duration": 3,
        "start_time": "2022-11-28T15:56:14.981Z"
      },
      {
        "duration": 20452,
        "start_time": "2022-11-28T15:56:15.751Z"
      },
      {
        "duration": 30,
        "start_time": "2022-11-28T15:57:44.690Z"
      },
      {
        "duration": 43,
        "start_time": "2022-11-28T15:58:01.393Z"
      },
      {
        "duration": 3850,
        "start_time": "2022-11-28T16:09:02.138Z"
      },
      {
        "duration": 295,
        "start_time": "2022-11-28T16:10:05.802Z"
      },
      {
        "duration": 3914,
        "start_time": "2022-11-28T16:10:35.769Z"
      },
      {
        "duration": 34,
        "start_time": "2022-11-28T16:11:06.295Z"
      },
      {
        "duration": 1419,
        "start_time": "2022-11-28T16:44:58.749Z"
      },
      {
        "duration": 64,
        "start_time": "2022-11-28T16:45:00.170Z"
      },
      {
        "duration": 16,
        "start_time": "2022-11-28T16:45:00.236Z"
      },
      {
        "duration": 71,
        "start_time": "2022-11-28T16:45:00.254Z"
      },
      {
        "duration": 8,
        "start_time": "2022-11-28T16:45:00.327Z"
      },
      {
        "duration": 19,
        "start_time": "2022-11-28T16:45:00.337Z"
      },
      {
        "duration": 38,
        "start_time": "2022-11-28T16:45:00.358Z"
      },
      {
        "duration": 24,
        "start_time": "2022-11-28T16:45:00.398Z"
      },
      {
        "duration": 12,
        "start_time": "2022-11-28T16:45:00.424Z"
      },
      {
        "duration": 106,
        "start_time": "2022-11-28T16:45:00.439Z"
      },
      {
        "duration": 6,
        "start_time": "2022-11-28T16:45:00.546Z"
      },
      {
        "duration": 149,
        "start_time": "2022-11-28T16:45:00.553Z"
      },
      {
        "duration": 6,
        "start_time": "2022-11-28T16:45:00.704Z"
      },
      {
        "duration": 122,
        "start_time": "2022-11-28T16:45:00.712Z"
      },
      {
        "duration": 286,
        "start_time": "2022-11-28T16:45:00.836Z"
      },
      {
        "duration": 386,
        "start_time": "2022-11-28T16:45:01.123Z"
      },
      {
        "duration": 4,
        "start_time": "2022-11-28T16:45:01.510Z"
      },
      {
        "duration": 16,
        "start_time": "2022-11-28T16:45:01.516Z"
      },
      {
        "duration": 22,
        "start_time": "2022-11-28T16:45:01.534Z"
      },
      {
        "duration": 30,
        "start_time": "2022-11-28T16:45:01.557Z"
      },
      {
        "duration": 32,
        "start_time": "2022-11-28T16:45:01.590Z"
      },
      {
        "duration": 127,
        "start_time": "2022-11-28T16:45:01.623Z"
      },
      {
        "duration": 3,
        "start_time": "2022-11-28T16:45:01.752Z"
      },
      {
        "duration": 12093,
        "start_time": "2022-11-28T16:45:01.757Z"
      },
      {
        "duration": 2040,
        "start_time": "2022-11-28T16:45:13.852Z"
      },
      {
        "duration": 375099,
        "start_time": "2022-11-28T16:45:15.895Z"
      },
      {
        "duration": 163,
        "start_time": "2022-11-28T16:51:30.995Z"
      },
      {
        "duration": 0,
        "start_time": "2022-11-28T16:51:31.160Z"
      },
      {
        "duration": 0,
        "start_time": "2022-11-28T16:51:31.161Z"
      },
      {
        "duration": 0,
        "start_time": "2022-11-28T16:51:31.163Z"
      },
      {
        "duration": 0,
        "start_time": "2022-11-28T16:51:31.164Z"
      },
      {
        "duration": 0,
        "start_time": "2022-11-28T16:51:31.165Z"
      },
      {
        "duration": 0,
        "start_time": "2022-11-28T16:51:31.166Z"
      },
      {
        "duration": 0,
        "start_time": "2022-11-28T16:51:31.167Z"
      },
      {
        "duration": 0,
        "start_time": "2022-11-28T16:51:31.183Z"
      },
      {
        "duration": 0,
        "start_time": "2022-11-28T16:51:31.184Z"
      },
      {
        "duration": 0,
        "start_time": "2022-11-28T16:51:31.185Z"
      },
      {
        "duration": 0,
        "start_time": "2022-11-28T16:51:31.186Z"
      },
      {
        "duration": 0,
        "start_time": "2022-11-28T16:51:31.187Z"
      },
      {
        "duration": 0,
        "start_time": "2022-11-28T16:51:31.189Z"
      },
      {
        "duration": 0,
        "start_time": "2022-11-28T16:51:31.190Z"
      },
      {
        "duration": 0,
        "start_time": "2022-11-28T16:51:31.191Z"
      },
      {
        "duration": 0,
        "start_time": "2022-11-28T16:51:31.195Z"
      },
      {
        "duration": 0,
        "start_time": "2022-11-28T16:51:31.196Z"
      },
      {
        "duration": 0,
        "start_time": "2022-11-28T16:51:31.198Z"
      },
      {
        "duration": 0,
        "start_time": "2022-11-28T16:51:31.200Z"
      },
      {
        "duration": 0,
        "start_time": "2022-11-28T16:51:31.201Z"
      },
      {
        "duration": 0,
        "start_time": "2022-11-28T16:51:31.203Z"
      },
      {
        "duration": 46,
        "start_time": "2022-11-28T16:53:22.605Z"
      },
      {
        "duration": 130,
        "start_time": "2022-11-28T16:54:42.637Z"
      },
      {
        "duration": 151,
        "start_time": "2022-11-28T16:55:09.756Z"
      },
      {
        "duration": 166,
        "start_time": "2022-11-28T16:55:18.636Z"
      },
      {
        "duration": 131,
        "start_time": "2022-11-28T16:56:07.043Z"
      },
      {
        "duration": 378,
        "start_time": "2022-11-28T16:56:26.524Z"
      },
      {
        "duration": 23,
        "start_time": "2022-11-28T16:56:37.298Z"
      },
      {
        "duration": 130,
        "start_time": "2022-11-28T16:56:39.372Z"
      },
      {
        "duration": 25,
        "start_time": "2022-11-28T16:56:41.655Z"
      },
      {
        "duration": 16,
        "start_time": "2022-11-28T16:56:49.584Z"
      },
      {
        "duration": 3,
        "start_time": "2022-11-28T16:56:49.602Z"
      },
      {
        "duration": 16228,
        "start_time": "2022-11-28T16:56:50.346Z"
      },
      {
        "duration": 43,
        "start_time": "2022-11-28T16:57:12.221Z"
      },
      {
        "duration": 2918,
        "start_time": "2022-11-28T16:57:18.788Z"
      },
      {
        "duration": 26,
        "start_time": "2022-11-28T16:57:27.195Z"
      },
      {
        "duration": 621252,
        "start_time": "2022-11-28T16:57:29.406Z"
      },
      {
        "duration": 531394,
        "start_time": "2022-11-28T17:07:58.691Z"
      },
      {
        "duration": 1434,
        "start_time": "2022-11-28T17:54:33.577Z"
      },
      {
        "duration": 57,
        "start_time": "2022-11-28T17:54:35.013Z"
      },
      {
        "duration": 16,
        "start_time": "2022-11-28T17:54:35.071Z"
      },
      {
        "duration": 53,
        "start_time": "2022-11-28T17:54:35.089Z"
      },
      {
        "duration": 7,
        "start_time": "2022-11-28T17:54:35.143Z"
      },
      {
        "duration": 23,
        "start_time": "2022-11-28T17:54:35.151Z"
      },
      {
        "duration": 24,
        "start_time": "2022-11-28T17:54:35.175Z"
      },
      {
        "duration": 33,
        "start_time": "2022-11-28T17:54:35.201Z"
      },
      {
        "duration": 8,
        "start_time": "2022-11-28T17:54:35.235Z"
      },
      {
        "duration": 109,
        "start_time": "2022-11-28T17:54:35.245Z"
      },
      {
        "duration": 6,
        "start_time": "2022-11-28T17:54:35.355Z"
      },
      {
        "duration": 124,
        "start_time": "2022-11-28T17:54:35.362Z"
      },
      {
        "duration": 6,
        "start_time": "2022-11-28T17:54:35.487Z"
      },
      {
        "duration": 105,
        "start_time": "2022-11-28T17:54:35.494Z"
      },
      {
        "duration": 254,
        "start_time": "2022-11-28T17:54:35.601Z"
      },
      {
        "duration": 402,
        "start_time": "2022-11-28T17:54:35.857Z"
      },
      {
        "duration": 4,
        "start_time": "2022-11-28T17:54:36.261Z"
      },
      {
        "duration": 16,
        "start_time": "2022-11-28T17:54:36.266Z"
      },
      {
        "duration": 17,
        "start_time": "2022-11-28T17:54:36.284Z"
      },
      {
        "duration": 13,
        "start_time": "2022-11-28T17:54:36.303Z"
      },
      {
        "duration": 27,
        "start_time": "2022-11-28T17:54:36.317Z"
      },
      {
        "duration": 120,
        "start_time": "2022-11-28T17:54:36.346Z"
      },
      {
        "duration": 10,
        "start_time": "2022-11-28T17:54:36.468Z"
      },
      {
        "duration": 11684,
        "start_time": "2022-11-28T17:54:36.479Z"
      },
      {
        "duration": 2818,
        "start_time": "2022-11-28T17:54:48.165Z"
      },
      {
        "duration": 359897,
        "start_time": "2022-11-28T17:54:50.984Z"
      },
      {
        "duration": 140,
        "start_time": "2022-11-28T18:00:50.883Z"
      },
      {
        "duration": 121,
        "start_time": "2022-11-28T18:00:51.034Z"
      },
      {
        "duration": 124,
        "start_time": "2022-11-28T18:00:51.156Z"
      },
      {
        "duration": 314,
        "start_time": "2022-11-28T18:00:51.282Z"
      },
      {
        "duration": 23,
        "start_time": "2022-11-28T18:00:51.597Z"
      },
      {
        "duration": 125,
        "start_time": "2022-11-28T18:00:51.621Z"
      },
      {
        "duration": 130,
        "start_time": "2022-11-28T18:00:51.748Z"
      },
      {
        "duration": 102,
        "start_time": "2022-11-28T18:00:51.881Z"
      },
      {
        "duration": 3,
        "start_time": "2022-11-28T18:00:51.985Z"
      },
      {
        "duration": 16057,
        "start_time": "2022-11-28T18:00:51.990Z"
      },
      {
        "duration": 39,
        "start_time": "2022-11-28T18:01:08.049Z"
      },
      {
        "duration": 3402,
        "start_time": "2022-11-28T18:01:08.089Z"
      },
      {
        "duration": 27,
        "start_time": "2022-11-28T18:01:11.493Z"
      },
      {
        "duration": 275358,
        "start_time": "2022-11-28T18:01:11.579Z"
      },
      {
        "duration": 174,
        "start_time": "2022-11-28T18:05:46.939Z"
      },
      {
        "duration": 11,
        "start_time": "2022-11-28T18:05:47.115Z"
      },
      {
        "duration": 25,
        "start_time": "2022-11-28T18:05:47.127Z"
      },
      {
        "duration": 82,
        "start_time": "2022-11-28T18:05:47.153Z"
      },
      {
        "duration": 59,
        "start_time": "2022-11-28T18:05:47.236Z"
      },
      {
        "duration": 84,
        "start_time": "2022-11-28T18:05:47.300Z"
      },
      {
        "duration": 200,
        "start_time": "2022-11-28T18:05:47.385Z"
      },
      {
        "duration": 364,
        "start_time": "2022-11-28T18:05:47.589Z"
      },
      {
        "duration": 324,
        "start_time": "2022-11-28T18:06:19.892Z"
      },
      {
        "duration": 36,
        "start_time": "2022-11-28T18:07:48.261Z"
      },
      {
        "duration": 13,
        "start_time": "2022-11-28T18:08:20.797Z"
      },
      {
        "duration": 3,
        "start_time": "2022-11-28T18:12:16.874Z"
      },
      {
        "duration": 17,
        "start_time": "2022-11-28T18:13:15.831Z"
      },
      {
        "duration": 154,
        "start_time": "2022-11-28T18:15:32.359Z"
      },
      {
        "duration": 18,
        "start_time": "2022-11-28T18:15:47.772Z"
      },
      {
        "duration": 122522,
        "start_time": "2022-11-28T18:16:31.290Z"
      },
      {
        "duration": 94,
        "start_time": "2022-11-28T18:26:59.621Z"
      },
      {
        "duration": 16,
        "start_time": "2022-11-28T18:27:08.710Z"
      },
      {
        "duration": 5,
        "start_time": "2022-11-28T18:27:12.366Z"
      },
      {
        "duration": 196,
        "start_time": "2022-11-28T18:29:01.538Z"
      },
      {
        "duration": 327,
        "start_time": "2022-11-28T18:29:42.703Z"
      },
      {
        "duration": 208,
        "start_time": "2022-11-28T18:36:01.611Z"
      },
      {
        "duration": 186,
        "start_time": "2022-11-28T18:37:20.213Z"
      },
      {
        "duration": 145,
        "start_time": "2022-11-28T18:48:12.994Z"
      },
      {
        "duration": 334,
        "start_time": "2022-11-28T18:49:16.618Z"
      },
      {
        "duration": 176,
        "start_time": "2022-11-28T18:49:17.766Z"
      },
      {
        "duration": 112,
        "start_time": "2022-11-28T18:54:05.017Z"
      },
      {
        "duration": 304,
        "start_time": "2022-11-28T19:00:15.958Z"
      },
      {
        "duration": 548,
        "start_time": "2022-11-28T19:01:40.932Z"
      },
      {
        "duration": 222,
        "start_time": "2022-11-28T19:06:11.130Z"
      },
      {
        "duration": 1407,
        "start_time": "2022-11-28T19:21:44.352Z"
      },
      {
        "duration": 57,
        "start_time": "2022-11-28T19:21:45.761Z"
      },
      {
        "duration": 16,
        "start_time": "2022-11-28T19:21:45.820Z"
      },
      {
        "duration": 52,
        "start_time": "2022-11-28T19:21:45.838Z"
      },
      {
        "duration": 7,
        "start_time": "2022-11-28T19:21:45.892Z"
      },
      {
        "duration": 22,
        "start_time": "2022-11-28T19:21:45.901Z"
      },
      {
        "duration": 15,
        "start_time": "2022-11-28T19:21:45.925Z"
      },
      {
        "duration": 32,
        "start_time": "2022-11-28T19:21:45.942Z"
      },
      {
        "duration": 7,
        "start_time": "2022-11-28T19:21:45.975Z"
      },
      {
        "duration": 106,
        "start_time": "2022-11-28T19:21:45.985Z"
      },
      {
        "duration": 4,
        "start_time": "2022-11-28T19:21:46.093Z"
      },
      {
        "duration": 123,
        "start_time": "2022-11-28T19:21:46.099Z"
      },
      {
        "duration": 5,
        "start_time": "2022-11-28T19:21:46.224Z"
      },
      {
        "duration": 104,
        "start_time": "2022-11-28T19:21:46.230Z"
      },
      {
        "duration": 247,
        "start_time": "2022-11-28T19:21:46.336Z"
      },
      {
        "duration": 363,
        "start_time": "2022-11-28T19:21:46.585Z"
      },
      {
        "duration": 4,
        "start_time": "2022-11-28T19:21:46.949Z"
      },
      {
        "duration": 24,
        "start_time": "2022-11-28T19:21:46.954Z"
      },
      {
        "duration": 17,
        "start_time": "2022-11-28T19:21:46.980Z"
      },
      {
        "duration": 15,
        "start_time": "2022-11-28T19:21:46.998Z"
      },
      {
        "duration": 34,
        "start_time": "2022-11-28T19:21:47.015Z"
      },
      {
        "duration": 132,
        "start_time": "2022-11-28T19:21:47.050Z"
      },
      {
        "duration": 2,
        "start_time": "2022-11-28T19:21:47.183Z"
      },
      {
        "duration": 11576,
        "start_time": "2022-11-28T19:21:47.186Z"
      },
      {
        "duration": 2325,
        "start_time": "2022-11-28T19:21:58.764Z"
      },
      {
        "duration": 352144,
        "start_time": "2022-11-28T19:22:01.093Z"
      },
      {
        "duration": 130,
        "start_time": "2022-11-28T19:27:53.239Z"
      },
      {
        "duration": 112,
        "start_time": "2022-11-28T19:27:53.372Z"
      },
      {
        "duration": 131,
        "start_time": "2022-11-28T19:27:53.486Z"
      },
      {
        "duration": 270,
        "start_time": "2022-11-28T19:27:53.618Z"
      },
      {
        "duration": 22,
        "start_time": "2022-11-28T19:27:53.889Z"
      },
      {
        "duration": 134,
        "start_time": "2022-11-28T19:27:53.912Z"
      },
      {
        "duration": 34,
        "start_time": "2022-11-28T19:27:54.048Z"
      },
      {
        "duration": 195,
        "start_time": "2022-11-28T19:27:54.085Z"
      },
      {
        "duration": 3,
        "start_time": "2022-11-28T19:27:54.281Z"
      },
      {
        "duration": 15191,
        "start_time": "2022-11-28T19:27:54.286Z"
      },
      {
        "duration": 35,
        "start_time": "2022-11-28T19:28:09.479Z"
      },
      {
        "duration": 3475,
        "start_time": "2022-11-28T19:28:09.516Z"
      },
      {
        "duration": 86,
        "start_time": "2022-11-28T19:28:12.993Z"
      },
      {
        "duration": 269450,
        "start_time": "2022-11-28T19:28:13.081Z"
      },
      {
        "duration": 402,
        "start_time": "2022-11-28T19:32:42.532Z"
      },
      {
        "duration": 11,
        "start_time": "2022-11-28T19:32:42.936Z"
      },
      {
        "duration": 4,
        "start_time": "2022-11-28T19:32:42.948Z"
      },
      {
        "duration": 6835,
        "start_time": "2022-11-28T19:32:42.953Z"
      },
      {
        "duration": 17,
        "start_time": "2022-11-28T19:32:49.790Z"
      },
      {
        "duration": 130068,
        "start_time": "2022-11-28T19:32:49.808Z"
      },
      {
        "duration": 101,
        "start_time": "2022-11-28T19:34:59.878Z"
      },
      {
        "duration": 170,
        "start_time": "2022-11-28T19:34:59.980Z"
      },
      {
        "duration": 29,
        "start_time": "2022-11-28T19:35:00.152Z"
      },
      {
        "duration": 271,
        "start_time": "2022-11-28T19:35:00.183Z"
      },
      {
        "duration": 0,
        "start_time": "2022-11-28T19:35:00.456Z"
      },
      {
        "duration": 0,
        "start_time": "2022-11-28T19:35:00.457Z"
      },
      {
        "duration": 17,
        "start_time": "2022-11-28T19:35:28.877Z"
      },
      {
        "duration": 407,
        "start_time": "2022-11-28T19:36:46.116Z"
      },
      {
        "duration": 7,
        "start_time": "2022-11-28T19:36:55.034Z"
      },
      {
        "duration": 209,
        "start_time": "2022-11-28T19:37:38.780Z"
      },
      {
        "duration": 296,
        "start_time": "2022-11-28T19:39:15.215Z"
      },
      {
        "duration": 132,
        "start_time": "2022-11-28T19:42:23.787Z"
      },
      {
        "duration": 348,
        "start_time": "2022-11-28T19:42:31.660Z"
      },
      {
        "duration": 124,
        "start_time": "2022-11-28T19:42:41.977Z"
      },
      {
        "duration": 119,
        "start_time": "2022-11-28T19:42:44.202Z"
      },
      {
        "duration": 258,
        "start_time": "2022-11-28T19:48:23.448Z"
      },
      {
        "duration": 132,
        "start_time": "2022-11-28T19:48:47.045Z"
      },
      {
        "duration": 285,
        "start_time": "2022-11-28T20:03:54.596Z"
      },
      {
        "duration": 507,
        "start_time": "2022-11-28T20:37:47.987Z"
      },
      {
        "duration": 1319,
        "start_time": "2022-11-28T20:44:01.092Z"
      },
      {
        "duration": 54,
        "start_time": "2022-11-28T20:44:02.413Z"
      },
      {
        "duration": 17,
        "start_time": "2022-11-28T20:44:02.469Z"
      },
      {
        "duration": 47,
        "start_time": "2022-11-28T20:44:02.488Z"
      },
      {
        "duration": 8,
        "start_time": "2022-11-28T20:44:02.537Z"
      },
      {
        "duration": 6,
        "start_time": "2022-11-28T20:44:02.546Z"
      },
      {
        "duration": 29,
        "start_time": "2022-11-28T20:44:02.553Z"
      },
      {
        "duration": 15,
        "start_time": "2022-11-28T20:44:02.584Z"
      },
      {
        "duration": 4,
        "start_time": "2022-11-28T20:44:02.601Z"
      },
      {
        "duration": 98,
        "start_time": "2022-11-28T20:44:02.609Z"
      },
      {
        "duration": 4,
        "start_time": "2022-11-28T20:44:02.709Z"
      },
      {
        "duration": 142,
        "start_time": "2022-11-28T20:44:02.715Z"
      },
      {
        "duration": 7,
        "start_time": "2022-11-28T20:44:02.859Z"
      },
      {
        "duration": 102,
        "start_time": "2022-11-28T20:44:02.877Z"
      },
      {
        "duration": 244,
        "start_time": "2022-11-28T20:44:02.981Z"
      },
      {
        "duration": 360,
        "start_time": "2022-11-28T20:44:03.227Z"
      },
      {
        "duration": 4,
        "start_time": "2022-11-28T20:44:03.589Z"
      },
      {
        "duration": 13,
        "start_time": "2022-11-28T20:44:03.594Z"
      },
      {
        "duration": 18,
        "start_time": "2022-11-28T20:44:03.609Z"
      },
      {
        "duration": 12,
        "start_time": "2022-11-28T20:44:03.628Z"
      },
      {
        "duration": 52,
        "start_time": "2022-11-28T20:44:03.642Z"
      },
      {
        "duration": 122,
        "start_time": "2022-11-28T20:44:03.696Z"
      },
      {
        "duration": 2,
        "start_time": "2022-11-28T20:44:03.820Z"
      },
      {
        "duration": 11437,
        "start_time": "2022-11-28T20:44:03.823Z"
      },
      {
        "duration": 2717,
        "start_time": "2022-11-28T20:44:15.262Z"
      },
      {
        "duration": 354062,
        "start_time": "2022-11-28T20:44:17.981Z"
      },
      {
        "duration": 130,
        "start_time": "2022-11-28T20:50:12.044Z"
      },
      {
        "duration": 305,
        "start_time": "2022-11-28T20:50:12.180Z"
      },
      {
        "duration": 232,
        "start_time": "2022-11-28T20:50:12.487Z"
      },
      {
        "duration": 160,
        "start_time": "2022-11-28T20:50:12.721Z"
      },
      {
        "duration": 26,
        "start_time": "2022-11-28T20:50:12.883Z"
      },
      {
        "duration": 82,
        "start_time": "2022-11-28T20:50:12.910Z"
      },
      {
        "duration": 117,
        "start_time": "2022-11-28T20:50:13.079Z"
      },
      {
        "duration": 11,
        "start_time": "2022-11-28T20:50:13.198Z"
      },
      {
        "duration": 3,
        "start_time": "2022-11-28T20:50:13.210Z"
      },
      {
        "duration": 15186,
        "start_time": "2022-11-28T20:50:13.215Z"
      },
      {
        "duration": 34,
        "start_time": "2022-11-28T20:50:28.402Z"
      },
      {
        "duration": 3348,
        "start_time": "2022-11-28T20:50:28.438Z"
      },
      {
        "duration": 29,
        "start_time": "2022-11-28T20:50:31.787Z"
      },
      {
        "duration": 267046,
        "start_time": "2022-11-28T20:50:31.880Z"
      },
      {
        "duration": 370,
        "start_time": "2022-11-28T20:54:58.927Z"
      },
      {
        "duration": 10,
        "start_time": "2022-11-28T20:54:59.299Z"
      },
      {
        "duration": 3,
        "start_time": "2022-11-28T20:54:59.310Z"
      },
      {
        "duration": 6325,
        "start_time": "2022-11-28T20:54:59.314Z"
      },
      {
        "duration": 17,
        "start_time": "2022-11-28T20:55:05.640Z"
      },
      {
        "duration": 162,
        "start_time": "2022-11-28T20:55:05.659Z"
      },
      {
        "duration": 56,
        "start_time": "2022-11-28T20:55:05.823Z"
      },
      {
        "duration": 120501,
        "start_time": "2022-11-28T20:55:05.881Z"
      },
      {
        "duration": 100,
        "start_time": "2022-11-28T20:57:06.383Z"
      },
      {
        "duration": 6,
        "start_time": "2022-11-28T20:57:06.484Z"
      },
      {
        "duration": 212,
        "start_time": "2022-11-28T20:57:06.491Z"
      },
      {
        "duration": 313,
        "start_time": "2022-11-28T20:57:06.705Z"
      },
      {
        "duration": 107,
        "start_time": "2022-11-28T20:58:12.828Z"
      },
      {
        "duration": 6,
        "start_time": "2022-11-28T20:58:31.058Z"
      },
      {
        "duration": 306,
        "start_time": "2022-11-28T20:59:15.577Z"
      }
    ],
    "kernelspec": {
      "display_name": "Python 3 (ipykernel)",
      "language": "python",
      "name": "python3"
    },
    "language_info": {
      "codemirror_mode": {
        "name": "ipython",
        "version": 3
      },
      "file_extension": ".py",
      "mimetype": "text/x-python",
      "name": "python",
      "nbconvert_exporter": "python",
      "pygments_lexer": "ipython3",
      "version": "3.9.5"
    },
    "toc": {
      "base_numbering": 1,
      "nav_menu": {},
      "number_sections": true,
      "sideBar": true,
      "skip_h1_title": true,
      "title_cell": "Содержание",
      "title_sidebar": "Contents",
      "toc_cell": true,
      "toc_position": {},
      "toc_section_display": true,
      "toc_window_display": true
    },
    "colab": {
      "provenance": []
    }
  },
  "nbformat": 4,
  "nbformat_minor": 0
}